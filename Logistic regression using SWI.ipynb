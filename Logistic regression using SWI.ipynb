{
 "cells": [
  {
   "cell_type": "code",
   "execution_count": 2,
   "metadata": {},
   "outputs": [],
   "source": [
    "import numpy as np\n",
    "import pandas as pd\n",
    "import statsmodels.api as sm\n",
    "from scipy import stats\n",
    "import functions\n"
   ]
  },
  {
   "cell_type": "code",
   "execution_count": 3,
   "metadata": {},
   "outputs": [
    {
     "name": "stderr",
     "output_type": "stream",
     "text": [
      "/home/bikash/.local/lib/python3.7/site-packages/numpy/core/fromnumeric.py:2389: FutureWarning: Method .ptp is deprecated and will be removed in a future version. Use numpy.ptp instead.\n",
      "  return ptp(axis=axis, out=out, **kwargs)\n"
     ]
    },
    {
     "name": "stdout",
     "output_type": "stream",
     "text": [
      "Optimization terminated successfully.\n",
      "         Current function value: 0.566906\n",
      "         Iterations 6\n"
     ]
    },
    {
     "data": {
      "text/html": [
       "<table class=\"simpletable\">\n",
       "<caption>Logit Regression Results</caption>\n",
       "<tr>\n",
       "  <th>Dep. Variable:</th>      <td>Solubility</td>    <th>  No. Observations:  </th>  <td> 12216</td> \n",
       "</tr>\n",
       "<tr>\n",
       "  <th>Model:</th>                 <td>Logit</td>      <th>  Df Residuals:      </th>  <td> 12214</td> \n",
       "</tr>\n",
       "<tr>\n",
       "  <th>Method:</th>                 <td>MLE</td>       <th>  Df Model:          </th>  <td>     1</td> \n",
       "</tr>\n",
       "<tr>\n",
       "  <th>Date:</th>            <td>Sat, 07 Dec 2019</td> <th>  Pseudo R-squ.:     </th>  <td>0.1016</td> \n",
       "</tr>\n",
       "<tr>\n",
       "  <th>Time:</th>                <td>12:30:18</td>     <th>  Log-Likelihood:    </th> <td> -6925.3</td>\n",
       "</tr>\n",
       "<tr>\n",
       "  <th>converged:</th>             <td>True</td>       <th>  LL-Null:           </th> <td> -7708.9</td>\n",
       "</tr>\n",
       "<tr>\n",
       "  <th>Covariance Type:</th>     <td>nonrobust</td>    <th>  LLR p-value:       </th>  <td> 0.000</td> \n",
       "</tr>\n",
       "</table>\n",
       "<table class=\"simpletable\">\n",
       "<tr>\n",
       "               <td></td>                  <th>coef</th>     <th>std err</th>      <th>z</th>      <th>P>|z|</th>  <th>[0.025</th>    <th>0.975]</th>  \n",
       "</tr>\n",
       "<tr>\n",
       "  <th>const</th>                       <td>  -62.8379</td> <td>    1.816</td> <td>  -34.609</td> <td> 0.000</td> <td>  -66.397</td> <td>  -59.279</td>\n",
       "</tr>\n",
       "<tr>\n",
       "  <th>Amino acid solubility index</th> <td>   81.1496</td> <td>    2.322</td> <td>   34.953</td> <td> 0.000</td> <td>   76.599</td> <td>   85.700</td>\n",
       "</tr>\n",
       "</table>"
      ],
      "text/plain": [
       "<class 'statsmodels.iolib.summary.Summary'>\n",
       "\"\"\"\n",
       "                           Logit Regression Results                           \n",
       "==============================================================================\n",
       "Dep. Variable:             Solubility   No. Observations:                12216\n",
       "Model:                          Logit   Df Residuals:                    12214\n",
       "Method:                           MLE   Df Model:                            1\n",
       "Date:                Sat, 07 Dec 2019   Pseudo R-squ.:                  0.1016\n",
       "Time:                        12:30:18   Log-Likelihood:                -6925.3\n",
       "converged:                       True   LL-Null:                       -7708.9\n",
       "Covariance Type:            nonrobust   LLR p-value:                     0.000\n",
       "===============================================================================================\n",
       "                                  coef    std err          z      P>|z|      [0.025      0.975]\n",
       "-----------------------------------------------------------------------------------------------\n",
       "const                         -62.8379      1.816    -34.609      0.000     -66.397     -59.279\n",
       "Amino acid solubility index    81.1496      2.322     34.953      0.000      76.599      85.700\n",
       "===============================================================================================\n",
       "\"\"\""
      ]
     },
     "execution_count": 3,
     "metadata": {},
     "output_type": "execute_result"
    }
   ],
   "source": [
    "#AAS index after cross validation\n",
    "aas = {'A': 0.8356956599678218,\n",
    " 'C': 0.5219207324456876,\n",
    " 'E': 0.9868660417547442,\n",
    " 'D': 0.9075983546378998,\n",
    " 'G': 0.8003827946673535,\n",
    " 'F': 0.5821934635876957,\n",
    " 'I': 0.6790449304566072,\n",
    " 'H': 0.8963977585570367,\n",
    " 'K': 0.9259165090012061,\n",
    " 'M': 0.6299964100098959,\n",
    " 'L': 0.6546922237065839,\n",
    " 'N': 0.8604957042204235,\n",
    " 'Q': 0.7895650031998229,\n",
    " 'P': 0.822104415564934,\n",
    " 'S': 0.7442464390120463,\n",
    " 'R': 0.771055152304471,\n",
    " 'T': 0.8098670971949234,\n",
    " 'W': 0.6386931894494416,\n",
    " 'V': 0.7344952876686051,\n",
    " 'Y': 0.6125581495225544}\n",
    "\n",
    "#pET dataset\n",
    "pET = pd.read_pickle('results/pET_complete.pkl.gz', compression='infer')\n",
    "pET['Amino acid solubility index'] = pET['Protein'].apply(lambda x:np.mean(functions.solubility_score(x, aas)))\n",
    "\n",
    "\n",
    "X = pET['Amino acid solubility index']\n",
    "Y = pET['Solubility']\n",
    "X2 = sm.add_constant(X)\n",
    "\n",
    "logit = sm.Logit(Y, X2)\n",
    "result = logit.fit()\n",
    "result.summary()\n",
    "\n"
   ]
  },
  {
   "cell_type": "code",
   "execution_count": null,
   "metadata": {},
   "outputs": [],
   "source": []
  },
  {
   "cell_type": "code",
   "execution_count": 4,
   "metadata": {},
   "outputs": [],
   "source": [
    "# estimate confidence interval for predicted probabilities\n",
    "\n",
    "proba = result.predict(X2)\n",
    "cov = result.cov_params()\n",
    "gradient = (proba * (1 - proba) * X2.T).T # matrix of gradients for each observation\n",
    "std_errors = np.array([np.sqrt(np.dot(np.dot(g, cov), g)) for g in gradient.values])\n",
    "c = 1.96 # multiplier for confidence interval\n",
    "upper = np.maximum(0, np.minimum(1, proba + std_errors * c))\n",
    "lower = np.maximum(0, np.minimum(1, proba - std_errors * c))\n",
    "\n"
   ]
  },
  {
   "cell_type": "code",
   "execution_count": 6,
   "metadata": {},
   "outputs": [
    {
     "data": {
      "image/png": "[encoded data removed]",
      "text/plain": [
       "<Figure size 432x288 with 1 Axes>"
      ]
     },
     "metadata": {
      "needs_background": "light"
     },
     "output_type": "display_data"
    }
   ],
   "source": [
    "#plot fitted values with their CI\n",
    "\n",
    "functions.sns.lineplot(X, proba)\n",
    "functions.sns.lineplot(X, upper, label=\"Upper 95% CI\")\n",
    "functions.sns.lineplot(X, lower, label=\"Lower 95% CI\")\n",
    "#plt.fill_between(X, upper, lower, color='k', alpha=.15)\n",
    "\n",
    "\n",
    "\n",
    "functions.plt.ylabel('Probability of Solubility')\n",
    "functions.plt.xlabel('SWI')\n",
    "# functions.sns.despine()\n",
    "# functions.plt.savefig(\"figs/Logistic_regression_fit.pdf\")\n",
    "functions.plt.show()\n",
    "\n",
    "functions.plt.clf()\n",
    "functions.plt.close('all')\n",
    "\n"
   ]
  },
  {
   "cell_type": "code",
   "execution_count": null,
   "metadata": {},
   "outputs": [],
   "source": []
  },
  {
   "cell_type": "code",
   "execution_count": null,
   "metadata": {},
   "outputs": [],
   "source": []
  },
  {
   "cell_type": "code",
   "execution_count": null,
   "metadata": {},
   "outputs": [],
   "source": []
  },
  {
   "cell_type": "code",
   "execution_count": null,
   "metadata": {},
   "outputs": [],
   "source": []
  }
 ],
 "metadata": {
  "kernelspec": {
   "display_name": "Python 3",
   "language": "python",
   "name": "python3"
  },
  "language_info": {
   "codemirror_mode": {
    "name": "ipython",
    "version": 3
   },
   "file_extension": ".py",
   "mimetype": "text/x-python",
   "name": "python",
   "nbconvert_exporter": "python",
   "pygments_lexer": "ipython3",
   "version": "3.7.3"
  }
 },
 "nbformat": 4,
 "nbformat_minor": 2
}
