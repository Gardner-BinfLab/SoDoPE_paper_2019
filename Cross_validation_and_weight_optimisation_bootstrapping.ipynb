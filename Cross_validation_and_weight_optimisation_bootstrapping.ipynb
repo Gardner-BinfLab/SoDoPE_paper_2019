{
 "cells": [
  {
   "cell_type": "code",
   "execution_count": 1,
   "metadata": {},
   "outputs": [],
   "source": [
    "import pickle\n",
    "from functools import partial\n",
    "import pandas as pd\n",
    "import numpy as np\n",
    "from scipy import optimize\n",
    "from scipy.stats import spearmanr\n",
    "import functions\n"
   ]
  },
  {
   "cell_type": "code",
   "execution_count": 2,
   "metadata": {},
   "outputs": [],
   "source": [
    "#Initial 'guess' values\n",
    "#Smith's flexibility used as initial weights had slightly greater\n",
    "# AUC than Vihinen. So we use it as starting point in optimisation.\n",
    "#Smith, David K., et al. 2003\n",
    "flexibilities_smith = {'A': 0.717, 'C': 0.668, 'E': 0.963, 'D': 0.921,\\\n",
    "                         'G': 0.843, 'F': 0.599, 'I': 0.632, 'H': 0.754, \\\n",
    "                         'K': 0.912, 'M': 0.685, 'L': 0.681, 'N': 0.851,\\\n",
    "                         'Q': 0.849, 'P': 0.85, 'S': 0.84, 'R': 0.814, 'T': 0.758, \\\n",
    "                         'W': 0.626, 'V': 0.619, 'Y': 0.615}\n",
    "init_state = [v for k, v in flexibilities_smith.items()]\n"
   ]
  },
  {
   "cell_type": "code",
   "execution_count": 3,
   "metadata": {},
   "outputs": [],
   "source": [
    "with open('results/training.pkl', 'rb') as handle:\n",
    "    training = pickle.load(handle)\n"
   ]
  },
  {
   "cell_type": "code",
   "execution_count": 4,
   "metadata": {},
   "outputs": [],
   "source": [
    "with open('results/testing.pkl', 'rb') as h:\n",
    "    testing = pickle.load(h)"
   ]
  },
  {
   "cell_type": "code",
   "execution_count": null,
   "metadata": {},
   "outputs": [],
   "source": []
  },
  {
   "cell_type": "code",
   "execution_count": null,
   "metadata": {},
   "outputs": [],
   "source": []
  },
  {
   "cell_type": "code",
   "execution_count": null,
   "metadata": {},
   "outputs": [],
   "source": []
  },
  {
   "cell_type": "code",
   "execution_count": null,
   "metadata": {},
   "outputs": [],
   "source": []
  },
  {
   "cell_type": "markdown",
   "metadata": {},
   "source": [
    "# Bootstrap"
   ]
  },
  {
   "cell_type": "code",
   "execution_count": 6,
   "metadata": {},
   "outputs": [],
   "source": [
    "bs_samples = []\n",
    "for i, v in enumerate(training):\n",
    "    sample = []\n",
    "    for i in range(1000): #1000 resample for each training cross validation step\n",
    "        sol = v.loc[v['Solubility'] == 1].sample(1000, random_state=i)\n",
    "        insol = v.loc[v['Solubility'] == 0].sample(1000, random_state=i)\n",
    "        sample.append(sol.append(insol))\n",
    "    bs_samples.append(sample)\n"
   ]
  },
  {
   "cell_type": "code",
   "execution_count": null,
   "metadata": {},
   "outputs": [],
   "source": []
  },
  {
   "cell_type": "code",
   "execution_count": null,
   "metadata": {},
   "outputs": [],
   "source": []
  },
  {
   "cell_type": "code",
   "execution_count": 104,
   "metadata": {
    "scrolled": true
   },
   "outputs": [],
   "source": [
    "import multiprocessing\n",
    "from multiprocessing import Pool\n",
    "\n",
    "\n",
    "\n",
    "\n",
    "\n",
    "optis_full = [] #full results of optimisation\n",
    "weights_full_bs = []\n",
    "aucs_train_full_bs = []\n",
    "\n",
    "for i, v in enumerate(bs_samples):\n",
    "    pools = Pool(multiprocessing.cpu_count())\n",
    "    optis = []\n",
    "    weights = []\n",
    "    aucs_train = []\n",
    "    cost_funcs = [partial(functions.cost_func, df=t) for t in v]\n",
    "    optimiser = partial(optimize.minimize, x0=init_state, method=\"Nelder-Mead\", \\\n",
    "                             options={ 'maxiter': 3000, 'maxfev': 3000,\\\n",
    "                           'disp': False, 'return_all': False,\\\n",
    "                           'xatol': 0.001, 'fatol': 0.0001, 'adaptive': True})\n",
    "    \n",
    "    for result in pools.map(optimiser, cost_funcs): #map is used for correct order\n",
    "        optis.append(result)\n",
    "        aucs_train.append(-result['fun'])\n",
    "        weights.append(result['x'])\n",
    "    pools.close()\n",
    "    pools.join()\n",
    "    optis_full.append(optis)\n",
    "    weights_full_bs.append(weights)\n",
    "    aucs_train_full_bs.append(aucs_train)\n",
    "    print(i)\n",
    "\n",
    "    \n",
    "cross_val_df = pd.DataFrame({'opti': optis_full, 'weights_bs':weights_full_bs, \\\n",
    "                             'aucs_train_bs':aucs_train_full_bs})\n",
    "cross_val_df['weight'] = cross_val_df['weights'].apply(avr_arr)\n",
    "aucs_train = [-functions.cost_func(cross_val_df.weight[i], t) for i, t in enumerate(training)]\n",
    "aucs_test = [-functions.cost_func(cross_val_df.weight[i], t) for i, t in enumerate(testing)]\n",
    "cross_val_df['aucs_train'] = aucs_train\n",
    "cross_val_df['aucs_test'] = aucs_test\n",
    "cross_val_df.to_pickle('results/cross_validation.pkl.gz', compression='infer')"
   ]
  },
  {
   "cell_type": "code",
   "execution_count": 105,
   "metadata": {
    "scrolled": false
   },
   "outputs": [
    {
     "data": {
      "text/html": [
       "<div>\n",
       "<style scoped>\n",
       "    .dataframe tbody tr th:only-of-type {\n",
       "        vertical-align: middle;\n",
       "    }\n",
       "\n",
       "    .dataframe tbody tr th {\n",
       "        vertical-align: top;\n",
       "    }\n",
       "\n",
       "    .dataframe thead th {\n",
       "        text-align: right;\n",
       "    }\n",
       "</style>\n",
       "<table border=\"1\" class=\"dataframe\">\n",
       "  <thead>\n",
       "    <tr style=\"text-align: right;\">\n",
       "      <th></th>\n",
       "      <th>opti</th>\n",
       "      <th>weights</th>\n",
       "      <th>aucs_train</th>\n",
       "      <th>weight</th>\n",
       "      <th>aucs_test</th>\n",
       "    </tr>\n",
       "  </thead>\n",
       "  <tbody>\n",
       "    <tr>\n",
       "      <th>0</th>\n",
       "      <td>[{'fun': -0.7180199999999999, 'nit': 608, 'nfe...</td>\n",
       "      <td>[[0.8322705993979348, 0.44725839962689096, 0.9...</td>\n",
       "      <td>0.722218</td>\n",
       "      <td>[0.8401057564601928, 0.5129126694002384, 0.989...</td>\n",
       "      <td>0.685278</td>\n",
       "    </tr>\n",
       "    <tr>\n",
       "      <th>1</th>\n",
       "      <td>[{'fun': -0.74127, 'nit': 518, 'nfev': 1558, '...</td>\n",
       "      <td>[[0.8006190763377172, 0.5452312429219268, 0.98...</td>\n",
       "      <td>0.717487</td>\n",
       "      <td>[0.8298966146942772, 0.5158415589287934, 0.989...</td>\n",
       "      <td>0.723142</td>\n",
       "    </tr>\n",
       "  </tbody>\n",
       "</table>\n",
       "</div>"
      ],
      "text/plain": [
       "                                                opti  \\\n",
       "0  [{'fun': -0.7180199999999999, 'nit': 608, 'nfe...   \n",
       "1  [{'fun': -0.74127, 'nit': 518, 'nfev': 1558, '...   \n",
       "\n",
       "                                             weights  aucs_train  \\\n",
       "0  [[0.8322705993979348, 0.44725839962689096, 0.9...    0.722218   \n",
       "1  [[0.8006190763377172, 0.5452312429219268, 0.98...    0.717487   \n",
       "\n",
       "                                              weight  aucs_test  \n",
       "0  [0.8401057564601928, 0.5129126694002384, 0.989...   0.685278  \n",
       "1  [0.8298966146942772, 0.5158415589287934, 0.989...   0.723142  "
      ]
     },
     "execution_count": 105,
     "metadata": {},
     "output_type": "execute_result"
    }
   ],
   "source": [
    "cross_val_df.head(2)"
   ]
  },
  {
   "cell_type": "code",
   "execution_count": null,
   "metadata": {},
   "outputs": [],
   "source": [
    "cross_val_df.to_pickle('results/cross_validation.pkl.gz', compression='infer')"
   ]
  },
  {
   "cell_type": "code",
   "execution_count": null,
   "metadata": {},
   "outputs": [],
   "source": []
  },
  {
   "cell_type": "code",
   "execution_count": null,
   "metadata": {},
   "outputs": [],
   "source": []
  },
  {
   "cell_type": "code",
   "execution_count": 3,
   "metadata": {
    "scrolled": false
   },
   "outputs": [],
   "source": [
    "cross_val_df = pd.read_pickle('results/cross_validation.pkl.gz')"
   ]
  },
  {
   "cell_type": "code",
   "execution_count": null,
   "metadata": {
    "scrolled": false
   },
   "outputs": [],
   "source": []
  },
  {
   "cell_type": "code",
   "execution_count": null,
   "metadata": {
    "scrolled": false
   },
   "outputs": [],
   "source": []
  },
  {
   "cell_type": "code",
   "execution_count": 7,
   "metadata": {},
   "outputs": [
    {
     "data": {
      "text/html": [
       "<div>\n",
       "<style scoped>\n",
       "    .dataframe tbody tr th:only-of-type {\n",
       "        vertical-align: middle;\n",
       "    }\n",
       "\n",
       "    .dataframe tbody tr th {\n",
       "        vertical-align: top;\n",
       "    }\n",
       "\n",
       "    .dataframe thead th {\n",
       "        text-align: right;\n",
       "    }\n",
       "</style>\n",
       "<table border=\"1\" class=\"dataframe\">\n",
       "  <thead>\n",
       "    <tr style=\"text-align: right;\">\n",
       "      <th></th>\n",
       "      <th>Mean</th>\n",
       "      <th>Std</th>\n",
       "    </tr>\n",
       "  </thead>\n",
       "  <tbody>\n",
       "    <tr>\n",
       "      <th>Training</th>\n",
       "      <td>0.718748</td>\n",
       "      <td>0.003490</td>\n",
       "    </tr>\n",
       "    <tr>\n",
       "      <th>Test</th>\n",
       "      <td>0.710514</td>\n",
       "      <td>0.030961</td>\n",
       "    </tr>\n",
       "  </tbody>\n",
       "</table>\n",
       "</div>"
      ],
      "text/plain": [
       "              Mean       Std\n",
       "Training  0.718748  0.003490\n",
       "Test      0.710514  0.030961"
      ]
     },
     "execution_count": 7,
     "metadata": {},
     "output_type": "execute_result"
    }
   ],
   "source": [
    "mean_std = pd.DataFrame(index=['Training', 'Test'])\n",
    "mean_std.loc['Training', 'Mean'] = np.mean(cross_val_df['aucs_train'])\n",
    "mean_std.loc['Training', 'Std'] = np.std(cross_val_df['aucs_train'])\n",
    "mean_std.loc['Test', 'Mean'] = np.mean(cross_val_df['aucs_test'])\n",
    "mean_std.loc['Test', 'Std'] = np.std(cross_val_df['aucs_test'])\n",
    "mean_std"
   ]
  },
  {
   "cell_type": "code",
   "execution_count": 33,
   "metadata": {
    "scrolled": false
   },
   "outputs": [
    {
     "data": {
      "image/png": "[encoded data removed]",
      "text/plain": [
       "<Figure size 288x288 with 1 Axes>"
      ]
     },
     "metadata": {},
     "output_type": "display_data"
    }
   ],
   "source": [
    "functions.plt.figure(figsize=(4, 4))\n",
    "functions.sns.pointplot(list(range(10)), cross_val_df['aucs_train'], label='Train (mean=0.72, std=0.00)',\\\n",
    "                       linestyles=[' '], markers=['o'], color='blue')\n",
    "functions.sns.lineplot(list(range(10)), cross_val_df['aucs_train'], label='Train (mean=0.72, std=0.00)',\\\n",
    "                       color='blue')\n",
    "functions.sns.pointplot(list(range(10)), cross_val_df['aucs_test'],  label='Test (mean=0.71, std=0.03)',\\\n",
    "                        linestyles=[''], markers=['o'], color='red')\n",
    "ax = functions.sns.lineplot(list(range(10)), cross_val_df['aucs_test'],  label='Test (mean=0.71, std=0.03)',\\\n",
    "                        color='red')\n",
    "functions.plt.ylabel('AUC')\n",
    "functions.plt.xlabel('Cross validation steps')\n",
    "\n",
    "ax.set_xticklabels(list(range(1,11)))\n",
    "functions.plt.savefig('figs/cross_validation_test_train.pdf')\n",
    "# "
   ]
  },
  {
   "cell_type": "code",
   "execution_count": 5,
   "metadata": {
    "scrolled": false
   },
   "outputs": [
    {
     "data": {
      "text/plain": [
       "A    0.835696\n",
       "C    0.521921\n",
       "E    0.986866\n",
       "D    0.907598\n",
       "G    0.800383\n",
       "F    0.582193\n",
       "I    0.679045\n",
       "H    0.896398\n",
       "K    0.925917\n",
       "M    0.629996\n",
       "L    0.654692\n",
       "N    0.860496\n",
       "Q    0.789565\n",
       "P    0.822104\n",
       "S    0.744246\n",
       "R    0.771055\n",
       "T    0.809867\n",
       "W    0.638693\n",
       "V    0.734495\n",
       "Y    0.612558\n",
       "dtype: float64"
      ]
     },
     "execution_count": 5,
     "metadata": {},
     "output_type": "execute_result"
    }
   ],
   "source": [
    "SWI_cv = pd.DataFrame(cross_val_df['weight'].values.tolist(), columns=[k for k,v in flexibilities_smith.items()])\n",
    "SWI_cv.mean()#.sort_values()"
   ]
  },
  {
   "cell_type": "code",
   "execution_count": null,
   "metadata": {},
   "outputs": [],
   "source": []
  },
  {
   "cell_type": "code",
   "execution_count": null,
   "metadata": {},
   "outputs": [],
   "source": []
  },
  {
   "cell_type": "markdown",
   "metadata": {},
   "source": [
    "### Plot weights (initial and final) with hydrophobicity"
   ]
  },
  {
   "cell_type": "code",
   "execution_count": 6,
   "metadata": {},
   "outputs": [
    {
     "data": {
      "image/png": "[encoded data removed]",
      "text/plain": [
       "<Figure size 288x288 with 2 Axes>"
      ]
     },
     "metadata": {},
     "output_type": "display_data"
    }
   ],
   "source": [
    "\n",
    "from mpl_toolkits.axes_grid1.inset_locator import inset_axes\n",
    "#using hydrophobicity as hue# Kyte & Doolittle index of hydrophobicity\n",
    "# J. Mol. Biol. 157:105-132(1982).\n",
    "kd = {\"A\": 1.8, \"R\": -4.5, \"N\": -3.5, \"D\": -3.5, \"C\": 2.5,\n",
    "      \"Q\": -3.5, \"E\": -3.5, \"G\": -0.4, \"H\": -3.2, \"I\": 4.5,\n",
    "      \"L\": 3.8, \"K\": -3.9, \"M\": 1.9, \"F\": 2.8, \"P\": -1.6,\n",
    "      \"S\": -0.8, \"T\": -0.7, \"W\": -0.9, \"Y\": -1.3, \"V\": 4.2}\n",
    "\n",
    "df1 = pd.DataFrame(columns=SWI_cv.mean().index, \\\n",
    "                   index=['Initial weights [Smith et al. (2003)]', 'Final weights [This study]'])\n",
    "df1.loc['Initial weights [Smith et al (2003)]'] = [v for k,v in flexibilities_smith.items()]\n",
    "df1.loc['Final weights [This study]'] = SWI_cv.mean().values\n",
    "df1 = df1.transpose()\n",
    "for k, v in kd.items():\n",
    "    df1.loc[k, 'Hydrophobicity'] = v\n",
    "df1.reset_index(inplace=True)\n",
    "\n",
    "functions.sns.set(style=\"whitegrid\")\n",
    "functions.sns.set_context(\"paper\", font_scale=1.4)\n",
    "functions.plt.figure(figsize=(4, 4))\n",
    "\n",
    "# cmap = functions.sns.cubehelix_palette(8, start=.5, rot=-.75, as_cmap=True).reversed()#for colorbar\n",
    "\n",
    "norm = functions.plt.Normalize(df1['Hydrophobicity'].min(), df1['Hydrophobicity'].max())\n",
    "sm = functions.plt.cm.ScalarMappable(cmap=\"coolwarm\", norm=norm)\n",
    "sm.set_array([])\n",
    "\n",
    "\n",
    "y = 'Initial weights [Smith et al (2003)]'\n",
    "x = 'Final weights [This study]'\n",
    "g = functions.sns.scatterplot(x, y, data=df1, markers=False, hue=df1['Hydrophobicity'], \\\n",
    "                              palette=\"coolwarm\", \\\n",
    "                             alpha=.8,  ) #relplot, height=6\n",
    "functions.plt.plot([SWI_cv.mean().min(), SWI_cv.mean().max()], \\\n",
    "                   [SWI_cv.mean().min(), SWI_cv.mean().max()], color='navy', lw=.75, linestyle=':')\n",
    "# functions.sns.despine()#color bar\n",
    "g.get_legend().remove()\n",
    "cbaxes = inset_axes(g, width=\"3%\", height=\"40%\", loc=4)\n",
    "cb = g.figure.colorbar(sm, cax=cbaxes, orientation=\"vertical\")\n",
    "\n",
    "for i, v in enumerate(df1['index']):\n",
    "    g.annotate(' ' +v, [df1[x][i], df1[y][i]])\n",
    "functions.plt.savefig('figs/weight_scatterplot.pdf')"
   ]
  },
  {
   "cell_type": "code",
   "execution_count": 7,
   "metadata": {},
   "outputs": [
    {
     "data": {
      "text/plain": [
       "Text(0.5, 0, 'Amino acids')"
      ]
     },
     "execution_count": 7,
     "metadata": {},
     "output_type": "execute_result"
    },
    {
     "data": {
      "image/png": "[encoded data removed]",
      "text/plain": [
       "<Figure size 288x288 with 1 Axes>"
      ]
     },
     "metadata": {},
     "output_type": "display_data"
    }
   ],
   "source": [
    "#weight_df\n",
    "cols = [k for k, v in flexibilities_smith.items()]\n",
    "wdf = pd.DataFrame(columns=cols, index=list(range(10)))\n",
    "weights = cross_val_df['weight'].values #weights from CV\n",
    "\n",
    "for idx, val in enumerate(weights):\n",
    "    for i, v in enumerate(val):\n",
    "        wdf.loc[idx][cols[i]] = v\n",
    "\n",
    "        \n",
    "dd = pd.melt(wdf)\n",
    "dd['value'] = dd['value'].astype(float)\n",
    "dd.sort_values(ascending=True, by='value', inplace=True)\n",
    "\n",
    "\n",
    "# functions.sns.set(style=\"white\")\n",
    "functions.plt.figure(figsize=(4, 4))\n",
    "\n",
    "ax = functions.sns.stripplot(x=\"variable\", y=\"value\", data=dd, alpha=0.5, s=5)\n",
    "functions.plt.ylabel('weights')\n",
    "functions.plt.xlabel('Amino acids')\n",
    "# functions.sns.despine()\n",
    "# functions.plt.savefig('figs/cross_validation_weights_test.pdf')\n"
   ]
  },
  {
   "cell_type": "code",
   "execution_count": null,
   "metadata": {},
   "outputs": [],
   "source": []
  },
  {
   "cell_type": "code",
   "execution_count": null,
   "metadata": {},
   "outputs": [],
   "source": []
  },
  {
   "cell_type": "code",
   "execution_count": 38,
   "metadata": {},
   "outputs": [],
   "source": []
  },
  {
   "cell_type": "code",
   "execution_count": 31,
   "metadata": {},
   "outputs": [],
   "source": [
    "# cross_val_df.to_csv('results/cross_validation_results.csv', index=None)"
   ]
  },
  {
   "cell_type": "code",
   "execution_count": null,
   "metadata": {},
   "outputs": [],
   "source": []
  },
  {
   "cell_type": "code",
   "execution_count": null,
   "metadata": {},
   "outputs": [],
   "source": []
  },
  {
   "cell_type": "code",
   "execution_count": null,
   "metadata": {},
   "outputs": [],
   "source": []
  },
  {
   "cell_type": "code",
   "execution_count": 8,
   "metadata": {},
   "outputs": [
    {
     "data": {
      "text/plain": [
       "{'A': 0.8356956599678218,\n",
       " 'C': 0.5219207324456876,\n",
       " 'E': 0.9868660417547442,\n",
       " 'D': 0.9075983546378998,\n",
       " 'G': 0.8003827946673535,\n",
       " 'F': 0.5821934635876957,\n",
       " 'I': 0.6790449304566072,\n",
       " 'H': 0.8963977585570367,\n",
       " 'K': 0.9259165090012061,\n",
       " 'M': 0.6299964100098959,\n",
       " 'L': 0.6546922237065839,\n",
       " 'N': 0.8604957042204235,\n",
       " 'Q': 0.7895650031998229,\n",
       " 'P': 0.822104415564934,\n",
       " 'S': 0.7442464390120463,\n",
       " 'R': 0.771055152304471,\n",
       " 'T': 0.8098670971949234,\n",
       " 'W': 0.6386931894494416,\n",
       " 'V': 0.7344952876686051,\n",
       " 'Y': 0.6125581495225544}"
      ]
     },
     "execution_count": 8,
     "metadata": {},
     "output_type": "execute_result"
    }
   ],
   "source": [
    "new_wts = {} #This is for SWI\n",
    "\n",
    "for i, c in enumerate(wdf.columns):\n",
    "    new_wts[c] = np.mean(wdf[c])\n",
    "new_wts"
   ]
  },
  {
   "cell_type": "code",
   "execution_count": null,
   "metadata": {},
   "outputs": [],
   "source": []
  },
  {
   "cell_type": "code",
   "execution_count": null,
   "metadata": {},
   "outputs": [],
   "source": []
  },
  {
   "cell_type": "markdown",
   "metadata": {},
   "source": [
    "## For eSOL using SWI"
   ]
  },
  {
   "cell_type": "code",
   "execution_count": 34,
   "metadata": {},
   "outputs": [
    {
     "data": {
      "text/plain": [
       "SpearmanrResult(correlation=0.5040987724767835, pvalue=9.458243956892371e-206)"
      ]
     },
     "execution_count": 34,
     "metadata": {},
     "output_type": "execute_result"
    }
   ],
   "source": [
    "\n",
    "#For ecoli data\n",
    "\n",
    "#using SWI\n",
    "ecoli_w3110 = pd.read_pickle('results/ecoli.pkl.gz', compression='infer')\n",
    "\n",
    "ecoli_w3110['f'] = ecoli_w3110['Sequence'].apply(lambda x:functions.solubility_score(x, new_wts))\n",
    "ecoli_w3110['Average_Score'] = ecoli_w3110['f'].apply(lambda x:np.mean(x))\n",
    "\n",
    "\n",
    "\n",
    "from scipy.stats import spearmanr\n",
    "\n",
    "spearmanr(ecoli_w3110['Average_Score'], ecoli_w3110['Solubility(%)'])"
   ]
  },
  {
   "cell_type": "markdown",
   "metadata": {},
   "source": [
    "## For eSOL using initial weights"
   ]
  },
  {
   "cell_type": "code",
   "execution_count": 9,
   "metadata": {},
   "outputs": [
    {
     "data": {
      "text/plain": [
       "SpearmanrResult(correlation=0.39525618255208833, pvalue=4.572683656231933e-120)"
      ]
     },
     "execution_count": 9,
     "metadata": {},
     "output_type": "execute_result"
    }
   ],
   "source": [
    "\n",
    "#For ecoli data\n",
    "\n",
    "#using b-factors from Smith et al.\n",
    "ecoli_w3110 = pd.read_pickle('results/ecoli.pkl.gz', compression='infer')\n",
    "\n",
    "ecoli_w3110['f'] = ecoli_w3110['Sequence'].apply(lambda x:functions.solubility_score(x, flexibilities_smith))\n",
    "ecoli_w3110['Average_Score'] = ecoli_w3110['f'].apply(lambda x:np.mean(x))\n",
    "\n",
    "\n",
    "\n",
    "from scipy.stats import spearmanr\n",
    "\n",
    "spearmanr(ecoli_w3110['Average_Score'], ecoli_w3110['Solubility(%)'])"
   ]
  },
  {
   "cell_type": "code",
   "execution_count": 11,
   "metadata": {},
   "outputs": [
    {
     "data": {
      "text/plain": [
       "(3198, 7)"
      ]
     },
     "execution_count": 11,
     "metadata": {},
     "output_type": "execute_result"
    }
   ],
   "source": [
    "ecoli_w3110.shape"
   ]
  },
  {
   "cell_type": "code",
   "execution_count": null,
   "metadata": {},
   "outputs": [],
   "source": []
  },
  {
   "cell_type": "code",
   "execution_count": null,
   "metadata": {},
   "outputs": [],
   "source": []
  },
  {
   "cell_type": "code",
   "execution_count": null,
   "metadata": {},
   "outputs": [],
   "source": []
  },
  {
   "cell_type": "code",
   "execution_count": null,
   "metadata": {},
   "outputs": [],
   "source": []
  }
 ],
 "metadata": {
  "kernelspec": {
   "display_name": "Python 3",
   "language": "python",
   "name": "python3"
  },
  "language_info": {
   "codemirror_mode": {
    "name": "ipython",
    "version": 3
   },
   "file_extension": ".py",
   "mimetype": "text/x-python",
   "name": "python",
   "nbconvert_exporter": "python",
   "pygments_lexer": "ipython3",
   "version": "3.6.9"
  }
 },
 "nbformat": 4,
 "nbformat_minor": 2
}
