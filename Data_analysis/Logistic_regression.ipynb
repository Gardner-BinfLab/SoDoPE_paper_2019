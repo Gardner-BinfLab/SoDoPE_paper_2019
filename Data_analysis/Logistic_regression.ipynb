{
 "cells": [
  {
   "cell_type": "code",
   "execution_count": 1,
   "metadata": {},
   "outputs": [
    {
     "name": "stderr",
     "output_type": "stream",
     "text": [
      "/Volumes/userdata/student_users/bikashkumarbhandari/anaconda3/lib/python3.7/site-packages/statsmodels/compat/pandas.py:49: FutureWarning: The Panel class is removed from pandas. Accessing it from the top-level namespace will also be removed in the next version\n",
      "  data_klasses = (pandas.Series, pandas.DataFrame, pandas.Panel)\n"
     ]
    }
   ],
   "source": [
    "import os\n",
    "root_dir = os.path.abspath(os.path.join(os.getcwd(), \"../\"))\n",
    "os.chdir(root_dir)\n",
    "import numpy as np\n",
    "import pandas as pd\n",
    "import statsmodels.api as sm\n",
    "from scipy import stats\n",
    "\n",
    "\n",
    "import functions"
   ]
  },
  {
   "cell_type": "code",
   "execution_count": null,
   "metadata": {},
   "outputs": [],
   "source": []
  },
  {
   "cell_type": "code",
   "execution_count": null,
   "metadata": {},
   "outputs": [],
   "source": []
  },
  {
   "cell_type": "code",
   "execution_count": 2,
   "metadata": {},
   "outputs": [
    {
     "name": "stderr",
     "output_type": "stream",
     "text": [
      "/Volumes/userdata/student_users/bikashkumarbhandari/anaconda3/lib/python3.7/site-packages/numpy/core/fromnumeric.py:2389: FutureWarning: Method .ptp is deprecated and will be removed in a future version. Use numpy.ptp instead.\n",
      "  return ptp(axis=axis, out=out, **kwargs)\n"
     ]
    },
    {
     "name": "stdout",
     "output_type": "stream",
     "text": [
      "Optimization terminated successfully.\n",
      "         Current function value: 0.566955\n",
      "         Iterations 6\n"
     ]
    },
    {
     "data": {
      "text/html": [
       "<table class=\"simpletable\">\n",
       "<caption>Logit Regression Results</caption>\n",
       "<tr>\n",
       "  <th>Dep. Variable:</th>    <td>Solubility</td>    <th>  No. Observations:  </th>  <td> 12216</td> \n",
       "</tr>\n",
       "<tr>\n",
       "  <th>Model:</th>               <td>Logit</td>      <th>  Df Residuals:      </th>  <td> 12214</td> \n",
       "</tr>\n",
       "<tr>\n",
       "  <th>Method:</th>               <td>MLE</td>       <th>  Df Model:          </th>  <td>     1</td> \n",
       "</tr>\n",
       "<tr>\n",
       "  <th>Date:</th>          <td>Tue, 25 Feb 2020</td> <th>  Pseudo R-squ.:     </th>  <td>0.1016</td> \n",
       "</tr>\n",
       "<tr>\n",
       "  <th>Time:</th>              <td>14:47:49</td>     <th>  Log-Likelihood:    </th> <td> -6925.9</td>\n",
       "</tr>\n",
       "<tr>\n",
       "  <th>converged:</th>           <td>True</td>       <th>  LL-Null:           </th> <td> -7708.9</td>\n",
       "</tr>\n",
       "<tr>\n",
       "  <th> </th>                      <td> </td>        <th>  LLR p-value:       </th>  <td> 0.000</td> \n",
       "</tr>\n",
       "</table>\n",
       "<table class=\"simpletable\">\n",
       "<tr>\n",
       "               <td></td>                  <th>coef</th>     <th>std err</th>      <th>z</th>      <th>P>|z|</th>  <th>[0.025</th>    <th>0.975]</th>  \n",
       "</tr>\n",
       "<tr>\n",
       "  <th>const</th>                       <td>  -62.7775</td> <td>    1.815</td> <td>  -34.597</td> <td> 0.000</td> <td>  -66.334</td> <td>  -59.221</td>\n",
       "</tr>\n",
       "<tr>\n",
       "  <th>Amino acid solubility index</th> <td>   81.0581</td> <td>    2.320</td> <td>   34.940</td> <td> 0.000</td> <td>   76.511</td> <td>   85.605</td>\n",
       "</tr>\n",
       "</table>"
      ],
      "text/plain": [
       "<class 'statsmodels.iolib.summary.Summary'>\n",
       "\"\"\"\n",
       "                           Logit Regression Results                           \n",
       "==============================================================================\n",
       "Dep. Variable:             Solubility   No. Observations:                12216\n",
       "Model:                          Logit   Df Residuals:                    12214\n",
       "Method:                           MLE   Df Model:                            1\n",
       "Date:                Tue, 25 Feb 2020   Pseudo R-squ.:                  0.1016\n",
       "Time:                        14:47:49   Log-Likelihood:                -6925.9\n",
       "converged:                       True   LL-Null:                       -7708.9\n",
       "                                        LLR p-value:                     0.000\n",
       "===============================================================================================\n",
       "                                  coef    std err          z      P>|z|      [0.025      0.975]\n",
       "-----------------------------------------------------------------------------------------------\n",
       "const                         -62.7775      1.815    -34.597      0.000     -66.334     -59.221\n",
       "Amino acid solubility index    81.0581      2.320     34.940      0.000      76.511      85.605\n",
       "===============================================================================================\n",
       "\"\"\""
      ]
     },
     "execution_count": 2,
     "metadata": {},
     "output_type": "execute_result"
    }
   ],
   "source": [
    "#SWI after cross validation\n",
    "swi = {'A': 0.8356471476582918,\n",
    " 'C': 0.5208088354857734,\n",
    " 'E': 0.9876987431418378,\n",
    " 'D': 0.9079044671339564,\n",
    " 'G': 0.7997168496420723,\n",
    " 'F': 0.5849790194237692,\n",
    " 'I': 0.6784124413866582,\n",
    " 'H': 0.8947913996466419,\n",
    " 'K': 0.9267104557513497,\n",
    " 'M': 0.6296623675420369,\n",
    " 'L': 0.6554221515081433,\n",
    " 'N': 0.8597433107431216,\n",
    " 'Q': 0.789434648348208,\n",
    " 'P': 0.8235328714705341,\n",
    " 'S': 0.7440908318492778,\n",
    " 'R': 0.7712466317693457,\n",
    " 'T': 0.8096922697856334,\n",
    " 'W': 0.6374678690957594,\n",
    " 'V': 0.7357837119163659,\n",
    " 'Y': 0.6112801822947587}\n",
    "\n",
    "#pET dataset\n",
    "pET = pd.read_pickle('results/pET_complete.pkl.gz', compression='infer')\n",
    "pET['Amino acid solubility index'] = pET['Protein'].apply(lambda x:np.mean(functions.solubility_score(x, swi)))\n",
    "\n",
    "\n",
    "X = pET['Amino acid solubility index']\n",
    "Y = pET['Solubility']\n",
    "X2 = sm.add_constant(X)\n",
    "\n",
    "logit = sm.Logit(Y, X2)\n",
    "result = logit.fit()\n",
    "result.summary()\n",
    "\n"
   ]
  },
  {
   "cell_type": "code",
   "execution_count": 4,
   "metadata": {},
   "outputs": [
    {
     "name": "stderr",
     "output_type": "stream",
     "text": [
      "/Volumes/userdata/student_users/bikashkumarbhandari/anaconda3/lib/python3.7/site-packages/scipy/stats/stats.py:1713: FutureWarning: Using a non-tuple sequence for multidimensional indexing is deprecated; use `arr[tuple(seq)]` instead of `arr[seq]`. In the future this will be interpreted as an array index, `arr[np.array(seq)]`, which will result either in an error or a different result.\n",
      "  return np.add.reduce(sorted[indexer] * weights, axis=axis) / sumval\n"
     ]
    },
    {
     "data": {
      "image/png": "[encoded data removed]",
      "text/plain": [
       "<Figure size 432x288 with 1 Axes>"
      ]
     },
     "metadata": {
      "needs_background": "light"
     },
     "output_type": "display_data"
    }
   ],
   "source": [
    "#plot fitted values with their CI\n",
    "\n",
    "# estimate confidence interval for predicted probabilities\n",
    "\n",
    "proba = result.predict(X2)\n",
    "cov = result.cov_params()\n",
    "gradient = (proba * (1 - proba) * X2.T).T # matrix of gradients for each observation\n",
    "std_errors = np.array([np.sqrt(np.dot(np.dot(g, cov), g)) for g in gradient.values])\n",
    "c = 1.96 # multiplier for confidence interval\n",
    "upper = np.maximum(0, np.minimum(1, proba + std_errors * c))\n",
    "lower = np.maximum(0, np.minimum(1, proba - std_errors * c))\n",
    "\n",
    "\n",
    "\n",
    "functions.sns.lineplot(X, proba)\n",
    "functions.sns.lineplot(X, upper, label=\"Upper 95% CI\")\n",
    "functions.sns.lineplot(X, lower, label=\"Lower 95% CI\")\n",
    "#plt.fill_between(X, upper, lower, color='k', alpha=.15)\n",
    "\n",
    "\n",
    "\n",
    "functions.plt.ylabel('Probability of Solubility')\n",
    "functions.plt.xlabel('SWI')\n",
    "# functions.sns.despine()\n",
    "# functions.plt.savefig(\"figs/Logistic_regression_fit.pdf\")\n",
    "functions.plt.show()\n",
    "\n",
    "functions.plt.clf()\n",
    "functions.plt.close('all')\n"
   ]
  },
  {
   "cell_type": "code",
   "execution_count": null,
   "metadata": {},
   "outputs": [],
   "source": []
  }
 ],
 "metadata": {
  "kernelspec": {
   "display_name": "Python 3",
   "language": "python",
   "name": "python3"
  },
  "language_info": {
   "codemirror_mode": {
    "name": "ipython",
    "version": 3
   },
   "file_extension": ".py",
   "mimetype": "text/x-python",
   "name": "python",
   "nbconvert_exporter": "python",
   "pygments_lexer": "ipython3",
   "version": "3.7.5"
  }
 },
 "nbformat": 4,
 "nbformat_minor": 2
}
