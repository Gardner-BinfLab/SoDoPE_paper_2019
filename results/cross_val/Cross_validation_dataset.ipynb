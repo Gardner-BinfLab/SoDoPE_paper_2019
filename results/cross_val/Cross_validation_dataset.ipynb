{
 "cells": [
  {
   "cell_type": "code",
   "execution_count": 1,
   "metadata": {},
   "outputs": [],
   "source": [
    "import os\n",
    "import pandas as pd\n",
    "import numpy as np\n",
    "np.random.seed(12345)\n",
    "\n",
    "# os.makedirs(os.path.join(os.getcwd(),'clusters','')) #use this to make clusters folder on this dir"
   ]
  },
  {
   "cell_type": "code",
   "execution_count": 2,
   "metadata": {},
   "outputs": [],
   "source": [
    "def fasta_reader(file):\n",
    "    '''Converts .fasta to a pandas dataframe with accession as index\n",
    "    and sequence in a column 'sequence'\n",
    "    '''\n",
    "    fasta_df = pd.read_csv(file, sep='>', lineterminator='>', header=None)\n",
    "    fasta_df[['Accession', 'Sequence']] = fasta_df[0].str.split('\\n', 1, \\\n",
    "                                        expand=True)\n",
    "    fasta_df['Accession'] = fasta_df['Accession']\n",
    "    fasta_df['Sequence'] = fasta_df['Sequence'].replace('\\n', '', regex=True).\\\n",
    "                            astype(str).str.upper().replace('U', 'T')\n",
    "    total_seq = fasta_df.shape[0]\n",
    "    fasta_df.drop(0, axis=1, inplace=True)\n",
    "    fasta_df = fasta_df[fasta_df.Sequence != '']\n",
    "    fasta_df = fasta_df[fasta_df.Sequence != 'NONE']\n",
    "    final_df = fasta_df.dropna()\n",
    "    remained_seq = final_df.shape[0]\n",
    "    if total_seq != remained_seq:\n",
    "        print(\"{} sequences were removed due to inconsistencies in\"\n",
    "                      \"provided file.\".format(total_seq-remained_seq))\n",
    "    return final_df\n"
   ]
  },
  {
   "cell_type": "code",
   "execution_count": 2,
   "metadata": {},
   "outputs": [],
   "source": []
  },
  {
   "cell_type": "code",
   "execution_count": 3,
   "metadata": {},
   "outputs": [],
   "source": [
    "#path to the clusters folder. Change this to your own\n",
    "path = '/home/bikash/Documents/Solubility/results/cross_val/clusters'\n",
    "path = '/home/bikash/Documents/Solubility/results/cross_val/clusters'\n",
    "clusters = []\n",
    "\n",
    "#remove usearch and pET fasta from cluster directory before running this\n",
    "\n",
    "for file in os.listdir(path):\n",
    "    try:\n",
    "        clusters.append(fasta_reader(os.path.abspath(os.path.join('clusters/', file))))\n",
    "    except Exception:\n",
    "        pass\n",
    "#     print(os.path.abspath(os.path.join('clusters/', file)))\n"
   ]
  },
  {
   "cell_type": "code",
   "execution_count": 6,
   "metadata": {},
   "outputs": [
    {
     "data": {
      "text/plain": [
       "4368"
      ]
     },
     "execution_count": 6,
     "metadata": {},
     "output_type": "execute_result"
    }
   ],
   "source": [
    "len(clusters)"
   ]
  },
  {
   "cell_type": "code",
   "execution_count": null,
   "metadata": {},
   "outputs": [],
   "source": []
  },
  {
   "cell_type": "code",
   "execution_count": null,
   "metadata": {},
   "outputs": [],
   "source": []
  },
  {
   "cell_type": "code",
   "execution_count": 7,
   "metadata": {},
   "outputs": [],
   "source": [
    "#remove character ----- from alignment\n",
    "\n",
    "for index, c in enumerate(clusters):\n",
    "    c['Prot'] = c['Sequence'].str.replace('-','')\n",
    "    c['Cluster'] = index"
   ]
  },
  {
   "cell_type": "code",
   "execution_count": 8,
   "metadata": {},
   "outputs": [
    {
     "data": {
      "text/html": [
       "<div>\n",
       "<style scoped>\n",
       "    .dataframe tbody tr th:only-of-type {\n",
       "        vertical-align: middle;\n",
       "    }\n",
       "\n",
       "    .dataframe tbody tr th {\n",
       "        vertical-align: top;\n",
       "    }\n",
       "\n",
       "    .dataframe thead th {\n",
       "        text-align: right;\n",
       "    }\n",
       "</style>\n",
       "<table border=\"1\" class=\"dataframe\">\n",
       "  <thead>\n",
       "    <tr style=\"text-align: right;\">\n",
       "      <th></th>\n",
       "      <th>Accession</th>\n",
       "      <th>Sequence</th>\n",
       "      <th>Prot</th>\n",
       "      <th>Cluster</th>\n",
       "    </tr>\n",
       "  </thead>\n",
       "  <tbody>\n",
       "    <tr>\n",
       "      <th>12211</th>\n",
       "      <td>CtCD00384670_pET21</td>\n",
       "      <td>---------MSGPLRSVAILAQEKLGDCVLLTPLVRNLRQAFPDLG...</td>\n",
       "      <td>MSGPLRSVAILAQEKLGDCVLLTPLVRNLRQAFPDLGIHLITFSRA...</td>\n",
       "      <td>4365</td>\n",
       "    </tr>\n",
       "    <tr>\n",
       "      <th>12212</th>\n",
       "      <td>CtCD00384671_pET21</td>\n",
       "      <td>MRTRSGSAEFSGPLRSVAILAQEKLGDCVLLTPLVRNLRQAFPDLE...</td>\n",
       "      <td>MRTRSGSAEFSGPLRSVAILAQEKLGDCVLLTPLVRNLRQAFPDLE...</td>\n",
       "      <td>4365</td>\n",
       "    </tr>\n",
       "    <tr>\n",
       "      <th>12213</th>\n",
       "      <td>BjCD00540580_pET21</td>\n",
       "      <td>MPKWPDDDVILFDGVCIFCSRWVRFVAKRDTAKRFRFTPIQSDYGA...</td>\n",
       "      <td>MPKWPDDDVILFDGVCIFCSRWVRFVAKRDTAKRFRFTPIQSDYGA...</td>\n",
       "      <td>4366</td>\n",
       "    </tr>\n",
       "    <tr>\n",
       "      <th>12214</th>\n",
       "      <td>PmCD00584186_pET15</td>\n",
       "      <td>MPYLVIEHLEDISEWLLLEYKHVAQWWGDKLIFTNVKPKERKILAE...</td>\n",
       "      <td>MPYLVIEHLEDISEWLLLEYKHVAQWWGDKLIFTNVKPKERKILAE...</td>\n",
       "      <td>4367</td>\n",
       "    </tr>\n",
       "    <tr>\n",
       "      <th>12215</th>\n",
       "      <td>PmCD00344016_pET21</td>\n",
       "      <td>MPYLVIEHLEDISEWLLLEYKHVAQWWGDKLIFTNVKPKERKILAE...</td>\n",
       "      <td>MPYLVIEHLEDISEWLLLEYKHVAQWWGDKLIFTNVKPKERKILAE...</td>\n",
       "      <td>4367</td>\n",
       "    </tr>\n",
       "  </tbody>\n",
       "</table>\n",
       "</div>"
      ],
      "text/plain": [
       "                Accession                                           Sequence  \\\n",
       "12211  CtCD00384670_pET21  ---------MSGPLRSVAILAQEKLGDCVLLTPLVRNLRQAFPDLG...   \n",
       "12212  CtCD00384671_pET21  MRTRSGSAEFSGPLRSVAILAQEKLGDCVLLTPLVRNLRQAFPDLE...   \n",
       "12213  BjCD00540580_pET21  MPKWPDDDVILFDGVCIFCSRWVRFVAKRDTAKRFRFTPIQSDYGA...   \n",
       "12214  PmCD00584186_pET15  MPYLVIEHLEDISEWLLLEYKHVAQWWGDKLIFTNVKPKERKILAE...   \n",
       "12215  PmCD00344016_pET21  MPYLVIEHLEDISEWLLLEYKHVAQWWGDKLIFTNVKPKERKILAE...   \n",
       "\n",
       "                                                    Prot  Cluster  \n",
       "12211  MSGPLRSVAILAQEKLGDCVLLTPLVRNLRQAFPDLGIHLITFSRA...     4365  \n",
       "12212  MRTRSGSAEFSGPLRSVAILAQEKLGDCVLLTPLVRNLRQAFPDLE...     4365  \n",
       "12213  MPKWPDDDVILFDGVCIFCSRWVRFVAKRDTAKRFRFTPIQSDYGA...     4366  \n",
       "12214  MPYLVIEHLEDISEWLLLEYKHVAQWWGDKLIFTNVKPKERKILAE...     4367  \n",
       "12215  MPYLVIEHLEDISEWLLLEYKHVAQWWGDKLIFTNVKPKERKILAE...     4367  "
      ]
     },
     "execution_count": 8,
     "metadata": {},
     "output_type": "execute_result"
    }
   ],
   "source": [
    "#merge all clusters because we now have cluster number for each sequence\n",
    "all_clusters = pd.concat(clusters)\n",
    "all_clusters = all_clusters.reset_index(drop=True)\n",
    "all_clusters.tail()"
   ]
  },
  {
   "cell_type": "code",
   "execution_count": 9,
   "metadata": {},
   "outputs": [
    {
     "data": {
      "text/html": [
       "<div>\n",
       "<style scoped>\n",
       "    .dataframe tbody tr th:only-of-type {\n",
       "        vertical-align: middle;\n",
       "    }\n",
       "\n",
       "    .dataframe tbody tr th {\n",
       "        vertical-align: top;\n",
       "    }\n",
       "\n",
       "    .dataframe thead th {\n",
       "        text-align: right;\n",
       "    }\n",
       "</style>\n",
       "<table border=\"1\" class=\"dataframe\">\n",
       "  <thead>\n",
       "    <tr style=\"text-align: right;\">\n",
       "      <th></th>\n",
       "      <th>Accession</th>\n",
       "      <th>Sequence</th>\n",
       "      <th>Prot</th>\n",
       "      <th>Cluster</th>\n",
       "    </tr>\n",
       "  </thead>\n",
       "  <tbody>\n",
       "    <tr>\n",
       "      <th>12211</th>\n",
       "      <td>HsCD00598174_pET15</td>\n",
       "      <td>------MPPKDTIVKNITLNFGPQHPAAHGVLRLVMELSGEMVRKC...</td>\n",
       "      <td>MPPKDTIVKNITLNFGPQHPAAHGVLRLVMELSGEMVRKCDPHIGL...</td>\n",
       "      <td>4366</td>\n",
       "    </tr>\n",
       "    <tr>\n",
       "      <th>12212</th>\n",
       "      <td>HsCD00600517_pET15</td>\n",
       "      <td>-----------MIVKKITLNFGPQHPAAHGVLRLVMELSGEMVRKC...</td>\n",
       "      <td>MIVKKITLNFGPQHPAAHGVLRLVMELSGEMVRKCDPHIGLLHRGT...</td>\n",
       "      <td>4366</td>\n",
       "    </tr>\n",
       "    <tr>\n",
       "      <th>12213</th>\n",
       "      <td>SsCD00535991_pET21</td>\n",
       "      <td>----------------------------------------------...</td>\n",
       "      <td>MSLERQTLKQKLSTLIQPLQTAKRGAPLTNRTLSATTCQQIESLVT...</td>\n",
       "      <td>4366</td>\n",
       "    </tr>\n",
       "    <tr>\n",
       "      <th>12214</th>\n",
       "      <td>SsCD00535993_pET21</td>\n",
       "      <td>----------------------------------------------...</td>\n",
       "      <td>MTAKRGAPLTNRTLSATTCQQIESLVTAIEALNPNLSPLLYSPQLL...</td>\n",
       "      <td>4366</td>\n",
       "    </tr>\n",
       "    <tr>\n",
       "      <th>12215</th>\n",
       "      <td>AaCD00540113_pET21</td>\n",
       "      <td>MVTVIVQEGEPIEKVLKRFKARVEQEQILTELKRREYYEPPSERKK...</td>\n",
       "      <td>MVTVIVQEGEPIEKVLKRFKARVEQEQILTELKRREYYEPPSERKK...</td>\n",
       "      <td>4367</td>\n",
       "    </tr>\n",
       "  </tbody>\n",
       "</table>\n",
       "</div>"
      ],
      "text/plain": [
       "                Accession                                           Sequence  \\\n",
       "12211  HsCD00598174_pET15  ------MPPKDTIVKNITLNFGPQHPAAHGVLRLVMELSGEMVRKC...   \n",
       "12212  HsCD00600517_pET15  -----------MIVKKITLNFGPQHPAAHGVLRLVMELSGEMVRKC...   \n",
       "12213  SsCD00535991_pET21  ----------------------------------------------...   \n",
       "12214  SsCD00535993_pET21  ----------------------------------------------...   \n",
       "12215  AaCD00540113_pET21  MVTVIVQEGEPIEKVLKRFKARVEQEQILTELKRREYYEPPSERKK...   \n",
       "\n",
       "                                                    Prot  Cluster  \n",
       "12211  MPPKDTIVKNITLNFGPQHPAAHGVLRLVMELSGEMVRKCDPHIGL...     4366  \n",
       "12212  MIVKKITLNFGPQHPAAHGVLRLVMELSGEMVRKCDPHIGLLHRGT...     4366  \n",
       "12213  MSLERQTLKQKLSTLIQPLQTAKRGAPLTNRTLSATTCQQIESLVT...     4366  \n",
       "12214  MTAKRGAPLTNRTLSATTCQQIESLVTAIEALNPNLSPLLYSPQLL...     4366  \n",
       "12215  MVTVIVQEGEPIEKVLKRFKARVEQEQILTELKRREYYEPPSERKK...     4367  "
      ]
     },
     "execution_count": 9,
     "metadata": {},
     "output_type": "execute_result"
    }
   ],
   "source": [
    "#merge all clusters because we now have cluster number for each sequence\n",
    "all_clusters = pd.concat(clusters)\n",
    "all_clusters = all_clusters.reset_index(drop=True)\n",
    "all_clusters.tail()"
   ]
  },
  {
   "cell_type": "code",
   "execution_count": 10,
   "metadata": {},
   "outputs": [],
   "source": [
    "#we will merge this with full pET sequences based on accession, so we dont need these\n",
    "#protein sequecnes from here because tags were removed before clustering\n",
    "#After merging with pET sequences based on accession, we wil get tag added sequences\n",
    "\n",
    "df_ = all_clusters[['Accession', 'Cluster']].copy()"
   ]
  },
  {
   "cell_type": "code",
   "execution_count": 11,
   "metadata": {},
   "outputs": [],
   "source": [
    "#We want 10 sets each covering almost 10% of sequences (~1221 sequences per cluster)\n",
    "\n",
    "#First split the df to 10 parts\n",
    "test = np.array_split(df_, 10) \n",
    "#then check these parts and fix dfs by merging based on cluster at start and end of each df\n",
    "#by checkiing tail and head of each df.\n",
    "#based on that we make a list:\n",
    "\n",
    "df0 = df_.loc[0:1223]\n",
    "df1 = df_.loc[1224:2443]\n",
    "df2 = df_.loc[2444:3666]\n",
    "df3 = df_.loc[3667:4909]\n",
    "df4 = df_.loc[4910:6113]\n",
    "df5 = df_.loc[6114:7333]\n",
    "df6 = df_.loc[7334:8554]\n",
    "df7 = df_.loc[8555:9785]\n",
    "df8 = df_.loc[9786:10998]\n",
    "df9 = df_.loc[10999:12216]\n",
    "\n",
    "dfs_cv = [df0, df1, df2, df3, df4, df5, df6, df7, df8, df9]"
   ]
  },
  {
   "cell_type": "code",
   "execution_count": 12,
   "metadata": {},
   "outputs": [
    {
     "name": "stdout",
     "output_type": "stream",
     "text": [
      "Pass\n",
      "Pass\n",
      "Pass\n",
      "Pass\n",
      "Pass\n",
      "Pass\n",
      "Pass\n",
      "Pass\n",
      "Pass\n",
      "Pass\n"
     ]
    }
   ],
   "source": [
    "#check for seperation between clusters in these dfs\n",
    "\n",
    "for i, d in enumerate(dfs_cv):\n",
    "    try:\n",
    "        #check if tail of one overlaps head of next cluster\n",
    "        if d.tail(1)['Cluster'].values != d.head(1)['Cluster'].values:\n",
    "            print('Pass')\n",
    "        else:\n",
    "            print('Overlapped dfs! : ', i, ' and ', i + 1)\n",
    "    except Exception as exp: #catch for off by one error\n",
    "        print(str(exp))"
   ]
  },
  {
   "cell_type": "code",
   "execution_count": 13,
   "metadata": {},
   "outputs": [],
   "source": [
    "cv_test = [] #one df per item in list\n",
    "cv_train = [] #nine remiaining df per item in list\n",
    "for i, v in enumerate(dfs_cv):\n",
    "    cv_test.append(v) #pick for testing\n",
    "    cv_train.append([x for j, x in enumerate(dfs_cv) if j!=i ]) #pick remaining for training"
   ]
  },
  {
   "cell_type": "code",
   "execution_count": 14,
   "metadata": {},
   "outputs": [],
   "source": [
    "cv_train_concat_nine = [pd.concat(i) for i in cv_train]\n",
    "\n",
    "pET = pd.read_pickle('/home/bikash/Documents/Solubility/Solubility_manuscript/results/pET_complete.pkl.gz')\n",
    "\n",
    "#merge with cleaned pET to remove problematic sequences\n",
    "\n",
    "training_merged = [i.merge(pET, on='Accession') for i in cv_train_concat_nine]\n",
    "testing_merged = [i.merge(pET, on='Accession') for i in cv_test]"
   ]
  },
  {
   "cell_type": "code",
   "execution_count": 17,
   "metadata": {},
   "outputs": [
    {
     "data": {
      "text/html": [
       "<div>\n",
       "<style scoped>\n",
       "    .dataframe tbody tr th:only-of-type {\n",
       "        vertical-align: middle;\n",
       "    }\n",
       "\n",
       "    .dataframe tbody tr th {\n",
       "        vertical-align: top;\n",
       "    }\n",
       "\n",
       "    .dataframe thead th {\n",
       "        text-align: right;\n",
       "    }\n",
       "</style>\n",
       "<table border=\"1\" class=\"dataframe\">\n",
       "  <thead>\n",
       "    <tr style=\"text-align: right;\">\n",
       "      <th></th>\n",
       "      <th>Accession</th>\n",
       "      <th>Cluster</th>\n",
       "      <th>Sequence</th>\n",
       "      <th>Class</th>\n",
       "      <th>Solubility</th>\n",
       "      <th>Protein</th>\n",
       "    </tr>\n",
       "  </thead>\n",
       "  <tbody>\n",
       "    <tr>\n",
       "      <th>0</th>\n",
       "      <td>PpCD00338974_pET21</td>\n",
       "      <td>415</td>\n",
       "      <td>ATGGCTAACCACAAGCCGGAAATCGTCATCACCTATTGCACCCAGT...</td>\n",
       "      <td>2</td>\n",
       "      <td>1</td>\n",
       "      <td>MANHKPEIVITYCTQCQWLLRAAWLAQELLSTFADDLGRVALEPGT...</td>\n",
       "    </tr>\n",
       "    <tr>\n",
       "      <th>1</th>\n",
       "      <td>PfCD00344501_pET21</td>\n",
       "      <td>415</td>\n",
       "      <td>ATGACTGAACGTAAACCCGAAGTGATCATCACCTATTGCACCCAAT...</td>\n",
       "      <td>2</td>\n",
       "      <td>1</td>\n",
       "      <td>MTERKPEVIITYCTQCQWLLRAAWLAQELLSTFSDDLGKVSLEPAT...</td>\n",
       "    </tr>\n",
       "    <tr>\n",
       "      <th>2</th>\n",
       "      <td>HsCD00338620_pET21</td>\n",
       "      <td>416</td>\n",
       "      <td>ATGACTGAGCAGATGACCCTTCGTGGCACCCTCAAGGGCCACAACG...</td>\n",
       "      <td>2</td>\n",
       "      <td>1</td>\n",
       "      <td>MTEQMTLRGTLKGHNGWVTQIATTPQFPDMILSASRDKTIIMWKLT...</td>\n",
       "    </tr>\n",
       "    <tr>\n",
       "      <th>3</th>\n",
       "      <td>SsCD00540290_pET21</td>\n",
       "      <td>417</td>\n",
       "      <td>ATGCCCAGTATCTACATCTCAGGTGTCGATCCCACTATAGTTAAAA...</td>\n",
       "      <td>2</td>\n",
       "      <td>1</td>\n",
       "      <td>MPSIYISGVDPTIVKIHEIQGTGTASPLVNNVVTIEAIVVGDFQDG...</td>\n",
       "    </tr>\n",
       "    <tr>\n",
       "      <th>4</th>\n",
       "      <td>SsCD00540281_pET21</td>\n",
       "      <td>417</td>\n",
       "      <td>ATGACAGGTGTCGATCCCACTATAGTTAAAATCCATGAGATTCAAG...</td>\n",
       "      <td>1</td>\n",
       "      <td>0</td>\n",
       "      <td>MTGVDPTIVKIHEIQGTGTASPLVNNVVTIEAIVVGDFQDGDGDIS...</td>\n",
       "    </tr>\n",
       "  </tbody>\n",
       "</table>\n",
       "</div>"
      ],
      "text/plain": [
       "            Accession  Cluster  \\\n",
       "0  PpCD00338974_pET21      415   \n",
       "1  PfCD00344501_pET21      415   \n",
       "2  HsCD00338620_pET21      416   \n",
       "3  SsCD00540290_pET21      417   \n",
       "4  SsCD00540281_pET21      417   \n",
       "\n",
       "                                            Sequence  Class  Solubility  \\\n",
       "0  ATGGCTAACCACAAGCCGGAAATCGTCATCACCTATTGCACCCAGT...      2           1   \n",
       "1  ATGACTGAACGTAAACCCGAAGTGATCATCACCTATTGCACCCAAT...      2           1   \n",
       "2  ATGACTGAGCAGATGACCCTTCGTGGCACCCTCAAGGGCCACAACG...      2           1   \n",
       "3  ATGCCCAGTATCTACATCTCAGGTGTCGATCCCACTATAGTTAAAA...      2           1   \n",
       "4  ATGACAGGTGTCGATCCCACTATAGTTAAAATCCATGAGATTCAAG...      1           0   \n",
       "\n",
       "                                             Protein  \n",
       "0  MANHKPEIVITYCTQCQWLLRAAWLAQELLSTFADDLGRVALEPGT...  \n",
       "1  MTERKPEVIITYCTQCQWLLRAAWLAQELLSTFSDDLGKVSLEPAT...  \n",
       "2  MTEQMTLRGTLKGHNGWVTQIATTPQFPDMILSASRDKTIIMWKLT...  \n",
       "3  MPSIYISGVDPTIVKIHEIQGTGTASPLVNNVVTIEAIVVGDFQDG...  \n",
       "4  MTGVDPTIVKIHEIQGTGTASPLVNNVVTIEAIVVGDFQDGDGDIS...  "
      ]
     },
     "execution_count": 17,
     "metadata": {},
     "output_type": "execute_result"
    }
   ],
   "source": []
  },
  {
   "cell_type": "code",
   "execution_count": 105,
   "metadata": {},
   "outputs": [],
   "source": [
    "# Find pET15 sequences\n",
    "df = all_clusters.copy()\n",
    "df['pET15_tag'] = df['Accession'].apply(lambda x: 'pET15' in x)\n"
   ]
  },
  {
   "cell_type": "code",
   "execution_count": 125,
   "metadata": {},
   "outputs": [],
   "source": [
    "#add tags\n",
    "df1 = df.copy()\n",
    "df1['P'] = df1.loc[df1['pET15_tag'] == True]['Prot'].apply(lambda x:'MGHHHHHHSH' + x)\n",
    "df1.dropna(inplace=True)\n",
    "\n",
    "df2 = df.copy()\n",
    "df2['P'] = df2.loc[df2['pET15_tag'] == False]['Prot'].apply(lambda x:x + 'LEHHHHHH')\n",
    "df2.dropna(inplace=True)\n",
    "\n",
    "df_tags = pd.concat([df1, df2])\n",
    "df_tags.sort_values(['Cluster'], inplace=True)\n",
    "df_tags = df_tags.reset_index(drop=True)"
   ]
  },
  {
   "cell_type": "code",
   "execution_count": 127,
   "metadata": {},
   "outputs": [
    {
     "data": {
      "text/plain": [
       "(12216, 3)"
      ]
     },
     "execution_count": 127,
     "metadata": {},
     "output_type": "execute_result"
    }
   ],
   "source": [
    "df_tags = df_tags[['Accession', 'Cluster', 'P']].copy()\n",
    "df_tags.shape"
   ]
  },
  {
   "cell_type": "code",
   "execution_count": 18,
   "metadata": {},
   "outputs": [],
   "source": [
    "import pickle\n",
    "\n",
    "with open('/home/bikash/Documents/Solubility/Solubility_manuscript/results/training.pkl', 'wb') as handle:\n",
    "    pickle.dump(training_merged, handle, protocol=pickle.HIGHEST_PROTOCOL)\n",
    "    \n",
    "with open('/home/bikash/Documents/Solubility/Solubility_manuscript/results/testing.pkl', 'wb') as handle:\n",
    "    pickle.dump(testing_merged, handle, protocol=pickle.HIGHEST_PROTOCOL)"
   ]
  },
  {
   "cell_type": "code",
   "execution_count": null,
   "metadata": {},
   "outputs": [],
   "source": []
  },
  {
   "cell_type": "code",
   "execution_count": null,
   "metadata": {},
   "outputs": [],
   "source": []
  },
  {
   "cell_type": "code",
   "execution_count": null,
   "metadata": {},
   "outputs": [],
   "source": []
  }
 ],
 "metadata": {
  "kernelspec": {
   "display_name": "Python 3",
   "language": "python",
   "name": "python3"
  },
  "language_info": {
   "codemirror_mode": {
    "name": "ipython",
    "version": 3
   },
   "file_extension": ".py",
   "mimetype": "text/x-python",
   "name": "python",
   "nbconvert_exporter": "python",
   "pygments_lexer": "ipython3",
   "version": "3.6.9"
  }
 },
 "nbformat": 4,
 "nbformat_minor": 2
}
