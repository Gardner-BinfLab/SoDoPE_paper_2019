{
 "cells": [
  {
   "cell_type": "code",
   "execution_count": 2,
   "metadata": {},
   "outputs": [],
   "source": [
    "import pandas as pd\n",
    "import numpy as np\n",
    "from scipy.stats import spearmanr"
   ]
  },
  {
   "cell_type": "code",
   "execution_count": 3,
   "metadata": {},
   "outputs": [
    {
     "data": {
      "text/html": [
       "<div>\n",
       "<style scoped>\n",
       "    .dataframe tbody tr th:only-of-type {\n",
       "        vertical-align: middle;\n",
       "    }\n",
       "\n",
       "    .dataframe tbody tr th {\n",
       "        vertical-align: top;\n",
       "    }\n",
       "\n",
       "    .dataframe thead th {\n",
       "        text-align: right;\n",
       "    }\n",
       "</style>\n",
       "<table border=\"1\" class=\"dataframe\">\n",
       "  <thead>\n",
       "    <tr style=\"text-align: right;\">\n",
       "      <th></th>\n",
       "      <th>ensID</th>\n",
       "      <th>pdbID</th>\n",
       "      <th>pos.ens</th>\n",
       "      <th>pos.pdb</th>\n",
       "      <th>aa</th>\n",
       "      <th>ASA.rel.cplx</th>\n",
       "      <th>ASA.rel.alone</th>\n",
       "      <th>nsub</th>\n",
       "      <th>sym</th>\n",
       "      <th>len</th>\n",
       "      <th>homo</th>\n",
       "      <th>cat</th>\n",
       "      <th>patch.alone.size</th>\n",
       "      <th>patch.cplx.size</th>\n",
       "      <th>patch.alone</th>\n",
       "      <th>patch.cplx</th>\n",
       "    </tr>\n",
       "  </thead>\n",
       "  <tbody>\n",
       "    <tr>\n",
       "      <th>0</th>\n",
       "      <td>P76342</td>\n",
       "      <td>1xdy_5E</td>\n",
       "      <td>63</td>\n",
       "      <td>19</td>\n",
       "      <td>A</td>\n",
       "      <td>112.4</td>\n",
       "      <td>112.4</td>\n",
       "      <td>1</td>\n",
       "      <td>NPS</td>\n",
       "      <td>262</td>\n",
       "      <td>1.0</td>\n",
       "      <td>2</td>\n",
       "      <td>7</td>\n",
       "      <td>7</td>\n",
       "      <td>0.4348</td>\n",
       "      <td>0.063</td>\n",
       "    </tr>\n",
       "    <tr>\n",
       "      <th>1</th>\n",
       "      <td>P76342</td>\n",
       "      <td>1xdy_5E</td>\n",
       "      <td>64</td>\n",
       "      <td>20</td>\n",
       "      <td>L</td>\n",
       "      <td>19.3</td>\n",
       "      <td>19.3</td>\n",
       "      <td>1</td>\n",
       "      <td>NPS</td>\n",
       "      <td>262</td>\n",
       "      <td>1.0</td>\n",
       "      <td>1</td>\n",
       "      <td>0</td>\n",
       "      <td>0</td>\n",
       "      <td>-0.9138</td>\n",
       "      <td>0.000</td>\n",
       "    </tr>\n",
       "    <tr>\n",
       "      <th>2</th>\n",
       "      <td>P76342</td>\n",
       "      <td>1xdy_5E</td>\n",
       "      <td>65</td>\n",
       "      <td>21</td>\n",
       "      <td>E</td>\n",
       "      <td>98.6</td>\n",
       "      <td>98.6</td>\n",
       "      <td>1</td>\n",
       "      <td>NPS</td>\n",
       "      <td>262</td>\n",
       "      <td>1.0</td>\n",
       "      <td>2</td>\n",
       "      <td>10</td>\n",
       "      <td>10</td>\n",
       "      <td>-1.0007</td>\n",
       "      <td>-0.179</td>\n",
       "    </tr>\n",
       "    <tr>\n",
       "      <th>3</th>\n",
       "      <td>P76342</td>\n",
       "      <td>1xdy_5E</td>\n",
       "      <td>66</td>\n",
       "      <td>22</td>\n",
       "      <td>F</td>\n",
       "      <td>29.3</td>\n",
       "      <td>29.3</td>\n",
       "      <td>1</td>\n",
       "      <td>NPS</td>\n",
       "      <td>262</td>\n",
       "      <td>1.0</td>\n",
       "      <td>2</td>\n",
       "      <td>11</td>\n",
       "      <td>11</td>\n",
       "      <td>-2.2957</td>\n",
       "      <td>-0.093</td>\n",
       "    </tr>\n",
       "    <tr>\n",
       "      <th>4</th>\n",
       "      <td>P76342</td>\n",
       "      <td>1xdy_5E</td>\n",
       "      <td>67</td>\n",
       "      <td>23</td>\n",
       "      <td>S</td>\n",
       "      <td>54.6</td>\n",
       "      <td>54.6</td>\n",
       "      <td>1</td>\n",
       "      <td>NPS</td>\n",
       "      <td>262</td>\n",
       "      <td>1.0</td>\n",
       "      <td>2</td>\n",
       "      <td>8</td>\n",
       "      <td>8</td>\n",
       "      <td>-1.4256</td>\n",
       "      <td>-0.161</td>\n",
       "    </tr>\n",
       "  </tbody>\n",
       "</table>\n",
       "</div>"
      ],
      "text/plain": [
       "    ensID    pdbID  pos.ens  pos.pdb aa  ASA.rel.cplx  ASA.rel.alone  nsub  \\\n",
       "0  P76342  1xdy_5E       63       19  A         112.4          112.4     1   \n",
       "1  P76342  1xdy_5E       64       20  L          19.3           19.3     1   \n",
       "2  P76342  1xdy_5E       65       21  E          98.6           98.6     1   \n",
       "3  P76342  1xdy_5E       66       22  F          29.3           29.3     1   \n",
       "4  P76342  1xdy_5E       67       23  S          54.6           54.6     1   \n",
       "\n",
       "   sym  len  homo  cat  patch.alone.size  patch.cplx.size  patch.alone  \\\n",
       "0  NPS  262   1.0    2                 7                7       0.4348   \n",
       "1  NPS  262   1.0    1                 0                0      -0.9138   \n",
       "2  NPS  262   1.0    2                10               10      -1.0007   \n",
       "3  NPS  262   1.0    2                11               11      -2.2957   \n",
       "4  NPS  262   1.0    2                 8                8      -1.4256   \n",
       "\n",
       "   patch.cplx  \n",
       "0       0.063  \n",
       "1       0.000  \n",
       "2      -0.179  \n",
       "3      -0.093  \n",
       "4      -0.161  "
      ]
     },
     "execution_count": 3,
     "metadata": {},
     "output_type": "execute_result"
    }
   ],
   "source": [
    "df = pd.read_csv('data/matrix_intDef_ec_propensity.tab', sep='\\t')\n",
    "df.head()"
   ]
  },
  {
   "cell_type": "code",
   "execution_count": 4,
   "metadata": {},
   "outputs": [
    {
     "data": {
      "text/html": [
       "<div>\n",
       "<style scoped>\n",
       "    .dataframe tbody tr th:only-of-type {\n",
       "        vertical-align: middle;\n",
       "    }\n",
       "\n",
       "    .dataframe tbody tr th {\n",
       "        vertical-align: top;\n",
       "    }\n",
       "\n",
       "    .dataframe thead th {\n",
       "        text-align: right;\n",
       "    }\n",
       "</style>\n",
       "<table border=\"1\" class=\"dataframe\">\n",
       "  <thead>\n",
       "    <tr style=\"text-align: right;\">\n",
       "      <th></th>\n",
       "      <th>ensID</th>\n",
       "      <th>pdbID</th>\n",
       "      <th>pos.ens</th>\n",
       "      <th>pos.pdb</th>\n",
       "      <th>aa</th>\n",
       "      <th>ASA.rel.cplx</th>\n",
       "      <th>ASA.rel.alone</th>\n",
       "      <th>nsub</th>\n",
       "      <th>sym</th>\n",
       "      <th>len</th>\n",
       "      <th>homo</th>\n",
       "      <th>cat</th>\n",
       "      <th>patch.alone.size</th>\n",
       "      <th>patch.cplx.size</th>\n",
       "      <th>patch.alone</th>\n",
       "      <th>patch.cplx</th>\n",
       "    </tr>\n",
       "  </thead>\n",
       "  <tbody>\n",
       "    <tr>\n",
       "      <th>0</th>\n",
       "      <td>P76342</td>\n",
       "      <td>1xdy_5E</td>\n",
       "      <td>63</td>\n",
       "      <td>19</td>\n",
       "      <td>A</td>\n",
       "      <td>112.4</td>\n",
       "      <td>112.4</td>\n",
       "      <td>1</td>\n",
       "      <td>NPS</td>\n",
       "      <td>262</td>\n",
       "      <td>1.0</td>\n",
       "      <td>2</td>\n",
       "      <td>7</td>\n",
       "      <td>7</td>\n",
       "      <td>0.4348</td>\n",
       "      <td>0.063</td>\n",
       "    </tr>\n",
       "    <tr>\n",
       "      <th>2</th>\n",
       "      <td>P76342</td>\n",
       "      <td>1xdy_5E</td>\n",
       "      <td>65</td>\n",
       "      <td>21</td>\n",
       "      <td>E</td>\n",
       "      <td>98.6</td>\n",
       "      <td>98.6</td>\n",
       "      <td>1</td>\n",
       "      <td>NPS</td>\n",
       "      <td>262</td>\n",
       "      <td>1.0</td>\n",
       "      <td>2</td>\n",
       "      <td>10</td>\n",
       "      <td>10</td>\n",
       "      <td>-1.0007</td>\n",
       "      <td>-0.179</td>\n",
       "    </tr>\n",
       "    <tr>\n",
       "      <th>3</th>\n",
       "      <td>P76342</td>\n",
       "      <td>1xdy_5E</td>\n",
       "      <td>66</td>\n",
       "      <td>22</td>\n",
       "      <td>F</td>\n",
       "      <td>29.3</td>\n",
       "      <td>29.3</td>\n",
       "      <td>1</td>\n",
       "      <td>NPS</td>\n",
       "      <td>262</td>\n",
       "      <td>1.0</td>\n",
       "      <td>2</td>\n",
       "      <td>11</td>\n",
       "      <td>11</td>\n",
       "      <td>-2.2957</td>\n",
       "      <td>-0.093</td>\n",
       "    </tr>\n",
       "    <tr>\n",
       "      <th>4</th>\n",
       "      <td>P76342</td>\n",
       "      <td>1xdy_5E</td>\n",
       "      <td>67</td>\n",
       "      <td>23</td>\n",
       "      <td>S</td>\n",
       "      <td>54.6</td>\n",
       "      <td>54.6</td>\n",
       "      <td>1</td>\n",
       "      <td>NPS</td>\n",
       "      <td>262</td>\n",
       "      <td>1.0</td>\n",
       "      <td>2</td>\n",
       "      <td>8</td>\n",
       "      <td>8</td>\n",
       "      <td>-1.4256</td>\n",
       "      <td>-0.161</td>\n",
       "    </tr>\n",
       "    <tr>\n",
       "      <th>5</th>\n",
       "      <td>P76342</td>\n",
       "      <td>1xdy_5E</td>\n",
       "      <td>68</td>\n",
       "      <td>24</td>\n",
       "      <td>K</td>\n",
       "      <td>58.7</td>\n",
       "      <td>58.7</td>\n",
       "      <td>1</td>\n",
       "      <td>NPS</td>\n",
       "      <td>262</td>\n",
       "      <td>1.0</td>\n",
       "      <td>2</td>\n",
       "      <td>10</td>\n",
       "      <td>10</td>\n",
       "      <td>-0.3994</td>\n",
       "      <td>-0.158</td>\n",
       "    </tr>\n",
       "  </tbody>\n",
       "</table>\n",
       "</div>"
      ],
      "text/plain": [
       "    ensID    pdbID  pos.ens  pos.pdb aa  ASA.rel.cplx  ASA.rel.alone  nsub  \\\n",
       "0  P76342  1xdy_5E       63       19  A         112.4          112.4     1   \n",
       "2  P76342  1xdy_5E       65       21  E          98.6           98.6     1   \n",
       "3  P76342  1xdy_5E       66       22  F          29.3           29.3     1   \n",
       "4  P76342  1xdy_5E       67       23  S          54.6           54.6     1   \n",
       "5  P76342  1xdy_5E       68       24  K          58.7           58.7     1   \n",
       "\n",
       "   sym  len  homo  cat  patch.alone.size  patch.cplx.size  patch.alone  \\\n",
       "0  NPS  262   1.0    2                 7                7       0.4348   \n",
       "2  NPS  262   1.0    2                10               10      -1.0007   \n",
       "3  NPS  262   1.0    2                11               11      -2.2957   \n",
       "4  NPS  262   1.0    2                 8                8      -1.4256   \n",
       "5  NPS  262   1.0    2                10               10      -0.3994   \n",
       "\n",
       "   patch.cplx  \n",
       "0       0.063  \n",
       "2      -0.179  \n",
       "3      -0.093  \n",
       "4      -0.161  \n",
       "5      -0.158  "
      ]
     },
     "execution_count": 4,
     "metadata": {},
     "output_type": "execute_result"
    }
   ],
   "source": [
    "#taking only the surface aas\n",
    "df2 = df.loc[df['cat']==2]\n",
    "df2.head()"
   ]
  },
  {
   "cell_type": "code",
   "execution_count": 5,
   "metadata": {},
   "outputs": [
    {
     "data": {
      "text/html": [
       "<div>\n",
       "<style scoped>\n",
       "    .dataframe tbody tr th:only-of-type {\n",
       "        vertical-align: middle;\n",
       "    }\n",
       "\n",
       "    .dataframe tbody tr th {\n",
       "        vertical-align: top;\n",
       "    }\n",
       "\n",
       "    .dataframe thead th {\n",
       "        text-align: right;\n",
       "    }\n",
       "</style>\n",
       "<table border=\"1\" class=\"dataframe\">\n",
       "  <thead>\n",
       "    <tr style=\"text-align: right;\">\n",
       "      <th></th>\n",
       "      <th>ensID</th>\n",
       "      <th>pdbID</th>\n",
       "      <th>pos.ens</th>\n",
       "      <th>pos.pdb</th>\n",
       "      <th>aa</th>\n",
       "      <th>rate</th>\n",
       "      <th>ndef</th>\n",
       "      <th>ASA.rel.cplx</th>\n",
       "      <th>ASA.rel.alone</th>\n",
       "      <th>len</th>\n",
       "      <th>patch.compo.400abs</th>\n",
       "      <th>aa.prop</th>\n",
       "      <th>ab.all</th>\n",
       "    </tr>\n",
       "  </thead>\n",
       "  <tbody>\n",
       "    <tr>\n",
       "      <th>0</th>\n",
       "      <td>P76342</td>\n",
       "      <td>1xdy_5E</td>\n",
       "      <td>141</td>\n",
       "      <td>97</td>\n",
       "      <td>I</td>\n",
       "      <td>0.6596</td>\n",
       "      <td>10</td>\n",
       "      <td>7.1</td>\n",
       "      <td>7.1</td>\n",
       "      <td>262</td>\n",
       "      <td>0.0</td>\n",
       "      <td>1.1109</td>\n",
       "      <td>NaN</td>\n",
       "    </tr>\n",
       "    <tr>\n",
       "      <th>1</th>\n",
       "      <td>P76342</td>\n",
       "      <td>1xdy_5E</td>\n",
       "      <td>142</td>\n",
       "      <td>98</td>\n",
       "      <td>Y</td>\n",
       "      <td>0.4077</td>\n",
       "      <td>10</td>\n",
       "      <td>0.1</td>\n",
       "      <td>0.1</td>\n",
       "      <td>262</td>\n",
       "      <td>0.0</td>\n",
       "      <td>0.8806</td>\n",
       "      <td>NaN</td>\n",
       "    </tr>\n",
       "    <tr>\n",
       "      <th>2</th>\n",
       "      <td>P76342</td>\n",
       "      <td>1xdy_5E</td>\n",
       "      <td>143</td>\n",
       "      <td>99</td>\n",
       "      <td>R</td>\n",
       "      <td>0.2909</td>\n",
       "      <td>10</td>\n",
       "      <td>21.3</td>\n",
       "      <td>21.3</td>\n",
       "      <td>262</td>\n",
       "      <td>0.0</td>\n",
       "      <td>-0.0876</td>\n",
       "      <td>NaN</td>\n",
       "    </tr>\n",
       "    <tr>\n",
       "      <th>3</th>\n",
       "      <td>P76342</td>\n",
       "      <td>1xdy_5E</td>\n",
       "      <td>144</td>\n",
       "      <td>100</td>\n",
       "      <td>M</td>\n",
       "      <td>0.8333</td>\n",
       "      <td>10</td>\n",
       "      <td>5.3</td>\n",
       "      <td>5.3</td>\n",
       "      <td>262</td>\n",
       "      <td>0.0</td>\n",
       "      <td>1.0124</td>\n",
       "      <td>NaN</td>\n",
       "    </tr>\n",
       "    <tr>\n",
       "      <th>4</th>\n",
       "      <td>P76342</td>\n",
       "      <td>1xdy_5E</td>\n",
       "      <td>140</td>\n",
       "      <td>96</td>\n",
       "      <td>R</td>\n",
       "      <td>0.2909</td>\n",
       "      <td>10</td>\n",
       "      <td>4.2</td>\n",
       "      <td>4.2</td>\n",
       "      <td>262</td>\n",
       "      <td>0.0</td>\n",
       "      <td>-0.0876</td>\n",
       "      <td>NaN</td>\n",
       "    </tr>\n",
       "  </tbody>\n",
       "</table>\n",
       "</div>"
      ],
      "text/plain": [
       "    ensID    pdbID  pos.ens  pos.pdb aa    rate  ndef  ASA.rel.cplx  \\\n",
       "0  P76342  1xdy_5E      141       97  I  0.6596    10           7.1   \n",
       "1  P76342  1xdy_5E      142       98  Y  0.4077    10           0.1   \n",
       "2  P76342  1xdy_5E      143       99  R  0.2909    10          21.3   \n",
       "3  P76342  1xdy_5E      144      100  M  0.8333    10           5.3   \n",
       "4  P76342  1xdy_5E      140       96  R  0.2909    10           4.2   \n",
       "\n",
       "   ASA.rel.alone  len  patch.compo.400abs  aa.prop  ab.all  \n",
       "0            7.1  262                 0.0   1.1109     NaN  \n",
       "1            0.1  262                 0.0   0.8806     NaN  \n",
       "2           21.3  262                 0.0  -0.0876     NaN  \n",
       "3            5.3  262                 0.0   1.0124     NaN  \n",
       "4            4.2  262                 0.0  -0.0876     NaN  "
      ]
     },
     "execution_count": 5,
     "metadata": {},
     "output_type": "execute_result"
    }
   ],
   "source": [
    "#stickiness score of aa\n",
    "st = pd.read_csv('data/CROWDING_EC.mat', sep='\\t')\n",
    "st.sort_index(inplace=True)\n",
    "st = st.reset_index(drop=True)\n",
    "st.head()"
   ]
  },
  {
   "cell_type": "code",
   "execution_count": 6,
   "metadata": {},
   "outputs": [],
   "source": [
    "merged = pd.merge(df, st, on=['ensID', 'pos.ens'])\n"
   ]
  },
  {
   "cell_type": "code",
   "execution_count": 7,
   "metadata": {},
   "outputs": [],
   "source": [
    "#merged_with_surface = df2.merge(st, on=['ensID', 'aa'])\n",
    "merged_with_surface = merged.loc[merged['cat'] == 2].copy()"
   ]
  },
  {
   "cell_type": "code",
   "execution_count": 8,
   "metadata": {},
   "outputs": [
    {
     "data": {
      "text/html": [
       "<div>\n",
       "<style scoped>\n",
       "    .dataframe tbody tr th:only-of-type {\n",
       "        vertical-align: middle;\n",
       "    }\n",
       "\n",
       "    .dataframe tbody tr th {\n",
       "        vertical-align: top;\n",
       "    }\n",
       "\n",
       "    .dataframe thead th {\n",
       "        text-align: right;\n",
       "    }\n",
       "</style>\n",
       "<table border=\"1\" class=\"dataframe\">\n",
       "  <thead>\n",
       "    <tr style=\"text-align: right;\">\n",
       "      <th></th>\n",
       "      <th>ensID</th>\n",
       "      <th>pdbID</th>\n",
       "      <th>aa_x</th>\n",
       "    </tr>\n",
       "  </thead>\n",
       "  <tbody>\n",
       "    <tr>\n",
       "      <th>0</th>\n",
       "      <td>O32583</td>\n",
       "      <td>1zud4</td>\n",
       "      <td>[G, Q, D, E, K, S, L, L, E, D, T, T, E, G, K, ...</td>\n",
       "    </tr>\n",
       "    <tr>\n",
       "      <th>1</th>\n",
       "      <td>P00448</td>\n",
       "      <td>1ixbB</td>\n",
       "      <td>[D, E, P, A, K, D, K, G, K, A, A, Y, A, K, N, ...</td>\n",
       "    </tr>\n",
       "    <tr>\n",
       "      <th>2</th>\n",
       "      <td>P00452</td>\n",
       "      <td>1r1r_2B</td>\n",
       "      <td>[L, E, H, D, K, D, K, D, V, V, G, M, N, R, L, ...</td>\n",
       "    </tr>\n",
       "    <tr>\n",
       "      <th>3</th>\n",
       "      <td>P00509</td>\n",
       "      <td>1x2aB</td>\n",
       "      <td>[N, A, P, A, L, R, A, E, R, P, G, K, D, E, T, ...</td>\n",
       "    </tr>\n",
       "    <tr>\n",
       "      <th>4</th>\n",
       "      <td>P00803</td>\n",
       "      <td>1b12_3C</td>\n",
       "      <td>[E, K, I, K, K, M, D, L, L, H, K, G, T, H, E, ...</td>\n",
       "    </tr>\n",
       "  </tbody>\n",
       "</table>\n",
       "</div>"
      ],
      "text/plain": [
       "    ensID    pdbID                                               aa_x\n",
       "0  O32583    1zud4  [G, Q, D, E, K, S, L, L, E, D, T, T, E, G, K, ...\n",
       "1  P00448    1ixbB  [D, E, P, A, K, D, K, G, K, A, A, Y, A, K, N, ...\n",
       "2  P00452  1r1r_2B  [L, E, H, D, K, D, K, D, V, V, G, M, N, R, L, ...\n",
       "3  P00509    1x2aB  [N, A, P, A, L, R, A, E, R, P, G, K, D, E, T, ...\n",
       "4  P00803  1b12_3C  [E, K, I, K, K, M, D, L, L, H, K, G, T, H, E, ..."
      ]
     },
     "execution_count": 8,
     "metadata": {},
     "output_type": "execute_result"
    }
   ],
   "source": [
    "aa_prop = merged_with_surface['aa_x'].groupby([st.ensID, st.pdbID]).apply(list).reset_index()\n",
    "aa_prop.head()"
   ]
  },
  {
   "cell_type": "code",
   "execution_count": 9,
   "metadata": {},
   "outputs": [],
   "source": [
    "aa_prop['Surface'] = aa_prop['aa_x'].apply(lambda x:''.join(x))"
   ]
  },
  {
   "cell_type": "code",
   "execution_count": null,
   "metadata": {},
   "outputs": [],
   "source": []
  },
  {
   "cell_type": "markdown",
   "metadata": {},
   "source": [
    "# Merge with ecoli"
   ]
  },
  {
   "cell_type": "code",
   "execution_count": 10,
   "metadata": {},
   "outputs": [],
   "source": [
    "ecoli_w3110 = pd.read_csv('data/ecoli_eSOL_JWXXXX.csv')\n",
    "ecoli_w3110[['JW', 'name', 'ECK_num']] = ecoli_w3110['Accession'].str.split(' ', expand=True)\n",
    "\n",
    "#uniprot\n",
    "a = pd.read_csv('data/ecoli_mapping.txt',sep='\\t', header=None)\n",
    "b = pd.DataFrame()\n",
    "b[[1,2,3,4,5]] = a[0].str.split(' ', 4, expand=True)\n",
    "b[['b_num', 'JW']] = b[1].str.split(';', 1, expand=True)\n",
    "b = b.rename(columns={2:'Swiss-prot_entry_name', 3:'ensID', 4:'Length', 5:'Gene_name_and_synonyms'})\n",
    "mapping = b[['Swiss-prot_entry_name', 'ensID','Length', 'Gene_name_and_synonyms', 'b_num', 'JW']].copy()\n"
   ]
  },
  {
   "cell_type": "code",
   "execution_count": 11,
   "metadata": {},
   "outputs": [],
   "source": [
    "mapping.to_pickle('mapping.pkl')"
   ]
  },
  {
   "cell_type": "code",
   "execution_count": 12,
   "metadata": {},
   "outputs": [
    {
     "data": {
      "text/html": [
       "<div>\n",
       "<style scoped>\n",
       "    .dataframe tbody tr th:only-of-type {\n",
       "        vertical-align: middle;\n",
       "    }\n",
       "\n",
       "    .dataframe tbody tr th {\n",
       "        vertical-align: top;\n",
       "    }\n",
       "\n",
       "    .dataframe thead th {\n",
       "        text-align: right;\n",
       "    }\n",
       "</style>\n",
       "<table border=\"1\" class=\"dataframe\">\n",
       "  <thead>\n",
       "    <tr style=\"text-align: right;\">\n",
       "      <th></th>\n",
       "      <th>ensID</th>\n",
       "      <th>pdbID</th>\n",
       "      <th>aa_x</th>\n",
       "      <th>Surface</th>\n",
       "      <th>Swiss-prot_entry_name</th>\n",
       "      <th>Length</th>\n",
       "      <th>Gene_name_and_synonyms</th>\n",
       "      <th>b_num</th>\n",
       "      <th>JW</th>\n",
       "      <th>Accession</th>\n",
       "      <th>Sequence</th>\n",
       "      <th>ECK number</th>\n",
       "      <th>Solubility(%)</th>\n",
       "      <th>unknown_bases</th>\n",
       "      <th>name</th>\n",
       "      <th>ECK_num</th>\n",
       "    </tr>\n",
       "  </thead>\n",
       "  <tbody>\n",
       "    <tr>\n",
       "      <th>0</th>\n",
       "      <td>P00452</td>\n",
       "      <td>1r1r_2B</td>\n",
       "      <td>[L, E, H, D, K, D, K, D, V, V, G, M, N, R, L, ...</td>\n",
       "      <td>LEHDKDKDVVGMNRLWSGKESLDDLDNNKEQDETGGNQDRHRQGDN...</td>\n",
       "      <td>RIR1_ECOLI</td>\n",
       "      <td>761</td>\n",
       "      <td>nrdA;dnaF</td>\n",
       "      <td>b2234</td>\n",
       "      <td>JW2228</td>\n",
       "      <td>JW2228 nrdA ECK2226</td>\n",
       "      <td>MNQNLLVTKRDGSTERINLDKIHRVLDWAAEGLHNVSISQVELRSH...</td>\n",
       "      <td>ECK2226</td>\n",
       "      <td>63.0</td>\n",
       "      <td>False</td>\n",
       "      <td>nrdA</td>\n",
       "      <td>ECK2226</td>\n",
       "    </tr>\n",
       "  </tbody>\n",
       "</table>\n",
       "</div>"
      ],
      "text/plain": [
       "    ensID    pdbID                                               aa_x  \\\n",
       "0  P00452  1r1r_2B  [L, E, H, D, K, D, K, D, V, V, G, M, N, R, L, ...   \n",
       "\n",
       "                                             Surface Swiss-prot_entry_name  \\\n",
       "0  LEHDKDKDVVGMNRLWSGKESLDDLDNNKEQDETGGNQDRHRQGDN...            RIR1_ECOLI   \n",
       "\n",
       "  Length Gene_name_and_synonyms  b_num      JW            Accession  \\\n",
       "0    761              nrdA;dnaF  b2234  JW2228  JW2228 nrdA ECK2226   \n",
       "\n",
       "                                            Sequence ECK number  \\\n",
       "0  MNQNLLVTKRDGSTERINLDKIHRVLDWAAEGLHNVSISQVELRSH...    ECK2226   \n",
       "\n",
       "   Solubility(%)  unknown_bases  name  ECK_num  \n",
       "0           63.0          False  nrdA  ECK2226  "
      ]
     },
     "execution_count": 12,
     "metadata": {},
     "output_type": "execute_result"
    }
   ],
   "source": [
    "mapped_df = pd.merge(aa_prop, mapping, on=['ensID']) #first map aa_prop\n",
    "final_df = pd.merge(mapped_df, ecoli_w3110, on=['JW']) #then map with ecoli\n",
    "final_df.head(1)"
   ]
  },
  {
   "cell_type": "code",
   "execution_count": null,
   "metadata": {},
   "outputs": [],
   "source": []
  },
  {
   "cell_type": "code",
   "execution_count": 13,
   "metadata": {},
   "outputs": [],
   "source": [
    "final_df.to_pickle('surface_aminoacids.pkl.gz', compression='infer')"
   ]
  },
  {
   "cell_type": "code",
   "execution_count": null,
   "metadata": {},
   "outputs": [],
   "source": []
  },
  {
   "cell_type": "code",
   "execution_count": 21,
   "metadata": {},
   "outputs": [],
   "source": [
    "df_opt = final_df[['Surface', 'Sequence', 'Solubility(%)']].copy()"
   ]
  },
  {
   "cell_type": "code",
   "execution_count": null,
   "metadata": {},
   "outputs": [],
   "source": []
  },
  {
   "cell_type": "markdown",
   "metadata": {},
   "source": [
    "# Optimisation based on surface aminoacids"
   ]
  },
  {
   "cell_type": "code",
   "execution_count": 15,
   "metadata": {},
   "outputs": [],
   "source": [
    "from scipy import optimize\n",
    "from functools import partial\n",
    "np.random.seed(12345)\n",
    "\n",
    "\n",
    "flexibilities_smith = {'A': 0.717, 'C': 0.668, 'E': 0.963, 'D': 0.921,\\\n",
    "                         'G': 0.843, 'F': 0.599, 'I': 0.632, 'H': 0.754, \\\n",
    "                         'K': 0.912, 'M': 0.685, 'L': 0.681, 'N': 0.851,\\\n",
    "                         'Q': 0.849, 'P': 0.85, 'S': 0.84, 'R': 0.814, 'T': 0.758, \\\n",
    "                         'W': 0.626, 'V': 0.619, 'Y': 0.615}\n",
    "\n",
    "\n",
    "#SWI\n",
    "swi = {'A': 0.8356471476582918,\n",
    " 'C': 0.5208088354857734,\n",
    " 'E': 0.9876987431418378,\n",
    " 'D': 0.9079044671339564,\n",
    " 'G': 0.7997168496420723,\n",
    " 'F': 0.5849790194237692,\n",
    " 'I': 0.6784124413866582,\n",
    " 'H': 0.8947913996466419,\n",
    " 'K': 0.9267104557513497,\n",
    " 'M': 0.6296623675420369,\n",
    " 'L': 0.6554221515081433,\n",
    " 'N': 0.8597433107431216,\n",
    " 'Q': 0.789434648348208,\n",
    " 'P': 0.8235328714705341,\n",
    " 'S': 0.7440908318492778,\n",
    " 'R': 0.7712466317693457,\n",
    " 'T': 0.8096922697856334,\n",
    " 'W': 0.6374678690957594,\n",
    " 'V': 0.7357837119163659,\n",
    " 'Y': 0.6112801822947587}\n",
    "\n",
    "def avaas(seq, flex):\n",
    "    w = []\n",
    "    for i, v in enumerate(seq):\n",
    "        w.append(flex[v])\n",
    "#     return np.exp(np.sum(np.log(w))/len(w)) #similar to CAI\n",
    "    return w\n",
    "\n",
    "\n",
    "def make_dic(arr):\n",
    "    '''Make an amino acid dictionary from an array of values\n",
    "    '''\n",
    "    dic = {}\n",
    "    ks = [k for k, v in flexibilities_smith.items()]\n",
    "    for i, v in enumerate(ks):\n",
    "        dic[v] = arr[i]\n",
    "    return dic\n",
    "\n",
    "\n",
    "\n",
    "def cost_func(f, df):\n",
    "    #based on surface amino acids only\n",
    "    #use for optimisation because p value isnt needed\n",
    "    flex = make_dic(f)\n",
    "    df['f'] = df['Surface'].apply(lambda x:avaas(x, flex))\n",
    "    df['Average_flexibility'] = df['f'].apply(lambda x:np.mean(x))\n",
    "    corr, pval = spearmanr(df['Average_flexibility'],df['Solubility(%)'])\n",
    "    return -corr\n",
    "\n",
    "\n",
    "def cost_func_p_val(f, df):\n",
    "    #based on surface amino acids only, but returns p value as well\n",
    "    flex = make_dic(f)\n",
    "    df['f'] = df['Surface'].apply(lambda x:avaas(x, flex))\n",
    "    df['Average_flexibility'] = df['f'].apply(lambda x:np.mean(x))\n",
    "    corr, pval = spearmanr(df['Average_flexibility'],df['Solubility(%)'])\n",
    "    return corr, pval\n",
    "\n",
    "\n",
    "def cost_func_full(f, df):\n",
    "    #based on full sequence\n",
    "    flex = make_dic(f)\n",
    "    df['f'] = df['Sequence'].apply(lambda x:avaas(x, flex))\n",
    "    df['Average_flexibility'] = df['f'].apply(lambda x:np.mean(x))\n",
    "    corr, pval = spearmanr(df['Average_flexibility'],df['Solubility(%)'])\n",
    "    return corr, pval\n"
   ]
  },
  {
   "cell_type": "code",
   "execution_count": 16,
   "metadata": {
    "scrolled": true
   },
   "outputs": [
    {
     "data": {
      "text/plain": [
       " final_simplex: (array([[0.81596706, 0.66853512, 0.85975908, 0.77159892, 0.84932142,\n",
       "        0.59741109, 0.7375771 , 0.91208781, 0.86704017, 0.65159511,\n",
       "        0.73957961, 0.8857533 , 0.74111919, 0.83450509, 0.87744017,\n",
       "        0.7637244 , 0.90424   , 0.55021555, 0.53379988, 0.60266292],\n",
       "       [0.81593751, 0.66837797, 0.85977324, 0.77153819, 0.84925993,\n",
       "        0.59734825, 0.73768572, 0.91206963, 0.86716873, 0.65168659,\n",
       "        0.73956794, 0.88570947, 0.7410773 , 0.83457062, 0.87748139,\n",
       "        0.76374816, 0.90419071, 0.55018514, 0.53379239, 0.60266273],\n",
       "       [0.81596174, 0.66851021, 0.85978386, 0.77151292, 0.84929394,\n",
       "        0.59743091, 0.73753843, 0.91210737, 0.86694727, 0.65158688,\n",
       "        0.73960915, 0.88574755, 0.74105448, 0.83445071, 0.87747495,\n",
       "        0.76368178, 0.90428754, 0.55020695, 0.53389025, 0.60265988],\n",
       "       [0.81596352, 0.66843072, 0.85977457, 0.7715017 , 0.84930011,\n",
       "        0.59733109, 0.73755745, 0.9120338 , 0.86703314, 0.65167793,\n",
       "        0.7396636 , 0.88580963, 0.74104427, 0.83450546, 0.87744937,\n",
       "        0.76377444, 0.90417614, 0.55021693, 0.53386067, 0.60271758],\n",
       "       [0.81594025, 0.66847427, 0.85972475, 0.77156973, 0.84931456,\n",
       "        0.59742479, 0.73764817, 0.91213221, 0.86705767, 0.65156131,\n",
       "        0.73961953, 0.88574576, 0.74105203, 0.83451084, 0.87750029,\n",
       "        0.76372267, 0.90420961, 0.55019082, 0.53377609, 0.60266734],\n",
       "       [0.81590399, 0.66850265, 0.85977928, 0.77157259, 0.84930804,\n",
       "        0.59732055, 0.73750759, 0.91206217, 0.8669911 , 0.65158943,\n",
       "        0.73961256, 0.88575619, 0.74105487, 0.83453141, 0.87746976,\n",
       "        0.7637672 , 0.90417513, 0.55028343, 0.53389478, 0.60277018],\n",
       "       [0.81597632, 0.66844745, 0.8598046 , 0.7715609 , 0.84933236,\n",
       "        0.59745453, 0.73747562, 0.9120937 , 0.86704699, 0.65152746,\n",
       "        0.73959228, 0.8857611 , 0.74107411, 0.83455768, 0.87750837,\n",
       "        0.76373854, 0.90423888, 0.55025685, 0.53380423, 0.60265746],\n",
       "       [0.81596468, 0.66847009, 0.8597464 , 0.77159011, 0.84931052,\n",
       "        0.59740102, 0.73754735, 0.91208146, 0.86707368, 0.65157447,\n",
       "        0.73961524, 0.88575759, 0.74103515, 0.83454474, 0.87749626,\n",
       "        0.76371333, 0.90425082, 0.5502404 , 0.53380634, 0.60266705],\n",
       "       [0.81595895, 0.66846734, 0.85976758, 0.7715726 , 0.84933604,\n",
       "        0.59736896, 0.7375222 , 0.91208743, 0.86705058, 0.651592  ,\n",
       "        0.73958673, 0.8857107 , 0.7410714 , 0.83452476, 0.87744427,\n",
       "        0.76373095, 0.90427436, 0.55031142, 0.53379314, 0.60272101],\n",
       "       [0.81595156, 0.66839445, 0.85972031, 0.77157331, 0.84933565,\n",
       "        0.59740316, 0.7374658 , 0.91203836, 0.8670404 , 0.65157009,\n",
       "        0.73956717, 0.88577475, 0.74108248, 0.83452766, 0.87743239,\n",
       "        0.76376309, 0.90416349, 0.55038714, 0.53389291, 0.60276854],\n",
       "       [0.81591063, 0.66849239, 0.85974917, 0.77156461, 0.84936346,\n",
       "        0.59744892, 0.73751312, 0.91207557, 0.86706476, 0.65157712,\n",
       "        0.7395868 , 0.88569745, 0.74103768, 0.83455719, 0.8774666 ,\n",
       "        0.76373381, 0.90417897, 0.55031917, 0.53380675, 0.60270778],\n",
       "       [0.81590929, 0.66848637, 0.85975611, 0.77159462, 0.84933816,\n",
       "        0.59736933, 0.73747837, 0.91204589, 0.86705483, 0.65157453,\n",
       "        0.73958327, 0.88577039, 0.74107245, 0.83455098, 0.87745646,\n",
       "        0.76373485, 0.904197  , 0.55031701, 0.53383652, 0.60272082],\n",
       "       [0.81596096, 0.66850759, 0.85971606, 0.77158365, 0.84926927,\n",
       "        0.59737026, 0.73753501, 0.91210161, 0.86707198, 0.65155958,\n",
       "        0.73960967, 0.88573752, 0.74113683, 0.83454813, 0.87733842,\n",
       "        0.76381606, 0.90426852, 0.5501863 , 0.53386412, 0.60274122],\n",
       "       [0.81592007, 0.66844434, 0.85977212, 0.77158381, 0.84933824,\n",
       "        0.59736668, 0.73755336, 0.91207414, 0.86711325, 0.6516388 ,\n",
       "        0.7396077 , 0.88576703, 0.74108119, 0.83449777, 0.87744717,\n",
       "        0.76378131, 0.90421466, 0.5502325 , 0.53382443, 0.60265984],\n",
       "       [0.81595544, 0.6684673 , 0.85974972, 0.77152687, 0.84937701,\n",
       "        0.59733714, 0.73750495, 0.91206867, 0.86704409, 0.65158571,\n",
       "        0.73958413, 0.88573912, 0.74106037, 0.83453486, 0.87748249,\n",
       "        0.76372977, 0.90419544, 0.55027373, 0.53387205, 0.6027158 ],\n",
       "       [0.81591583, 0.66852787, 0.85974107, 0.77159225, 0.84930607,\n",
       "        0.5974307 , 0.73760773, 0.91203578, 0.86709271, 0.65154316,\n",
       "        0.73959331, 0.88575902, 0.74104926, 0.83450235, 0.8773949 ,\n",
       "        0.76375714, 0.90422498, 0.55021853, 0.53377705, 0.60278136],\n",
       "       [0.81594711, 0.66842675, 0.85969697, 0.77158749, 0.84935848,\n",
       "        0.59742563, 0.73757753, 0.91215898, 0.86704463, 0.65166391,\n",
       "        0.73957979, 0.88571086, 0.74107642, 0.83448543, 0.8775    ,\n",
       "        0.76380365, 0.90427339, 0.55017414, 0.53379872, 0.60267594],\n",
       "       [0.81595387, 0.66850709, 0.8597518 , 0.77157144, 0.84928606,\n",
       "        0.59740638, 0.73760008, 0.91212948, 0.86710264, 0.6515384 ,\n",
       "        0.73958128, 0.8858083 , 0.74102868, 0.834482  , 0.8774757 ,\n",
       "        0.76372799, 0.90424011, 0.55020198, 0.53379626, 0.60270319],\n",
       "       [0.81592689, 0.66846147, 0.85980056, 0.77156807, 0.84936083,\n",
       "        0.59738654, 0.73754812, 0.91204719, 0.86703905, 0.65158989,\n",
       "        0.73959533, 0.88575833, 0.7411126 , 0.83454084, 0.87744433,\n",
       "        0.76374283, 0.90424051, 0.5502766 , 0.53381517, 0.60268961],\n",
       "       [0.81594283, 0.66846701, 0.85977027, 0.77157041, 0.84933328,\n",
       "        0.59737714, 0.73754982, 0.9120882 , 0.86705257, 0.65159687,\n",
       "        0.73961394, 0.88578669, 0.74104108, 0.83452892, 0.8774286 ,\n",
       "        0.76374262, 0.9042079 , 0.55024548, 0.53381604, 0.60272407],\n",
       "       [0.81596329, 0.66846695, 0.85980157, 0.77155215, 0.84936641,\n",
       "        0.59738146, 0.73748278, 0.91210459, 0.86704015, 0.65159964,\n",
       "        0.73963567, 0.88573209, 0.74110815, 0.8345508 , 0.87749292,\n",
       "        0.76368135, 0.9042384 , 0.55022743, 0.53374842, 0.60274192]]), array([-0.18044465, -0.18042628, -0.18041176, -0.18040834, -0.18040563,\n",
       "       -0.18040435, -0.18040264, -0.1803931 , -0.18038029, -0.18037744,\n",
       "       -0.18037645, -0.18037445, -0.18037346, -0.18037217, -0.18037089,\n",
       "       -0.18036918, -0.18035993, -0.18035879, -0.18035452, -0.18035124,\n",
       "       -0.18035025]))\n",
       "           fun: -0.18044464640174\n",
       "       message: 'Optimization terminated successfully.'\n",
       "          nfev: 2178\n",
       "           nit: 715\n",
       "        status: 0\n",
       "       success: True\n",
       "             x: array([0.81596706, 0.66853512, 0.85975908, 0.77159892, 0.84932142,\n",
       "       0.59741109, 0.7375771 , 0.91208781, 0.86704017, 0.65159511,\n",
       "       0.73957961, 0.8857533 , 0.74111919, 0.83450509, 0.87744017,\n",
       "       0.7637244 , 0.90424   , 0.55021555, 0.53379988, 0.60266292])"
      ]
     },
     "execution_count": 16,
     "metadata": {},
     "output_type": "execute_result"
    }
   ],
   "source": [
    "#Optimise weights based on b-factors\n",
    "\n",
    "\n",
    "init_state = [v for k, v in flexibilities_smith.items()]\n",
    "cost_function = partial(cost_func, df=df_opt)\n",
    "\n",
    "#Optimise cost function using init_state as starting point\n",
    "optimize.minimize(cost_function, init_state, method=\"Nelder-Mead\", \\\n",
    "                  options={ 'maxiter': 3000, 'maxfev': 3000,\\\n",
    "                           'disp': False, 'return_all': False,\\\n",
    "                           'xatol': 0.001, 'fatol': 0.0001, 'adaptive': True})"
   ]
  },
  {
   "cell_type": "code",
   "execution_count": null,
   "metadata": {},
   "outputs": [],
   "source": []
  },
  {
   "cell_type": "code",
   "execution_count": 18,
   "metadata": {},
   "outputs": [
    {
     "data": {
      "text/plain": [
       "(0.18044464640174, 0.0007200171905495313)"
      ]
     },
     "execution_count": 18,
     "metadata": {},
     "output_type": "execute_result"
    }
   ],
   "source": [
    "#find correlation based on weights optimised based on surface amino acids\n",
    "optimised_weights = [0.81596706, 0.66853512, 0.85975908, 0.77159892, 0.84932142,\n",
    "       0.59741109, 0.7375771 , 0.91208781, 0.86704017, 0.65159511,\n",
    "       0.73957961, 0.8857533 , 0.74111919, 0.83450509, 0.87744017,\n",
    "       0.7637244 , 0.90424   , 0.55021555, 0.53379988, 0.60266292]\n",
    "\n",
    "cost_func_p_val(optimised_weights, df_opt)"
   ]
  },
  {
   "cell_type": "code",
   "execution_count": 22,
   "metadata": {},
   "outputs": [
    {
     "data": {
      "text/plain": [
       "(0.4557913661991376, 2.966579733735365e-19)"
      ]
     },
     "execution_count": 22,
     "metadata": {},
     "output_type": "execute_result"
    }
   ],
   "source": [
    "#using SWI for full length not just surface amino acids\n",
    "\n",
    "init_state =  [v for k, v in swi.items()]\n",
    "\n",
    "cost_func_full(init_state, df_opt)"
   ]
  },
  {
   "cell_type": "code",
   "execution_count": null,
   "metadata": {},
   "outputs": [],
   "source": []
  },
  {
   "cell_type": "markdown",
   "metadata": {},
   "source": [
    "## Conclusion\n",
    "Optimisation based on surface amino acids didnt lead to any significant improvement in correlation with solubility. However, if we take full sequence into consideration and use AAS, correlation is much improved (0.45, p-val 2.97 x 10^(-19))"
   ]
  },
  {
   "cell_type": "code",
   "execution_count": null,
   "metadata": {},
   "outputs": [],
   "source": []
  },
  {
   "cell_type": "code",
   "execution_count": null,
   "metadata": {},
   "outputs": [],
   "source": []
  },
  {
   "cell_type": "markdown",
   "metadata": {},
   "source": [
    "## Scatterplot"
   ]
  },
  {
   "cell_type": "code",
   "execution_count": 88,
   "metadata": {},
   "outputs": [
    {
     "data": {
      "image/png": "[encoded data removed]",
      "text/plain": [
       "<Figure size 648x72 with 1 Axes>"
      ]
     },
     "metadata": {},
     "output_type": "display_data"
    }
   ],
   "source": [
    "import seaborn as sns\n",
    "import matplotlib.pyplot as plt\n",
    "sns.set_style(\"whitegrid\")\n",
    "sns.set_context(\"paper\", font_scale=1.4)\n",
    "sns.set_palette(\"Set1\")\n",
    "current_palette = sns.color_palette()\n",
    "sns.palplot(current_palette)"
   ]
  },
  {
   "cell_type": "code",
   "execution_count": 45,
   "metadata": {},
   "outputs": [],
   "source": [
    "#run surface_AA.ipynb first to get this file\n",
    "scoring_surface = pd.read_pickle('surface_aminoacid_scoring.pkl.gz')"
   ]
  },
  {
   "cell_type": "code",
   "execution_count": 32,
   "metadata": {},
   "outputs": [],
   "source": [
    "#scoring with optimised weights\n",
    "new_dict = make_dic(optimised_weights)\n",
    "df_opt['f'] = df_opt['Surface'].apply(lambda x:avaas(x, new_dict))\n",
    "df_opt['Optimised score based on surface residue'] = df_opt['f'].apply(lambda x:np.mean(x))\n"
   ]
  },
  {
   "cell_type": "code",
   "execution_count": 41,
   "metadata": {},
   "outputs": [],
   "source": [
    "#scoring with swi weights for full sequence\n",
    "df_opt['ff'] = df_opt['Sequence'].apply(lambda x:avaas(x, swi))\n",
    "df_opt['SWI'] = df_opt['ff'].apply(lambda x:np.mean(x))\n"
   ]
  },
  {
   "cell_type": "code",
   "execution_count": 94,
   "metadata": {},
   "outputs": [
    {
     "data": {
      "text/plain": [
       "SpearmanrResult(correlation=-0.05145269119617839, pvalue=0.3385580978337458)"
      ]
     },
     "execution_count": 94,
     "metadata": {},
     "output_type": "execute_result"
    }
   ],
   "source": [
    "spearmanr(scoring_surface['Stickiness score'], scoring_surface['Solubility(%)'])"
   ]
  },
  {
   "cell_type": "code",
   "execution_count": 120,
   "metadata": {},
   "outputs": [
    {
     "data": {
      "text/plain": [
       "<matplotlib.legend.Legend at 0x7f0280edfa90>"
      ]
     },
     "execution_count": 120,
     "metadata": {},
     "output_type": "execute_result"
    },
    {
     "data": {
      "image/png": "[encoded data removed]",
      "text/plain": [
       "<Figure size 288x288 with 1 Axes>"
      ]
     },
     "metadata": {},
     "output_type": "display_data"
    }
   ],
   "source": [
    "plt.figure(figsize=(4, 4))\n",
    "ax = sns.regplot(scoring_surface['Stickiness score'], scoring_surface['Solubility(%)'], \\\n",
    "            marker='o', color=current_palette[0], scatter_kws={'s':2}, label=\"Spearman's rho = -0.05 \")\n",
    "ax.legend(loc=\"best\")\n",
    "# plt.savefig('stickiness_score_and_solubility.pdf', bbox_inches = 'tight', pad_inches = 0)"
   ]
  },
  {
   "cell_type": "code",
   "execution_count": 97,
   "metadata": {},
   "outputs": [
    {
     "data": {
      "text/plain": [
       "SpearmanrResult(correlation=0.18044464640174, pvalue=0.0007200171905495313)"
      ]
     },
     "execution_count": 97,
     "metadata": {},
     "output_type": "execute_result"
    }
   ],
   "source": [
    "spearmanr(df_opt['Optimised score based on surface residue'], scoring_surface['Solubility(%)'])"
   ]
  },
  {
   "cell_type": "code",
   "execution_count": 110,
   "metadata": {
    "scrolled": true
   },
   "outputs": [
    {
     "data": {
      "image/png": "[encoded data removed]",
      "text/plain": [
       "<Figure size 288x288 with 1 Axes>"
      ]
     },
     "metadata": {},
     "output_type": "display_data"
    }
   ],
   "source": [
    "plt.figure(figsize=(4, 4))\n",
    "ax = sns.regplot(df_opt['Optimised score based on surface residue'], scoring_surface['Solubility(%)'], \\\n",
    "           marker='o', color=current_palette[1],  scatter_kws={'s':2}, label=\"Spearman's rho = 0.18 \")\n",
    "ax.legend(loc=\"best\")\n",
    "plt.savefig('optimised_score_and_solubility.pdf', bbox_inches = 'tight', pad_inches = 0)"
   ]
  },
  {
   "cell_type": "code",
   "execution_count": 98,
   "metadata": {},
   "outputs": [
    {
     "data": {
      "text/plain": [
       "SpearmanrResult(correlation=0.4557913661991376, pvalue=2.966579733735365e-19)"
      ]
     },
     "execution_count": 98,
     "metadata": {},
     "output_type": "execute_result"
    }
   ],
   "source": [
    "spearmanr(df_opt['SWI'], scoring_surface['Solubility(%)'])"
   ]
  },
  {
   "cell_type": "code",
   "execution_count": 111,
   "metadata": {},
   "outputs": [
    {
     "data": {
      "image/png": "[encoded data removed]",
      "text/plain": [
       "<Figure size 288x288 with 1 Axes>"
      ]
     },
     "metadata": {},
     "output_type": "display_data"
    }
   ],
   "source": [
    "plt.figure(figsize=(4, 4))\n",
    "ax = sns.regplot(df_opt['SWI'], scoring_surface['Solubility(%)'], \\\n",
    "           marker='o', color=current_palette[2], scatter_kws={'s':2}, label=\"Spearman's rho = 0.46 \")\n",
    "ax.legend(loc=\"best\")\n",
    "plt.savefig('SWI_and_solubility.pdf', bbox_inches = 'tight', pad_inches = 0)"
   ]
  },
  {
   "cell_type": "code",
   "execution_count": 112,
   "metadata": {},
   "outputs": [
    {
     "data": {
      "text/plain": [
       "(348, 9)"
      ]
     },
     "execution_count": 112,
     "metadata": {},
     "output_type": "execute_result"
    }
   ],
   "source": [
    "df_opt.shape"
   ]
  },
  {
   "cell_type": "code",
   "execution_count": null,
   "metadata": {},
   "outputs": [],
   "source": []
  },
  {
   "cell_type": "code",
   "execution_count": null,
   "metadata": {},
   "outputs": [],
   "source": []
  }
 ],
 "metadata": {
  "kernelspec": {
   "display_name": "Python 3",
   "language": "python",
   "name": "python3"
  },
  "language_info": {
   "codemirror_mode": {
    "name": "ipython",
    "version": 3
   },
   "file_extension": ".py",
   "mimetype": "text/x-python",
   "name": "python",
   "nbconvert_exporter": "python",
   "pygments_lexer": "ipython3",
   "version": "3.6.9"
  }
 },
 "nbformat": 4,
 "nbformat_minor": 2
}
