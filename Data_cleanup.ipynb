{
 "cells": [
  {
   "cell_type": "code",
   "execution_count": 1,
   "metadata": {},
   "outputs": [],
   "source": [
    "import numpy as np\n",
    "# import seaborn as sns\n",
    "# import matplotlib.pyplot as plt\n",
    "import pandas as pd\n",
    "import functions"
   ]
  },
  {
   "cell_type": "code",
   "execution_count": null,
   "metadata": {},
   "outputs": [],
   "source": []
  },
  {
   "cell_type": "code",
   "execution_count": 2,
   "metadata": {},
   "outputs": [],
   "source": [
    "#classes for pET15 and 21\n",
    "classes = pd.read_csv('datasets_used/class.txt', sep='\\t')"
   ]
  },
  {
   "cell_type": "code",
   "execution_count": 13,
   "metadata": {},
   "outputs": [
    {
     "data": {
      "text/html": [
       "<div>\n",
       "<style scoped>\n",
       "    .dataframe tbody tr th:only-of-type {\n",
       "        vertical-align: middle;\n",
       "    }\n",
       "\n",
       "    .dataframe tbody tr th {\n",
       "        vertical-align: top;\n",
       "    }\n",
       "\n",
       "    .dataframe thead th {\n",
       "        text-align: right;\n",
       "    }\n",
       "</style>\n",
       "<table border=\"1\" class=\"dataframe\">\n",
       "  <thead>\n",
       "    <tr style=\"text-align: right;\">\n",
       "      <th></th>\n",
       "      <th>0</th>\n",
       "      <th>1</th>\n",
       "      <th>2</th>\n",
       "      <th>3</th>\n",
       "      <th>4</th>\n",
       "      <th>5</th>\n",
       "      <th>6</th>\n",
       "      <th>7</th>\n",
       "    </tr>\n",
       "  </thead>\n",
       "  <tbody>\n",
       "    <tr>\n",
       "      <th>0</th>\n",
       "      <td>BbCD00339994</td>\n",
       "      <td>BB0726</td>\n",
       "      <td>ATP-binding protein (ylxH-3)</td>\n",
       "      <td>Borrelia burgdorferi</td>\n",
       "      <td>ATGACTAAAATTATTCCTGTGGCAAGTGGCAAAGGCGGTGTTGGAA...</td>\n",
       "      <td>Tested_Not_Found</td>\n",
       "      <td>Not_Tested</td>\n",
       "      <td>Not_Tested</td>\n",
       "    </tr>\n",
       "    <tr>\n",
       "      <th>1</th>\n",
       "      <td>BbCD00339995</td>\n",
       "      <td>BB0726</td>\n",
       "      <td>ATP-binding protein (ylxH-3)</td>\n",
       "      <td>Borrelia burgdorferi</td>\n",
       "      <td>ATGACTAAAATTATTCCTGTGGCTAGTGGCAAAGGCGGTGTTGGAA...</td>\n",
       "      <td>Tested_Not_Found</td>\n",
       "      <td>Not_Tested</td>\n",
       "      <td>Not_Tested</td>\n",
       "    </tr>\n",
       "    <tr>\n",
       "      <th>2</th>\n",
       "      <td>BbCD00584211</td>\n",
       "      <td>BB_0282</td>\n",
       "      <td>flagellar protein FlbD</td>\n",
       "      <td>Borrelia burgdorferi</td>\n",
       "      <td>ATGATTTTTGTAACTAAGCTTAATGGTGATGGATATTATTTAAATC...</td>\n",
       "      <td>Protein_Confirmed</td>\n",
       "      <td>Protein_Soluble</td>\n",
       "      <td>Not_Tested</td>\n",
       "    </tr>\n",
       "    <tr>\n",
       "      <th>3</th>\n",
       "      <td>BcCD00331746</td>\n",
       "      <td>BC2763</td>\n",
       "      <td>putative cytoplasmic protein</td>\n",
       "      <td>Bacillus cereus</td>\n",
       "      <td>ATGGATAAAGAGAATCCACGTGTAGGAGATAAATATATTACTGTTC...</td>\n",
       "      <td>Protein_Confirmed</td>\n",
       "      <td>Tested_Not_Soluble</td>\n",
       "      <td>Not_Tested</td>\n",
       "    </tr>\n",
       "    <tr>\n",
       "      <th>4</th>\n",
       "      <td>BcCD00331747</td>\n",
       "      <td>BC3411</td>\n",
       "      <td>XoxI</td>\n",
       "      <td>Bacillus cereus</td>\n",
       "      <td>ATGGCACATACTACTACATCTATGGAAATTTTCGGTTCACCTGAAC...</td>\n",
       "      <td>Protein_Confirmed</td>\n",
       "      <td>Protein_Soluble</td>\n",
       "      <td>Not_Tested</td>\n",
       "    </tr>\n",
       "  </tbody>\n",
       "</table>\n",
       "</div>"
      ],
      "text/plain": [
       "              0        1                             2                     3  \\\n",
       "0  BbCD00339994   BB0726  ATP-binding protein (ylxH-3)  Borrelia burgdorferi   \n",
       "1  BbCD00339995   BB0726  ATP-binding protein (ylxH-3)  Borrelia burgdorferi   \n",
       "2  BbCD00584211  BB_0282        flagellar protein FlbD  Borrelia burgdorferi   \n",
       "3  BcCD00331746   BC2763  putative cytoplasmic protein       Bacillus cereus   \n",
       "4  BcCD00331747   BC3411                          XoxI       Bacillus cereus   \n",
       "\n",
       "                                                   4                  5  \\\n",
       "0  ATGACTAAAATTATTCCTGTGGCAAGTGGCAAAGGCGGTGTTGGAA...   Tested_Not_Found   \n",
       "1  ATGACTAAAATTATTCCTGTGGCTAGTGGCAAAGGCGGTGTTGGAA...   Tested_Not_Found   \n",
       "2  ATGATTTTTGTAACTAAGCTTAATGGTGATGGATATTATTTAAATC...  Protein_Confirmed   \n",
       "3  ATGGATAAAGAGAATCCACGTGTAGGAGATAAATATATTACTGTTC...  Protein_Confirmed   \n",
       "4  ATGGCACATACTACTACATCTATGGAAATTTTCGGTTCACCTGAAC...  Protein_Confirmed   \n",
       "\n",
       "                    6           7  \n",
       "0          Not_Tested  Not_Tested  \n",
       "1          Not_Tested  Not_Tested  \n",
       "2     Protein_Soluble  Not_Tested  \n",
       "3  Tested_Not_Soluble  Not_Tested  \n",
       "4     Protein_Soluble  Not_Tested  "
      ]
     },
     "execution_count": 13,
     "metadata": {},
     "output_type": "execute_result"
    }
   ],
   "source": [
    "#pET15 \n",
    "pET15_ =  pd.read_csv('datasets_used/pET15_NESG.txt', sep='\\t', header=None)\n",
    "pET15_.head()"
   ]
  },
  {
   "cell_type": "code",
   "execution_count": 16,
   "metadata": {},
   "outputs": [],
   "source": [
    "#pET15 \n"
   ]
  },
  {
   "cell_type": "code",
   "execution_count": null,
   "metadata": {},
   "outputs": [],
   "source": []
  },
  {
   "cell_type": "code",
   "execution_count": 12,
   "metadata": {},
   "outputs": [
    {
     "data": {
      "text/plain": [
       "(4827, 3)"
      ]
     },
     "execution_count": 12,
     "metadata": {},
     "output_type": "execute_result"
    }
   ],
   "source": [
    "pET15_.rename(columns={0:'Accession', 4:'Sequence', 6:'Type'}, inplace=True)\n",
    "pET15_['Sequence'] = pET15_['Sequence'].apply(lambda x:'ATGGGCCATCACCATCACCATCACAGCCAT' + x) #His tag\n",
    "#copy sequence and accession\n",
    "pET15_seq = pET15_[['Accession', 'Sequence']].copy()\n",
    "pET15 = pd.merge(pET15_seq, classes, on=\"Accession\").dropna()\n",
    "pET15 = pET15.drop_duplicates(keep=False, inplace=False).copy()\n",
    "pET15['Accession'] = pET15['Accession'] + '_pET15'\n",
    "pET15.shape "
   ]
  },
  {
   "cell_type": "code",
   "execution_count": null,
   "metadata": {},
   "outputs": [],
   "source": []
  },
  {
   "cell_type": "code",
   "execution_count": 5,
   "metadata": {},
   "outputs": [
    {
     "data": {
      "text/html": [
       "<div>\n",
       "<style scoped>\n",
       "    .dataframe tbody tr th:only-of-type {\n",
       "        vertical-align: middle;\n",
       "    }\n",
       "\n",
       "    .dataframe tbody tr th {\n",
       "        vertical-align: top;\n",
       "    }\n",
       "\n",
       "    .dataframe thead th {\n",
       "        text-align: right;\n",
       "    }\n",
       "</style>\n",
       "<table border=\"1\" class=\"dataframe\">\n",
       "  <thead>\n",
       "    <tr style=\"text-align: right;\">\n",
       "      <th></th>\n",
       "      <th>Accession</th>\n",
       "      <th>Sequence</th>\n",
       "    </tr>\n",
       "  </thead>\n",
       "  <tbody>\n",
       "    <tr>\n",
       "      <th>0</th>\n",
       "      <td>BbCD00385183</td>\n",
       "      <td>ATGCTCACTATCGATACGGCGTCCCGCACTTTTCACTGCAAGACCT...</td>\n",
       "    </tr>\n",
       "    <tr>\n",
       "      <th>1</th>\n",
       "      <td>BbCD00385184</td>\n",
       "      <td>ATGACCCTGAAAACCATGACGCTGGCTTTTGCCGTAACCGGCCTTG...</td>\n",
       "    </tr>\n",
       "    <tr>\n",
       "      <th>2</th>\n",
       "      <td>BcCD00540749</td>\n",
       "      <td>ATGAACGGGAAGCAAGTAAACAATGTGGAAGGCGTTGTCACAGCGC...</td>\n",
       "    </tr>\n",
       "    <tr>\n",
       "      <th>3</th>\n",
       "      <td>BcCD00583995</td>\n",
       "      <td>ATGGGAGATAAATATATTACTGTTCAAAAAGTCGGTAAGAAAATAT...</td>\n",
       "    </tr>\n",
       "    <tr>\n",
       "      <th>4</th>\n",
       "      <td>BsCD00423013</td>\n",
       "      <td>ATGAGCTTGCAATTTAGCGTACTTGCGAGCGGGAGTACGGGAAATG...</td>\n",
       "    </tr>\n",
       "  </tbody>\n",
       "</table>\n",
       "</div>"
      ],
      "text/plain": [
       "      Accession                                           Sequence\n",
       "0  BbCD00385183  ATGCTCACTATCGATACGGCGTCCCGCACTTTTCACTGCAAGACCT...\n",
       "1  BbCD00385184  ATGACCCTGAAAACCATGACGCTGGCTTTTGCCGTAACCGGCCTTG...\n",
       "2  BcCD00540749  ATGAACGGGAAGCAAGTAAACAATGTGGAAGGCGTTGTCACAGCGC...\n",
       "3  BcCD00583995  ATGGGAGATAAATATATTACTGTTCAAAAAGTCGGTAAGAAAATAT...\n",
       "4  BsCD00423013  ATGAGCTTGCAATTTAGCGTACTTGCGAGCGGGAGTACGGGAAATG..."
      ]
     },
     "execution_count": 5,
     "metadata": {},
     "output_type": "execute_result"
    }
   ],
   "source": [
    "#pET21\n",
    "pET21_ =  functions.fasta_reader('datasets_used/pET21_NESG.fas')\n",
    "pET21_.head()"
   ]
  },
  {
   "cell_type": "code",
   "execution_count": 6,
   "metadata": {},
   "outputs": [
    {
     "data": {
      "text/plain": [
       "(11437, 3)"
      ]
     },
     "execution_count": 6,
     "metadata": {},
     "output_type": "execute_result"
    }
   ],
   "source": [
    "pET21 = pd.merge(pET21_, classes, on=\"Accession\").dropna()\n",
    "pET21 = pET21.drop_duplicates(keep=False, inplace=False).copy()\n",
    "pET21['Accession'] = pET21['Accession'] + '_pET21'\n",
    "pET21.shape"
   ]
  },
  {
   "cell_type": "code",
   "execution_count": null,
   "metadata": {},
   "outputs": [],
   "source": []
  },
  {
   "cell_type": "code",
   "execution_count": 7,
   "metadata": {},
   "outputs": [
    {
     "data": {
      "text/plain": [
       "(16255, 3)"
      ]
     },
     "execution_count": 7,
     "metadata": {},
     "output_type": "execute_result"
    }
   ],
   "source": [
    "pET_merged = pd.concat([pET15, pET21], sort=False, keys=['pET15', 'pET21']) #keys make easier to reference later\n",
    "#check for unknown bases\n",
    "pET_merged['unknown_bases'] = pET_merged['Sequence'].apply(lambda x: 'X' in x or 'Z' in x or '*' in x or 'N' in x)\n",
    "pET = pET_merged.loc[pET_merged['unknown_bases'] == False].drop('unknown_bases', 1)\n",
    "pET.shape"
   ]
  },
  {
   "cell_type": "code",
   "execution_count": 8,
   "metadata": {},
   "outputs": [
    {
     "data": {
      "text/plain": [
       "((11437, 3), (4827, 3), (16255, 3), (11430, 3), (4825, 3))"
      ]
     },
     "execution_count": 8,
     "metadata": {},
     "output_type": "execute_result"
    }
   ],
   "source": [
    "pET21.shape, pET15.shape, pET.shape, pET.loc['pET21'].shape, pET.loc['pET15'].shape"
   ]
  },
  {
   "cell_type": "code",
   "execution_count": null,
   "metadata": {},
   "outputs": [],
   "source": []
  },
  {
   "cell_type": "code",
   "execution_count": 10,
   "metadata": {},
   "outputs": [
    {
     "data": {
      "text/html": [
       "<div>\n",
       "<style scoped>\n",
       "    .dataframe tbody tr th:only-of-type {\n",
       "        vertical-align: middle;\n",
       "    }\n",
       "\n",
       "    .dataframe tbody tr th {\n",
       "        vertical-align: top;\n",
       "    }\n",
       "\n",
       "    .dataframe thead th {\n",
       "        text-align: right;\n",
       "    }\n",
       "</style>\n",
       "<table border=\"1\" class=\"dataframe\">\n",
       "  <thead>\n",
       "    <tr style=\"text-align: right;\">\n",
       "      <th></th>\n",
       "      <th></th>\n",
       "      <th>Accession</th>\n",
       "      <th>Sequence</th>\n",
       "      <th>Class</th>\n",
       "    </tr>\n",
       "  </thead>\n",
       "  <tbody>\n",
       "    <tr>\n",
       "      <th rowspan=\"5\" valign=\"top\">pET15</th>\n",
       "      <th>0</th>\n",
       "      <td>BbCD00339994_pET15</td>\n",
       "      <td>ATGGGCCATCACCATCACCATCACAGCCATATGACTAAAATTATTC...</td>\n",
       "      <td>0</td>\n",
       "    </tr>\n",
       "    <tr>\n",
       "      <th>1</th>\n",
       "      <td>BbCD00339995_pET15</td>\n",
       "      <td>ATGGGCCATCACCATCACCATCACAGCCATATGACTAAAATTATTC...</td>\n",
       "      <td>0</td>\n",
       "    </tr>\n",
       "    <tr>\n",
       "      <th>2</th>\n",
       "      <td>BbCD00584211_pET15</td>\n",
       "      <td>ATGGGCCATCACCATCACCATCACAGCCATATGATTTTTGTAACTA...</td>\n",
       "      <td>2</td>\n",
       "    </tr>\n",
       "    <tr>\n",
       "      <th>3</th>\n",
       "      <td>BcCD00331746_pET15</td>\n",
       "      <td>ATGGGCCATCACCATCACCATCACAGCCATATGGATAAAGAGAATC...</td>\n",
       "      <td>1</td>\n",
       "    </tr>\n",
       "    <tr>\n",
       "      <th>4</th>\n",
       "      <td>BcCD00331747_pET15</td>\n",
       "      <td>ATGGGCCATCACCATCACCATCACAGCCATATGGCACATACTACTA...</td>\n",
       "      <td>2</td>\n",
       "    </tr>\n",
       "  </tbody>\n",
       "</table>\n",
       "</div>"
      ],
      "text/plain": [
       "                  Accession  \\\n",
       "pET15 0  BbCD00339994_pET15   \n",
       "      1  BbCD00339995_pET15   \n",
       "      2  BbCD00584211_pET15   \n",
       "      3  BcCD00331746_pET15   \n",
       "      4  BcCD00331747_pET15   \n",
       "\n",
       "                                                  Sequence  Class  \n",
       "pET15 0  ATGGGCCATCACCATCACCATCACAGCCATATGACTAAAATTATTC...      0  \n",
       "      1  ATGGGCCATCACCATCACCATCACAGCCATATGACTAAAATTATTC...      0  \n",
       "      2  ATGGGCCATCACCATCACCATCACAGCCATATGATTTTTGTAACTA...      2  \n",
       "      3  ATGGGCCATCACCATCACCATCACAGCCATATGGATAAAGAGAATC...      1  \n",
       "      4  ATGGGCCATCACCATCACCATCACAGCCATATGGCACATACTACTA...      2  "
      ]
     },
     "execution_count": 10,
     "metadata": {},
     "output_type": "execute_result"
    }
   ],
   "source": [
    "pET.head()"
   ]
  },
  {
   "cell_type": "code",
   "execution_count": 9,
   "metadata": {},
   "outputs": [
    {
     "data": {
      "text/plain": [
       "(12222, 3)"
      ]
     },
     "execution_count": 9,
     "metadata": {},
     "output_type": "execute_result"
    }
   ],
   "source": [
    "#Solubility\n",
    "\n",
    "solubility_test = pET.loc[pET['Class'] != 0].copy()\n",
    "solubility_test.shape"
   ]
  },
  {
   "cell_type": "code",
   "execution_count": 11,
   "metadata": {},
   "outputs": [
    {
     "data": {
      "text/html": [
       "<div>\n",
       "<style scoped>\n",
       "    .dataframe tbody tr th:only-of-type {\n",
       "        vertical-align: middle;\n",
       "    }\n",
       "\n",
       "    .dataframe tbody tr th {\n",
       "        vertical-align: top;\n",
       "    }\n",
       "\n",
       "    .dataframe thead th {\n",
       "        text-align: right;\n",
       "    }\n",
       "</style>\n",
       "<table border=\"1\" class=\"dataframe\">\n",
       "  <thead>\n",
       "    <tr style=\"text-align: right;\">\n",
       "      <th></th>\n",
       "      <th></th>\n",
       "      <th>Accession</th>\n",
       "      <th>Sequence</th>\n",
       "      <th>Class</th>\n",
       "      <th>Solubility</th>\n",
       "    </tr>\n",
       "  </thead>\n",
       "  <tbody>\n",
       "    <tr>\n",
       "      <th rowspan=\"5\" valign=\"top\">pET15</th>\n",
       "      <th>2</th>\n",
       "      <td>BbCD00584211_pET15</td>\n",
       "      <td>ATGGGCCATCACCATCACCATCACAGCCATATGATTTTTGTAACTA...</td>\n",
       "      <td>2</td>\n",
       "      <td>1</td>\n",
       "    </tr>\n",
       "    <tr>\n",
       "      <th>3</th>\n",
       "      <td>BcCD00331746_pET15</td>\n",
       "      <td>ATGGGCCATCACCATCACCATCACAGCCATATGGATAAAGAGAATC...</td>\n",
       "      <td>1</td>\n",
       "      <td>0</td>\n",
       "    </tr>\n",
       "    <tr>\n",
       "      <th>4</th>\n",
       "      <td>BcCD00331747_pET15</td>\n",
       "      <td>ATGGGCCATCACCATCACCATCACAGCCATATGGCACATACTACTA...</td>\n",
       "      <td>2</td>\n",
       "      <td>1</td>\n",
       "    </tr>\n",
       "    <tr>\n",
       "      <th>5</th>\n",
       "      <td>BcCD00341383_pET15</td>\n",
       "      <td>ATGGGCCATCACCATCACCATCACAGCCATATGGATAAAGAGAATC...</td>\n",
       "      <td>1</td>\n",
       "      <td>0</td>\n",
       "    </tr>\n",
       "    <tr>\n",
       "      <th>6</th>\n",
       "      <td>BcCD00591009_pET15</td>\n",
       "      <td>ATGGGCCATCACCATCACCATCACAGCCATATGAGTTTGAAGGGGA...</td>\n",
       "      <td>2</td>\n",
       "      <td>1</td>\n",
       "    </tr>\n",
       "  </tbody>\n",
       "</table>\n",
       "</div>"
      ],
      "text/plain": [
       "                  Accession  \\\n",
       "pET15 2  BbCD00584211_pET15   \n",
       "      3  BcCD00331746_pET15   \n",
       "      4  BcCD00331747_pET15   \n",
       "      5  BcCD00341383_pET15   \n",
       "      6  BcCD00591009_pET15   \n",
       "\n",
       "                                                  Sequence  Class  Solubility  \n",
       "pET15 2  ATGGGCCATCACCATCACCATCACAGCCATATGATTTTTGTAACTA...      2           1  \n",
       "      3  ATGGGCCATCACCATCACCATCACAGCCATATGGATAAAGAGAATC...      1           0  \n",
       "      4  ATGGGCCATCACCATCACCATCACAGCCATATGGCACATACTACTA...      2           1  \n",
       "      5  ATGGGCCATCACCATCACCATCACAGCCATATGGATAAAGAGAATC...      1           0  \n",
       "      6  ATGGGCCATCACCATCACCATCACAGCCATATGAGTTTGAAGGGGA...      2           1  "
      ]
     },
     "execution_count": 11,
     "metadata": {},
     "output_type": "execute_result"
    }
   ],
   "source": [
    "solubility_test['Solubility'] = solubility_test['Class'].replace(1,0)\n",
    "solubility_test['Solubility'] = solubility_test['Solubility'].replace(2,1)\n",
    "solubility_test.head()"
   ]
  },
  {
   "cell_type": "code",
   "execution_count": 12,
   "metadata": {},
   "outputs": [],
   "source": [
    "solubility_test.loc['pET15'].to_pickle(\"results/pET15.pkl.gz\", compression='gzip')\n",
    "solubility_test.loc['pET21'].to_pickle(\"results/pET21.pkl.gz\", compression='gzip')"
   ]
  },
  {
   "cell_type": "code",
   "execution_count": null,
   "metadata": {},
   "outputs": [],
   "source": []
  },
  {
   "cell_type": "code",
   "execution_count": 14,
   "metadata": {},
   "outputs": [
    {
     "data": {
      "text/plain": [
       "(12222, 5)"
      ]
     },
     "execution_count": 14,
     "metadata": {},
     "output_type": "execute_result"
    }
   ],
   "source": [
    "#translate to protein\n",
    "solubility_test['Protein'] = solubility_test['Sequence'].apply(functions.translate)\n",
    "solubility_test.shape"
   ]
  },
  {
   "cell_type": "code",
   "execution_count": 15,
   "metadata": {},
   "outputs": [
    {
     "data": {
      "text/plain": [
       "(12216, 5)"
      ]
     },
     "execution_count": 15,
     "metadata": {},
     "output_type": "execute_result"
    }
   ],
   "source": [
    "#remove seq with premature stop codons\n",
    "\n",
    "solubility_test['stop'] = solubility_test['Protein'].apply(lambda x: 'stop' in x)\n",
    "solubility_ = solubility_test.loc[solubility_test['stop'] == False].drop('stop', 1)\n",
    "solubility_.shape"
   ]
  },
  {
   "cell_type": "code",
   "execution_count": 21,
   "metadata": {},
   "outputs": [
    {
     "data": {
      "text/html": [
       "<div>\n",
       "<style scoped>\n",
       "    .dataframe tbody tr th:only-of-type {\n",
       "        vertical-align: middle;\n",
       "    }\n",
       "\n",
       "    .dataframe tbody tr th {\n",
       "        vertical-align: top;\n",
       "    }\n",
       "\n",
       "    .dataframe thead th {\n",
       "        text-align: right;\n",
       "    }\n",
       "</style>\n",
       "<table border=\"1\" class=\"dataframe\">\n",
       "  <thead>\n",
       "    <tr style=\"text-align: right;\">\n",
       "      <th></th>\n",
       "      <th></th>\n",
       "      <th>Accession</th>\n",
       "      <th>Sequence</th>\n",
       "      <th>Class</th>\n",
       "      <th>Solubility</th>\n",
       "      <th>Protein</th>\n",
       "    </tr>\n",
       "  </thead>\n",
       "  <tbody>\n",
       "    <tr>\n",
       "      <th rowspan=\"5\" valign=\"top\">pET15</th>\n",
       "      <th>2</th>\n",
       "      <td>BbCD00584211_pET15</td>\n",
       "      <td>ATGGGCCATCACCATCACCATCACAGCCATATGATTTTTGTAACTA...</td>\n",
       "      <td>2</td>\n",
       "      <td>1</td>\n",
       "      <td>MGHHHHHHSHMIFVTKLNGDGYYLNPYHIESIEANPDTTILLMNGK...</td>\n",
       "    </tr>\n",
       "    <tr>\n",
       "      <th>3</th>\n",
       "      <td>BcCD00331746_pET15</td>\n",
       "      <td>ATGGGCCATCACCATCACCATCACAGCCATATGGATAAAGAGAATC...</td>\n",
       "      <td>1</td>\n",
       "      <td>0</td>\n",
       "      <td>MGHHHHHHSHMDKENPRVGDKYITVQKVGKKIFEAEVEILEYDAPH...</td>\n",
       "    </tr>\n",
       "    <tr>\n",
       "      <th>4</th>\n",
       "      <td>BcCD00331747_pET15</td>\n",
       "      <td>ATGGGCCATCACCATCACCATCACAGCCATATGGCACATACTACTA...</td>\n",
       "      <td>2</td>\n",
       "      <td>1</td>\n",
       "      <td>MGHHHHHHSHMAHTTTSMEIFGSPEQVWQLIGGFNSLPDWLPYIPS...</td>\n",
       "    </tr>\n",
       "    <tr>\n",
       "      <th>5</th>\n",
       "      <td>BcCD00341383_pET15</td>\n",
       "      <td>ATGGGCCATCACCATCACCATCACAGCCATATGGATAAAGAGAATC...</td>\n",
       "      <td>1</td>\n",
       "      <td>0</td>\n",
       "      <td>MGHHHHHHSHMDKENPRVGDKYITVQKVGKKIFEAEVEILEYDAPH...</td>\n",
       "    </tr>\n",
       "    <tr>\n",
       "      <th>6</th>\n",
       "      <td>BcCD00591009_pET15</td>\n",
       "      <td>ATGGGCCATCACCATCACCATCACAGCCATATGAGTTTGAAGGGGA...</td>\n",
       "      <td>2</td>\n",
       "      <td>1</td>\n",
       "      <td>MGHHHHHHSHMSLKGKRIGFGFTGSHCTYEEVMPHLEKLIAEGAEV...</td>\n",
       "    </tr>\n",
       "  </tbody>\n",
       "</table>\n",
       "</div>"
      ],
      "text/plain": [
       "                  Accession  \\\n",
       "pET15 2  BbCD00584211_pET15   \n",
       "      3  BcCD00331746_pET15   \n",
       "      4  BcCD00331747_pET15   \n",
       "      5  BcCD00341383_pET15   \n",
       "      6  BcCD00591009_pET15   \n",
       "\n",
       "                                                  Sequence  Class  Solubility  \\\n",
       "pET15 2  ATGGGCCATCACCATCACCATCACAGCCATATGATTTTTGTAACTA...      2           1   \n",
       "      3  ATGGGCCATCACCATCACCATCACAGCCATATGGATAAAGAGAATC...      1           0   \n",
       "      4  ATGGGCCATCACCATCACCATCACAGCCATATGGCACATACTACTA...      2           1   \n",
       "      5  ATGGGCCATCACCATCACCATCACAGCCATATGGATAAAGAGAATC...      1           0   \n",
       "      6  ATGGGCCATCACCATCACCATCACAGCCATATGAGTTTGAAGGGGA...      2           1   \n",
       "\n",
       "                                                   Protein  \n",
       "pET15 2  MGHHHHHHSHMIFVTKLNGDGYYLNPYHIESIEANPDTTILLMNGK...  \n",
       "      3  MGHHHHHHSHMDKENPRVGDKYITVQKVGKKIFEAEVEILEYDAPH...  \n",
       "      4  MGHHHHHHSHMAHTTTSMEIFGSPEQVWQLIGGFNSLPDWLPYIPS...  \n",
       "      5  MGHHHHHHSHMDKENPRVGDKYITVQKVGKKIFEAEVEILEYDAPH...  \n",
       "      6  MGHHHHHHSHMSLKGKRIGFGFTGSHCTYEEVMPHLEKLIAEGAEV...  "
      ]
     },
     "execution_count": 21,
     "metadata": {},
     "output_type": "execute_result"
    }
   ],
   "source": [
    "solubility_.head()"
   ]
  },
  {
   "cell_type": "code",
   "execution_count": null,
   "metadata": {},
   "outputs": [],
   "source": []
  },
  {
   "cell_type": "code",
   "execution_count": 22,
   "metadata": {},
   "outputs": [
    {
     "data": {
      "text/plain": [
       "(12216, 5)"
      ]
     },
     "execution_count": 22,
     "metadata": {},
     "output_type": "execute_result"
    }
   ],
   "source": [
    "final_df = solubility_.drop_duplicates(keep=False, inplace=False).copy()\n",
    "final_df.shape"
   ]
  },
  {
   "cell_type": "code",
   "execution_count": 23,
   "metadata": {},
   "outputs": [
    {
     "data": {
      "text/html": [
       "<div>\n",
       "<style scoped>\n",
       "    .dataframe tbody tr th:only-of-type {\n",
       "        vertical-align: middle;\n",
       "    }\n",
       "\n",
       "    .dataframe tbody tr th {\n",
       "        vertical-align: top;\n",
       "    }\n",
       "\n",
       "    .dataframe thead th {\n",
       "        text-align: right;\n",
       "    }\n",
       "</style>\n",
       "<table border=\"1\" class=\"dataframe\">\n",
       "  <thead>\n",
       "    <tr style=\"text-align: right;\">\n",
       "      <th></th>\n",
       "      <th></th>\n",
       "      <th>Accession</th>\n",
       "      <th>Sequence</th>\n",
       "      <th>Class</th>\n",
       "      <th>Solubility</th>\n",
       "      <th>Protein</th>\n",
       "    </tr>\n",
       "  </thead>\n",
       "  <tbody>\n",
       "    <tr>\n",
       "      <th rowspan=\"5\" valign=\"top\">pET15</th>\n",
       "      <th>2</th>\n",
       "      <td>BbCD00584211_pET15</td>\n",
       "      <td>ATGGGCCATCACCATCACCATCACAGCCATATGATTTTTGTAACTA...</td>\n",
       "      <td>2</td>\n",
       "      <td>1</td>\n",
       "      <td>MGHHHHHHSHMIFVTKLNGDGYYLNPYHIESIEANPDTTILLMNGK...</td>\n",
       "    </tr>\n",
       "    <tr>\n",
       "      <th>3</th>\n",
       "      <td>BcCD00331746_pET15</td>\n",
       "      <td>ATGGGCCATCACCATCACCATCACAGCCATATGGATAAAGAGAATC...</td>\n",
       "      <td>1</td>\n",
       "      <td>0</td>\n",
       "      <td>MGHHHHHHSHMDKENPRVGDKYITVQKVGKKIFEAEVEILEYDAPH...</td>\n",
       "    </tr>\n",
       "    <tr>\n",
       "      <th>4</th>\n",
       "      <td>BcCD00331747_pET15</td>\n",
       "      <td>ATGGGCCATCACCATCACCATCACAGCCATATGGCACATACTACTA...</td>\n",
       "      <td>2</td>\n",
       "      <td>1</td>\n",
       "      <td>MGHHHHHHSHMAHTTTSMEIFGSPEQVWQLIGGFNSLPDWLPYIPS...</td>\n",
       "    </tr>\n",
       "    <tr>\n",
       "      <th>5</th>\n",
       "      <td>BcCD00341383_pET15</td>\n",
       "      <td>ATGGGCCATCACCATCACCATCACAGCCATATGGATAAAGAGAATC...</td>\n",
       "      <td>1</td>\n",
       "      <td>0</td>\n",
       "      <td>MGHHHHHHSHMDKENPRVGDKYITVQKVGKKIFEAEVEILEYDAPH...</td>\n",
       "    </tr>\n",
       "    <tr>\n",
       "      <th>6</th>\n",
       "      <td>BcCD00591009_pET15</td>\n",
       "      <td>ATGGGCCATCACCATCACCATCACAGCCATATGAGTTTGAAGGGGA...</td>\n",
       "      <td>2</td>\n",
       "      <td>1</td>\n",
       "      <td>MGHHHHHHSHMSLKGKRIGFGFTGSHCTYEEVMPHLEKLIAEGAEV...</td>\n",
       "    </tr>\n",
       "  </tbody>\n",
       "</table>\n",
       "</div>"
      ],
      "text/plain": [
       "                  Accession  \\\n",
       "pET15 2  BbCD00584211_pET15   \n",
       "      3  BcCD00331746_pET15   \n",
       "      4  BcCD00331747_pET15   \n",
       "      5  BcCD00341383_pET15   \n",
       "      6  BcCD00591009_pET15   \n",
       "\n",
       "                                                  Sequence  Class  Solubility  \\\n",
       "pET15 2  ATGGGCCATCACCATCACCATCACAGCCATATGATTTTTGTAACTA...      2           1   \n",
       "      3  ATGGGCCATCACCATCACCATCACAGCCATATGGATAAAGAGAATC...      1           0   \n",
       "      4  ATGGGCCATCACCATCACCATCACAGCCATATGGCACATACTACTA...      2           1   \n",
       "      5  ATGGGCCATCACCATCACCATCACAGCCATATGGATAAAGAGAATC...      1           0   \n",
       "      6  ATGGGCCATCACCATCACCATCACAGCCATATGAGTTTGAAGGGGA...      2           1   \n",
       "\n",
       "                                                   Protein  \n",
       "pET15 2  MGHHHHHHSHMIFVTKLNGDGYYLNPYHIESIEANPDTTILLMNGK...  \n",
       "      3  MGHHHHHHSHMDKENPRVGDKYITVQKVGKKIFEAEVEILEYDAPH...  \n",
       "      4  MGHHHHHHSHMAHTTTSMEIFGSPEQVWQLIGGFNSLPDWLPYIPS...  \n",
       "      5  MGHHHHHHSHMDKENPRVGDKYITVQKVGKKIFEAEVEILEYDAPH...  \n",
       "      6  MGHHHHHHSHMSLKGKRIGFGFTGSHCTYEEVMPHLEKLIAEGAEV...  "
      ]
     },
     "execution_count": 23,
     "metadata": {},
     "output_type": "execute_result"
    }
   ],
   "source": [
    "final_df.head()"
   ]
  },
  {
   "cell_type": "markdown",
   "metadata": {},
   "source": [
    "## This is the cleaned data for pET"
   ]
  },
  {
   "cell_type": "code",
   "execution_count": 24,
   "metadata": {},
   "outputs": [],
   "source": [
    "final_df.to_pickle(\"results/pET_complete.pkl.gz\", compression='gzip')"
   ]
  },
  {
   "cell_type": "code",
   "execution_count": 16,
   "metadata": {},
   "outputs": [],
   "source": [
    "# reading\n",
    "final_df = pd.read_pickle('results/pET_complete.pkl.gz', compression='infer')"
   ]
  },
  {
   "cell_type": "code",
   "execution_count": 5,
   "metadata": {},
   "outputs": [
    {
     "data": {
      "text/plain": [
       "(3436, 5)"
      ]
     },
     "execution_count": 5,
     "metadata": {},
     "output_type": "execute_result"
    }
   ],
   "source": [
    "# number of pET15\n",
    "final_df.loc['pET15'].shape #4825"
   ]
  },
  {
   "cell_type": "code",
   "execution_count": 7,
   "metadata": {},
   "outputs": [
    {
     "data": {
      "text/plain": [
       "(8780, 5)"
      ]
     },
     "execution_count": 7,
     "metadata": {},
     "output_type": "execute_result"
    }
   ],
   "source": [
    "# number of pET12\n",
    "final_df.loc['pET21'].shape #4825"
   ]
  },
  {
   "cell_type": "code",
   "execution_count": null,
   "metadata": {},
   "outputs": [],
   "source": []
  },
  {
   "cell_type": "code",
   "execution_count": 22,
   "metadata": {},
   "outputs": [],
   "source": [
    "# This is used for protR package\n",
    "new1 = final_df.loc['pET15'].copy()\n",
    "new1['Accession'] = new1['Accession'].apply(lambda x:x.split('_')[0])\n",
    "new1.to_csv('results/pET15_cleaned.csv', index=None)\n",
    "\n",
    "new2 = final_df.loc['pET21'].copy()\n",
    "new2['Accession'] = new2['Accession'].apply(lambda x:x.split('_')[0])\n",
    "new2.to_csv('results/pET21_cleaned.csv', index=None)"
   ]
  },
  {
   "cell_type": "code",
   "execution_count": null,
   "metadata": {},
   "outputs": [],
   "source": []
  },
  {
   "cell_type": "code",
   "execution_count": null,
   "metadata": {},
   "outputs": [],
   "source": []
  },
  {
   "cell_type": "markdown",
   "metadata": {
    "scrolled": true
   },
   "source": [
    "## This will make fasta for clustering "
   ]
  },
  {
   "cell_type": "code",
   "execution_count": 50,
   "metadata": {
    "scrolled": true
   },
   "outputs": [
    {
     "name": "stderr",
     "output_type": "stream",
     "text": [
      "/home/bikash/.local/lib/python3.7/site-packages/ipykernel_launcher.py:7: SettingWithCopyWarning: \n",
      "A value is trying to be set on a copy of a slice from a DataFrame\n",
      "\n",
      "See the caveats in the documentation: http://pandas.pydata.org/pandas-docs/stable/user_guide/indexing.html#returning-a-view-versus-a-copy\n",
      "  import sys\n",
      "/home/bikash/.local/lib/python3.7/site-packages/ipykernel_launcher.py:8: SettingWithCopyWarning: \n",
      "A value is trying to be set on a copy of a slice from a DataFrame\n",
      "\n",
      "See the caveats in the documentation: http://pandas.pydata.org/pandas-docs/stable/user_guide/indexing.html#returning-a-view-versus-a-copy\n",
      "  \n"
     ]
    }
   ],
   "source": [
    "#Fasta for clustering and cross validation\n",
    "\n",
    "final_df = pd.read_pickle('results/pET_complete.pkl.gz', compression='infer')\n",
    "final_df['Accession_fasta'] = '>' + final_df['Accession']\n",
    "# final_df.to_csv('results/pET_full.fa', columns=['Accession_fasta', 'Protein'], index=None, sep='\\n', header=None)\n",
    "\n",
    "final_df['Protein']['pET15'] = final_df['Protein']['pET15'].apply(lambda x:x[10:])\n",
    "final_df['Protein']['pET21'] = final_df['Protein']['pET21'].apply(lambda x:x[:-8])\n",
    "final_df.to_csv('results/pET_full_without_his_tag.fa', columns=['Accession_fasta', 'Protein'],\\\n",
    "                index=None, sep='\\n', header=None)"
   ]
  },
  {
   "cell_type": "code",
   "execution_count": 49,
   "metadata": {
    "scrolled": true
   },
   "outputs": [
    {
     "data": {
      "text/html": [
       "<div>\n",
       "<style scoped>\n",
       "    .dataframe tbody tr th:only-of-type {\n",
       "        vertical-align: middle;\n",
       "    }\n",
       "\n",
       "    .dataframe tbody tr th {\n",
       "        vertical-align: top;\n",
       "    }\n",
       "\n",
       "    .dataframe thead th {\n",
       "        text-align: right;\n",
       "    }\n",
       "</style>\n",
       "<table border=\"1\" class=\"dataframe\">\n",
       "  <thead>\n",
       "    <tr style=\"text-align: right;\">\n",
       "      <th></th>\n",
       "      <th></th>\n",
       "      <th>Accession</th>\n",
       "      <th>Sequence</th>\n",
       "      <th>Class</th>\n",
       "      <th>Solubility</th>\n",
       "      <th>Protein</th>\n",
       "      <th>Accession_fasta</th>\n",
       "    </tr>\n",
       "  </thead>\n",
       "  <tbody>\n",
       "    <tr>\n",
       "      <th rowspan=\"5\" valign=\"top\">pET15</th>\n",
       "      <th>2</th>\n",
       "      <td>BbCD00584211_pET15</td>\n",
       "      <td>ATGGGCCATCACCATCACCATCACAGCCATATGATTTTTGTAACTA...</td>\n",
       "      <td>2</td>\n",
       "      <td>1</td>\n",
       "      <td>MIFVTKLNGDGYYLNPYHIESIEANPDTTILLMNGKKLIVKEKVEE...</td>\n",
       "      <td>&gt;BbCD00584211_pET15</td>\n",
       "    </tr>\n",
       "    <tr>\n",
       "      <th>3</th>\n",
       "      <td>BcCD00331746_pET15</td>\n",
       "      <td>ATGGGCCATCACCATCACCATCACAGCCATATGGATAAAGAGAATC...</td>\n",
       "      <td>1</td>\n",
       "      <td>0</td>\n",
       "      <td>MDKENPRVGDKYITVQKVGKKIFEAEVEILEYDAPHIISLGSEMKQ...</td>\n",
       "      <td>&gt;BcCD00331746_pET15</td>\n",
       "    </tr>\n",
       "    <tr>\n",
       "      <th>4</th>\n",
       "      <td>BcCD00331747_pET15</td>\n",
       "      <td>ATGGGCCATCACCATCACCATCACAGCCATATGGCACATACTACTA...</td>\n",
       "      <td>2</td>\n",
       "      <td>1</td>\n",
       "      <td>MAHTTTSMEIFGSPEQVWQLIGGFNSLPDWLPYIPSSKLTEGGRVR...</td>\n",
       "      <td>&gt;BcCD00331747_pET15</td>\n",
       "    </tr>\n",
       "    <tr>\n",
       "      <th>5</th>\n",
       "      <td>BcCD00341383_pET15</td>\n",
       "      <td>ATGGGCCATCACCATCACCATCACAGCCATATGGATAAAGAGAATC...</td>\n",
       "      <td>1</td>\n",
       "      <td>0</td>\n",
       "      <td>MDKENPRVGDKYITVQKVGKKIFEAEVEILEYDAPHIISLGSEMKQ...</td>\n",
       "      <td>&gt;BcCD00341383_pET15</td>\n",
       "    </tr>\n",
       "    <tr>\n",
       "      <th>6</th>\n",
       "      <td>BcCD00591009_pET15</td>\n",
       "      <td>ATGGGCCATCACCATCACCATCACAGCCATATGAGTTTGAAGGGGA...</td>\n",
       "      <td>2</td>\n",
       "      <td>1</td>\n",
       "      <td>MSLKGKRIGFGFTGSHCTYEEVMPHLEKLIAEGAEVRPVVSYTVQS...</td>\n",
       "      <td>&gt;BcCD00591009_pET15</td>\n",
       "    </tr>\n",
       "  </tbody>\n",
       "</table>\n",
       "</div>"
      ],
      "text/plain": [
       "                  Accession  \\\n",
       "pET15 2  BbCD00584211_pET15   \n",
       "      3  BcCD00331746_pET15   \n",
       "      4  BcCD00331747_pET15   \n",
       "      5  BcCD00341383_pET15   \n",
       "      6  BcCD00591009_pET15   \n",
       "\n",
       "                                                  Sequence  Class  Solubility  \\\n",
       "pET15 2  ATGGGCCATCACCATCACCATCACAGCCATATGATTTTTGTAACTA...      2           1   \n",
       "      3  ATGGGCCATCACCATCACCATCACAGCCATATGGATAAAGAGAATC...      1           0   \n",
       "      4  ATGGGCCATCACCATCACCATCACAGCCATATGGCACATACTACTA...      2           1   \n",
       "      5  ATGGGCCATCACCATCACCATCACAGCCATATGGATAAAGAGAATC...      1           0   \n",
       "      6  ATGGGCCATCACCATCACCATCACAGCCATATGAGTTTGAAGGGGA...      2           1   \n",
       "\n",
       "                                                   Protein  \\\n",
       "pET15 2  MIFVTKLNGDGYYLNPYHIESIEANPDTTILLMNGKKLIVKEKVEE...   \n",
       "      3  MDKENPRVGDKYITVQKVGKKIFEAEVEILEYDAPHIISLGSEMKQ...   \n",
       "      4  MAHTTTSMEIFGSPEQVWQLIGGFNSLPDWLPYIPSSKLTEGGRVR...   \n",
       "      5  MDKENPRVGDKYITVQKVGKKIFEAEVEILEYDAPHIISLGSEMKQ...   \n",
       "      6  MSLKGKRIGFGFTGSHCTYEEVMPHLEKLIAEGAEVRPVVSYTVQS...   \n",
       "\n",
       "             Accession_fasta  \n",
       "pET15 2  >BbCD00584211_pET15  \n",
       "      3  >BcCD00331746_pET15  \n",
       "      4  >BcCD00331747_pET15  \n",
       "      5  >BcCD00341383_pET15  \n",
       "      6  >BcCD00591009_pET15  "
      ]
     },
     "execution_count": 49,
     "metadata": {},
     "output_type": "execute_result"
    }
   ],
   "source": [
    "final_df.head() #remove his tag fro clustering"
   ]
  },
  {
   "cell_type": "code",
   "execution_count": 65,
   "metadata": {
    "scrolled": true
   },
   "outputs": [],
   "source": []
  },
  {
   "cell_type": "markdown",
   "metadata": {
    "scrolled": true
   },
   "source": [
    "## eSOL data"
   ]
  },
  {
   "cell_type": "code",
   "execution_count": 56,
   "metadata": {},
   "outputs": [
    {
     "data": {
      "text/plain": [
       "(3200, 5)"
      ]
     },
     "execution_count": 56,
     "metadata": {},
     "output_type": "execute_result"
    }
   ],
   "source": [
    "#ecoli dataset\n",
    "\n",
    "ecol = functions.fasta_reader('datasets_used/ecoli_W3110.faa')\n",
    "ecol['ECK number'] = ecol['Accession'].apply(lambda x:x.split(' ')[2])\n",
    "ecol['JW'] = ecol['Accession'].apply(lambda x:x.split(' ')[0])\n",
    "\n",
    "#get solubility\n",
    "sol_values = pd.read_csv('datasets_used/all_data_esol.tab', sep='\\t')\n",
    "sol_values.head()\n",
    "sol = sol_values[['ECK number', 'Solubility(%)']]\n",
    "\n",
    "#merge with solubility\n",
    "ecol_merg = ecol.merge(sol, on='ECK number', how='left').dropna()\n",
    "ecol_merg.shape"
   ]
  },
  {
   "cell_type": "code",
   "execution_count": 57,
   "metadata": {},
   "outputs": [
    {
     "name": "stderr",
     "output_type": "stream",
     "text": [
      "/home/bikash/.local/lib/python3.7/site-packages/ipykernel_launcher.py:8: SettingWithCopyWarning: \n",
      "A value is trying to be set on a copy of a slice from a DataFrame.\n",
      "Try using .loc[row_indexer,col_indexer] = value instead\n",
      "\n",
      "See the caveats in the documentation: http://pandas.pydata.org/pandas-docs/stable/user_guide/indexing.html#returning-a-view-versus-a-copy\n",
      "  \n"
     ]
    },
    {
     "data": {
      "text/plain": [
       "(3198, 6)"
      ]
     },
     "execution_count": 57,
     "metadata": {},
     "output_type": "execute_result"
    }
   ],
   "source": [
    "#filter unknown bases\n",
    "ecol_merg['unknown_bases'] = ecol_merg['Sequence'].apply(lambda x: 'X' in x or 'Z' in x or '*' in x )\n",
    "ecoli_w3110 = ecol_merg.loc[ecol_merg['unknown_bases'] == False]\n",
    "\n",
    "#add tags\n",
    "#https://www.pnas.org/content/106/11/4201.long\n",
    "\n",
    "ecoli_w3110['Sequence'] = ecoli_w3110['Sequence'].apply(lambda x: 'MRGSHHHHHHTDPALRA' + x + 'GLCGR')\n",
    "ecoli_w3110 =  ecoli_w3110.dropna()\n",
    "ecoli_w3110.shape"
   ]
  },
  {
   "cell_type": "code",
   "execution_count": 58,
   "metadata": {},
   "outputs": [
    {
     "data": {
      "text/html": [
       "<div>\n",
       "<style scoped>\n",
       "    .dataframe tbody tr th:only-of-type {\n",
       "        vertical-align: middle;\n",
       "    }\n",
       "\n",
       "    .dataframe tbody tr th {\n",
       "        vertical-align: top;\n",
       "    }\n",
       "\n",
       "    .dataframe thead th {\n",
       "        text-align: right;\n",
       "    }\n",
       "</style>\n",
       "<table border=\"1\" class=\"dataframe\">\n",
       "  <thead>\n",
       "    <tr style=\"text-align: right;\">\n",
       "      <th></th>\n",
       "      <th>Accession</th>\n",
       "      <th>Sequence</th>\n",
       "      <th>ECK number</th>\n",
       "      <th>JW</th>\n",
       "      <th>Solubility(%)</th>\n",
       "    </tr>\n",
       "  </thead>\n",
       "  <tbody>\n",
       "    <tr>\n",
       "      <th>2</th>\n",
       "      <td>JW0002 thrB ECK0003</td>\n",
       "      <td>MRGSHHHHHHTDPALRAMVKVYAPASSANMSVGFDVLGAAVTPVDG...</td>\n",
       "      <td>ECK0003</td>\n",
       "      <td>JW0002</td>\n",
       "      <td>32.0</td>\n",
       "    </tr>\n",
       "    <tr>\n",
       "      <th>3</th>\n",
       "      <td>JW0003 thrC ECK0004</td>\n",
       "      <td>MRGSHHHHHHTDPALRAMKLYNLKDHNEQVSFAQAVTQGLGKNQGL...</td>\n",
       "      <td>ECK0004</td>\n",
       "      <td>JW0003</td>\n",
       "      <td>18.0</td>\n",
       "    </tr>\n",
       "    <tr>\n",
       "      <th>4</th>\n",
       "      <td>JW0004 yaaX ECK0005</td>\n",
       "      <td>MRGSHHHHHHTDPALRAMKKMQSIVLALSLVLVAPMAAQAAEITLV...</td>\n",
       "      <td>ECK0005</td>\n",
       "      <td>JW0004</td>\n",
       "      <td>78.0</td>\n",
       "    </tr>\n",
       "    <tr>\n",
       "      <th>5</th>\n",
       "      <td>JW0005 yaaA ECK0006</td>\n",
       "      <td>MRGSHHHHHHTDPALRAMLILISPAKTLDYQSPLTTTRYTLPELLD...</td>\n",
       "      <td>ECK0006</td>\n",
       "      <td>JW0005</td>\n",
       "      <td>7.0</td>\n",
       "    </tr>\n",
       "    <tr>\n",
       "      <th>7</th>\n",
       "      <td>JW0007 talB ECK0008</td>\n",
       "      <td>MRGSHHHHHHTDPALRAMTDKLTSLRQYTTVVADTGDIAAMKLYQP...</td>\n",
       "      <td>ECK0008</td>\n",
       "      <td>JW0007</td>\n",
       "      <td>85.0</td>\n",
       "    </tr>\n",
       "  </tbody>\n",
       "</table>\n",
       "</div>"
      ],
      "text/plain": [
       "             Accession                                           Sequence  \\\n",
       "2  JW0002 thrB ECK0003  MRGSHHHHHHTDPALRAMVKVYAPASSANMSVGFDVLGAAVTPVDG...   \n",
       "3  JW0003 thrC ECK0004  MRGSHHHHHHTDPALRAMKLYNLKDHNEQVSFAQAVTQGLGKNQGL...   \n",
       "4  JW0004 yaaX ECK0005  MRGSHHHHHHTDPALRAMKKMQSIVLALSLVLVAPMAAQAAEITLV...   \n",
       "5  JW0005 yaaA ECK0006  MRGSHHHHHHTDPALRAMLILISPAKTLDYQSPLTTTRYTLPELLD...   \n",
       "7  JW0007 talB ECK0008  MRGSHHHHHHTDPALRAMTDKLTSLRQYTTVVADTGDIAAMKLYQP...   \n",
       "\n",
       "  ECK number      JW  Solubility(%)  \n",
       "2    ECK0003  JW0002           32.0  \n",
       "3    ECK0004  JW0003           18.0  \n",
       "4    ECK0005  JW0004           78.0  \n",
       "5    ECK0006  JW0005            7.0  \n",
       "7    ECK0008  JW0007           85.0  "
      ]
     },
     "execution_count": 58,
     "metadata": {},
     "output_type": "execute_result"
    }
   ],
   "source": [
    "ecoli_w3110 = ecoli_w3110[['Accession', 'Sequence', 'ECK number', 'JW', 'Solubility(%)']].copy()\n",
    "ecoli_w3110.head()"
   ]
  },
  {
   "cell_type": "code",
   "execution_count": 59,
   "metadata": {},
   "outputs": [],
   "source": [
    "ecoli_w3110.to_pickle('results/ecoli.pkl.gz', compression='gzip')"
   ]
  },
  {
   "cell_type": "code",
   "execution_count": null,
   "metadata": {},
   "outputs": [],
   "source": []
  },
  {
   "cell_type": "code",
   "execution_count": null,
   "metadata": {},
   "outputs": [],
   "source": []
  },
  {
   "cell_type": "code",
   "execution_count": null,
   "metadata": {},
   "outputs": [],
   "source": []
  },
  {
   "cell_type": "code",
   "execution_count": null,
   "metadata": {},
   "outputs": [],
   "source": []
  },
  {
   "cell_type": "code",
   "execution_count": null,
   "metadata": {},
   "outputs": [],
   "source": []
  }
 ],
 "metadata": {
  "kernelspec": {
   "display_name": "Python 3",
   "language": "python",
   "name": "python3"
  },
  "language_info": {
   "codemirror_mode": {
    "name": "ipython",
    "version": 3
   },
   "file_extension": ".py",
   "mimetype": "text/x-python",
   "name": "python",
   "nbconvert_exporter": "python",
   "pygments_lexer": "ipython3",
   "version": "3.6.9"
  }
 },
 "nbformat": 4,
 "nbformat_minor": 2
}
