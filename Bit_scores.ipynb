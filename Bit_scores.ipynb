{
 "cells": [
  {
   "cell_type": "code",
   "execution_count": 1,
   "metadata": {},
   "outputs": [],
   "source": [
    "from collections import Counter\n",
    "import pandas as pd\n",
    "import numpy as np\n",
    "import seaborn as sns"
   ]
  },
  {
   "cell_type": "code",
   "execution_count": null,
   "metadata": {},
   "outputs": [],
   "source": []
  },
  {
   "cell_type": "code",
   "execution_count": null,
   "metadata": {},
   "outputs": [],
   "source": []
  },
  {
   "cell_type": "code",
   "execution_count": 2,
   "metadata": {},
   "outputs": [],
   "source": [
    "pET = pd.read_pickle('results/pET_complete.pkl.gz')\n",
    "eSOL = pd.read_pickle('results/ecoli.pkl.gz')"
   ]
  },
  {
   "cell_type": "code",
   "execution_count": 3,
   "metadata": {},
   "outputs": [],
   "source": [
    "pET_insol = pET.loc[pET['Solubility'] == 0]\n",
    "pET_sol = pET.loc[pET['Solubility'] == 1]"
   ]
  },
  {
   "cell_type": "code",
   "execution_count": 5,
   "metadata": {},
   "outputs": [
    {
     "data": {
      "text/plain": [
       "((3978, 19), (8238, 19), (3198, 19))"
      ]
     },
     "execution_count": 5,
     "metadata": {},
     "output_type": "execute_result"
    }
   ],
   "source": [
    "pET_insol.shape, pET_sol.shape, eSOL.shape\n"
   ]
  },
  {
   "cell_type": "code",
   "execution_count": 7,
   "metadata": {},
   "outputs": [],
   "source": [
    "d1 = Counter(pET_sol['Protein'].str.cat())\n",
    "pET_sol_count = pd.DataFrame.from_dict(d1, orient='index')\n",
    "\n",
    "\n",
    "d2 = Counter(pET_insol['Protein'].str.cat())\n",
    "pET_insol_count = pd.DataFrame.from_dict(d2, orient='index')\n",
    "\n",
    "\n",
    "d3 = Counter(eSOL['Sequence'].str.cat())\n",
    "eSOL_count = pd.DataFrame.from_dict(d3, orient='index')\n",
    "\n",
    "\n",
    "\n",
    "#normalise\n",
    "pET_sol_count[0] = pET_sol_count[0]/pET_sol_count[0].sum()\n",
    "pET_insol_count[0] = pET_insol_count[0]/pET_insol_count[0].sum()\n",
    "eSOL_count[0] = eSOL_count[0]/eSOL_count[0].sum()\n",
    "\n",
    "sol_dic_log = {}\n",
    "insol_dic_log = {}\n",
    "\n",
    "    \n",
    "for k, v in enumerate(pET_sol_count.index):\n",
    "    sol_dic_log[v] = np.log2(pET_sol_count.loc[v]/eSOL_count.loc[v])\n",
    "    \n",
    "    \n",
    "for k, v in enumerate(pET_insol_count.index):\n",
    "    insol_dic_log[v] = np.log2(pET_insol_count.loc[v]/eSOL_count.loc[v])\n",
    "\n",
    "insol_dic_log_df = pd.DataFrame.from_dict(insol_dic_log, orient='index').sort_values(0)\n",
    "insol_dic_log_df = insol_dic_log_df.rename(columns={0:'Insoluble'})\n",
    "\n",
    "sol_dic_log_df = pd.DataFrame.from_dict(sol_dic_log, orient='index').sort_values(0)\n",
    "sol_dic_log_df = sol_dic_log_df.rename(columns={0:'Soluble'})"
   ]
  },
  {
   "cell_type": "code",
   "execution_count": 9,
   "metadata": {},
   "outputs": [
    {
     "data": {
      "image/png": "[encoded data removed]",
      "text/plain": [
       "<Figure size 432x288 with 1 Axes>"
      ]
     },
     "metadata": {
      "needs_background": "light"
     },
     "output_type": "display_data"
    }
   ],
   "source": [
    "ax1 = pd.merge(sol_dic_log_df.reset_index(), insol_dic_log_df.reset_index(), on=\"index\").plot.bar()\n",
    "ax1.set_xticklabels(sol_dic_log_df.reset_index()['index'])\n",
    "ax1.set(ylabel='log2(f_(pET)/f_(ecoli))', xlabel='Amino acids')\n",
    "ax1.get_figure().savefig('figs/Aa_comparsion_ecoli_pET_log.pdf')"
   ]
  },
  {
   "cell_type": "code",
   "execution_count": null,
   "metadata": {},
   "outputs": [],
   "source": []
  },
  {
   "cell_type": "code",
   "execution_count": null,
   "metadata": {},
   "outputs": [],
   "source": []
  },
  {
   "cell_type": "code",
   "execution_count": null,
   "metadata": {},
   "outputs": [],
   "source": []
  },
  {
   "cell_type": "code",
   "execution_count": null,
   "metadata": {},
   "outputs": [],
   "source": []
  },
  {
   "cell_type": "markdown",
   "metadata": {},
   "source": [
    "## Correlation between frequency of AA and weights"
   ]
  },
  {
   "cell_type": "code",
   "execution_count": 10,
   "metadata": {},
   "outputs": [
    {
     "data": {
      "text/plain": [
       "[0.076148717473501,\n",
       " 0.012989538850126933,\n",
       " 0.07023778870169442,\n",
       " 0.056602142629268146,\n",
       " 0.06812512064147752,\n",
       " 0.03767127427068449,\n",
       " 0.05529893996660314,\n",
       " 0.051231101638453194,\n",
       " 0.05626297296495454,\n",
       " 0.025246529829166173,\n",
       " 0.09516859039842179,\n",
       " 0.03802985645358192,\n",
       " 0.03834009047698756,\n",
       " 0.042873096703278185,\n",
       " 0.058956917760879524,\n",
       " 0.05630655956328426,\n",
       " 0.05083369441838812,\n",
       " 0.011847130445165678,\n",
       " 0.06581503093000249,\n",
       " 0.032014905884080895]"
      ]
     },
     "execution_count": 10,
     "metadata": {},
     "output_type": "execute_result"
    }
   ],
   "source": [
    "#AA count in all pET sequences\n",
    "\n",
    "d0 = Counter(pET['Protein'].str.cat())\n",
    "pET_count = pd.DataFrame.from_dict(d0, orient='index')\n",
    "\n",
    "pET_count[0] = pET_count[0]/pET_count[0].sum()\n",
    "pET_count\n",
    "\n",
    "flexibilities_smith = {'A': 0.717, 'C': 0.668, 'E': 0.963, 'D': 0.921,\\\n",
    "                         'G': 0.843, 'F': 0.599, 'I': 0.632, 'H': 0.754, \\\n",
    "                         'K': 0.912, 'M': 0.685, 'L': 0.681, 'N': 0.851,\\\n",
    "                         'Q': 0.849, 'P': 0.85, 'S': 0.84, 'R': 0.814, 'T': 0.758, \\\n",
    "                         'W': 0.626, 'V': 0.619, 'Y': 0.615}\n",
    "\n",
    "freq_ = []\n",
    "for i, v in flexibilities_smith.items():\n",
    "    freq_.append(pET_count.loc[i, 0])\n",
    "freq_"
   ]
  },
  {
   "cell_type": "code",
   "execution_count": 11,
   "metadata": {},
   "outputs": [
    {
     "data": {
      "text/plain": [
       "SpearmanrResult(correlation=0.4917293233082706, pvalue=0.027658227513046127)"
      ]
     },
     "execution_count": 11,
     "metadata": {},
     "output_type": "execute_result"
    }
   ],
   "source": [
    "##Correlation between weights and frequencey of AA\n",
    "\n",
    "from scipy.stats import spearmanr\n",
    "\n",
    "spearmanr([0.83613724, 0.52050857, 0.98795637, 0.90776747, 0.79960031,\n",
    "       0.58431386, 0.67843693, 0.89580359, 0.92686797, 0.6323512 ,\n",
    "       0.65434161, 0.85931181, 0.78985973, 0.82143627, 0.74345961,\n",
    "       0.77080031, 0.80957536, 0.6383807 , 0.73553137, 0.61113598], \\\n",
    "          freq_)"
   ]
  },
  {
   "cell_type": "markdown",
   "metadata": {},
   "source": [
    "### The correlation between our weights and frequency of amino acids is statistically insignificant."
   ]
  },
  {
   "cell_type": "code",
   "execution_count": null,
   "metadata": {},
   "outputs": [],
   "source": []
  },
  {
   "cell_type": "code",
   "execution_count": null,
   "metadata": {},
   "outputs": [],
   "source": []
  },
  {
   "cell_type": "code",
   "execution_count": null,
   "metadata": {},
   "outputs": [],
   "source": []
  }
 ],
 "metadata": {
  "kernelspec": {
   "display_name": "Python 3",
   "language": "python",
   "name": "python3"
  },
  "language_info": {
   "codemirror_mode": {
    "name": "ipython",
    "version": 3
   },
   "file_extension": ".py",
   "mimetype": "text/x-python",
   "name": "python",
   "nbconvert_exporter": "python",
   "pygments_lexer": "ipython3",
   "version": "3.6.9"
  }
 },
 "nbformat": 4,
 "nbformat_minor": 2
}
