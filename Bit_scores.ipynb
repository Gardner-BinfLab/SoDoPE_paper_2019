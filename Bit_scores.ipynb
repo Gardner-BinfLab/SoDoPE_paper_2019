{
 "cells": [
  {
   "cell_type": "code",
   "execution_count": 84,
   "metadata": {},
   "outputs": [],
   "source": [
    "from collections import Counter\n",
    "import pandas as pd\n",
    "import numpy as np\n",
    "import seaborn as sns\n",
    "import matplotlib.pyplot as plt"
   ]
  },
  {
   "cell_type": "code",
   "execution_count": null,
   "metadata": {},
   "outputs": [],
   "source": []
  },
  {
   "cell_type": "code",
   "execution_count": 2,
   "metadata": {},
   "outputs": [],
   "source": [
    "#run random_sequences.ipynb first\n",
    "#random sequences\n",
    "\n",
    "rnd = pd.read_pickle('results/random_seq.pkl.gz')"
   ]
  },
  {
   "cell_type": "code",
   "execution_count": 3,
   "metadata": {},
   "outputs": [],
   "source": [
    "pET = pd.read_pickle('results/pET_all_analysis.pkl.gz')\n",
    "eSOL = pd.read_pickle('results/ecoli_all_analysis.pkl.gz')"
   ]
  },
  {
   "cell_type": "code",
   "execution_count": 4,
   "metadata": {},
   "outputs": [],
   "source": [
    "pET_insol = pET.loc[pET['Solubility'] == 0]\n",
    "pET_sol = pET.loc[pET['Solubility'] == 1]"
   ]
  },
  {
   "cell_type": "code",
   "execution_count": 5,
   "metadata": {},
   "outputs": [
    {
     "data": {
      "text/plain": [
       "((3978, 19), (8238, 19), (3198, 19), (11900, 1))"
      ]
     },
     "execution_count": 5,
     "metadata": {},
     "output_type": "execute_result"
    }
   ],
   "source": [
    "pET_insol.shape, pET_sol.shape, eSOL.shape, rnd.shape\n"
   ]
  },
  {
   "cell_type": "code",
   "execution_count": 6,
   "metadata": {},
   "outputs": [],
   "source": [
    "d1 = Counter(pET_sol['Protein'].str.cat())\n",
    "pET_sol_count = pd.DataFrame.from_dict(d1, orient='index')\n",
    "\n",
    "\n",
    "d2 = Counter(pET_insol['Protein'].str.cat())\n",
    "pET_insol_count = pd.DataFrame.from_dict(d2, orient='index')\n",
    "\n",
    "\n",
    "d3 = Counter(eSOL['Sequence'].str.cat())\n",
    "eSOL_count = pd.DataFrame.from_dict(d3, orient='index')\n",
    "\n",
    "d4 = Counter(rnd['Protein'].str.cat())\n",
    "rnd_count = pd.DataFrame.from_dict(d4, orient='index')\n",
    "\n",
    "\n",
    "#normalise\n",
    "pET_sol_count[0] = pET_sol_count[0]/pET_sol_count[0].sum()\n",
    "pET_insol_count[0] = pET_insol_count[0]/pET_insol_count[0].sum()\n",
    "eSOL_count[0] = eSOL_count[0]/eSOL_count[0].sum()\n",
    "rnd_count[0] = rnd_count[0]/rnd_count[0].sum()\n",
    "\n",
    "sol_dic_log = {}\n",
    "insol_dic_log = {}\n",
    "\n",
    "\n",
    "for k, v in enumerate(pET_sol_count.index):\n",
    "    sol_dic_log[v] = np.log2(pET_sol_count.loc[v]/eSOL_count.loc[v])\n",
    "    \n",
    "    \n",
    "for k, v in enumerate(pET_insol_count.index):\n",
    "    insol_dic_log[v] = np.log2(pET_insol_count.loc[v]/eSOL_count.loc[v])\n",
    "\n",
    "insol_dic_log_df = pd.DataFrame.from_dict(insol_dic_log, orient='index').sort_values(0)\n",
    "insol_dic_log_df = insol_dic_log_df.rename(columns={0:'Insoluble'})\n",
    "\n",
    "sol_dic_log_df = pd.DataFrame.from_dict(sol_dic_log, orient='index').sort_values(0)\n",
    "sol_dic_log_df = sol_dic_log_df.rename(columns={0:'Soluble'})"
   ]
  },
  {
   "cell_type": "code",
   "execution_count": 7,
   "metadata": {},
   "outputs": [
    {
     "data": {
      "image/png": "[encoded data removed]",
      "text/plain": [
       "<Figure size 432x288 with 1 Axes>"
      ]
     },
     "metadata": {
      "needs_background": "light"
     },
     "output_type": "display_data"
    }
   ],
   "source": [
    "ax1 = pd.merge(sol_dic_log_df.reset_index(), insol_dic_log_df.reset_index(), on=\"index\").plot.bar()\n",
    "ax1.set_xticklabels(sol_dic_log_df.reset_index()['index'])\n",
    "ax1.set(ylabel='log2(f_(pET)/f_(ecoli))', xlabel='Amino acids')\n",
    "ax1.get_figure().savefig('figs/Aa_comparsion_ecoli_pET_log.pdf')"
   ]
  },
  {
   "cell_type": "code",
   "execution_count": null,
   "metadata": {},
   "outputs": [],
   "source": []
  },
  {
   "cell_type": "code",
   "execution_count": null,
   "metadata": {},
   "outputs": [],
   "source": []
  },
  {
   "cell_type": "code",
   "execution_count": null,
   "metadata": {},
   "outputs": [],
   "source": []
  },
  {
   "cell_type": "code",
   "execution_count": null,
   "metadata": {},
   "outputs": [],
   "source": []
  },
  {
   "cell_type": "code",
   "execution_count": 54,
   "metadata": {
    "scrolled": true
   },
   "outputs": [],
   "source": [
    "#AA count in all pET and eSOL sequences\n",
    "\n",
    "d0 = Counter(pET['Protein'].str.cat())\n",
    "pET_count = pd.DataFrame.from_dict(d0, orient='index')\n",
    "pET_count[0] = pET_count[0]/pET_count[0].sum()\n",
    "\n",
    "d01 = Counter(eSOL['Sequence'].str.cat())\n",
    "eSOL_count = pd.DataFrame.from_dict(d01, orient='index')\n",
    "eSOL_count[0] = eSOL_count[0]/eSOL_count[0].sum()\n",
    "\n",
    "\n",
    "merged_df_counts = pd.merge(eSOL_count, pET_count, left_index=True,right_index=True)\n",
    "merged_df_counts.rename(columns={'0_x':'eSOL normalised count', '0_y':'pET normalised count'}, inplace=True)"
   ]
  },
  {
   "cell_type": "code",
   "execution_count": 56,
   "metadata": {},
   "outputs": [
    {
     "data": {
      "text/plain": [
       "Text(0, 0.5, 'eSOL normalised count - pET normalised count')"
      ]
     },
     "execution_count": 56,
     "metadata": {},
     "output_type": "execute_result"
    },
    {
     "data": {
      "image/png": "[encoded data removed]",
      "text/plain": [
       "<Figure size 432x288 with 1 Axes>"
      ]
     },
     "metadata": {
      "needs_background": "light"
     },
     "output_type": "display_data"
    }
   ],
   "source": [
    "\n",
    "merged_df_counts['Delta'] = merged_df_counts['eSOL normalised count'] - merged_df_counts['pET normalised count']\n",
    "\n",
    "ax = merged_df_counts['Delta'].sort_values(ascending=False).plot(kind='bar')\n",
    "ax.set_xticklabels(merged_df_counts.sort_values(by=\"Delta\", ascending=False).index)\n",
    "ax.set_xlabel(\"Residue\")\n",
    "ax.set_ylabel(\"eSOL normalised count - pET normalised count\")"
   ]
  },
  {
   "cell_type": "code",
   "execution_count": 58,
   "metadata": {},
   "outputs": [
    {
     "data": {
      "text/html": [
       "<div>\n",
       "<style scoped>\n",
       "    .dataframe tbody tr th:only-of-type {\n",
       "        vertical-align: middle;\n",
       "    }\n",
       "\n",
       "    .dataframe tbody tr th {\n",
       "        vertical-align: top;\n",
       "    }\n",
       "\n",
       "    .dataframe thead th {\n",
       "        text-align: right;\n",
       "    }\n",
       "</style>\n",
       "<table border=\"1\" class=\"dataframe\">\n",
       "  <thead>\n",
       "    <tr style=\"text-align: right;\">\n",
       "      <th></th>\n",
       "      <th>eSOL normalised count</th>\n",
       "      <th>pET normalised count</th>\n",
       "      <th>Delta</th>\n",
       "    </tr>\n",
       "  </thead>\n",
       "  <tbody>\n",
       "    <tr>\n",
       "      <th>A</th>\n",
       "      <td>0.094465</td>\n",
       "      <td>0.076149</td>\n",
       "      <td>0.018316</td>\n",
       "    </tr>\n",
       "    <tr>\n",
       "      <th>G</th>\n",
       "      <td>0.076750</td>\n",
       "      <td>0.068125</td>\n",
       "      <td>0.008625</td>\n",
       "    </tr>\n",
       "    <tr>\n",
       "      <th>L</th>\n",
       "      <td>0.101891</td>\n",
       "      <td>0.095169</td>\n",
       "      <td>0.006722</td>\n",
       "    </tr>\n",
       "    <tr>\n",
       "      <th>R</th>\n",
       "      <td>0.061944</td>\n",
       "      <td>0.056307</td>\n",
       "      <td>0.005637</td>\n",
       "    </tr>\n",
       "    <tr>\n",
       "      <th>Q</th>\n",
       "      <td>0.043463</td>\n",
       "      <td>0.038340</td>\n",
       "      <td>0.005123</td>\n",
       "    </tr>\n",
       "    <tr>\n",
       "      <th>M</th>\n",
       "      <td>0.028535</td>\n",
       "      <td>0.025247</td>\n",
       "      <td>0.003288</td>\n",
       "    </tr>\n",
       "    <tr>\n",
       "      <th>T</th>\n",
       "      <td>0.053178</td>\n",
       "      <td>0.050834</td>\n",
       "      <td>0.002345</td>\n",
       "    </tr>\n",
       "    <tr>\n",
       "      <th>P</th>\n",
       "      <td>0.044812</td>\n",
       "      <td>0.042873</td>\n",
       "      <td>0.001939</td>\n",
       "    </tr>\n",
       "    <tr>\n",
       "      <th>W</th>\n",
       "      <td>0.013210</td>\n",
       "      <td>0.011847</td>\n",
       "      <td>0.001363</td>\n",
       "    </tr>\n",
       "    <tr>\n",
       "      <th>C</th>\n",
       "      <td>0.014077</td>\n",
       "      <td>0.012990</td>\n",
       "      <td>0.001087</td>\n",
       "    </tr>\n",
       "    <tr>\n",
       "      <th>N</th>\n",
       "      <td>0.037929</td>\n",
       "      <td>0.038030</td>\n",
       "      <td>-0.000100</td>\n",
       "    </tr>\n",
       "    <tr>\n",
       "      <th>V</th>\n",
       "      <td>0.064703</td>\n",
       "      <td>0.065815</td>\n",
       "      <td>-0.001112</td>\n",
       "    </tr>\n",
       "    <tr>\n",
       "      <th>I</th>\n",
       "      <td>0.053962</td>\n",
       "      <td>0.055299</td>\n",
       "      <td>-0.001337</td>\n",
       "    </tr>\n",
       "    <tr>\n",
       "      <th>D</th>\n",
       "      <td>0.054498</td>\n",
       "      <td>0.056602</td>\n",
       "      <td>-0.002104</td>\n",
       "    </tr>\n",
       "    <tr>\n",
       "      <th>S</th>\n",
       "      <td>0.056034</td>\n",
       "      <td>0.058957</td>\n",
       "      <td>-0.002923</td>\n",
       "    </tr>\n",
       "    <tr>\n",
       "      <th>F</th>\n",
       "      <td>0.033638</td>\n",
       "      <td>0.037671</td>\n",
       "      <td>-0.004033</td>\n",
       "    </tr>\n",
       "    <tr>\n",
       "      <th>Y</th>\n",
       "      <td>0.026324</td>\n",
       "      <td>0.032015</td>\n",
       "      <td>-0.005691</td>\n",
       "    </tr>\n",
       "    <tr>\n",
       "      <th>H</th>\n",
       "      <td>0.040355</td>\n",
       "      <td>0.051231</td>\n",
       "      <td>-0.010877</td>\n",
       "    </tr>\n",
       "    <tr>\n",
       "      <th>E</th>\n",
       "      <td>0.057447</td>\n",
       "      <td>0.070238</td>\n",
       "      <td>-0.012791</td>\n",
       "    </tr>\n",
       "    <tr>\n",
       "      <th>K</th>\n",
       "      <td>0.042784</td>\n",
       "      <td>0.056263</td>\n",
       "      <td>-0.013479</td>\n",
       "    </tr>\n",
       "  </tbody>\n",
       "</table>\n",
       "</div>"
      ],
      "text/plain": [
       "   eSOL normalised count  pET normalised count     Delta\n",
       "A               0.094465              0.076149  0.018316\n",
       "G               0.076750              0.068125  0.008625\n",
       "L               0.101891              0.095169  0.006722\n",
       "R               0.061944              0.056307  0.005637\n",
       "Q               0.043463              0.038340  0.005123\n",
       "M               0.028535              0.025247  0.003288\n",
       "T               0.053178              0.050834  0.002345\n",
       "P               0.044812              0.042873  0.001939\n",
       "W               0.013210              0.011847  0.001363\n",
       "C               0.014077              0.012990  0.001087\n",
       "N               0.037929              0.038030 -0.000100\n",
       "V               0.064703              0.065815 -0.001112\n",
       "I               0.053962              0.055299 -0.001337\n",
       "D               0.054498              0.056602 -0.002104\n",
       "S               0.056034              0.058957 -0.002923\n",
       "F               0.033638              0.037671 -0.004033\n",
       "Y               0.026324              0.032015 -0.005691\n",
       "H               0.040355              0.051231 -0.010877\n",
       "E               0.057447              0.070238 -0.012791\n",
       "K               0.042784              0.056263 -0.013479"
      ]
     },
     "execution_count": 58,
     "metadata": {},
     "output_type": "execute_result"
    }
   ],
   "source": [
    "merged_df_counts.sort_values(by=\"Delta\", ascending=False)"
   ]
  },
  {
   "cell_type": "code",
   "execution_count": 65,
   "metadata": {},
   "outputs": [
    {
     "data": {
      "text/plain": [
       "SpearmanrResult(correlation=0.4917293233082706, pvalue=0.027658227513046127)"
      ]
     },
     "execution_count": 65,
     "metadata": {},
     "output_type": "execute_result"
    }
   ],
   "source": [
    "##Correlation between weights and frequency of AA in pET\n",
    "\n",
    "from scipy.stats import spearmanr\n",
    "\n",
    "flexibilities_smith = {'A': 0.717, 'C': 0.668, 'E': 0.963, 'D': 0.921,\\\n",
    "                         'G': 0.843, 'F': 0.599, 'I': 0.632, 'H': 0.754, \\\n",
    "                         'K': 0.912, 'M': 0.685, 'L': 0.681, 'N': 0.851,\\\n",
    "                         'Q': 0.849, 'P': 0.85, 'S': 0.84, 'R': 0.814, 'T': 0.758, \\\n",
    "                         'W': 0.626, 'V': 0.619, 'Y': 0.615}\n",
    "\n",
    "freq_ = []\n",
    "for i, v in flexibilities_smith.items():\n",
    "    freq_.append(pET_count.loc[i, 0])\n",
    "\n",
    "    \n",
    "weights_from_optimisation_on_pET = [0.8356471476582918,\n",
    " 0.5208088354857734,\n",
    " 0.9876987431418378,\n",
    " 0.9079044671339564,\n",
    " 0.7997168496420723,\n",
    " 0.5849790194237692,\n",
    " 0.6784124413866582,\n",
    " 0.8947913996466419,\n",
    " 0.9267104557513497,\n",
    " 0.6296623675420369,\n",
    " 0.6554221515081433,\n",
    " 0.8597433107431216,\n",
    " 0.789434648348208,\n",
    " 0.8235328714705341,\n",
    " 0.7440908318492778,\n",
    " 0.7712466317693457,\n",
    " 0.8096922697856334,\n",
    " 0.6374678690957594,\n",
    " 0.7357837119163659,\n",
    " 0.6112801822947587]\n",
    "\n",
    "spearmanr(weights_from_optimisation_on_pET, freq_)"
   ]
  },
  {
   "cell_type": "code",
   "execution_count": 64,
   "metadata": {},
   "outputs": [
    {
     "data": {
      "text/plain": [
       "SpearmanrResult(correlation=0.26766917293233083, pvalue=0.2538915426582106)"
      ]
     },
     "execution_count": 64,
     "metadata": {},
     "output_type": "execute_result"
    }
   ],
   "source": [
    "#Correlation between eSOl weights and frequency\n",
    "freq_esol = []\n",
    "for i, v in flexibilities_smith.items():\n",
    "    freq_esol.append(eSOL_count.loc[i, 0])\n",
    "freq_esol\n",
    "\n",
    "weights_from_optimisation_on_eSOL = [0.7753128 , 0.75267699, 0.96855732, 0.99198437, 0.79871142,\n",
    "       0.58665948, 0.65250384, 0.95981116, 0.88626844, 0.69924406,\n",
    "       0.68868975, 0.79789734, 0.77431079, 0.83904596, 0.7736663 ,\n",
    "       0.6864538 , 0.79759916, 0.51460814, 0.73007091, 0.53931017]\n",
    "\n",
    "spearmanr(weights_from_optimisation_on_eSOL, freq_esol)"
   ]
  },
  {
   "cell_type": "code",
   "execution_count": null,
   "metadata": {},
   "outputs": [],
   "source": []
  },
  {
   "cell_type": "code",
   "execution_count": 61,
   "metadata": {},
   "outputs": [],
   "source": [
    "## optimised weights have no statistically significant correlation with amino acid frequency"
   ]
  },
  {
   "cell_type": "code",
   "execution_count": 98,
   "metadata": {},
   "outputs": [
    {
     "data": {
      "image/png": "[encoded data removed]",
      "text/plain": [
       "<Figure size 288x288 with 1 Axes>"
      ]
     },
     "metadata": {
      "needs_background": "light"
     },
     "output_type": "display_data"
    }
   ],
   "source": [
    "plt.figure(figsize=(4, 4))\n",
    "ax = sns.scatterplot(freq_, [v for k, v in flexibilities_smith.items()],\\\n",
    "                     hue=weights_from_optimisation_on_pET, label=\"Optimised weights from pET\")\n",
    "plt.legend(bbox_to_anchor=(1.05, 1), loc=2, borderaxespad=0.)\n",
    "ax.set_xlabel('Normalised frequency in pET')\n",
    "ax.set_ylabel('Flexibility (Smith et al.)')\n",
    "for i, v in enumerate([k for k, v in flexibilities_smith.items()]):\n",
    "    ax.annotate(' ' +v, [freq_[i], [v for k, v in flexibilities_smith.items()][i]])"
   ]
  },
  {
   "cell_type": "code",
   "execution_count": null,
   "metadata": {},
   "outputs": [],
   "source": []
  },
  {
   "cell_type": "code",
   "execution_count": 99,
   "metadata": {},
   "outputs": [
    {
     "data": {
      "image/png": "[encoded data removed]",
      "text/plain": [
       "<Figure size 288x288 with 1 Axes>"
      ]
     },
     "metadata": {
      "needs_background": "light"
     },
     "output_type": "display_data"
    }
   ],
   "source": [
    "plt.figure(figsize=(4, 4))\n",
    "ax = sns.scatterplot(freq_esol, [v for k, v in flexibilities_smith.items()],\\\n",
    "                     hue=weights_from_optimisation_on_eSOL, label=\"Optimised weights from eSOL\")\n",
    "plt.legend(bbox_to_anchor=(1.05, 1), loc=2, borderaxespad=0.)\n",
    "ax.set_xlabel('Normalised frequency in eSOL')\n",
    "ax.set_ylabel('Flexibility (Smith et al.)')\n",
    "for i, v in enumerate([k for k, v in flexibilities_smith.items()]):\n",
    "    ax.annotate(' ' +v, [freq_esol[i], [v for k, v in flexibilities_smith.items()][i]])"
   ]
  },
  {
   "cell_type": "code",
   "execution_count": null,
   "metadata": {},
   "outputs": [],
   "source": []
  }
 ],
 "metadata": {
  "kernelspec": {
   "display_name": "Python 3",
   "language": "python",
   "name": "python3"
  },
  "language_info": {
   "codemirror_mode": {
    "name": "ipython",
    "version": 3
   },
   "file_extension": ".py",
   "mimetype": "text/x-python",
   "name": "python",
   "nbconvert_exporter": "python",
   "pygments_lexer": "ipython3",
   "version": "3.7.3"
  }
 },
 "nbformat": 4,
 "nbformat_minor": 2
}
