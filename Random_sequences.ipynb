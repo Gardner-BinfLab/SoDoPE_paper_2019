{
 "cells": [
  {
   "cell_type": "code",
   "execution_count": 2,
   "metadata": {},
   "outputs": [],
   "source": [
    "import pandas as pd\n",
    "import numpy as np\n",
    "import functions"
   ]
  },
  {
   "cell_type": "code",
   "execution_count": 4,
   "metadata": {},
   "outputs": [
    {
     "data": {
      "text/html": [
       "<div>\n",
       "<style scoped>\n",
       "    .dataframe tbody tr th:only-of-type {\n",
       "        vertical-align: middle;\n",
       "    }\n",
       "\n",
       "    .dataframe tbody tr th {\n",
       "        vertical-align: top;\n",
       "    }\n",
       "\n",
       "    .dataframe thead th {\n",
       "        text-align: right;\n",
       "    }\n",
       "</style>\n",
       "<table border=\"1\" class=\"dataframe\">\n",
       "  <thead>\n",
       "    <tr style=\"text-align: right;\">\n",
       "      <th></th>\n",
       "      <th>Protein</th>\n",
       "    </tr>\n",
       "  </thead>\n",
       "  <tbody>\n",
       "    <tr>\n",
       "      <th>0</th>\n",
       "      <td>MTANPCGIFIPFEHRGSDINWLMAIYERMDYYEQADELTSYAANHY...</td>\n",
       "    </tr>\n",
       "    <tr>\n",
       "      <th>1</th>\n",
       "      <td>MFAMFTMFSFGDILLICPHTKPFVNDHDEWDPKIPFFWCWDEDMCD...</td>\n",
       "    </tr>\n",
       "    <tr>\n",
       "      <th>2</th>\n",
       "      <td>MNPAFLNDDCDCFWTNTSLPRQHGHHHENSLACVFVIRAIWMWMLL...</td>\n",
       "    </tr>\n",
       "    <tr>\n",
       "      <th>3</th>\n",
       "      <td>MFTQMFVNDIMPDNISQTLVRTDQAFFAHMQPKKPCNNKSSVTEIC...</td>\n",
       "    </tr>\n",
       "    <tr>\n",
       "      <th>4</th>\n",
       "      <td>MRFERCAHWMIMGPTIDVCVNWHHQVHHKYSDFKYKCNPQPYQEEP...</td>\n",
       "    </tr>\n",
       "  </tbody>\n",
       "</table>\n",
       "</div>"
      ],
      "text/plain": [
       "                                             Protein\n",
       "0  MTANPCGIFIPFEHRGSDINWLMAIYERMDYYEQADELTSYAANHY...\n",
       "1  MFAMFTMFSFGDILLICPHTKPFVNDHDEWDPKIPFFWCWDEDMCD...\n",
       "2  MNPAFLNDDCDCFWTNTSLPRQHGHHHENSLACVFVIRAIWMWMLL...\n",
       "3  MFTQMFVNDIMPDNISQTLVRTDQAFFAHMQPKKPCNNKSSVTEIC...\n",
       "4  MRFERCAHWMIMGPTIDVCVNWHHQVHHKYSDFKYKCNPQPYQEEP..."
      ]
     },
     "execution_count": 4,
     "metadata": {},
     "output_type": "execute_result"
    }
   ],
   "source": [
    "#Solubility weighted index\n",
    "weights = {'A': 0.8356956599678218,\n",
    " 'C': 0.5219207324456876,\n",
    " 'E': 0.9868660417547442,\n",
    " 'D': 0.9075983546378998,\n",
    " 'G': 0.8003827946673535,\n",
    " 'F': 0.5821934635876957,\n",
    " 'I': 0.6790449304566072,\n",
    " 'H': 0.8963977585570367,\n",
    " 'K': 0.9259165090012061,\n",
    " 'M': 0.6299964100098959,\n",
    " 'L': 0.6546922237065839,\n",
    " 'N': 0.8604957042204235,\n",
    " 'Q': 0.7895650031998229,\n",
    " 'P': 0.822104415564934,\n",
    " 'S': 0.7442464390120463,\n",
    " 'R': 0.771055152304471,\n",
    " 'T': 0.8098670971949234,\n",
    " 'W': 0.6386931894494416,\n",
    " 'V': 0.7344952876686051,\n",
    " 'Y': 0.6125581495225544}\n",
    "\n",
    "\n",
    "#random seq\n",
    "def random_seq(length=800, rand=123456):\n",
    "    '''\n",
    "    Generate random protein sequences of given length.\n",
    "    '''\n",
    "    rand_state = np.random.RandomState(rand)\n",
    "    aa = [k for k, v in weights.items()]\n",
    "    prot = 'M' + ''.join(rand_state.choice(aa, length-1))\n",
    "    return prot\n",
    "\n",
    "\n",
    "\n",
    "rand_df = []\n",
    "for i in [x for x in range(50, 6050, 50)]:\n",
    "    r = pd.DataFrame()\n",
    "    r['Protein'] = [random_seq(length=i, rand=i+_) for _ in range(100)]\n",
    "    r = r.explode('Protein').copy()\n",
    "#     r['Protein'] = 'M' + r['Protein']\n",
    "    rand_df.append(r)\n",
    "rnd = pd.concat(rand_df)\n",
    "rnd.reset_index(drop=True, inplace=True)\n",
    "rnd.to_pickle('results/random_seq.pkl.gz')\n",
    "rnd.head()"
   ]
  },
  {
   "cell_type": "code",
   "execution_count": null,
   "metadata": {},
   "outputs": [],
   "source": []
  },
  {
   "cell_type": "code",
   "execution_count": null,
   "metadata": {},
   "outputs": [],
   "source": []
  },
  {
   "cell_type": "code",
   "execution_count": 41,
   "metadata": {},
   "outputs": [],
   "source": [
    "#for random sequences\n",
    "\n",
    "rnd['Random'] = rnd['Protein'].apply(lambda x:np.mean(functions.solubility_score(x, weights)))"
   ]
  },
  {
   "cell_type": "code",
   "execution_count": 42,
   "metadata": {},
   "outputs": [
    {
     "data": {
      "text/plain": [
       "(12000, 2)"
      ]
     },
     "execution_count": 42,
     "metadata": {},
     "output_type": "execute_result"
    }
   ],
   "source": [
    "rnd.shape"
   ]
  },
  {
   "cell_type": "code",
   "execution_count": 5,
   "metadata": {},
   "outputs": [],
   "source": [
    "pET = pd.read_pickle('results/pET_complete.pkl.gz')\n",
    "pET['pET'] = pET['SWI']\n",
    "pET.head()\n",
    "\n",
    "pET_soluble = pET.loc[pET['Solubility'] == 1].copy()\n",
    "pET_soluble = pET_soluble.rename(columns={'pET':'pET (Soluble)'})\n",
    "\n",
    "pET_insoluble = pET.loc[pET['Solubility'] == 0].copy()\n",
    "pET_insoluble = pET_insoluble.rename(columns={'pET':'pET (Insoluble)'})"
   ]
  },
  {
   "cell_type": "code",
   "execution_count": 5,
   "metadata": {},
   "outputs": [],
   "source": [
    "ecoli = pd.read_pickle('results/ecoli.pkl.gz')\n",
    "ecoli['eSOL'] = ecoli['SWI']\n",
    "\n",
    "#https://www.pnas.org/content/106/11/4201\n",
    "ecoli_soluble = ecoli.loc[ecoli['Solubility(%)'] >= 70].copy()\n",
    "ecoli_soluble = ecoli_soluble.rename(columns={'eSOL':'eSOL (Soluble)'})\n",
    "\n",
    "ecoli_insoluble = ecoli.loc[ecoli['Solubility(%)'] <= 30].copy()\n",
    "ecoli_insoluble = ecoli_insoluble.rename(columns={'eSOL':'eSOL (Insoluble)'})\n"
   ]
  },
  {
   "cell_type": "code",
   "execution_count": null,
   "metadata": {},
   "outputs": [],
   "source": []
  },
  {
   "cell_type": "code",
   "execution_count": 37,
   "metadata": {},
   "outputs": [
    {
     "data": {
      "image/png": "[encoded data removed]",
      "text/plain": [
       "<Figure size 288x288 with 1 Axes>"
      ]
     },
     "metadata": {
      "needs_background": "light"
     },
     "output_type": "display_data"
    }
   ],
   "source": [
    "flatui = [\"#d32f2f\", \"#7b1fa2\", \"#039be5\", \"#00897b\", \"#43a047\", \"#2ECC71\",  \"#3498db\", \"#95a5a6\",  \"#34495e\"]\n",
    "\n",
    "\n",
    "functions.plt.figure(figsize=(4, 4))\n",
    "\n",
    "\n",
    "functions.sns.kdeplot(rnd['Random'], linestyle='dashed', color=flatui[7], lw=2)\n",
    "# functions.sns.kdeplot(pET['pET'])\n",
    "functions.sns.kdeplot(pET_soluble['pET (Soluble)'], color='#EEB932', lw=2)\n",
    "functions.sns.kdeplot(pET_insoluble['pET (Insoluble)'], color='#0000FF', lw=2)\n",
    "\n",
    "# ax = functions.sns.kdeplot(ecoli['eSOL'])\n",
    "\n",
    "\n",
    "functions.sns.kdeplot(ecoli_soluble['eSOL (Soluble)'], color='#FF0000', lw=2)\n",
    "ax = functions.sns.kdeplot(ecoli_insoluble['eSOL (Insoluble)'], color=flatui[2], lw=2)\n",
    "ax.set(ylabel='Density', xlabel='SWI')\n",
    "\n",
    "functions.plt.savefig('figs/random_ecoli_pET_comparision.pdf')"
   ]
  },
  {
   "cell_type": "code",
   "execution_count": null,
   "metadata": {},
   "outputs": [],
   "source": []
  },
  {
   "cell_type": "code",
   "execution_count": null,
   "metadata": {},
   "outputs": [],
   "source": [
    "'''\n",
    "Accent, Accent_r, Blues, Blues_r, BrBG, BrBG_r, BuGn, BuGn_r, BuPu, BuPu_r, CMRmap, CMRmap_r, Dark2, Dark2_r, GnBu, GnBu_r, Greens, Greens_r, Greys, Greys_r, OrRd, OrRd_r, Oranges, Oranges_r, PRGn, PRGn_r, Paired, Paired_r, Pastel1, Pastel1_r, Pastel2, Pastel2_r, PiYG, PiYG_r, PuBu, PuBuGn, PuBuGn_r, PuBu_r, PuOr, PuOr_r, PuRd, PuRd_r, Purples, Purples_r, RdBu, RdBu_r, RdGy, RdGy_r, RdPu, RdPu_r, RdYlBu, RdYlBu_r, RdYlGn, RdYlGn_r, Reds, Reds_r, Set1, Set1_r, Set2, Set2_r, Set3, Set3_r, Spectral, Spectral_r, Wistia, Wistia_r, YlGn, YlGnBu, YlGnBu_r, YlGn_r, YlOrBr, YlOrBr_r, YlOrRd, YlOrRd_r, afmhot, afmhot_r, autumn, autumn_r, binary, binary_r, bone, bone_r, brg, brg_r, bwr, bwr_r, cividis, cividis_r, cool, cool_r, coolwarm, coolwarm_r, copper, copper_r, cubehelix, cubehelix_r, flag, flag_r, gist_earth, gist_earth_r, gist_gray, gist_gray_r, gist_heat, gist_heat_r, gist_ncar, gist_ncar_r, gist_rainbow, gist_rainbow_r, gist_stern, gist_stern_r, gist_yarg, gist_yarg_r, gnuplot, gnuplot2, gnuplot2_r, gnuplot_r, gray, gray_r, hot, hot_r, hsv, hsv_r, icefire, icefire_r, inferno, inferno_r, jet, jet_r, magma, magma_r, mako, mako_r, nipy_spectral, nipy_spectral_r, ocean, ocean_r, pink, pink_r, plasma, plasma_r, prism, prism_r, rainbow, rainbow_r, rocket, rocket_r, seismic, seismic_r, spring, spring_r, summer, summer_r, tab10, tab10_r, tab20, tab20_r, tab20b, tab20b_r, tab20c, tab20c_r, terrain, terrain_r, twilight, twilight_r, twilight_shifted, twilight_shifted_r, viridis, viridis_r, vlag, vlag_r, winter, winter_r\n",
    "\n",
    "'''"
   ]
  },
  {
   "cell_type": "code",
   "execution_count": null,
   "metadata": {},
   "outputs": [],
   "source": []
  },
  {
   "cell_type": "code",
   "execution_count": null,
   "metadata": {},
   "outputs": [],
   "source": []
  }
 ],
 "metadata": {
  "kernelspec": {
   "display_name": "Python 3",
   "language": "python",
   "name": "python3"
  },
  "language_info": {
   "codemirror_mode": {
    "name": "ipython",
    "version": 3
   },
   "file_extension": ".py",
   "mimetype": "text/x-python",
   "name": "python",
   "nbconvert_exporter": "python",
   "pygments_lexer": "ipython3",
   "version": "3.6.9"
  }
 },
 "nbformat": 4,
 "nbformat_minor": 2
}
