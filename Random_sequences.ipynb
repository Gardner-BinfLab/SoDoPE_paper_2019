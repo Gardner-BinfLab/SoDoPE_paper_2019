{
 "cells": [
  {
   "cell_type": "code",
   "execution_count": 1,
   "metadata": {},
   "outputs": [],
   "source": [
    "import pandas as pd\n",
    "import numpy as np\n",
    "import functions"
   ]
  },
  {
   "cell_type": "code",
   "execution_count": 2,
   "metadata": {},
   "outputs": [
    {
     "data": {
      "text/html": [
       "<div>\n",
       "<style scoped>\n",
       "    .dataframe tbody tr th:only-of-type {\n",
       "        vertical-align: middle;\n",
       "    }\n",
       "\n",
       "    .dataframe tbody tr th {\n",
       "        vertical-align: top;\n",
       "    }\n",
       "\n",
       "    .dataframe thead th {\n",
       "        text-align: right;\n",
       "    }\n",
       "</style>\n",
       "<table border=\"1\" class=\"dataframe\">\n",
       "  <thead>\n",
       "    <tr style=\"text-align: right;\">\n",
       "      <th></th>\n",
       "      <th>Protein</th>\n",
       "    </tr>\n",
       "  </thead>\n",
       "  <tbody>\n",
       "    <tr>\n",
       "      <th>0</th>\n",
       "      <td>MTANPCGIFIPFEHRGSDINWLMAIYERMDYYEQADELTSYAANHY...</td>\n",
       "    </tr>\n",
       "    <tr>\n",
       "      <th>1</th>\n",
       "      <td>MFAMFTMFSFGDILLICPHTKPFVNDHDEWDPKIPFFWCWDEDMCD...</td>\n",
       "    </tr>\n",
       "    <tr>\n",
       "      <th>2</th>\n",
       "      <td>MNPAFLNDDCDCFWTNTSLPRQHGHHHENSLACVFVIRAIWMWMLL...</td>\n",
       "    </tr>\n",
       "    <tr>\n",
       "      <th>3</th>\n",
       "      <td>MFTQMFVNDIMPDNISQTLVRTDQAFFAHMQPKKPCNNKSSVTEIC...</td>\n",
       "    </tr>\n",
       "    <tr>\n",
       "      <th>4</th>\n",
       "      <td>MRFERCAHWMIMGPTIDVCVNWHHQVHHKYSDFKYKCNPQPYQEEP...</td>\n",
       "    </tr>\n",
       "  </tbody>\n",
       "</table>\n",
       "</div>"
      ],
      "text/plain": [
       "                                             Protein\n",
       "0  MTANPCGIFIPFEHRGSDINWLMAIYERMDYYEQADELTSYAANHY...\n",
       "1  MFAMFTMFSFGDILLICPHTKPFVNDHDEWDPKIPFFWCWDEDMCD...\n",
       "2  MNPAFLNDDCDCFWTNTSLPRQHGHHHENSLACVFVIRAIWMWMLL...\n",
       "3  MFTQMFVNDIMPDNISQTLVRTDQAFFAHMQPKKPCNNKSSVTEIC...\n",
       "4  MRFERCAHWMIMGPTIDVCVNWHHQVHHKYSDFKYKCNPQPYQEEP..."
      ]
     },
     "execution_count": 2,
     "metadata": {},
     "output_type": "execute_result"
    }
   ],
   "source": [
    "#Solubility weighted index\n",
    "weights = {'A': 0.8356471476582918,\n",
    " 'C': 0.5208088354857734,\n",
    " 'E': 0.9876987431418378,\n",
    " 'D': 0.9079044671339564,\n",
    " 'G': 0.7997168496420723,\n",
    " 'F': 0.5849790194237692,\n",
    " 'I': 0.6784124413866582,\n",
    " 'H': 0.8947913996466419,\n",
    " 'K': 0.9267104557513497,\n",
    " 'M': 0.6296623675420369,\n",
    " 'L': 0.6554221515081433,\n",
    " 'N': 0.8597433107431216,\n",
    " 'Q': 0.789434648348208,\n",
    " 'P': 0.8235328714705341,\n",
    " 'S': 0.7440908318492778,\n",
    " 'R': 0.7712466317693457,\n",
    " 'T': 0.8096922697856334,\n",
    " 'W': 0.6374678690957594,\n",
    " 'V': 0.7357837119163659,\n",
    " 'Y': 0.6112801822947587}\n",
    "\n",
    "\n",
    "#random seq\n",
    "def random_seq(length=800, rand=123456):\n",
    "    '''\n",
    "    Generate random protein sequences of given length.\n",
    "    '''\n",
    "    rand_state = np.random.RandomState(rand)\n",
    "    aa = [k for k, v in weights.items()]\n",
    "    prot = 'M' + ''.join(rand_state.choice(aa, length-1))\n",
    "    return prot\n",
    "\n",
    "\n",
    "\n",
    "rand_df = []\n",
    "for i in [x for x in range(50, 6050, 50)]:\n",
    "    r = pd.DataFrame()\n",
    "    r['Protein'] = [random_seq(length=i, rand=i+_) for _ in range(100)]\n",
    "    r = r.explode('Protein').copy()\n",
    "#     r['Protein'] = 'M' + r['Protein']\n",
    "    rand_df.append(r)\n",
    "rnd = pd.concat(rand_df)\n",
    "rnd.reset_index(drop=True, inplace=True)\n",
    "rnd.to_pickle('results/random_seq.pkl.gz')\n",
    "rnd.head()"
   ]
  },
  {
   "cell_type": "code",
   "execution_count": 3,
   "metadata": {},
   "outputs": [
    {
     "data": {
      "text/plain": [
       "(12000, 2)"
      ]
     },
     "execution_count": 3,
     "metadata": {},
     "output_type": "execute_result"
    }
   ],
   "source": [
    "#for random sequences\n",
    "\n",
    "rnd['Random'] = rnd['Protein'].apply(lambda x:np.mean(functions.solubility_score(x, weights)))\n",
    "rnd.shape"
   ]
  },
  {
   "cell_type": "code",
   "execution_count": 5,
   "metadata": {},
   "outputs": [],
   "source": [
    "pET = pd.read_pickle('results/pET_all_analysis.pkl.gz')\n",
    "pET['pET'] = pET['SWI']\n",
    "pET.head()\n",
    "\n",
    "pET_soluble = pET.loc[pET['Solubility'] == 1].copy()\n",
    "pET_soluble = pET_soluble.rename(columns={'pET':'pET (Soluble)'})\n",
    "\n",
    "pET_insoluble = pET.loc[pET['Solubility'] == 0].copy()\n",
    "pET_insoluble = pET_insoluble.rename(columns={'pET':'pET (Insoluble)'})"
   ]
  },
  {
   "cell_type": "code",
   "execution_count": 6,
   "metadata": {},
   "outputs": [],
   "source": [
    "ecoli = pd.read_pickle('results/ecoli_all_analysis.pkl.gz')\n",
    "ecoli['eSOL'] = ecoli['SWI']\n",
    "\n",
    "#https://www.pnas.org/content/106/11/4201\n",
    "ecoli_soluble = ecoli.loc[ecoli['Solubility(%)'] >= 70].copy()\n",
    "ecoli_soluble = ecoli_soluble.rename(columns={'eSOL':'eSOL (Soluble)'})\n",
    "\n",
    "ecoli_insoluble = ecoli.loc[ecoli['Solubility(%)'] <= 30].copy()\n",
    "ecoli_insoluble = ecoli_insoluble.rename(columns={'eSOL':'eSOL (Insoluble)'})\n"
   ]
  },
  {
   "cell_type": "code",
   "execution_count": 7,
   "metadata": {},
   "outputs": [
    {
     "name": "stderr",
     "output_type": "stream",
     "text": [
      "/Volumes/userdata/student_users/bikashkumarbhandari/anaconda3/lib/python3.7/site-packages/scipy/stats/stats.py:1713: FutureWarning: Using a non-tuple sequence for multidimensional indexing is deprecated; use `arr[tuple(seq)]` instead of `arr[seq]`. In the future this will be interpreted as an array index, `arr[np.array(seq)]`, which will result either in an error or a different result.\n",
      "  return np.add.reduce(sorted[indexer] * weights, axis=axis) / sumval\n"
     ]
    },
    {
     "data": {
      "text/plain": [
       "[Text(0, 0.5, 'Density'), Text(0.5, 0, 'SWI')]"
      ]
     },
     "execution_count": 7,
     "metadata": {},
     "output_type": "execute_result"
    },
    {
     "data": {
      "image/png": "[encoded data removed]",
      "text/plain": [
       "<Figure size 288x288 with 1 Axes>"
      ]
     },
     "metadata": {
      "needs_background": "light"
     },
     "output_type": "display_data"
    }
   ],
   "source": [
    "flatui = [\"#d32f2f\", \"#7b1fa2\", \"#039be5\", \"#00897b\", \"#43a047\", \"#2ECC71\",  \"#3498db\", \"#95a5a6\",  \"#34495e\"]\n",
    "\n",
    "\n",
    "functions.plt.figure(figsize=(4, 4))\n",
    "\n",
    "\n",
    "functions.sns.kdeplot(rnd['Random'], linestyle='dashed', color=flatui[7], lw=2)\n",
    "\n",
    "\n",
    "functions.sns.kdeplot(pET_soluble['pET (Soluble)'], color='#EEB932', lw=2)\n",
    "functions.sns.kdeplot(pET_insoluble['pET (Insoluble)'], color='#0000FF', lw=2)\n",
    "\n",
    "\n",
    "\n",
    "functions.sns.kdeplot(ecoli_soluble['eSOL (Soluble)'], color='#FF0000', lw=2)\n",
    "ax = functions.sns.kdeplot(ecoli_insoluble['eSOL (Insoluble)'], color=flatui[2], lw=2)\n",
    "ax.set(ylabel='Density', xlabel='SWI')\n",
    "\n",
    "# functions.plt.savefig('figs/random_ecoli_pET_comparision.pdf')"
   ]
  },
  {
   "cell_type": "code",
   "execution_count": null,
   "metadata": {},
   "outputs": [],
   "source": []
  }
 ],
 "metadata": {
  "kernelspec": {
   "display_name": "Python 3",
   "language": "python",
   "name": "python3"
  },
  "language_info": {
   "codemirror_mode": {
    "name": "ipython",
    "version": 3
   },
   "file_extension": ".py",
   "mimetype": "text/x-python",
   "name": "python",
   "nbconvert_exporter": "python",
   "pygments_lexer": "ipython3",
   "version": "3.7.5"
  }
 },
 "nbformat": 4,
 "nbformat_minor": 2
}
