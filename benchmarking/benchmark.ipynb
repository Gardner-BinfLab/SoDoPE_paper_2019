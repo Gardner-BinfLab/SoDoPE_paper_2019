{
 "cells": [
  {
   "cell_type": "code",
   "execution_count": 1,
   "metadata": {},
   "outputs": [],
   "source": [
    "import numpy as np\n",
    "import pandas as pd\n",
    "import csv\n",
    "import matplotlib.pyplot as plt\n",
    "import seaborn as sns\n",
    "import time, datetime\n",
    "from itertools import cycle, islice\n",
    "import warnings"
   ]
  },
  {
   "cell_type": "code",
   "execution_count": 2,
   "metadata": {},
   "outputs": [],
   "source": [
    "def fasta_to_dataframe(f):\n",
    "    fasta_df = pd.read_csv(f,sep='>', lineterminator='>',header=None)\n",
    "    fasta_df[['Accession','Sequence']]=fasta_df[0].str.split('\\n', 1, expand=True)\n",
    "    fasta_df['Accession'] = '>' + fasta_df['Accession']\n",
    "    fasta_df['Sequence'] = fasta_df['Sequence'].replace('\\n','', regex=True)\n",
    "    fasta_df.drop(0, axis=1, inplace=True)\n",
    "    fasta_df.set_index('Accession',inplace=True)\n",
    "    fasta_df = fasta_df[fasta_df.Sequence != '']\n",
    "    final_df = fasta_df.dropna()\n",
    "    return final_df\n",
    "\n",
    "def convert_time(t):\n",
    "    x = time.strptime(t,'%H:%M:%S')\n",
    "    return str(int(datetime.timedelta(hours=x.tm_hour,minutes=x.tm_min,seconds=x.tm_sec).total_seconds()))"
   ]
  },
  {
   "cell_type": "code",
   "execution_count": 3,
   "metadata": {},
   "outputs": [
    {
     "data": {
      "text/plain": [
       "213.9090909090909"
      ]
     },
     "execution_count": 3,
     "metadata": {},
     "output_type": "execute_result"
    }
   ],
   "source": [
    "# find 10 sequences with a large range of lengths\n",
    "(2389-36)/11"
   ]
  },
  {
   "cell_type": "code",
   "execution_count": 4,
   "metadata": {},
   "outputs": [],
   "source": [
    "length = []\n",
    "for i in list(range(0,11)):\n",
    "    l = 36+(i*213)\n",
    "    length.append(l)"
   ]
  },
  {
   "cell_type": "code",
   "execution_count": 5,
   "metadata": {},
   "outputs": [],
   "source": [
    "length.append(2389)"
   ]
  },
  {
   "cell_type": "code",
   "execution_count": 6,
   "metadata": {},
   "outputs": [
    {
     "data": {
      "text/plain": [
       "[36, 249, 462, 675, 888, 1101, 1314, 1527, 1740, 1953, 2166, 2389]"
      ]
     },
     "execution_count": 6,
     "metadata": {},
     "output_type": "execute_result"
    }
   ],
   "source": [
    "length"
   ]
  },
  {
   "cell_type": "code",
   "execution_count": 7,
   "metadata": {},
   "outputs": [],
   "source": [
    "d = pd.concat([fasta_to_dataframe('ecoli_W3110_tags.faa'), fasta_to_dataframe('pET15_NESG.faa'), fasta_to_dataframe('pET21_NESG.faa')])"
   ]
  },
  {
   "cell_type": "code",
   "execution_count": 8,
   "metadata": {},
   "outputs": [],
   "source": [
    "d['Length'] = d.Sequence.str.len()"
   ]
  },
  {
   "cell_type": "code",
   "execution_count": 9,
   "metadata": {},
   "outputs": [],
   "source": [
    "l = []\n",
    "for i in length:\n",
    "    unique_length = np.array(d.Length.unique())\n",
    "    closest_length = (np.abs(unique_length-i)).argmin()\n",
    "    l.append(unique_length[closest_length])"
   ]
  },
  {
   "cell_type": "code",
   "execution_count": 10,
   "metadata": {},
   "outputs": [
    {
     "data": {
      "text/plain": [
       "[36, 249, 462, 675, 888, 1095, 1315, 1539, 1675, 1675, 2389, 2389]"
      ]
     },
     "execution_count": 10,
     "metadata": {},
     "output_type": "execute_result"
    }
   ],
   "source": [
    "l"
   ]
  },
  {
   "cell_type": "code",
   "execution_count": 11,
   "metadata": {},
   "outputs": [],
   "source": [
    "l = list(dict.fromkeys(l))"
   ]
  },
  {
   "cell_type": "code",
   "execution_count": 12,
   "metadata": {},
   "outputs": [],
   "source": [
    "l = pd.DataFrame(l, columns = ['Length'])"
   ]
  },
  {
   "cell_type": "code",
   "execution_count": 13,
   "metadata": {},
   "outputs": [],
   "source": [
    "d = pd.merge(d.reset_index(), l, on='Length').drop_duplicates(subset=['Length'])\n",
    "d['fasta'] = d.Accession + '\\n' + d.Sequence\n",
    "d['fasta'].to_csv('benchmark.fa', header= False, index= False, sep = '\\t', quoting = csv.QUOTE_NONE, escapechar = ' ')"
   ]
  },
  {
   "cell_type": "markdown",
   "metadata": {},
   "source": [
    "```console\n",
    "# split multi-fasta into single fasta files\n",
    "cd /nesi/nobackup/uoo00123/\n",
    "mkdir benchmark\n",
    "cd benchmark\n",
    "\n",
    "../kentUtils/bin/faSplit byname ../benchmark.fa .\n",
    "for i in *.fa; do \\\n",
    "  mkdir ${i%.*}\n",
    "  mv ${i} ${i%.*}\n",
    "done\n",
    "```"
   ]
  },
  {
   "cell_type": "markdown",
   "metadata": {},
   "source": [
    "```console\n",
    "# PaRSnIP\n",
    "\n",
    "module load R/3.6.1-gimkl-2018b\n",
    "module load Java/1.8.0_144\n",
    "export R_LIBS_USER='/nesi/project/uoo00123/R/x86_64-centos-linux-gnu-library/3.6'\n",
    "export PERL5LIB=\"${PERL5LIB}:/home/limch05p/perl5/lib/\"\n",
    "for i in `grep '>' /nesi/nobackup/uoo00123/benchmark.fa | sed 's/>//'`; do \\\n",
    "  cd /nesi/nobackup/uoo00123/benchmark/${i}\n",
    "  /usr/bin/time R --vanilla \\\n",
    "  < /nesi/project/uoo00123/PaRSnIP/PaRSnIP.R ${i}.fa \\\n",
    "  /nesi/project/uoo00123/SCRATCH-1D_1.2/bin/run_SCRATCH-1D_predictors.sh \\\n",
    "  /nesi/project/uoo00123/PaRSnIP/PaRSnIP_training_model\n",
    "done 2>&1 | tee PaRSnIP_1.txt;\n",
    "for i in `grep '>' /nesi/nobackup/uoo00123/benchmark.fa | sed 's/>//'`; do \\\n",
    "  cd /nesi/nobackup/uoo00123/benchmark/${i}\n",
    "  /usr/bin/time R --vanilla \\\n",
    "  < /nesi/project/uoo00123/PaRSnIP/PaRSnIP.R ${i}.fa \\\n",
    "  /nesi/project/uoo00123/SCRATCH-1D_1.2/bin/run_SCRATCH-1D_predictors.sh \\\n",
    "  /nesi/project/uoo00123/PaRSnIP/PaRSnIP_training_model\n",
    "done 2>&1 | tee PaRSnIP_2.txt;\n",
    "for i in `grep '>' /nesi/nobackup/uoo00123/benchmark.fa | sed 's/>//'`; do \\\n",
    "  cd /nesi/nobackup/uoo00123/benchmark/${i}\n",
    "  /usr/bin/time R --vanilla \\\n",
    "  < /nesi/project/uoo00123/PaRSnIP/PaRSnIP.R ${i}.fa \\\n",
    "  /nesi/project/uoo00123/SCRATCH-1D_1.2/bin/run_SCRATCH-1D_predictors.sh \\\n",
    "  /nesi/project/uoo00123/PaRSnIP/PaRSnIP_training_model\n",
    "done 2>&1 | tee PaRSnIP_3.txt;\n",
    "\n",
    "for i in 1 2 3; do \\\n",
    "    paste \\\n",
    "    <(awk '/__ignored__/ && /fa/' PaRSnIP_${i}.txt) \\\n",
    "    <(grep user PaRSnIP_${i}.txt) \\\n",
    "    | awk '{gsub(/\\047/,\"\"); sub(/\\.fa/,\"\"); sub(\"elapsed\",\"\"); print $2 \"\\t\" $6}' \\\n",
    "    > PaRSnIP_${i}_lapsed.txt\n",
    "    cat \\\n",
    "    <(grep -v \"\\.\" PaRSnIP_${i}_lapsed.txt | sed 's/:/\\t/g') \\\n",
    "    <(grep \"\\.\" PaRSnIP_${i}_lapsed.txt | sed 's/:/\\t/' \\\n",
    "    | awk 'BEGIN{OFS=\"\\t\"} {print $1,\"00\",$2,$3}') > PaRSnIP_${i}_elapsed.txt\n",
    "    rm PaRSnIP_${i}_lapsed.txt\n",
    "done\n",
    "cat PaRSnIP_*_elapsed.txt > benchmark_PaRSnIP.txt\n",
    "```"
   ]
  },
  {
   "cell_type": "markdown",
   "metadata": {},
   "source": [
    "```console\n",
    "# DeepSol\n",
    "\n",
    "module load R/3.6.1-gimkl-2018b\n",
    "module load Java/1.8.0_144\n",
    "export R_LIBS_USER='/nesi/project/uoo00123/R/x86_64-centos-linux-gnu-library/3.6'\n",
    "export PERL5LIB=\"${PERL5LIB}:/home/limch05p/perl5/lib/\"\n",
    "export PATH=\"/nesi/nobackup/uoo00123/anaconda3/bin:$PATH\"\n",
    "\n",
    "cd /nesi/nobackup/uoo00123/DSOL_rv0.2\n",
    "for i in `grep '>' /nesi/nobackup/uoo00123/benchmark.fa | sed 's/>//'`; do \\\n",
    "    /usr/bin/time R --vanilla \\\n",
    "    < /nesi/nobackup/uoo00123/DSOL_rv0.2/scripts/PaRSnIP.R \\\n",
    "    /nesi/nobackup/uoo00123/benchmark/${i}/${i}.fa \\\n",
    "    /nesi/project/uoo00123/avoidance/doc/SCRATCH-1D_1.2/bin/run_SCRATCH-1D_predictors.sh \\\n",
    "    ${i} 1\n",
    "\n",
    "    /usr/bin/time ./run.sh --model deepsol1 --stage 1 --mode preprocess --device cpu --test_file ${i} data/deepsol1_${i}.data\n",
    "    /usr/bin/time ./run.sh --model deepsol2 --stage 1 --mode preprocess --device cpu --test_file ${i} data/deepsol2_${i}.data\n",
    "    /usr/bin/time ./run.sh --model deepsol3 --stage 1 --mode preprocess --device cpu --test_file ${i} data/deepsol3_${i}.data\n",
    "    \n",
    "    /usr/bin/time ./run.sh --model deepsol1 --stage 2 --mode decode --device cpu data/deepsol1_${i}.data\n",
    "    /usr/bin/time ./run.sh --model deepsol2 --stage 2 --mode decode --device cpu data/deepsol2_${i}.data\n",
    "    /usr/bin/time ./run.sh --model deepsol3 --stage 2 --mode decode --device cpu data/deepsol3_${i}.data\n",
    "    rm -r ~/.theano/\n",
    "done 2>&1 | tee DSOL_1.txt;\n",
    "\n",
    "for i in `grep '>' /nesi/nobackup/uoo00123/benchmark.fa | sed 's/>//'`; do \\\n",
    "    /usr/bin/time R --vanilla \\\n",
    "    < /nesi/nobackup/uoo00123/DSOL_rv0.2/scripts/PaRSnIP.R \\\n",
    "    /nesi/nobackup/uoo00123/benchmark/${i}/${i}.fa \\\n",
    "    /nesi/project/uoo00123/avoidance/doc/SCRATCH-1D_1.2/bin/run_SCRATCH-1D_predictors.sh \\\n",
    "    ${i} 1\n",
    "    \n",
    "    /usr/bin/time ./run.sh --model deepsol1 --stage 1 --mode preprocess --device cpu --test_file ${i} data/deepsol1_${i}.data\n",
    "    /usr/bin/time ./run.sh --model deepsol2 --stage 1 --mode preprocess --device cpu --test_file ${i} data/deepsol2_${i}.data\n",
    "    /usr/bin/time ./run.sh --model deepsol3 --stage 1 --mode preprocess --device cpu --test_file ${i} data/deepsol3_${i}.data\n",
    "    \n",
    "    /usr/bin/time ./run.sh --model deepsol1 --stage 2 --mode decode --device cpu data/deepsol1_${i}.data\n",
    "    /usr/bin/time ./run.sh --model deepsol2 --stage 2 --mode decode --device cpu data/deepsol2_${i}.data\n",
    "    /usr/bin/time ./run.sh --model deepsol3 --stage 2 --mode decode --device cpu data/deepsol3_${i}.data\n",
    "    rm -r ~/.theano/\n",
    "done 2>&1 | tee DSOL_2.txt;\n",
    "\n",
    "for i in `grep '>' /nesi/nobackup/uoo00123/benchmark.fa | sed 's/>//'`; do \\\n",
    "    /usr/bin/time R --vanilla \\\n",
    "    < /nesi/nobackup/uoo00123/DSOL_rv0.2/scripts/PaRSnIP.R \\\n",
    "    /nesi/nobackup/uoo00123/benchmark/${i}/${i}.fa \\\n",
    "    /nesi/project/uoo00123/avoidance/doc/SCRATCH-1D_1.2/bin/run_SCRATCH-1D_predictors.sh \\\n",
    "    ${i} 1\n",
    "    \n",
    "    /usr/bin/time ./run.sh --model deepsol1 --stage 1 --mode preprocess --device cpu --test_file ${i} data/deepsol1_${i}.data\n",
    "    /usr/bin/time ./run.sh --model deepsol2 --stage 1 --mode preprocess --device cpu --test_file ${i} data/deepsol2_${i}.data\n",
    "    /usr/bin/time ./run.sh --model deepsol3 --stage 1 --mode preprocess --device cpu --test_file ${i} data/deepsol3_${i}.data\n",
    "    \n",
    "    /usr/bin/time ./run.sh --model deepsol1 --stage 2 --mode decode --device cpu data/deepsol1_${i}.data\n",
    "    /usr/bin/time ./run.sh --model deepsol2 --stage 2 --mode decode --device cpu data/deepsol2_${i}.data\n",
    "    /usr/bin/time ./run.sh --model deepsol3 --stage 2 --mode decode --device cpu data/deepsol3_${i}.data\n",
    "    rm -r ~/.theano/\n",
    "done 2>&1 | tee DSOL_3.txt;\n",
    "\n",
    "for j in 1 2 3; do \\\n",
    "    paste \\\n",
    "    <(for i in `awk '/__ignored__/ && /fa/ {gsub(\"/\",\"\\t\"); print $7}' DSOL_${j}.txt`; do \\\n",
    "      printf \"${i}\\n%.0s\" {1..7}; done) \\\n",
    "    <(printf \"PaRSnIP\\ndeepsol1_stage1\\ndeepsol2_stage1\\ndeepsol3_stage1\\ndeepsol1_stage2\\ndeepsol2_stage2\\ndeepsol3_stage2\\n%.0s\" {1..10}) \\\n",
    "    <(awk '/user/ {sub(\"elapsed\",\"\"); {print $3}}' DSOL_${j}.txt) > DSOL_${j}_elapsed.txt\n",
    "done\n",
    "```"
   ]
  },
  {
   "cell_type": "markdown",
   "metadata": {},
   "source": [
    "```console\n",
    "# Protein-Sol\n",
    "\n",
    "cd /nesi/nobackup/uoo00123/protein-sol-sequence-prediction-software/\n",
    "for i in `grep '>' /nesi/nobackup/uoo00123/benchmark.fa | sed 's/>//'`; do \\\n",
    "    /usr/bin/time -f '%E' ./multiple_prediction_wrapper_export.sh \\\n",
    "    /nesi/nobackup/uoo00123/benchmark/${i}/${i}.fa\n",
    "done 2>&1 | tee protein-sol_1.txt;\n",
    "for i in `grep '>' /nesi/nobackup/uoo00123/benchmark.fa | sed 's/>//'`; do \\\n",
    "    /usr/bin/time -f '%E' ./multiple_prediction_wrapper_export.sh \\\n",
    "    /nesi/nobackup/uoo00123/benchmark/${i}/${i}.fa\n",
    "done 2>&1 | tee protein-sol_2.txt;\n",
    "for i in `grep '>' /nesi/nobackup/uoo00123/benchmark.fa | sed 's/>//'`; do \\\n",
    "    /usr/bin/time -f '%E' ./multiple_prediction_wrapper_export.sh \\\n",
    "    /nesi/nobackup/uoo00123/benchmark/${i}/${i}.fa\n",
    "done 2>&1 | tee protein-sol_3.txt;\n",
    "\n",
    "for i in 1 2 3; do \\\n",
    "    paste \\\n",
    "    <(grep '>' /nesi/nobackup/uoo00123/benchmark.fa | sed 's/>//') \\\n",
    "    protein-sol_${i}.txt | sed 's/0:0//g'\n",
    "done > benchmark_protein-sol.txt\n",
    "```"
   ]
  },
  {
   "cell_type": "markdown",
   "metadata": {},
   "source": [
    "```console\n",
    "# Wilkinson-Harrison model\n",
    "# see the cell below for wilkinson.pl\n",
    "\n",
    "cd /nesi/nobackup/uoo00123\n",
    "for i in `grep '>' /nesi/nobackup/uoo00123/benchmark.fa | sed 's/>//'`; do \\\n",
    "    /usr/bin/time -f '%E' perl wilkinson.pl \\\n",
    "    /nesi/nobackup/uoo00123/benchmark/${i}/${i}.fa \\\n",
    "    output.txt\n",
    "done 2>&1 | tee wilkinson_1.txt\n",
    "for i in `grep '>' /nesi/nobackup/uoo00123/benchmark.fa | sed 's/>//'`; do \\\n",
    "    /usr/bin/time -f '%E' perl wilkinson.pl \\\n",
    "    /nesi/nobackup/uoo00123/benchmark/${i}/${i}.fa \\\n",
    "    output.txt\n",
    "done 2>&1 | tee wilkinson_2.txt\n",
    "for i in `grep '>' /nesi/nobackup/uoo00123/benchmark.fa | sed 's/>//'`; do \\\n",
    "    /usr/bin/time -f '%E' perl wilkinson.pl \\\n",
    "    /nesi/nobackup/uoo00123/benchmark/${i}/${i}.fa \\\n",
    "    output.txt\n",
    "done 2>&1 | tee wilkinson_3.txt\n",
    "\n",
    "for i in 1 2 3; do \\\n",
    "    paste \\\n",
    "    <(grep '>' /nesi/nobackup/uoo00123/benchmark.fa | sed 's/>//') \\\n",
    "    wilkinson_${i}.txt | sed 's/0:0//g'\n",
    "done > benchmark_wilkinson.txt\n",
    "```"
   ]
  },
  {
   "cell_type": "markdown",
   "metadata": {},
   "source": [
    "```console\n",
    "#!/usr/bin/perl\n",
    "\n",
    "# perl wilkinson.pl <input.fa> <output.txt>\n",
    "use strict;\n",
    "use warnings;\n",
    "use Bio::SeqIO;\n",
    "use Bio::Tools::Solubility::Wilkinson;\n",
    "\n",
    "my $seqio_obj;\n",
    "my $seq_obj;\n",
    "\n",
    "$seqio_obj = Bio::SeqIO->new(-file => $ARGV[0], \n",
    "                             -format => \"fasta\" );\n",
    "                             \n",
    "my $filename = $ARGV[1];\n",
    "open(my $fh, '>', $filename) or die \"Could not open file '$filename' $!\";\n",
    "while ( $seq_obj = $seqio_obj->next_seq ) {\n",
    "    print $fh $seq_obj->id, \"\\t\", solubility($seq_obj->seq),\"\\n\";\n",
    "}\n",
    "close $fh or die \"can't close file: $!\";\n",
    "```"
   ]
  },
  {
   "cell_type": "markdown",
   "metadata": {},
   "source": [
    "```console\n",
    "# Flexibility\n",
    "# see the cell below for flexibility.py\n",
    "\n",
    "for i in `grep '>' /nesi/nobackup/uoo00123/benchmark.fa | sed 's/>//'`; do \\\n",
    "    /usr/bin/time python flexibility.py -f /nesi/nobackup/uoo00123/benchmark/${i}/${i}.fa\n",
    "done 2>&1 | tee flexibility_1.txt\n",
    "for i in `grep '>' /nesi/nobackup/uoo00123/benchmark.fa | sed 's/>//'`; do \\\n",
    "    /usr/bin/time python flexibility.py -f /nesi/nobackup/uoo00123/benchmark/${i}/${i}.fa\n",
    "done 2>&1 | tee flexibility_2.txt\n",
    "for i in `grep '>' /nesi/nobackup/uoo00123/benchmark.fa | sed 's/>//'`; do \\\n",
    "    /usr/bin/time python flexibility.py -f /nesi/nobackup/uoo00123/benchmark/${i}/${i}.fa\n",
    "done 2>&1 | tee flexibility_3.txt\n",
    "\n",
    "for i in 1 2 3; do \\\n",
    "    paste \\\n",
    "    <(grep '>' /nesi/nobackup/uoo00123/benchmark.fa | sed 's/>//') \\\n",
    "    <(grep user flexibility_${i}.txt \\\n",
    "    | awk '{sub(\"elapsed\",\"\"); sub(\"0:0\",\"\"); print $3}')\n",
    "done > benchmark_flexibility.txt\n",
    "```"
   ]
  },
  {
   "cell_type": "markdown",
   "metadata": {},
   "source": [
    "```console\n",
    "#!/usr/bin/env python3\n",
    "# -*- coding: utf-8 -*-\n",
    "\n",
    "import sys\n",
    "import argparse\n",
    "import numpy as np\n",
    "from Bio import SeqIO\n",
    "from Bio.Seq import Seq\n",
    "from Bio.SeqUtils.ProtParam import ProteinAnalysis\n",
    "\n",
    "def check_arg(args=None):\n",
    "    parser = argparse.ArgumentParser(description='Flexibility calculator')\n",
    "    parser.add_argument('-f', '--fasta',\n",
    "                        help='Input fasta file')\n",
    "    results = parser.parse_args(args)\n",
    "    return (results.fasta)\n",
    "    \n",
    "def protein_scores(seqfile):\n",
    "    for seq_record in SeqIO.parse(seqfile, \"fasta\"):\n",
    "        if (float(seq_record.seq.count(\"X\")) == 0):\n",
    "            accession = str(seq_record.id)\n",
    "            seq = str(seq_record.seq).replace('*','')\n",
    "            analysed_seq = ProteinAnalysis(seq)\n",
    "            print(str(accession) + '\\t' + \\\n",
    "            str(np.mean(analysed_seq.flexibility())))\n",
    "\n",
    "def main():\n",
    "    protein_scores(f)\n",
    "\n",
    "if __name__ == \"__main__\":\n",
    "    f = check_arg(sys.argv[1:])\n",
    "    main()\n",
    "```"
   ]
  },
  {
   "cell_type": "markdown",
   "metadata": {},
   "source": [
    "```console\n",
    "# Solubility-Weighted Index (SWI)\n",
    "# compile the C code below\n",
    "gcc swi.c -lm -o swi -std=gnu99\n",
    "\n",
    "for i in `grep '>' /nesi/nobackup/uoo00123/benchmark.fa | sed 's/>//'`; do \\\n",
    "    /usr/bin/time ./swi /nesi/nobackup/uoo00123/benchmark/${i}/${i}.fa\n",
    "done 2>&1 | tee swi_1.txt\n",
    "for i in `grep '>' /nesi/nobackup/uoo00123/benchmark.fa | sed 's/>//'`; do \\\n",
    "    /usr/bin/time ./swi /nesi/nobackup/uoo00123/benchmark/${i}/${i}.fa\n",
    "done 2>&1 | tee swi_2.txt\n",
    "for i in `grep '>' /nesi/nobackup/uoo00123/benchmark.fa | sed 's/>//'`; do \\\n",
    "    /usr/bin/time ./swi /nesi/nobackup/uoo00123/benchmark/${i}/${i}.fa\n",
    "done 2>&1 | tee swi_3.txt\n",
    "\n",
    "for i in 1 2 3; do \\\n",
    "    paste \\\n",
    "    <(grep '>' /nesi/nobackup/uoo00123/benchmark.fa | sed 's/>//') \\\n",
    "    <(awk '/user/ {sub(\"elapsed\",\"\"); sub(\"0:0\",\"\"); print $3}' swi_${i}.txt)\n",
    "done > benchmark_swi.txt\n",
    "```"
   ]
  },
  {
   "cell_type": "markdown",
   "metadata": {},
   "source": [
    "```console\n",
    "#include <stdio.h>\n",
    "#include <stdlib.h>\n",
    "#include <string.h>\n",
    "#include <math.h>\n",
    "\n",
    "\n",
    "\n",
    "double weight(char c){\n",
    "\tswitch(c){\n",
    "\n",
    "case 'A' : return 0.83569566; break;\n",
    "case 'C' : return 0.52192073; break;\n",
    "case 'E' : return 0.98686604; break;\n",
    "case 'D' : return 0.90759835; break;\n",
    "case 'G' : return 0.80038279; break;\n",
    "case 'F' : return 0.58219346; break;\n",
    "case 'I' : return 0.67904493; break;\n",
    "case 'H' : return 0.89639776; break;\n",
    "case 'K' : return 0.92591651; break;\n",
    "case 'M' : return 0.62999641; break;\n",
    "case 'L' : return 0.65469222; break;\n",
    "case 'N' : return 0.8604957; break;\n",
    "case 'Q' : return 0.789565; break;\n",
    "case 'P' : return 0.82210442; break;\n",
    "case 'S' : return 0.74424644; break;\n",
    "case 'R' : return 0.77105515; break;\n",
    "case 'T' : return 0.8098671; break;\n",
    "case 'W' : return 0.63869319; break;\n",
    "case 'V' : return 0.73449529; break;\n",
    "case 'Y' : return 0.61255815; break;\n",
    "default :  break;\n",
    "}\n",
    "\n",
    "}\n",
    "\n",
    "double prob( double x){\n",
    "\tdouble a = 79.1765;\n",
    "\tdouble b = -61.3483;\n",
    "\tdouble p = 1/(1+ exp(-(a*x + b)));\n",
    "\treturn p;\n",
    "\n",
    "}\n",
    "\n",
    "int main (int argc, char *argv[]) {\n",
    "\tFILE * fp;\n",
    "\tchar * line = NULL;\n",
    "\tsize_t len = 0;\n",
    "\tssize_t read;\n",
    " \n",
    "\tfp = fopen(argv[1], \"r\");\n",
    "\tif (fp == NULL)\n",
    "\t\texit(EXIT_FAILURE);\n",
    "\n",
    "\n",
    "\tprintf(\"\\nAccession\\tSWI\\t\\tProb.(Solubility)\\n\");\n",
    "\tprintf(\"=========\\t=======\\t\\t=================\\n\");\t\n",
    "\t\n",
    "\tint state = 0;\n",
    "\twhile ((read = getline(&line, &len, fp)) != -1) {\n",
    "\t\tif (line[read - 1] == '\\n')\n",
    "\t\t\tline[read - 1] = 0;\n",
    "\t\tif (line[0] == '>') {\n",
    "\t\t\tif (state == 1)\n",
    "\t\t\t\tprintf(\"\\n\");\n",
    "\t\t\tprintf(\"%s\\t\", line+1);\n",
    "\t\t\tstate = 1;\n",
    "\t\t} else {\n",
    "\t\t\tint length = (int)strlen(line);\n",
    "\t\t\tdouble sum = 0.0;\n",
    "\t\t\tfor (int i = 0; i < length; i++){\n",
    "\t\t\t\tsum += weight(line[i]);\n",
    "\t\t\t}\n",
    "\t\t\tdouble swi = sum/length;\n",
    "\t\t\tprintf(\"%f\\t%f\", swi, prob(swi));\n",
    "\t\t}\n",
    "\t}\n",
    "\tprintf(\"\\n\\n\");\n",
    " \n",
    "\tfclose(fp);\n",
    "\tif (line)\n",
    "\t\tfree(line);\n",
    "\texit(EXIT_SUCCESS);\n",
    "}\n",
    "```"
   ]
  },
  {
   "cell_type": "code",
   "execution_count": 14,
   "metadata": {},
   "outputs": [],
   "source": [
    "# benchmark sequences\n",
    "d = fasta_to_dataframe('benchmark.fa')\n",
    "d['Accession'] = d.index.str.replace('>','').str.replace(' ','')\n",
    "d['Length'] = d.Sequence.str.len()\n",
    "d = d[['Accession', 'Length']]\n",
    "d.reset_index(drop=True, inplace=True)"
   ]
  },
  {
   "cell_type": "code",
   "execution_count": 15,
   "metadata": {},
   "outputs": [],
   "source": [
    "# PaRSnIP\n",
    "dt = pd.read_csv('benchmark_PaRSnIP.txt', sep='\\t', header=None)\n",
    "dt.columns=['Accession', 'H', 'M', 'S']\n",
    "dt['S'] = dt.round().S.astype(int)\n",
    "dt['Walltime'] = dt.H.astype(str) + ':0' + dt.M.astype(str) + ':' + dt.S.astype(str)\n",
    "parsnip = pd.merge(d, dt, on='Accession')\n",
    "parsnip['Walltime'] = pd.to_datetime(parsnip['Walltime'], errors='coerce').dt.strftime('%H:%M:%S')\n",
    "parsnip['Runtime (s)'] = parsnip.Walltime.apply(convert_time).astype(int)\n",
    "parsnip = parsnip[['Accession', 'Length', 'Runtime (s)']]\n",
    "parsnip['Tool'] = 'PaRSnIP'"
   ]
  },
  {
   "cell_type": "code",
   "execution_count": 16,
   "metadata": {},
   "outputs": [
    {
     "data": {
      "text/plain": [
       "2055.5"
      ]
     },
     "execution_count": 16,
     "metadata": {},
     "output_type": "execute_result"
    }
   ],
   "source": [
    "parsnip['Runtime (s)'].mean()"
   ]
  },
  {
   "cell_type": "code",
   "execution_count": 17,
   "metadata": {},
   "outputs": [
    {
     "data": {
      "text/plain": [
       "1621.11389440122"
      ]
     },
     "execution_count": 17,
     "metadata": {},
     "output_type": "execute_result"
    }
   ],
   "source": [
    "parsnip['Runtime (s)'].std()"
   ]
  },
  {
   "cell_type": "code",
   "execution_count": 18,
   "metadata": {},
   "outputs": [],
   "source": [
    "# the resolution of /usr/bin/time is 0.00s\n",
    "# add a pseudocount of 0.001s because the time of running SWI is 0.00s per sequence\n",
    "parsnip['Runtime (s)'] = parsnip['Runtime (s)'] + 0.001"
   ]
  },
  {
   "cell_type": "code",
   "execution_count": 19,
   "metadata": {},
   "outputs": [],
   "source": [
    "# DeepSol\n",
    "def deepsol_walltime(f):\n",
    "    dt = pd.read_csv(f, sep='\\t', header=None)\n",
    "    dt.columns = ['Accession', 'Stage', 'Elapsed']\n",
    "\n",
    "    s0 = dt[dt['Stage']=='PaRSnIP']\n",
    "    s0['H:M'] = s0['Elapsed'].str.rsplit(':', 1).str[-2]\n",
    "    s0['H'] = s0['H:M'].str.rsplit(':', 1).str[-2]\n",
    "    s0['M'] = s0['H:M'].str.rsplit(':', 1).str[-1]\n",
    "    s0['S'] = s0['Elapsed'].str.rsplit(':', 1).str[-1]\n",
    "    s0.fillna(0, inplace=True)\n",
    "    s0['S'] = s0.round().S.astype(float).astype(int)\n",
    "    s0['Walltime'] = s0.H.astype(str) + ':' + s0.M.astype(str) + ':' + s0.S.astype(str)\n",
    "    s0['Walltime'] = s0['Walltime'].apply(convert_time).astype(int)\n",
    "    s0 = s0[['Accession', 'Walltime']]\n",
    "\n",
    "    s = dt[dt['Stage'].str.contains('stage')]\n",
    "    s = s.join(s['Elapsed'].str.split(':',1, expand=True).rename(columns={0:'M', 1:'S'}))\n",
    "    s['S'] = s.round().S.astype(float).astype(int)\n",
    "    s['Walltime'] = '0:' + s.M.astype(str) + ':' + s.S.astype(str)\n",
    "    s['Walltime'] = s['Walltime'].apply(convert_time).astype(int)\n",
    "    s = s[['Accession', 'Stage', 'Walltime']]\n",
    "\n",
    "    s1 = s[s['Stage'].str.contains('stage1')].reset_index(drop=True)\n",
    "    s2 = s[s['Stage'].str.contains('stage2')].reset_index(drop=True)\n",
    "\n",
    "    dt = pd.concat([s1, s2], axis=1)\n",
    "    dt.columns = range(dt.shape[1])\n",
    "    dt['Walltime'] = dt[2] + dt[5]\n",
    "    dt = dt[[0, 1, 'Walltime']]\n",
    "    dt[1] = dt[1].str.replace('_stage1','')\n",
    "    dt.columns = ['Accession', 'DeepSol', 'Walltime']\n",
    "\n",
    "    dt = pd.merge(dt, s0, on='Accession')\n",
    "    dt['Runtime (s)'] = dt['Walltime_x'] + dt['Walltime_y']\n",
    "    dt['Accession'] = dt.Accession.str.replace(' ','')\n",
    "    dt = pd.merge(d, dt, on='Accession')\n",
    "    \n",
    "    return dt"
   ]
  },
  {
   "cell_type": "code",
   "execution_count": 20,
   "metadata": {},
   "outputs": [
    {
     "name": "stderr",
     "output_type": "stream",
     "text": [
      "/home/chunlim/anaconda3/lib/python3.7/site-packages/ipykernel_launcher.py:7: SettingWithCopyWarning: \n",
      "A value is trying to be set on a copy of a slice from a DataFrame.\n",
      "Try using .loc[row_indexer,col_indexer] = value instead\n",
      "\n",
      "See the caveats in the documentation: http://pandas.pydata.org/pandas-docs/stable/user_guide/indexing.html#returning-a-view-versus-a-copy\n",
      "  import sys\n",
      "/home/chunlim/anaconda3/lib/python3.7/site-packages/pandas/core/frame.py:4244: SettingWithCopyWarning: \n",
      "A value is trying to be set on a copy of a slice from a DataFrame\n",
      "\n",
      "See the caveats in the documentation: http://pandas.pydata.org/pandas-docs/stable/user_guide/indexing.html#returning-a-view-versus-a-copy\n",
      "  **kwargs\n"
     ]
    }
   ],
   "source": [
    "warnings.filterwarnings(action='once')\n",
    "d1 = deepsol_walltime('DSOL_1_elapsed.txt')\n",
    "d2 = deepsol_walltime('DSOL_2_elapsed.txt')\n",
    "d3 = deepsol_walltime('DSOL_3_elapsed.txt')\n",
    "\n",
    "deepsol = pd.concat([d1, d2, d3])\n",
    "\n",
    "deepsol1 = deepsol[deepsol.DeepSol.str.contains('deepsol1')].reset_index(drop=True)[['Accession', 'Length', 'Runtime (s)']]\n",
    "deepsol2 = deepsol[deepsol.DeepSol.str.contains('deepsol2')].reset_index(drop=True)[['Accession', 'Length', 'Runtime (s)']]\n",
    "deepsol3 = deepsol[deepsol.DeepSol.str.contains('deepsol3')].reset_index(drop=True)[['Accession', 'Length', 'Runtime (s)']]\n",
    "\n",
    "deepsol1['Tool'] = 'DeepSol1'\n",
    "deepsol2['Tool'] = 'DeepSol2'\n",
    "deepsol3['Tool'] = 'DeepSol3'"
   ]
  },
  {
   "cell_type": "code",
   "execution_count": 21,
   "metadata": {},
   "outputs": [
    {
     "data": {
      "text/plain": [
       "2081.9333333333334"
      ]
     },
     "execution_count": 21,
     "metadata": {},
     "output_type": "execute_result"
    }
   ],
   "source": [
    "deepsol1['Runtime (s)'].mean()"
   ]
  },
  {
   "cell_type": "code",
   "execution_count": 22,
   "metadata": {},
   "outputs": [
    {
     "data": {
      "text/plain": [
       "1612.713774834279"
      ]
     },
     "execution_count": 22,
     "metadata": {},
     "output_type": "execute_result"
    }
   ],
   "source": [
    "deepsol1['Runtime (s)'].std()"
   ]
  },
  {
   "cell_type": "code",
   "execution_count": 23,
   "metadata": {},
   "outputs": [
    {
     "data": {
      "text/plain": [
       "2069.766666666667"
      ]
     },
     "execution_count": 23,
     "metadata": {},
     "output_type": "execute_result"
    }
   ],
   "source": [
    "deepsol2['Runtime (s)'].mean()"
   ]
  },
  {
   "cell_type": "code",
   "execution_count": 24,
   "metadata": {},
   "outputs": [
    {
     "data": {
      "text/plain": [
       "1613.6266645800315"
      ]
     },
     "execution_count": 24,
     "metadata": {},
     "output_type": "execute_result"
    }
   ],
   "source": [
    "deepsol2['Runtime (s)'].std()"
   ]
  },
  {
   "cell_type": "code",
   "execution_count": 25,
   "metadata": {},
   "outputs": [
    {
     "data": {
      "text/plain": [
       "2075.9333333333334"
      ]
     },
     "execution_count": 25,
     "metadata": {},
     "output_type": "execute_result"
    }
   ],
   "source": [
    "deepsol3['Runtime (s)'].mean()"
   ]
  },
  {
   "cell_type": "code",
   "execution_count": 26,
   "metadata": {},
   "outputs": [
    {
     "data": {
      "text/plain": [
       "1613.797896446365"
      ]
     },
     "execution_count": 26,
     "metadata": {},
     "output_type": "execute_result"
    }
   ],
   "source": [
    "deepsol3['Runtime (s)'].std()"
   ]
  },
  {
   "cell_type": "code",
   "execution_count": 27,
   "metadata": {},
   "outputs": [],
   "source": [
    "deepsol1['Runtime (s)'] = deepsol1['Runtime (s)'] + 0.001\n",
    "deepsol2['Runtime (s)'] = deepsol2['Runtime (s)'] + 0.001\n",
    "deepsol3['Runtime (s)'] = deepsol3['Runtime (s)'] + 0.001"
   ]
  },
  {
   "cell_type": "code",
   "execution_count": 28,
   "metadata": {},
   "outputs": [],
   "source": [
    "# Protein-Sol\n",
    "dt = pd.read_csv('benchmark_protein-sol.txt', sep='\\t', header=None)\n",
    "dt.columns=['Accession', 'Runtime (s)']\n",
    "dt['Runtime (s)'] = dt['Runtime (s)'].astype(float)\n",
    "dt['Accession'] = dt.Accession.str.replace(' ','')\n",
    "protein_sol = pd.merge(d, dt, on='Accession')\n",
    "protein_sol['Tool'] = 'Protein-Sol'"
   ]
  },
  {
   "cell_type": "code",
   "execution_count": 29,
   "metadata": {},
   "outputs": [
    {
     "data": {
      "text/plain": [
       "1.1616666666666666"
      ]
     },
     "execution_count": 29,
     "metadata": {},
     "output_type": "execute_result"
    }
   ],
   "source": [
    "protein_sol['Runtime (s)'].mean()"
   ]
  },
  {
   "cell_type": "code",
   "execution_count": 30,
   "metadata": {},
   "outputs": [
    {
     "data": {
      "text/plain": [
       "0.7475250351399072"
      ]
     },
     "execution_count": 30,
     "metadata": {},
     "output_type": "execute_result"
    }
   ],
   "source": [
    "protein_sol['Runtime (s)'].std()"
   ]
  },
  {
   "cell_type": "code",
   "execution_count": 31,
   "metadata": {},
   "outputs": [],
   "source": [
    "protein_sol['Runtime (s)'] = protein_sol['Runtime (s)'] + 0.001"
   ]
  },
  {
   "cell_type": "code",
   "execution_count": 32,
   "metadata": {},
   "outputs": [],
   "source": [
    "# Wilkinson-Harrison model\n",
    "dt = pd.read_csv('benchmark_wilkinson.txt', sep='\\t', header=None)\n",
    "dt.columns=['Accession', 'Runtime (s)']\n",
    "dt['Runtime (s)'] = dt['Runtime (s)'].astype(float)\n",
    "dt['Accession'] = dt.Accession.str.replace(' ','')\n",
    "wilkinson = pd.merge(d, dt, on='Accession')\n",
    "wilkinson['Tool'] = 'Wilkinson-Harrison'"
   ]
  },
  {
   "cell_type": "code",
   "execution_count": 33,
   "metadata": {},
   "outputs": [
    {
     "data": {
      "text/plain": [
       "0.09"
      ]
     },
     "execution_count": 33,
     "metadata": {},
     "output_type": "execute_result"
    }
   ],
   "source": [
    "wilkinson['Runtime (s)'].mean()"
   ]
  },
  {
   "cell_type": "code",
   "execution_count": 34,
   "metadata": {},
   "outputs": [
    {
     "data": {
      "text/plain": [
       "0.0"
      ]
     },
     "execution_count": 34,
     "metadata": {},
     "output_type": "execute_result"
    }
   ],
   "source": [
    "wilkinson['Runtime (s)'].std()"
   ]
  },
  {
   "cell_type": "code",
   "execution_count": 35,
   "metadata": {},
   "outputs": [],
   "source": [
    "wilkinson['Runtime (s)'] = wilkinson['Runtime (s)'] + 0.001"
   ]
  },
  {
   "cell_type": "code",
   "execution_count": 36,
   "metadata": {},
   "outputs": [],
   "source": [
    "# Flexibility\n",
    "dt = pd.read_csv('benchmark_flexibility.txt', sep='\\t', header=None)\n",
    "dt.columns=['Accession', 'Runtime (s)']\n",
    "dt['Runtime (s)'] = dt['Runtime (s)'].astype(float)\n",
    "dt['Accession'] = dt.Accession.str.replace(' ','')\n",
    "flexibility = pd.merge(d, dt, on='Accession')\n",
    "flexibility['Tool'] = 'Flexibility'"
   ]
  },
  {
   "cell_type": "code",
   "execution_count": 37,
   "metadata": {},
   "outputs": [
    {
     "data": {
      "text/plain": [
       "0.3836666666666667"
      ]
     },
     "execution_count": 37,
     "metadata": {},
     "output_type": "execute_result"
    }
   ],
   "source": [
    "flexibility['Runtime (s)'].mean()"
   ]
  },
  {
   "cell_type": "code",
   "execution_count": 38,
   "metadata": {},
   "outputs": [
    {
     "data": {
      "text/plain": [
       "0.03978245440091546"
      ]
     },
     "execution_count": 38,
     "metadata": {},
     "output_type": "execute_result"
    }
   ],
   "source": [
    "flexibility['Runtime (s)'].std()"
   ]
  },
  {
   "cell_type": "code",
   "execution_count": 39,
   "metadata": {},
   "outputs": [],
   "source": [
    "flexibility['Runtime (s)'] = flexibility['Runtime (s)'] + 0.001"
   ]
  },
  {
   "cell_type": "code",
   "execution_count": 40,
   "metadata": {},
   "outputs": [],
   "source": [
    "# SWI\n",
    "dt = pd.read_csv('benchmark_swi.txt', sep='\\t', header=None)\n",
    "dt.columns=['Accession', 'Runtime (s)']\n",
    "dt['Runtime (s)'] = dt['Runtime (s)'].astype(float)\n",
    "dt['Accession'] = dt.Accession.str.replace(' ','')\n",
    "swi = pd.merge(d, dt, on='Accession')\n",
    "swi['Tool'] = 'SWI'"
   ]
  },
  {
   "cell_type": "code",
   "execution_count": 41,
   "metadata": {},
   "outputs": [
    {
     "data": {
      "text/plain": [
       "0.0"
      ]
     },
     "execution_count": 41,
     "metadata": {},
     "output_type": "execute_result"
    }
   ],
   "source": [
    "swi['Runtime (s)'].mean()"
   ]
  },
  {
   "cell_type": "code",
   "execution_count": 42,
   "metadata": {},
   "outputs": [
    {
     "data": {
      "text/plain": [
       "0.0"
      ]
     },
     "execution_count": 42,
     "metadata": {},
     "output_type": "execute_result"
    }
   ],
   "source": [
    "swi['Runtime (s)'].std()"
   ]
  },
  {
   "cell_type": "code",
   "execution_count": 43,
   "metadata": {},
   "outputs": [],
   "source": [
    "swi['Runtime (s)'] = swi['Runtime (s)'] + 0.001"
   ]
  },
  {
   "cell_type": "code",
   "execution_count": 44,
   "metadata": {},
   "outputs": [
    {
     "data": {
      "text/plain": [
       "<matplotlib.legend.Legend at 0x7f93e1dec908>"
      ]
     },
     "execution_count": 44,
     "metadata": {},
     "output_type": "execute_result"
    },
    {
     "data": {
      "image/png": "[encoded data removed]",
      "text/plain": [
       "<Figure size 288x288 with 1 Axes>"
      ]
     },
     "metadata": {
      "image/png": {
       "height": 267,
       "width": 439
      }
     },
     "output_type": "display_data"
    }
   ],
   "source": [
    "%matplotlib inline\n",
    "# %config InlineBackend.figure_format = 'pdf'\n",
    "%config InlineBackend.figure_format = 'retina'\n",
    "sns.set(style=\"whitegrid\")\n",
    "f, ax = plt.subplots(figsize=(4,4))\n",
    "ax.set(yscale=\"log\")\n",
    "sns.regplot(x='Length', y='Runtime (s)', lowess=True, data=deepsol1, color='#00897B')\n",
    "sns.regplot(x='Length', y='Runtime (s)', lowess=True, data=deepsol2, color='#43A047')\n",
    "sns.regplot(x='Length', y='Runtime (s)', lowess=True, data=deepsol3, color='#2ECC71')\n",
    "sns.regplot(x='Length', y='Runtime (s)', lowess=True, data=parsnip, color='#EEB932')\n",
    "sns.regplot(x='Length', y='Runtime (s)', lowess=True, data=protein_sol, color='#039BE5')\n",
    "sns.regplot(x='Length', y='Runtime (s)', lowess=True, data=flexibility, color='#7B1FA2')\n",
    "sns.regplot(x='Length', y='Runtime (s)', lowess=True, data=wilkinson, color='#95A5A6')\n",
    "sns.regplot(x='Length', y='Runtime (s)', lowess=True, data=swi, color='black')\n",
    "ax.set(ylim=(None, 100000))\n",
    "plt.xlabel('Protein sequence length')\n",
    "plt.ylabel('Runtime (s)')\n",
    "ax.legend(labels=['DeepSol1', 'DeepSol2', 'DeepSol3', \\\n",
    "                  'PaRSnIP', 'Protein-Sol', 'Flexibility', \\\n",
    "                  'Wilkinson-Harrison', 'SWI'], \\\n",
    "          loc='center right', bbox_to_anchor=(1.7, 0.5), ncol=1)\n",
    "# plt.savefig('benchmark.pdf')"
   ]
  },
  {
   "cell_type": "code",
   "execution_count": 45,
   "metadata": {},
   "outputs": [],
   "source": [
    "df = pd.concat([deepsol1, deepsol2, deepsol3, \\\n",
    "           parsnip, protein_sol, flexibility, \\\n",
    "           wilkinson, swi]).sort_values(['Tool', 'Accession']).reset_index(drop=True)"
   ]
  },
  {
   "cell_type": "code",
   "execution_count": 46,
   "metadata": {},
   "outputs": [],
   "source": [
    "run = (z for z in cycle(list(range(0,3))))\n",
    "run = pd.DataFrame({'Run': list(islice(run, 240))})"
   ]
  },
  {
   "cell_type": "code",
   "execution_count": 47,
   "metadata": {},
   "outputs": [],
   "source": [
    "df = pd.concat([df, run], axis=1)\n",
    "df['Runtime (hh:mm:ss)'] = pd.to_datetime(df['Runtime (s)'], unit='s').dt.time\n",
    "df = df.reindex(sorted(df.columns), axis=1)"
   ]
  },
  {
   "cell_type": "code",
   "execution_count": 48,
   "metadata": {},
   "outputs": [],
   "source": [
    "df.to_csv('benchmark.txt', sep='\\t', index=None)"
   ]
  },
  {
   "cell_type": "code",
   "execution_count": null,
   "metadata": {},
   "outputs": [],
   "source": []
  }
 ],
 "metadata": {
  "kernelspec": {
   "display_name": "Python 3",
   "language": "python",
   "name": "python3"
  },
  "language_info": {
   "codemirror_mode": {
    "name": "ipython",
    "version": 3
   },
   "file_extension": ".py",
   "mimetype": "text/x-python",
   "name": "python",
   "nbconvert_exporter": "python",
   "pygments_lexer": "ipython3",
   "version": "3.6.9"
  }
 },
 "nbformat": 4,
 "nbformat_minor": 2
}
