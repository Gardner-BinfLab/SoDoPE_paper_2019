{
 "cells": [
  {
   "cell_type": "code",
   "execution_count": 1,
   "metadata": {},
   "outputs": [],
   "source": [
    "import os\n",
    "import glob\n",
    "import pandas as pd\n",
    "import numpy as np\n",
    "import matplotlib.pyplot as plt"
   ]
  },
  {
   "cell_type": "markdown",
   "metadata": {},
   "source": [
    "#### pET15"
   ]
  },
  {
   "cell_type": "code",
   "execution_count": 6,
   "metadata": {},
   "outputs": [],
   "source": [
    "seq = pd.read_csv('/home/bikash/Documents/Solubility/results/pET15_cleaned.csv')\n",
    "\n",
    "#R analysis files\n",
    "\n",
    "path = r'/home/bikash/Documents/Solubility/protr_R_Package_analysis/pET/protr_pET15_NESG'  # use your path\n",
    "all_files = glob.glob(os.path.join(path, '*.txt'))     # advisable to use os.path.join as this makes concatenation OS independent\n",
    "\n",
    "df_from_each_file = [pd.read_csv(f, sep='\\t') for f in all_files]\n",
    "\n",
    "\n",
    "#merge all features\n",
    "\n",
    "from functools import reduce\n",
    "all_f = reduce(lambda x,y: pd.merge(x,y, on='Accession', how='outer'), df_from_each_file)\n",
    "\n",
    "#merge features with sequence\n",
    "\n",
    "total = pd.merge(seq, all_f, on=\"Accession\", how=\"outer\")\n",
    "\n",
    "total.dropna(inplace=True)\n",
    "\n",
    "total.to_csv('pET15_All.csv', index=None)"
   ]
  },
  {
   "cell_type": "markdown",
   "metadata": {},
   "source": [
    "#### pET21"
   ]
  },
  {
   "cell_type": "code",
   "execution_count": 7,
   "metadata": {},
   "outputs": [],
   "source": [
    "seq = pd.read_csv('/home/bikash/Documents/Solubility/results/pET21_cleaned.csv')\n",
    "\n",
    "#R analysis files\n",
    "\n",
    "path = r'/home/bikash/Documents/Solubility/protr_R_Package_analysis/pET/protr_pET21_NESG'  # use your path\n",
    "all_files = glob.glob(os.path.join(path, '*.txt'))     # advisable to use os.path.join as this makes concatenation OS independent\n",
    "\n",
    "df_from_each_file = [pd.read_csv(f, sep='\\t') for f in all_files]\n",
    "\n",
    "\n",
    "#merge all features\n",
    "\n",
    "from functools import reduce\n",
    "all_f = reduce(lambda x,y: pd.merge(x,y, on='Accession', how='outer'), df_from_each_file)\n",
    "\n",
    "#merge features with sequence\n",
    "\n",
    "total = pd.merge(seq, all_f, on=\"Accession\", how=\"outer\")\n",
    "\n",
    "total.dropna(inplace=True)\n",
    "\n",
    "total.to_csv('pET21_All.csv', index=None)"
   ]
  },
  {
   "cell_type": "code",
   "execution_count": null,
   "metadata": {},
   "outputs": [],
   "source": []
  },
  {
   "cell_type": "code",
   "execution_count": 8,
   "metadata": {},
   "outputs": [],
   "source": [
    "pET15 = pd.read_csv('/home/bikash/Documents/Solubility/For_upload/Solubility1/protr_R_Package_analysis/pET/pET15_All.csv')\n",
    "pET21 = pd.read_csv('/home/bikash/Documents/Solubility/For_upload/Solubility1/protr_R_Package_analysis/pET/pET21_All.csv')\n",
    "\n",
    "\n",
    "pET = pd.concat([pET15, pET21], sort=False)\n",
    "pET.to_pickle('pET.pkl.gz', compression='infer')"
   ]
  },
  {
   "cell_type": "code",
   "execution_count": null,
   "metadata": {},
   "outputs": [],
   "source": []
  },
  {
   "cell_type": "code",
   "execution_count": 14,
   "metadata": {},
   "outputs": [],
   "source": []
  },
  {
   "cell_type": "markdown",
   "metadata": {},
   "source": [
    "## AUC"
   ]
  },
  {
   "cell_type": "code",
   "execution_count": 4,
   "metadata": {
    "scrolled": true
   },
   "outputs": [],
   "source": [
    "pET = pd.read_pikcle('pET.pkl.gz')"
   ]
  },
  {
   "cell_type": "code",
   "execution_count": 23,
   "metadata": {
    "scrolled": true
   },
   "outputs": [],
   "source": [
    "# column we need\n",
    "cols = pET.columns[5:].values\n",
    "cols = np.append(aa, 'Solubility')\n",
    "\n",
    "# data for doing corr\n",
    "data = pET[cols]\n",
    "\n",
    "df = data.loc[:, data.columns != 'Solubility']\n",
    "labels = pET.Solubility.values"
   ]
  },
  {
   "cell_type": "code",
   "execution_count": null,
   "metadata": {},
   "outputs": [],
   "source": []
  },
  {
   "cell_type": "code",
   "execution_count": 24,
   "metadata": {},
   "outputs": [],
   "source": [
    "from sklearn.metrics import roc_curve, auc\n",
    "\n",
    "\n",
    "def all_rocs(df, labels):\n",
    "    aucs = []\n",
    "    for i, col in enumerate(df.columns):\n",
    "        preds = df[col].values\n",
    "        fpr, tpr, _ = roc_curve(labels, preds)\n",
    "        a = auc(fpr, tpr)\n",
    "        if a <= 0.5:\n",
    "            a = 1 - a\n",
    "        aucs.append(a)\n",
    "        \n",
    "    return aucs\n",
    "\n"
   ]
  },
  {
   "cell_type": "code",
   "execution_count": 25,
   "metadata": {},
   "outputs": [],
   "source": [
    "rocs = all_rocs(df, labels)\n",
    "rocs_df = pd.DataFrame({'Features':df.columns, 'AUC':rocs})\n",
    "rocs_df = rocs_df.sort_values('AUC', ascending=False).reset_index(drop=True)"
   ]
  },
  {
   "cell_type": "code",
   "execution_count": 30,
   "metadata": {},
   "outputs": [
    {
     "data": {
      "image/png": "[encoded data removed]",
      "text/plain": [
       "<Figure size 432x288 with 1 Axes>"
      ]
     },
     "metadata": {},
     "output_type": "display_data"
    }
   ],
   "source": [
    "import seaborn as sns\n",
    "sns.set_palette(\"Set2\")\n",
    "sns.set_style(\"whitegrid\")\n",
    "sns.set_context(\"paper\", font_scale=1.5)\n",
    "\n",
    "ax = sns.barplot(x=rocs_df.AUC.values[:10], y=rocs_df.Features[:10])\n",
    "ax.set(xlabel='AUC')\n",
    "ax.set(ylabel='')\n",
    "plt.savefig(\"top_features_pET.pdf\", bbox_inches = 'tight', pad_inches = 0)\n",
    "plt.show()\n"
   ]
  },
  {
   "cell_type": "code",
   "execution_count": null,
   "metadata": {},
   "outputs": [],
   "source": []
  },
  {
   "cell_type": "code",
   "execution_count": 28,
   "metadata": {},
   "outputs": [
    {
     "data": {
      "text/html": [
       "<div>\n",
       "<style scoped>\n",
       "    .dataframe tbody tr th:only-of-type {\n",
       "        vertical-align: middle;\n",
       "    }\n",
       "\n",
       "    .dataframe tbody tr th {\n",
       "        vertical-align: top;\n",
       "    }\n",
       "\n",
       "    .dataframe thead th {\n",
       "        text-align: right;\n",
       "    }\n",
       "</style>\n",
       "<table border=\"1\" class=\"dataframe\">\n",
       "  <thead>\n",
       "    <tr style=\"text-align: right;\">\n",
       "      <th></th>\n",
       "      <th>Features</th>\n",
       "      <th>AUC</th>\n",
       "    </tr>\n",
       "  </thead>\n",
       "  <tbody>\n",
       "    <tr>\n",
       "      <th>0</th>\n",
       "      <td>Pc1.C</td>\n",
       "      <td>0.650692</td>\n",
       "    </tr>\n",
       "  </tbody>\n",
       "</table>\n",
       "</div>"
      ],
      "text/plain": [
       "  Features       AUC\n",
       "0    Pc1.C  0.650692"
      ]
     },
     "execution_count": 28,
     "metadata": {},
     "output_type": "execute_result"
    }
   ],
   "source": [
    "rocs_df.loc[rocs_df['AUC'] == max(rocs_df['AUC'])]"
   ]
  },
  {
   "cell_type": "code",
   "execution_count": 31,
   "metadata": {},
   "outputs": [
    {
     "data": {
      "image/png": "[encoded data removed]",
      "text/plain": [
       "<Figure size 432x288 with 1 Axes>"
      ]
     },
     "metadata": {},
     "output_type": "display_data"
    }
   ],
   "source": [
    "sns.set_palette(\"Set1_r\")\n",
    "ax = sns.distplot(rocs_df['AUC'], bins=80)\n",
    "ax.set(ylabel='Density')\n",
    "sns.despine()\n",
    "plt.savefig(\"kde_features_pET.pdf\", bbox_inches='tight', pad_inches=0)"
   ]
  },
  {
   "cell_type": "code",
   "execution_count": 38,
   "metadata": {},
   "outputs": [],
   "source": []
  },
  {
   "cell_type": "code",
   "execution_count": null,
   "metadata": {},
   "outputs": [],
   "source": []
  },
  {
   "cell_type": "code",
   "execution_count": null,
   "metadata": {},
   "outputs": [],
   "source": []
  },
  {
   "cell_type": "code",
   "execution_count": null,
   "metadata": {},
   "outputs": [],
   "source": []
  },
  {
   "cell_type": "code",
   "execution_count": null,
   "metadata": {},
   "outputs": [],
   "source": []
  },
  {
   "cell_type": "code",
   "execution_count": null,
   "metadata": {},
   "outputs": [],
   "source": []
  }
 ],
 "metadata": {
  "kernelspec": {
   "display_name": "Python 3",
   "language": "python",
   "name": "python3"
  },
  "language_info": {
   "codemirror_mode": {
    "name": "ipython",
    "version": 3
   },
   "file_extension": ".py",
   "mimetype": "text/x-python",
   "name": "python",
   "nbconvert_exporter": "python",
   "pygments_lexer": "ipython3",
   "version": "3.6.9"
  }
 },
 "nbformat": 4,
 "nbformat_minor": 2
}
