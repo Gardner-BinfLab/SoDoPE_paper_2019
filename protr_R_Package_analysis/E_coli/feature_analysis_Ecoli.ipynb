{
 "cells": [
  {
   "cell_type": "code",
   "execution_count": 3,
   "metadata": {},
   "outputs": [],
   "source": [
    "import sys\n",
    "import os\n",
    "import glob\n",
    "import pandas as pd\n",
    "import numpy as np\n",
    "\n",
    "\n",
    "#Use the root folder here or copy functions.py to this dir\n",
    "sys.path.append('/home/bikash/Documents/Solubility/')\n",
    "\n",
    "import functions"
   ]
  },
  {
   "cell_type": "code",
   "execution_count": 6,
   "metadata": {},
   "outputs": [],
   "source": [
    "seq = pd.read_pickle('/home/bikash/Documents/Solubility/results/ecoli.pkl.gz')"
   ]
  },
  {
   "cell_type": "code",
   "execution_count": null,
   "metadata": {},
   "outputs": [],
   "source": []
  },
  {
   "cell_type": "code",
   "execution_count": 7,
   "metadata": {
    "scrolled": true
   },
   "outputs": [
    {
     "data": {
      "text/html": [
       "<div>\n",
       "<style scoped>\n",
       "    .dataframe tbody tr th:only-of-type {\n",
       "        vertical-align: middle;\n",
       "    }\n",
       "\n",
       "    .dataframe tbody tr th {\n",
       "        vertical-align: top;\n",
       "    }\n",
       "\n",
       "    .dataframe thead th {\n",
       "        text-align: right;\n",
       "    }\n",
       "</style>\n",
       "<table border=\"1\" class=\"dataframe\">\n",
       "  <thead>\n",
       "    <tr style=\"text-align: right;\">\n",
       "      <th></th>\n",
       "      <th>Accession</th>\n",
       "      <th>Sequence</th>\n",
       "      <th>ECK number</th>\n",
       "      <th>JW</th>\n",
       "      <th>Solubility(%)</th>\n",
       "    </tr>\n",
       "  </thead>\n",
       "  <tbody>\n",
       "    <tr>\n",
       "      <th>2</th>\n",
       "      <td>JW0002 thrB ECK0003</td>\n",
       "      <td>MRGSHHHHHHTDPALRAMVKVYAPASSANMSVGFDVLGAAVTPVDG...</td>\n",
       "      <td>ECK0003</td>\n",
       "      <td>JW0002</td>\n",
       "      <td>32.0</td>\n",
       "    </tr>\n",
       "    <tr>\n",
       "      <th>3</th>\n",
       "      <td>JW0003 thrC ECK0004</td>\n",
       "      <td>MRGSHHHHHHTDPALRAMKLYNLKDHNEQVSFAQAVTQGLGKNQGL...</td>\n",
       "      <td>ECK0004</td>\n",
       "      <td>JW0003</td>\n",
       "      <td>18.0</td>\n",
       "    </tr>\n",
       "    <tr>\n",
       "      <th>4</th>\n",
       "      <td>JW0004 yaaX ECK0005</td>\n",
       "      <td>MRGSHHHHHHTDPALRAMKKMQSIVLALSLVLVAPMAAQAAEITLV...</td>\n",
       "      <td>ECK0005</td>\n",
       "      <td>JW0004</td>\n",
       "      <td>78.0</td>\n",
       "    </tr>\n",
       "    <tr>\n",
       "      <th>5</th>\n",
       "      <td>JW0005 yaaA ECK0006</td>\n",
       "      <td>MRGSHHHHHHTDPALRAMLILISPAKTLDYQSPLTTTRYTLPELLD...</td>\n",
       "      <td>ECK0006</td>\n",
       "      <td>JW0005</td>\n",
       "      <td>7.0</td>\n",
       "    </tr>\n",
       "    <tr>\n",
       "      <th>7</th>\n",
       "      <td>JW0007 talB ECK0008</td>\n",
       "      <td>MRGSHHHHHHTDPALRAMTDKLTSLRQYTTVVADTGDIAAMKLYQP...</td>\n",
       "      <td>ECK0008</td>\n",
       "      <td>JW0007</td>\n",
       "      <td>85.0</td>\n",
       "    </tr>\n",
       "  </tbody>\n",
       "</table>\n",
       "</div>"
      ],
      "text/plain": [
       "             Accession                                           Sequence  \\\n",
       "2  JW0002 thrB ECK0003  MRGSHHHHHHTDPALRAMVKVYAPASSANMSVGFDVLGAAVTPVDG...   \n",
       "3  JW0003 thrC ECK0004  MRGSHHHHHHTDPALRAMKLYNLKDHNEQVSFAQAVTQGLGKNQGL...   \n",
       "4  JW0004 yaaX ECK0005  MRGSHHHHHHTDPALRAMKKMQSIVLALSLVLVAPMAAQAAEITLV...   \n",
       "5  JW0005 yaaA ECK0006  MRGSHHHHHHTDPALRAMLILISPAKTLDYQSPLTTTRYTLPELLD...   \n",
       "7  JW0007 talB ECK0008  MRGSHHHHHHTDPALRAMTDKLTSLRQYTTVVADTGDIAAMKLYQP...   \n",
       "\n",
       "  ECK number      JW  Solubility(%)  \n",
       "2    ECK0003  JW0002           32.0  \n",
       "3    ECK0004  JW0003           18.0  \n",
       "4    ECK0005  JW0004           78.0  \n",
       "5    ECK0006  JW0005            7.0  \n",
       "7    ECK0008  JW0007           85.0  "
      ]
     },
     "execution_count": 7,
     "metadata": {},
     "output_type": "execute_result"
    }
   ],
   "source": [
    "seq.head()"
   ]
  },
  {
   "cell_type": "code",
   "execution_count": null,
   "metadata": {
    "scrolled": true
   },
   "outputs": [],
   "source": []
  },
  {
   "cell_type": "code",
   "execution_count": 8,
   "metadata": {},
   "outputs": [],
   "source": [
    "path = r'/home/bikash/Documents/Solubility/protr_R_Package_analysis/E_coli/protr_ecoli_W3110' # use your path\n",
    "all_files = glob.glob(os.path.join(path, '*.txt'))     # advisable to use os.path.join as this makes concatenation OS independent\n",
    "\n",
    "df_from_each_file = [pd.read_csv(f, sep='\\t') for f in all_files]\n"
   ]
  },
  {
   "cell_type": "code",
   "execution_count": null,
   "metadata": {
    "scrolled": false
   },
   "outputs": [],
   "source": []
  },
  {
   "cell_type": "code",
   "execution_count": 9,
   "metadata": {},
   "outputs": [],
   "source": [
    "#merge all features\n",
    "\n",
    "from functools import reduce\n",
    "all_f = reduce(lambda x,y: pd.merge(x,y, on='Accession', how='outer'), df_from_each_file)\n"
   ]
  },
  {
   "cell_type": "code",
   "execution_count": 10,
   "metadata": {},
   "outputs": [],
   "source": [
    "all_f = all_f.rename(columns={'Accession':'JW'})"
   ]
  },
  {
   "cell_type": "code",
   "execution_count": 11,
   "metadata": {},
   "outputs": [],
   "source": [
    "#merge features with sequence\n",
    "\n",
    "total = pd.merge(seq, all_f, on=\"JW\", how=\"outer\")"
   ]
  },
  {
   "cell_type": "code",
   "execution_count": 12,
   "metadata": {},
   "outputs": [],
   "source": [
    "total.dropna(inplace=True)"
   ]
  },
  {
   "cell_type": "code",
   "execution_count": 13,
   "metadata": {},
   "outputs": [
    {
     "data": {
      "text/html": [
       "<div>\n",
       "<style scoped>\n",
       "    .dataframe tbody tr th:only-of-type {\n",
       "        vertical-align: middle;\n",
       "    }\n",
       "\n",
       "    .dataframe tbody tr th {\n",
       "        vertical-align: top;\n",
       "    }\n",
       "\n",
       "    .dataframe thead th {\n",
       "        text-align: right;\n",
       "    }\n",
       "</style>\n",
       "<table border=\"1\" class=\"dataframe\">\n",
       "  <thead>\n",
       "    <tr style=\"text-align: right;\">\n",
       "      <th></th>\n",
       "      <th>Accession</th>\n",
       "      <th>Sequence</th>\n",
       "      <th>ECK number</th>\n",
       "      <th>JW</th>\n",
       "      <th>Solubility(%)</th>\n",
       "      <th>AAA</th>\n",
       "      <th>RAA</th>\n",
       "      <th>NAA</th>\n",
       "      <th>DAA</th>\n",
       "      <th>CAA</th>\n",
       "      <th>...</th>\n",
       "      <th>Grantham.lag21</th>\n",
       "      <th>Grantham.lag22</th>\n",
       "      <th>Grantham.lag23</th>\n",
       "      <th>Grantham.lag24</th>\n",
       "      <th>Grantham.lag25</th>\n",
       "      <th>Grantham.lag26</th>\n",
       "      <th>Grantham.lag27</th>\n",
       "      <th>Grantham.lag28</th>\n",
       "      <th>Grantham.lag29</th>\n",
       "      <th>Grantham.lag30</th>\n",
       "    </tr>\n",
       "  </thead>\n",
       "  <tbody>\n",
       "    <tr>\n",
       "      <th>0</th>\n",
       "      <td>JW0002 thrB ECK0003</td>\n",
       "      <td>MRGSHHHHHHTDPALRAMVKVYAPASSANMSVGFDVLGAAVTPVDG...</td>\n",
       "      <td>ECK0003</td>\n",
       "      <td>JW0002</td>\n",
       "      <td>32.0</td>\n",
       "      <td>0.0</td>\n",
       "      <td>0.000000</td>\n",
       "      <td>0.000000</td>\n",
       "      <td>0.0</td>\n",
       "      <td>0.0</td>\n",
       "      <td>...</td>\n",
       "      <td>3221285</td>\n",
       "      <td>3500217</td>\n",
       "      <td>3327623</td>\n",
       "      <td>3244796</td>\n",
       "      <td>3241457</td>\n",
       "      <td>3413298</td>\n",
       "      <td>3139704</td>\n",
       "      <td>3171637</td>\n",
       "      <td>3242844</td>\n",
       "      <td>3006789</td>\n",
       "    </tr>\n",
       "    <tr>\n",
       "      <th>1</th>\n",
       "      <td>JW0003 thrC ECK0004</td>\n",
       "      <td>MRGSHHHHHHTDPALRAMKLYNLKDHNEQVSFAQAVTQGLGKNQGL...</td>\n",
       "      <td>ECK0004</td>\n",
       "      <td>JW0003</td>\n",
       "      <td>18.0</td>\n",
       "      <td>0.0</td>\n",
       "      <td>0.002232</td>\n",
       "      <td>0.000000</td>\n",
       "      <td>0.0</td>\n",
       "      <td>0.0</td>\n",
       "      <td>...</td>\n",
       "      <td>4402567</td>\n",
       "      <td>4227192</td>\n",
       "      <td>4216894</td>\n",
       "      <td>3748312</td>\n",
       "      <td>4003901</td>\n",
       "      <td>4198377</td>\n",
       "      <td>3946299</td>\n",
       "      <td>3911683</td>\n",
       "      <td>4199487</td>\n",
       "      <td>4320432</td>\n",
       "    </tr>\n",
       "    <tr>\n",
       "      <th>2</th>\n",
       "      <td>JW0004 yaaX ECK0005</td>\n",
       "      <td>MRGSHHHHHHTDPALRAMKKMQSIVLALSLVLVAPMAAQAAEITLV...</td>\n",
       "      <td>ECK0005</td>\n",
       "      <td>JW0004</td>\n",
       "      <td>78.0</td>\n",
       "      <td>0.0</td>\n",
       "      <td>0.000000</td>\n",
       "      <td>0.000000</td>\n",
       "      <td>0.0</td>\n",
       "      <td>0.0</td>\n",
       "      <td>...</td>\n",
       "      <td>1074708</td>\n",
       "      <td>969795</td>\n",
       "      <td>953477</td>\n",
       "      <td>917513</td>\n",
       "      <td>836246</td>\n",
       "      <td>990139</td>\n",
       "      <td>909771</td>\n",
       "      <td>883848</td>\n",
       "      <td>889027</td>\n",
       "      <td>938811</td>\n",
       "    </tr>\n",
       "    <tr>\n",
       "      <th>3</th>\n",
       "      <td>JW0005 yaaA ECK0006</td>\n",
       "      <td>MRGSHHHHHHTDPALRAMLILISPAKTLDYQSPLTTTRYTLPELLD...</td>\n",
       "      <td>ECK0006</td>\n",
       "      <td>JW0005</td>\n",
       "      <td>7.0</td>\n",
       "      <td>0.0</td>\n",
       "      <td>0.000000</td>\n",
       "      <td>0.003597</td>\n",
       "      <td>0.0</td>\n",
       "      <td>0.0</td>\n",
       "      <td>...</td>\n",
       "      <td>2496055</td>\n",
       "      <td>2540633</td>\n",
       "      <td>2453051</td>\n",
       "      <td>2341848</td>\n",
       "      <td>2459964</td>\n",
       "      <td>2500249</td>\n",
       "      <td>2400842</td>\n",
       "      <td>2495772</td>\n",
       "      <td>2595495</td>\n",
       "      <td>2370518</td>\n",
       "    </tr>\n",
       "    <tr>\n",
       "      <th>4</th>\n",
       "      <td>JW0007 talB ECK0008</td>\n",
       "      <td>MRGSHHHHHHTDPALRAMTDKLTSLRQYTTVVADTGDIAAMKLYQP...</td>\n",
       "      <td>ECK0008</td>\n",
       "      <td>JW0007</td>\n",
       "      <td>85.0</td>\n",
       "      <td>0.0</td>\n",
       "      <td>0.002967</td>\n",
       "      <td>0.002967</td>\n",
       "      <td>0.0</td>\n",
       "      <td>0.0</td>\n",
       "      <td>...</td>\n",
       "      <td>3014271</td>\n",
       "      <td>2963456</td>\n",
       "      <td>3369115</td>\n",
       "      <td>2947963</td>\n",
       "      <td>3268055</td>\n",
       "      <td>3108024</td>\n",
       "      <td>2797146</td>\n",
       "      <td>2976679</td>\n",
       "      <td>3135921</td>\n",
       "      <td>2994414</td>\n",
       "    </tr>\n",
       "  </tbody>\n",
       "</table>\n",
       "<p>5 rows × 9925 columns</p>\n",
       "</div>"
      ],
      "text/plain": [
       "             Accession                                           Sequence  \\\n",
       "0  JW0002 thrB ECK0003  MRGSHHHHHHTDPALRAMVKVYAPASSANMSVGFDVLGAAVTPVDG...   \n",
       "1  JW0003 thrC ECK0004  MRGSHHHHHHTDPALRAMKLYNLKDHNEQVSFAQAVTQGLGKNQGL...   \n",
       "2  JW0004 yaaX ECK0005  MRGSHHHHHHTDPALRAMKKMQSIVLALSLVLVAPMAAQAAEITLV...   \n",
       "3  JW0005 yaaA ECK0006  MRGSHHHHHHTDPALRAMLILISPAKTLDYQSPLTTTRYTLPELLD...   \n",
       "4  JW0007 talB ECK0008  MRGSHHHHHHTDPALRAMTDKLTSLRQYTTVVADTGDIAAMKLYQP...   \n",
       "\n",
       "  ECK number      JW  Solubility(%)  AAA       RAA       NAA  DAA  CAA  ...  \\\n",
       "0    ECK0003  JW0002           32.0  0.0  0.000000  0.000000  0.0  0.0  ...   \n",
       "1    ECK0004  JW0003           18.0  0.0  0.002232  0.000000  0.0  0.0  ...   \n",
       "2    ECK0005  JW0004           78.0  0.0  0.000000  0.000000  0.0  0.0  ...   \n",
       "3    ECK0006  JW0005            7.0  0.0  0.000000  0.003597  0.0  0.0  ...   \n",
       "4    ECK0008  JW0007           85.0  0.0  0.002967  0.002967  0.0  0.0  ...   \n",
       "\n",
       "   Grantham.lag21  Grantham.lag22  Grantham.lag23  Grantham.lag24  \\\n",
       "0         3221285         3500217         3327623         3244796   \n",
       "1         4402567         4227192         4216894         3748312   \n",
       "2         1074708          969795          953477          917513   \n",
       "3         2496055         2540633         2453051         2341848   \n",
       "4         3014271         2963456         3369115         2947963   \n",
       "\n",
       "   Grantham.lag25  Grantham.lag26  Grantham.lag27  Grantham.lag28  \\\n",
       "0         3241457         3413298         3139704         3171637   \n",
       "1         4003901         4198377         3946299         3911683   \n",
       "2          836246          990139          909771          883848   \n",
       "3         2459964         2500249         2400842         2495772   \n",
       "4         3268055         3108024         2797146         2976679   \n",
       "\n",
       "   Grantham.lag29  Grantham.lag30  \n",
       "0         3242844         3006789  \n",
       "1         4199487         4320432  \n",
       "2          889027          938811  \n",
       "3         2595495         2370518  \n",
       "4         3135921         2994414  \n",
       "\n",
       "[5 rows x 9925 columns]"
      ]
     },
     "execution_count": 13,
     "metadata": {},
     "output_type": "execute_result"
    }
   ],
   "source": [
    "total.head()"
   ]
  },
  {
   "cell_type": "code",
   "execution_count": 14,
   "metadata": {},
   "outputs": [],
   "source": [
    "# column we need\n",
    "# cols = np.append(total.columns[6:], 'Solubility(%)')\n",
    "cols = total.columns[4:]\n",
    "# data for doing corr\n",
    "data = total[cols]"
   ]
  },
  {
   "cell_type": "code",
   "execution_count": 15,
   "metadata": {
    "scrolled": true
   },
   "outputs": [
    {
     "name": "stderr",
     "output_type": "stream",
     "text": [
      "/home/bikash/.local/lib/python3.6/site-packages/numpy/lib/function_base.py:2530: RuntimeWarning: invalid value encountered in true_divide\n",
      "  c /= stddev[:, None]\n",
      "/home/bikash/.local/lib/python3.6/site-packages/numpy/lib/function_base.py:2531: RuntimeWarning: invalid value encountered in true_divide\n",
      "  c /= stddev[None, :]\n",
      "/home/bikash/.local/lib/python3.6/site-packages/scipy/stats/_distn_infrastructure.py:877: RuntimeWarning: invalid value encountered in greater\n",
      "  return (self.a < x) & (x < self.b)\n",
      "/home/bikash/.local/lib/python3.6/site-packages/scipy/stats/_distn_infrastructure.py:877: RuntimeWarning: invalid value encountered in less\n",
      "  return (self.a < x) & (x < self.b)\n",
      "/home/bikash/.local/lib/python3.6/site-packages/scipy/stats/_distn_infrastructure.py:1831: RuntimeWarning: invalid value encountered in less_equal\n",
      "  cond2 = cond0 & (x <= self.a)\n"
     ]
    }
   ],
   "source": [
    "from scipy.stats import spearmanr\n",
    "\n",
    "d = total[total.columns[4:]]\n",
    "\n",
    "df_corr = pd.DataFrame() # Correlation matrix\n",
    "df_p = pd.DataFrame()  # Matrix of p-values\n",
    "for x in d.columns:\n",
    "    y = 'Solubility(%)'\n",
    "    corr1 = spearmanr(d[x], d[y])\n",
    "    df_corr.loc[x,y] = corr1[0]\n",
    "    df_p.loc[x,y] = corr1[1]\n",
    "\n",
    "\n",
    "\n"
   ]
  },
  {
   "cell_type": "code",
   "execution_count": 16,
   "metadata": {
    "scrolled": true
   },
   "outputs": [],
   "source": [
    "df_corr.to_pickle('corr.pkl.gz')\n",
    "df_p.to_pickle('p_val.pkl.gz')"
   ]
  },
  {
   "cell_type": "code",
   "execution_count": 17,
   "metadata": {
    "scrolled": true
   },
   "outputs": [],
   "source": [
    "df_corr = pd.read_pickle('corr.pkl.gz')\n",
    "df_p = pd.read_pickle('p_val.pkl.gz')"
   ]
  },
  {
   "cell_type": "code",
   "execution_count": 18,
   "metadata": {},
   "outputs": [
    {
     "data": {
      "text/html": [
       "<div>\n",
       "<style scoped>\n",
       "    .dataframe tbody tr th:only-of-type {\n",
       "        vertical-align: middle;\n",
       "    }\n",
       "\n",
       "    .dataframe tbody tr th {\n",
       "        vertical-align: top;\n",
       "    }\n",
       "\n",
       "    .dataframe thead th {\n",
       "        text-align: right;\n",
       "    }\n",
       "</style>\n",
       "<table border=\"1\" class=\"dataframe\">\n",
       "  <thead>\n",
       "    <tr style=\"text-align: right;\">\n",
       "      <th></th>\n",
       "      <th>Solubility(%)</th>\n",
       "    </tr>\n",
       "  </thead>\n",
       "  <tbody>\n",
       "    <tr>\n",
       "      <th>Solubility(%)</th>\n",
       "      <td>1.000000</td>\n",
       "    </tr>\n",
       "    <tr>\n",
       "      <th>AAA</th>\n",
       "      <td>-0.008970</td>\n",
       "    </tr>\n",
       "    <tr>\n",
       "      <th>RAA</th>\n",
       "      <td>-0.059586</td>\n",
       "    </tr>\n",
       "    <tr>\n",
       "      <th>NAA</th>\n",
       "      <td>-0.041838</td>\n",
       "    </tr>\n",
       "    <tr>\n",
       "      <th>DAA</th>\n",
       "      <td>0.027832</td>\n",
       "    </tr>\n",
       "  </tbody>\n",
       "</table>\n",
       "</div>"
      ],
      "text/plain": [
       "               Solubility(%)\n",
       "Solubility(%)       1.000000\n",
       "AAA                -0.008970\n",
       "RAA                -0.059586\n",
       "NAA                -0.041838\n",
       "DAA                 0.027832"
      ]
     },
     "execution_count": 18,
     "metadata": {},
     "output_type": "execute_result"
    }
   ],
   "source": [
    "df_corr.dropna(inplace=True)\n",
    "df_corr.head()"
   ]
  },
  {
   "cell_type": "code",
   "execution_count": 19,
   "metadata": {},
   "outputs": [
    {
     "data": {
      "text/plain": [
       "AAA              -0.008970\n",
       "RAA              -0.059586\n",
       "NAA              -0.041838\n",
       "DAA               0.027832\n",
       "CAA              -0.019258\n",
       "                    ...   \n",
       "Grantham.lag26   -0.354338\n",
       "Grantham.lag27   -0.352716\n",
       "Grantham.lag28   -0.351296\n",
       "Grantham.lag29   -0.353949\n",
       "Grantham.lag30   -0.348340\n",
       "Name: Solubility(%), Length: 9912, dtype: float64"
      ]
     },
     "execution_count": 19,
     "metadata": {},
     "output_type": "execute_result"
    }
   ],
   "source": [
    "df_corr['Solubility(%)'][1:]"
   ]
  },
  {
   "cell_type": "code",
   "execution_count": 20,
   "metadata": {},
   "outputs": [
    {
     "data": {
      "text/plain": [
       "(prop1.G1.residue0    0.350525\n",
       " dtype: float64, Xc1.W   -0.401499\n",
       " dtype: float64)"
      ]
     },
     "execution_count": 20,
     "metadata": {},
     "output_type": "execute_result"
    }
   ],
   "source": [
    "top_feat = pd.Series(df_corr['Solubility(%)'][1:].values, index=df_corr.index[1:])\n",
    "top_feat.nlargest(1), top_feat.nsmallest(1)\n",
    "\n"
   ]
  },
  {
   "cell_type": "code",
   "execution_count": null,
   "metadata": {},
   "outputs": [],
   "source": []
  },
  {
   "cell_type": "markdown",
   "metadata": {},
   "source": [
    "## feature Xc1.W has the highest correlation in eSOL data"
   ]
  },
  {
   "cell_type": "code",
   "execution_count": 22,
   "metadata": {},
   "outputs": [
    {
     "data": {
      "image/png": "[encoded data removed]",
      "text/plain": [
       "<Figure size 432x288 with 1 Axes>"
      ]
     },
     "metadata": {
      "needs_background": "light"
     },
     "output_type": "display_data"
    }
   ],
   "source": [
    "functions.sns.set_palette(\"Set1_r\")\n",
    "# functions.plt.figure(figsize=(4, 4))\n",
    "ax = functions.sns.distplot(df_corr['Solubility(%)'][1:])\n",
    "ax.set(ylabel='Density', xlabel=\"Spearman's correlation\")\n",
    "functions.sns.despine()\n",
    "functions.plt.savefig(\"kde_features_eSOL.pdf\", bbox_inches='tight', pad_inches=0)"
   ]
  },
  {
   "cell_type": "code",
   "execution_count": null,
   "metadata": {},
   "outputs": [],
   "source": []
  },
  {
   "cell_type": "code",
   "execution_count": null,
   "metadata": {},
   "outputs": [],
   "source": [
    "all_ = pd.concat([df_corr, df_p], axis=1, sort=False)\n",
    "all_.dropna(inplace=True)\n",
    "all_.to_csv('corr_and_p.csv')"
   ]
  },
  {
   "cell_type": "code",
   "execution_count": null,
   "metadata": {},
   "outputs": [],
   "source": [
    "all_.shape #(9913, 2)"
   ]
  },
  {
   "cell_type": "code",
   "execution_count": null,
   "metadata": {},
   "outputs": [],
   "source": [
    "functions.plt.figure(figsize=(4, 4))\n",
    "\n",
    "ax = top_feat.nsmallest(10).plot(kind='barh')\n",
    "ax.set(xlabel='Correlation')\n",
    "ax.set(ylabel='')\n",
    "functions.plt.savefig(\"top_negative_features_eSOL.pdf\", bbox_inches = 'tight', pad_inches = 0)\n",
    "functions.plt.show()\n"
   ]
  },
  {
   "cell_type": "code",
   "execution_count": null,
   "metadata": {},
   "outputs": [],
   "source": [
    "functions.plt.figure(figsize=(4, 4))\n",
    "\n",
    "ax = top_feat.nlargest(10).plot(kind='barh')\n",
    "ax.set(xlabel='Correlation')\n",
    "ax.set(ylabel='')\n",
    "functions.plt.savefig(\"top_positive_features_eSOL.pdf\", bbox_inches = 'tight', pad_inches = 0)\n",
    "functions.plt.show()\n"
   ]
  }
 ],
 "metadata": {
  "kernelspec": {
   "display_name": "Python 3",
   "language": "python",
   "name": "python3"
  },
  "language_info": {
   "codemirror_mode": {
    "name": "ipython",
    "version": 3
   },
   "file_extension": ".py",
   "mimetype": "text/x-python",
   "name": "python",
   "nbconvert_exporter": "python",
   "pygments_lexer": "ipython3",
   "version": "3.6.9"
  }
 },
 "nbformat": 4,
 "nbformat_minor": 2
}
