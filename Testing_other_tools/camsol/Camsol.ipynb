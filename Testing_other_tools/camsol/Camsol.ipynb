{
 "cells": [
  {
   "cell_type": "code",
   "execution_count": 1,
   "metadata": {},
   "outputs": [],
   "source": [
    "import os\n",
    "import pandas as pd\n",
    "import sys\n",
    "\n",
    "root_dir = os.path.abspath(os.path.join(os.getcwd(), \"../..\"))\n",
    "os.chdir(root_dir)\n",
    "\n",
    "import functions"
   ]
  },
  {
   "cell_type": "code",
   "execution_count": null,
   "metadata": {},
   "outputs": [],
   "source": []
  },
  {
   "cell_type": "code",
   "execution_count": 2,
   "metadata": {},
   "outputs": [],
   "source": [
    "#Datasets\n",
    "pET = pd.read_pickle(root_dir + '/results/pET_complete.pkl.gz', compression='infer')\n",
    "ecoli_w3110 = pd.read_pickle(root_dir + '/results/ecoli.pkl.gz', compression='infer')"
   ]
  },
  {
   "cell_type": "code",
   "execution_count": 3,
   "metadata": {},
   "outputs": [],
   "source": [
    "#Datasets\n",
    "pET['Accession'] = pET['Accession'].apply(lambda x:x.split('_')[0])"
   ]
  },
  {
   "cell_type": "code",
   "execution_count": 4,
   "metadata": {},
   "outputs": [],
   "source": [
    "camsol_pET21 = pd.read_csv('Testing_other_tools/camsol/CamSol_intrinsic_pET21_NESG.txt', sep='\\t', header=None)\n",
    "camsol_pET15 = pd.read_csv('Testing_other_tools/camsol/CamSol_intrinsic_pET15_NESG.txt', sep='\\t', header=None)\n",
    "camsol_ecoli = pd.read_csv('Testing_other_tools/camsol/CamSol_intrinsic_ecoli_W3110_tags.txt', sep='\\t', header=None)\n",
    "\n",
    "#merge pET\n",
    "camsol_pET = pd.concat([camsol_pET15, camsol_pET21])\n",
    "\n",
    "\n",
    "#Rename cols\n",
    "camsol_pET = camsol_pET.rename(columns={0:'Accession', 1:'Score'})\n",
    "camsol_ecoli = camsol_ecoli.rename(columns={0:'JW', 1:'Score'})"
   ]
  },
  {
   "cell_type": "code",
   "execution_count": 5,
   "metadata": {},
   "outputs": [
    {
     "data": {
      "text/plain": [
       "((16281, 2), (12216, 5), (3198, 5), (4311, 2))"
      ]
     },
     "execution_count": 5,
     "metadata": {},
     "output_type": "execute_result"
    }
   ],
   "source": [
    "camsol_pET.shape, pET.shape, ecoli_w3110.shape, camsol_ecoli.shape"
   ]
  },
  {
   "cell_type": "code",
   "execution_count": 6,
   "metadata": {},
   "outputs": [],
   "source": [
    "#merge results with cleaned dataset\n",
    "df_pET = pET.merge(camsol_pET, on=\"Accession\")\n",
    "df_ecoli = ecoli_w3110.merge(camsol_ecoli, on=\"JW\")"
   ]
  },
  {
   "cell_type": "code",
   "execution_count": 7,
   "metadata": {},
   "outputs": [
    {
     "data": {
      "image/png": "[encoded data removed]",
      "text/plain": [
       "<Figure size 288x288 with 1 Axes>"
      ]
     },
     "metadata": {
      "needs_background": "light"
     },
     "output_type": "display_data"
    }
   ],
   "source": [
    "#ROC for pET\n",
    "\n",
    "df = df_pET[['Score']].copy()\n",
    "\n",
    "labels = df_pET['Solubility'].values\n",
    "functions.make_roc(df, labels)"
   ]
  },
  {
   "cell_type": "code",
   "execution_count": 8,
   "metadata": {},
   "outputs": [
    {
     "data": {
      "text/plain": [
       "SpearmanrResult(correlation=0.43537181844707445, pvalue=4.5274663494369577e-148)"
      ]
     },
     "execution_count": 8,
     "metadata": {},
     "output_type": "execute_result"
    }
   ],
   "source": [
    "#Correlation for ecoli\n",
    "from scipy.stats import spearmanr\n",
    "\n",
    "spearmanr(df_ecoli['Score'], df_ecoli['Solubility(%)'])"
   ]
  },
  {
   "cell_type": "code",
   "execution_count": 9,
   "metadata": {},
   "outputs": [
    {
     "data": {
      "text/plain": [
       "((12216, 6), (3198, 6))"
      ]
     },
     "execution_count": 9,
     "metadata": {},
     "output_type": "execute_result"
    }
   ],
   "source": [
    "df_pET.shape, df_ecoli.shape"
   ]
  },
  {
   "cell_type": "code",
   "execution_count": null,
   "metadata": {},
   "outputs": [],
   "source": []
  },
  {
   "cell_type": "code",
   "execution_count": 10,
   "metadata": {},
   "outputs": [],
   "source": [
    "\n",
    "def compute_auc(df, labels):\n",
    "    preds = df['Score'].values\n",
    "    fpr, tpr, _ = functions.roc_curve(labels, preds)\n",
    "    return functions.auc(fpr, tpr)\n"
   ]
  },
  {
   "cell_type": "code",
   "execution_count": null,
   "metadata": {},
   "outputs": [],
   "source": []
  },
  {
   "cell_type": "code",
   "execution_count": 10,
   "metadata": {},
   "outputs": [],
   "source": [
    "#Cross validation test"
   ]
  },
  {
   "cell_type": "code",
   "execution_count": 11,
   "metadata": {},
   "outputs": [],
   "source": [
    "cv_10 = pd.read_pickle('results/testing_10_with_tag.pkl')\n",
    "cv_40 = pd.read_pickle('results/testing_40_with_tag.pkl')\n",
    "cv_90 = pd.read_pickle('results/testing_90_with_tag.pkl')\n"
   ]
  },
  {
   "cell_type": "code",
   "execution_count": 12,
   "metadata": {},
   "outputs": [
    {
     "data": {
      "text/plain": [
       "[0.6593030349245083,\n",
       " 0.6403091557669442,\n",
       " 0.6862169297914757,\n",
       " 0.6606277144080995,\n",
       " 0.6684004565979668,\n",
       " 0.658153697729808,\n",
       " 0.7004325475009626,\n",
       " 0.64355406642158,\n",
       " 0.6684663097258408,\n",
       " 0.6372563084333231]"
      ]
     },
     "execution_count": 12,
     "metadata": {},
     "output_type": "execute_result"
    }
   ],
   "source": [
    "all_aucs_test_camsol_10 = []\n",
    "for i, v in enumerate(cv_10):\n",
    "    v['Accession'] = v.Accession.apply(lambda x:x.split('_')[0])\n",
    "    v.merge(camsol_pET, on=\"Accession\")\n",
    "    temp = v.merge(camsol_pET, on=\"Accession\")[['Score']].copy()\n",
    "    labels = v.merge(camsol_pET, on=\"Accession\")['Solubility'].values\n",
    "    all_aucs_test_camsol_10.append(compute_auc(temp, labels))\n",
    "all_aucs_test_camsol_10"
   ]
  },
  {
   "cell_type": "code",
   "execution_count": 13,
   "metadata": {},
   "outputs": [
    {
     "data": {
      "text/plain": [
       "(0.662272022130051, 0.01895390654368236)"
      ]
     },
     "execution_count": 13,
     "metadata": {},
     "output_type": "execute_result"
    }
   ],
   "source": [
    "functions.np.mean(all_aucs_test_camsol_10), functions.np.std(all_aucs_test_camsol_10)"
   ]
  },
  {
   "cell_type": "code",
   "execution_count": 21,
   "metadata": {
    "scrolled": true
   },
   "outputs": [
    {
     "data": {
      "text/plain": [
       "[0.6558646840409135,\n",
       " 0.668298031026253,\n",
       " 0.6591589155670922,\n",
       " 0.6417884378552483,\n",
       " 0.6558796504650466,\n",
       " 0.6696522486467072,\n",
       " 0.6743398330041083,\n",
       " 0.6403024849648701,\n",
       " 0.6663887867954159,\n",
       " 0.6927981109799293]"
      ]
     },
     "execution_count": 21,
     "metadata": {},
     "output_type": "execute_result"
    }
   ],
   "source": [
    "all_aucs_test_camsol_40 = []\n",
    "for i, v in enumerate(cv_40):\n",
    "    v['Accession'] = v.Accession.apply(lambda x:x.split('_')[0])\n",
    "    v.merge(camsol_pET, on=\"Accession\")\n",
    "    temp = v.merge(camsol_pET, on=\"Accession\")[['Score']].copy()\n",
    "    labels = v.merge(camsol_pET, on=\"Accession\")['Solubility'].values\n",
    "    all_aucs_test_camsol_40.append(compute_auc(temp, labels))\n",
    "all_aucs_test_camsol_40"
   ]
  },
  {
   "cell_type": "code",
   "execution_count": 22,
   "metadata": {},
   "outputs": [
    {
     "data": {
      "text/plain": [
       "(0.6624471183345584, 0.01476056051875476)"
      ]
     },
     "execution_count": 22,
     "metadata": {},
     "output_type": "execute_result"
    }
   ],
   "source": [
    "functions.np.mean(all_aucs_test_camsol_40), functions.np.std(all_aucs_test_camsol_40)"
   ]
  },
  {
   "cell_type": "code",
   "execution_count": 20,
   "metadata": {},
   "outputs": [
    {
     "data": {
      "text/plain": [
       "[0.7026072363730334,\n",
       " 0.641660316367793,\n",
       " 0.6942530805363503,\n",
       " 0.6769024818426815,\n",
       " 0.6821949164666423,\n",
       " 0.6233114035087719,\n",
       " 0.645215577024248,\n",
       " 0.6592189069859618,\n",
       " 0.6782103834892523,\n",
       " 0.6216864608076009]"
      ]
     },
     "execution_count": 20,
     "metadata": {},
     "output_type": "execute_result"
    }
   ],
   "source": [
    "all_aucs_test_camsol_90 = []\n",
    "for i, v in enumerate(cv_90):\n",
    "    v['Accession'] = v.Accession.apply(lambda x:x.split('_')[0])\n",
    "    v.merge(camsol_pET, on=\"Accession\")\n",
    "    temp = v.merge(camsol_pET, on=\"Accession\")[['Score']].copy()\n",
    "    labels = v.merge(camsol_pET, on=\"Accession\")['Solubility'].values\n",
    "    all_aucs_test_camsol_90.append(compute_auc(temp, labels))\n",
    "all_aucs_test_camsol_90"
   ]
  },
  {
   "cell_type": "code",
   "execution_count": 23,
   "metadata": {},
   "outputs": [
    {
     "data": {
      "text/plain": [
       "(0.6625260763402334, 0.027210805647270016)"
      ]
     },
     "execution_count": 23,
     "metadata": {},
     "output_type": "execute_result"
    }
   ],
   "source": [
    "functions.np.mean(all_aucs_test_camsol_90), functions.np.std(all_aucs_test_camsol_90)"
   ]
  },
  {
   "cell_type": "code",
   "execution_count": null,
   "metadata": {},
   "outputs": [],
   "source": []
  }
 ],
 "metadata": {
  "kernelspec": {
   "display_name": "Python 3",
   "language": "python",
   "name": "python3"
  },
  "language_info": {
   "codemirror_mode": {
    "name": "ipython",
    "version": 3
   },
   "file_extension": ".py",
   "mimetype": "text/x-python",
   "name": "python",
   "nbconvert_exporter": "python",
   "pygments_lexer": "ipython3",
   "version": "3.7.5"
  }
 },
 "nbformat": 4,
 "nbformat_minor": 2
}
