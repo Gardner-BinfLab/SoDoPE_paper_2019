{
 "cells": [
  {
   "cell_type": "code",
   "execution_count": 2,
   "metadata": {},
   "outputs": [
    {
     "data": {
      "image/png": "[encoded data removed]",
      "text/plain": [
       "<Figure size 288x288 with 1 Axes>"
      ]
     },
     "metadata": {
      "needs_background": "light"
     },
     "output_type": "display_data"
    },
    {
     "data": {
      "text/plain": [
       "SpearmanrResult(correlation=0.29499757513785024, pvalue=3.566733572070972e-65)"
      ]
     },
     "execution_count": 2,
     "metadata": {},
     "output_type": "execute_result"
    }
   ],
   "source": [
    "# import pandas as pd\n",
    "# import sys\n",
    "# import os\n",
    "# root_dir = os.path.abspath(os.path.join(os.getcwd(), \"../..\"))\n",
    "# os.chdir(root_dir)\n",
    "\n",
    "# import functions\n",
    "\n",
    "#Datasets\n",
    "pET = pd.read_pickle('results/pET_complete.pkl.gz', compression='infer')\n",
    "ecoli_w3110 = pd.read_pickle('results/ecoli.pkl.gz', compression='infer')\n",
    "pET['Accession'] = pET['Accession'].apply(lambda x:x.split('_')[0])\n",
    "\n",
    "\n",
    "parsnip_pET21 = pd.read_csv('Testing_other_tools/parsnip/parsnip_pET21_NESG.txt', sep='\\t', header=None)\n",
    "parsnip_pET15 = pd.read_csv('Testing_other_tools/parsnip/parsnip_pET15_NESG.txt', sep='\\t', header=None)\n",
    "parsnip_ecoli = pd.read_csv('Testing_other_tools/parsnip/parsnip_ecoli_W3110_tags.txt', sep='\\t', header=None)\n",
    "\n",
    "#merge pET\n",
    "parsnip_pET = pd.concat([parsnip_pET15, parsnip_pET21])\n",
    "\n",
    "\n",
    "#Rename cols\n",
    "parsnip_pET = parsnip_pET.rename(columns={0:'Accession', 1:'Score'})\n",
    "parsnip_ecoli = parsnip_ecoli.rename(columns={0:'JW', 1:'Score'})\n",
    "\n",
    "parsnip_pET.shape, pET.shape, ecoli_w3110.shape, parsnip_ecoli.shape\n",
    "\n",
    "#merge results with cleaned dataset\n",
    "df_pET = pET.merge(parsnip_pET, on=\"Accession\")\n",
    "df_ecoli = ecoli_w3110.merge(parsnip_ecoli, on=\"JW\")\n",
    "\n",
    "\n",
    "#ROC for pET\n",
    "\n",
    "df = df_pET[['Score']].copy()\n",
    "\n",
    "labels = df_pET['Solubility'].values\n",
    "functions.make_roc(df, labels)\n",
    "\n",
    "#Correlation for ecoli\n",
    "from scipy.stats import spearmanr\n",
    "\n",
    "spearmanr(df_ecoli['Score'], df_ecoli['Solubility(%)'])"
   ]
  },
  {
   "cell_type": "code",
   "execution_count": 3,
   "metadata": {},
   "outputs": [
    {
     "data": {
      "text/plain": [
       "((12215, 6), (3195, 6))"
      ]
     },
     "execution_count": 3,
     "metadata": {},
     "output_type": "execute_result"
    }
   ],
   "source": [
    "df_pET.shape, df_ecoli.shape"
   ]
  },
  {
   "cell_type": "code",
   "execution_count": 4,
   "metadata": {},
   "outputs": [],
   "source": [
    "#cross validation sets\n",
    "def compute_auc(df, labels):\n",
    "    preds = df['Score'].values\n",
    "    fpr, tpr, _ = functions.roc_curve(labels, preds)\n",
    "    a = functions.auc(fpr, tpr)\n",
    "    if a < 0.5:\n",
    "        a = 1 - a\n",
    "    return a\n",
    "\n",
    "\n",
    "cv_10 = pd.read_pickle('results/testing_10_with_tag.pkl')\n",
    "cv_40 = pd.read_pickle('results/testing_40_with_tag.pkl')\n",
    "cv_90 = pd.read_pickle('results/testing_90_with_tag.pkl')\n",
    "\n",
    "\n"
   ]
  },
  {
   "cell_type": "code",
   "execution_count": 6,
   "metadata": {},
   "outputs": [
    {
     "data": {
      "text/plain": [
       "[0.5482049717858777,\n",
       " 0.6452396825396826,\n",
       " 0.5907226802210368,\n",
       " 0.5956280122660751,\n",
       " 0.6156078933427511,\n",
       " 0.5679625553981127,\n",
       " 0.6147496433181602,\n",
       " 0.6383529557758232,\n",
       " 0.6234747352821665,\n",
       " 0.6393517430414173]"
      ]
     },
     "execution_count": 6,
     "metadata": {},
     "output_type": "execute_result"
    }
   ],
   "source": [
    "all_aucs_test_parsnip_10 = []\n",
    "for i, v in enumerate(cv_10):\n",
    "    v['Accession'] = v.Accession.apply(lambda x:x.split('_')[0])\n",
    "    v.merge(parsnip_pET, on=\"Accession\")\n",
    "    temp = v.merge(parsnip_pET, on=\"Accession\")[['Score']].copy()\n",
    "    labels = v.merge(parsnip_pET, on=\"Accession\")['Solubility'].values\n",
    "    all_aucs_test_parsnip_10.append(compute_auc(temp, labels))\n",
    "all_aucs_test_parsnip_10"
   ]
  },
  {
   "cell_type": "code",
   "execution_count": 7,
   "metadata": {},
   "outputs": [
    {
     "data": {
      "text/plain": [
       "(0.6079294872971104, 0.030436651159429146)"
      ]
     },
     "execution_count": 7,
     "metadata": {},
     "output_type": "execute_result"
    }
   ],
   "source": [
    "functions.np.mean(all_aucs_test_parsnip_10), functions.np.std(all_aucs_test_parsnip_10)"
   ]
  },
  {
   "cell_type": "code",
   "execution_count": null,
   "metadata": {},
   "outputs": [],
   "source": []
  },
  {
   "cell_type": "code",
   "execution_count": 5,
   "metadata": {},
   "outputs": [
    {
     "data": {
      "text/plain": [
       "[0.5953394283312317,\n",
       " 0.6207144988066826,\n",
       " 0.615638554506789,\n",
       " 0.5871364626752558,\n",
       " 0.6187509375937594,\n",
       " 0.6357493778701352,\n",
       " 0.5778233576111589,\n",
       " 0.6071188321470051,\n",
       " 0.5903454843128737,\n",
       " 0.6320224002042184]"
      ]
     },
     "execution_count": 5,
     "metadata": {},
     "output_type": "execute_result"
    }
   ],
   "source": [
    "all_aucs_test_parsnip_40 = []\n",
    "for i, v in enumerate(cv_40):\n",
    "    v['Accession'] = v.Accession.apply(lambda x:x.split('_')[0])\n",
    "    v.merge(parsnip_pET, on=\"Accession\")\n",
    "    temp = v.merge(parsnip_pET, on=\"Accession\")[['Score']].copy()\n",
    "    labels = v.merge(parsnip_pET, on=\"Accession\")['Solubility'].values\n",
    "    all_aucs_test_parsnip_40.append(compute_auc(temp, labels))\n",
    "all_aucs_test_parsnip_40"
   ]
  },
  {
   "cell_type": "code",
   "execution_count": 4,
   "metadata": {},
   "outputs": [
    {
     "data": {
      "text/plain": [
       "(0.6080639334059109, 0.018711806044387203)"
      ]
     },
     "execution_count": 4,
     "metadata": {},
     "output_type": "execute_result"
    }
   ],
   "source": [
    "functions.np.mean(all_aucs_test_parsnip_40), functions.np.std(all_aucs_test_parsnip_40)"
   ]
  },
  {
   "cell_type": "code",
   "execution_count": 5,
   "metadata": {},
   "outputs": [
    {
     "data": {
      "text/plain": [
       "[0.6030736371476697,\n",
       " 0.6096486645936013,\n",
       " 0.6233782361542737,\n",
       " 0.6226521721260942,\n",
       " 0.6094803605207522,\n",
       " 0.6100417163289631,\n",
       " 0.594447964991152,\n",
       " 0.563556366697699,\n",
       " 0.6449360851246162,\n",
       " 0.5946017418844022]"
      ]
     },
     "execution_count": 5,
     "metadata": {},
     "output_type": "execute_result"
    }
   ],
   "source": [
    "all_aucs_test_parsnip_90 = []\n",
    "for i, v in enumerate(cv_90):\n",
    "    v['Accession'] = v.Accession.apply(lambda x:x.split('_')[0])\n",
    "    v.merge(parsnip_pET, on=\"Accession\")\n",
    "    temp = v.merge(parsnip_pET, on=\"Accession\")[['Score']].copy()\n",
    "    labels = v.merge(parsnip_pET, on=\"Accession\")['Solubility'].values\n",
    "    all_aucs_test_parsnip_90.append(compute_auc(temp, labels))\n",
    "all_aucs_test_parsnip_90"
   ]
  },
  {
   "cell_type": "code",
   "execution_count": 6,
   "metadata": {},
   "outputs": [
    {
     "data": {
      "text/plain": [
       "(0.6075816945569222, 0.020458386100526367)"
      ]
     },
     "execution_count": 6,
     "metadata": {},
     "output_type": "execute_result"
    }
   ],
   "source": [
    "functions.np.mean(all_aucs_test_parsnip_90), functions.np.std(all_aucs_test_parsnip_90)"
   ]
  },
  {
   "cell_type": "code",
   "execution_count": null,
   "metadata": {},
   "outputs": [],
   "source": []
  }
 ],
 "metadata": {
  "kernelspec": {
   "display_name": "Python 3",
   "language": "python",
   "name": "python3"
  },
  "language_info": {
   "codemirror_mode": {
    "name": "ipython",
    "version": 3
   },
   "file_extension": ".py",
   "mimetype": "text/x-python",
   "name": "python",
   "nbconvert_exporter": "python",
   "pygments_lexer": "ipython3",
   "version": "3.7.5"
  }
 },
 "nbformat": 4,
 "nbformat_minor": 2
}
