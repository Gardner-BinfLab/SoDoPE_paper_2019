{
 "cells": [
  {
   "cell_type": "code",
   "execution_count": 4,
   "metadata": {},
   "outputs": [
    {
     "data": {
      "image/png": "[encoded data removed]",
      "text/plain": [
       "<Figure size 288x288 with 1 Axes>"
      ]
     },
     "metadata": {
      "needs_background": "light"
     },
     "output_type": "display_data"
    },
    {
     "data": {
      "text/plain": [
       "SpearmanrResult(correlation=-0.0681159607391838, pvalue=0.00011573523231670192)"
      ]
     },
     "execution_count": 4,
     "metadata": {},
     "output_type": "execute_result"
    }
   ],
   "source": [
    "# import pandas as pd\n",
    "# import sys\n",
    "# import os\n",
    "# root_dir = os.path.abspath(os.path.join(os.getcwd(), \"../..\"))\n",
    "# os.chdir(root_dir)\n",
    "\n",
    "# import functions\n",
    "\n",
    "#Datasets\n",
    "pET = pd.read_pickle('results/pET_complete.pkl.gz', compression='infer')\n",
    "ecoli_w3110 = pd.read_pickle('results/ecoli.pkl.gz', compression='infer')\n",
    "pET['Accession'] = pET['Accession'].apply(lambda x:x.split('_')[0])\n",
    "\n",
    "\n",
    "\n",
    "wilkinson_pET21 = pd.read_csv('Testing_other_tools/wilkinson/wilkinson_sol_pET21_NESG.txt', sep='\\t', header=None)\n",
    "wilkinson_pET15 = pd.read_csv('Testing_other_tools/wilkinson/wilkinson_sol_pET15_NESG.txt', sep='\\t', header=None)\n",
    "wilkinson_ecoli = pd.read_csv('Testing_other_tools/wilkinson/wilkinson_ecoli_W3110_tags.txt', sep='\\t', header=None)\n",
    "\n",
    "#merge pET\n",
    "wilkinson_pET = pd.concat([wilkinson_pET15, wilkinson_pET21])\n",
    "\n",
    "\n",
    "#Rename cols\n",
    "wilkinson_pET = wilkinson_pET.rename(columns={0:'Accession', 1:'Score'})\n",
    "wilkinson_ecoli = wilkinson_ecoli.rename(columns={0:'JW', 1:'Score'})\n",
    "\n",
    "wilkinson_pET.shape, pET.shape, ecoli_w3110.shape, wilkinson_ecoli.shape\n",
    "\n",
    "#merge results with cleaned dataset\n",
    "df_pET = pET.merge(wilkinson_pET, on=\"Accession\")\n",
    "df_ecoli = ecoli_w3110.merge(wilkinson_ecoli, on=\"JW\")\n",
    "\n",
    "\n",
    "#ROC for pET\n",
    "\n",
    "df = df_pET[['Score']].copy()\n",
    "\n",
    "labels = df_pET['Solubility'].values\n",
    "functions.make_roc(df, labels)\n",
    "\n",
    "#Correlation for ecoli\n",
    "from scipy.stats import spearmanr\n",
    "\n",
    "spearmanr(df_ecoli['Score'], df_ecoli['Solubility(%)'])"
   ]
  },
  {
   "cell_type": "code",
   "execution_count": 20,
   "metadata": {},
   "outputs": [
    {
     "data": {
      "text/plain": [
       "((12216, 6), (3198, 6))"
      ]
     },
     "execution_count": 20,
     "metadata": {},
     "output_type": "execute_result"
    }
   ],
   "source": [
    "df_pET.shape, df_ecoli.shape"
   ]
  },
  {
   "cell_type": "code",
   "execution_count": null,
   "metadata": {},
   "outputs": [],
   "source": []
  },
  {
   "cell_type": "code",
   "execution_count": 2,
   "metadata": {},
   "outputs": [],
   "source": [
    "cv_10 = pd.read_pickle('results/testing_10_with_tag.pkl')\n",
    "cv_40 = pd.read_pickle('results/testing_40_with_tag.pkl')\n",
    "cv_90 = pd.read_pickle('results/testing_90_with_tag.pkl')\n"
   ]
  },
  {
   "cell_type": "code",
   "execution_count": 5,
   "metadata": {},
   "outputs": [],
   "source": [
    "#cross validation sets\n",
    "def compute_auc(df, labels):\n",
    "    preds = df['Score'].values\n",
    "    fpr, tpr, _ = functions.roc_curve(labels, preds)\n",
    "    a = functions.auc(fpr, tpr)\n",
    "    if a < 0.5:\n",
    "        a = 1 - a\n",
    "    return a\n",
    "\n",
    "\n",
    "\n"
   ]
  },
  {
   "cell_type": "code",
   "execution_count": 7,
   "metadata": {},
   "outputs": [
    {
     "data": {
      "text/plain": [
       "[0.5518240048802806,\n",
       " 0.5239730479587792,\n",
       " 0.6021382258383174,\n",
       " 0.5299106142398806,\n",
       " 0.5683178401150324,\n",
       " 0.53041997045434,\n",
       " 0.5010110029472757,\n",
       " 0.5773884312904276,\n",
       " 0.5451334942754021,\n",
       " 0.5649035306470666]"
      ]
     },
     "execution_count": 7,
     "metadata": {},
     "output_type": "execute_result"
    }
   ],
   "source": [
    "\n",
    "all_aucs_test_wilkinson_10 = []\n",
    "for i, v in enumerate(cv_10):\n",
    "    v['Accession'] = v.Accession.apply(lambda x:x.split('_')[0])\n",
    "    v.merge(wilkinson_pET, on=\"Accession\")\n",
    "    temp = v.merge(wilkinson_pET, on=\"Accession\")[['Score']].copy()\n",
    "    labels = v.merge(wilkinson_pET, on=\"Accession\")['Solubility'].values\n",
    "    all_aucs_test_wilkinson_10.append(compute_auc(temp, labels))\n",
    "all_aucs_test_wilkinson_10"
   ]
  },
  {
   "cell_type": "code",
   "execution_count": 8,
   "metadata": {},
   "outputs": [
    {
     "data": {
      "text/plain": [
       "(0.5495020162646802, 0.02813359964548769)"
      ]
     },
     "execution_count": 8,
     "metadata": {},
     "output_type": "execute_result"
    }
   ],
   "source": [
    "functions.np.mean(all_aucs_test_wilkinson_10), functions.np.std(all_aucs_test_wilkinson_10)"
   ]
  },
  {
   "cell_type": "code",
   "execution_count": 6,
   "metadata": {},
   "outputs": [
    {
     "data": {
      "text/plain": [
       "[0.5265999369482977,\n",
       " 0.5093556085918854,\n",
       " 0.5272760593169419,\n",
       " 0.5361450241568776,\n",
       " 0.5760466671667166,\n",
       " 0.5830896123553708,\n",
       " 0.5865624659161143,\n",
       " 0.5567597713970309,\n",
       " 0.5326756657422567,\n",
       " 0.5741950923769106]"
      ]
     },
     "execution_count": 6,
     "metadata": {},
     "output_type": "execute_result"
    }
   ],
   "source": [
    "\n",
    "all_aucs_test_wilkinson_40 = []\n",
    "for i, v in enumerate(cv_40):\n",
    "    v['Accession'] = v.Accession.apply(lambda x:x.split('_')[0])\n",
    "    v.merge(wilkinson_pET, on=\"Accession\")\n",
    "    temp = v.merge(wilkinson_pET, on=\"Accession\")[['Score']].copy()\n",
    "    labels = v.merge(wilkinson_pET, on=\"Accession\")['Solubility'].values\n",
    "    all_aucs_test_wilkinson_40.append(compute_auc(temp, labels))\n",
    "all_aucs_test_wilkinson_40"
   ]
  },
  {
   "cell_type": "code",
   "execution_count": 6,
   "metadata": {},
   "outputs": [
    {
     "data": {
      "text/plain": [
       "(0.5508705903968403, 0.026347073566679882)"
      ]
     },
     "execution_count": 6,
     "metadata": {},
     "output_type": "execute_result"
    }
   ],
   "source": [
    "functions.np.mean(all_aucs_test_wilkinson_40), functions.np.std(all_aucs_test_wilkinson_40)"
   ]
  },
  {
   "cell_type": "code",
   "execution_count": 7,
   "metadata": {},
   "outputs": [
    {
     "data": {
      "text/plain": [
       "[0.5830321031935065,\n",
       " 0.5460816607465494,\n",
       " 0.5795801343048652,\n",
       " 0.5441749795968693,\n",
       " 0.5257228695417189,\n",
       " 0.5476832706766918,\n",
       " 0.5403504471758573,\n",
       " 0.5682634491361643,\n",
       " 0.5184417624794687,\n",
       " 0.5542280285035629]"
      ]
     },
     "execution_count": 7,
     "metadata": {},
     "output_type": "execute_result"
    }
   ],
   "source": [
    "\n",
    "all_aucs_test_wilkinson_90 = []\n",
    "for i, v in enumerate(cv_90):\n",
    "    v['Accession'] = v.Accession.apply(lambda x:x.split('_')[0])\n",
    "    v.merge(wilkinson_pET, on=\"Accession\")\n",
    "    temp = v.merge(wilkinson_pET, on=\"Accession\")[['Score']].copy()\n",
    "    labels = v.merge(wilkinson_pET, on=\"Accession\")['Solubility'].values\n",
    "    all_aucs_test_wilkinson_90.append(compute_auc(temp, labels))\n",
    "all_aucs_test_wilkinson_90"
   ]
  },
  {
   "cell_type": "code",
   "execution_count": 8,
   "metadata": {},
   "outputs": [
    {
     "data": {
      "text/plain": [
       "(0.5507558705355255, 0.02011190530991)"
      ]
     },
     "execution_count": 8,
     "metadata": {},
     "output_type": "execute_result"
    }
   ],
   "source": [
    "functions.np.mean(all_aucs_test_wilkinson_90), functions.np.std(all_aucs_test_wilkinson_90)"
   ]
  },
  {
   "cell_type": "code",
   "execution_count": null,
   "metadata": {},
   "outputs": [],
   "source": []
  }
 ],
 "metadata": {
  "kernelspec": {
   "display_name": "Python 3",
   "language": "python",
   "name": "python3"
  },
  "language_info": {
   "codemirror_mode": {
    "name": "ipython",
    "version": 3
   },
   "file_extension": ".py",
   "mimetype": "text/x-python",
   "name": "python",
   "nbconvert_exporter": "python",
   "pygments_lexer": "ipython3",
   "version": "3.7.5"
  }
 },
 "nbformat": 4,
 "nbformat_minor": 2
}
