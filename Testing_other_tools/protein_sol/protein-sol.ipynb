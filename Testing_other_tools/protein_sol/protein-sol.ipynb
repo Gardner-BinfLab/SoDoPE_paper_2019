{
 "cells": [
  {
   "cell_type": "code",
   "execution_count": 3,
   "metadata": {
    "scrolled": true
   },
   "outputs": [
    {
     "data": {
      "image/png": "[encoded data removed]",
      "text/plain": [
       "<Figure size 288x288 with 1 Axes>"
      ]
     },
     "metadata": {
      "needs_background": "light"
     },
     "output_type": "display_data"
    },
    {
     "data": {
      "text/plain": [
       "SpearmanrResult(correlation=0.5388515733226185, pvalue=2.3750350418632384e-240)"
      ]
     },
     "execution_count": 3,
     "metadata": {},
     "output_type": "execute_result"
    }
   ],
   "source": [
    "import pandas as pd\n",
    "import sys\n",
    "import os\n",
    "root_dir = os.path.abspath(os.path.join(os.getcwd(), \"../..\"))\n",
    "os.chdir(root_dir)\n",
    "\n",
    "import functions\n",
    "\n",
    "#Datasets\n",
    "pET = pd.read_pickle('results/pET_complete.pkl.gz', compression='infer')\n",
    "ecoli_w3110 = pd.read_pickle('results/ecoli.pkl.gz', compression='infer')\n",
    "pET['Accession'] = pET['Accession'].apply(lambda x:x.split('_')[0])\n",
    "\n",
    "\n",
    "\n",
    "protein_sol_pET21 = pd.read_csv('Testing_other_tools/protein_sol/pET21_NESG_protein-sol.txt', sep='\\t', header=None)\n",
    "protein_sol_pET15 = pd.read_csv('Testing_other_tools/protein_sol/protein-sol_pET15_NESG.txt', sep='\\t', header=None)\n",
    "protein_sol_ecoli = pd.read_csv('Testing_other_tools/protein_sol/protein-sol_ecoli_W3110_tags.txt', sep='\\t', header=None)\n",
    "\n",
    "#merge pET\n",
    "protein_sol_pET = pd.concat([protein_sol_pET15, protein_sol_pET21])\n",
    "\n",
    "\n",
    "#Rename cols\n",
    "protein_sol_pET = protein_sol_pET.rename(columns={0:'Accession', 1:'Score'})\n",
    "protein_sol_ecoli = protein_sol_ecoli.rename(columns={0:'JW', 1:'Score'})\n",
    "\n",
    "protein_sol_pET.shape, pET.shape, ecoli_w3110.shape, protein_sol_ecoli.shape\n",
    "\n",
    "#merge results with cleaned dataset\n",
    "df_pET = pET.merge(protein_sol_pET, on=\"Accession\")\n",
    "df_ecoli = ecoli_w3110.merge(protein_sol_ecoli, on=\"JW\")\n",
    "\n",
    "\n",
    "#ROC for pET\n",
    "\n",
    "df = df_pET[['Score']].copy()\n",
    "\n",
    "labels = df_pET['Solubility'].values\n",
    "functions.make_roc(df, labels)\n",
    "\n",
    "#Correlation for ecoli\n",
    "from scipy.stats import spearmanr\n",
    "\n",
    "spearmanr(df_ecoli['Score'], df_ecoli['Solubility(%)'])"
   ]
  },
  {
   "cell_type": "code",
   "execution_count": 2,
   "metadata": {},
   "outputs": [
    {
     "data": {
      "text/plain": [
       "((12216, 7), (3198, 6))"
      ]
     },
     "execution_count": 2,
     "metadata": {},
     "output_type": "execute_result"
    }
   ],
   "source": [
    "df_pET.shape, df_ecoli.shape"
   ]
  },
  {
   "cell_type": "code",
   "execution_count": 4,
   "metadata": {},
   "outputs": [],
   "source": [
    "#cross validation sets\n",
    "def compute_auc(df, labels):\n",
    "    preds = df['Score'].values\n",
    "    fpr, tpr, _ = functions.roc_curve(labels, preds)\n",
    "    a = functions.auc(fpr, tpr)\n",
    "    if a < 0.5:\n",
    "        a = 1 - a\n",
    "    return a\n",
    "\n",
    "\n",
    "cv_10 = pd.read_pickle('results/testing_10_with_tag.pkl')\n",
    "cv_40 = pd.read_pickle('results/testing_40_with_tag.pkl')\n",
    "cv_90 = pd.read_pickle('results/testing_90_with_tag.pkl')\n"
   ]
  },
  {
   "cell_type": "code",
   "execution_count": 5,
   "metadata": {},
   "outputs": [
    {
     "data": {
      "text/plain": [
       "[0.7054460881500686,\n",
       " 0.667889021006738,\n",
       " 0.7283977225784436,\n",
       " 0.6244890317346398,\n",
       " 0.6740653616205443,\n",
       " 0.6627905574482197,\n",
       " 0.6596430269913522,\n",
       " 0.6738998247165215,\n",
       " 0.6906058034753926,\n",
       " 0.7317141662367947]"
      ]
     },
     "execution_count": 5,
     "metadata": {},
     "output_type": "execute_result"
    }
   ],
   "source": [
    "\n",
    "\n",
    "all_aucs_test_proteinsol_10 = []\n",
    "for i, v in enumerate(cv_10):\n",
    "    v['Accession'] = v.Accession.apply(lambda x:x.split('_')[0])\n",
    "    v.merge(protein_sol_pET, on=\"Accession\")\n",
    "    temp = v.merge(protein_sol_pET, on=\"Accession\")[['Score']].copy()\n",
    "    labels = v.merge(protein_sol_pET, on=\"Accession\")['Solubility'].values\n",
    "    all_aucs_test_proteinsol_10.append(compute_auc(temp, labels))\n",
    "all_aucs_test_proteinsol_10"
   ]
  },
  {
   "cell_type": "code",
   "execution_count": 6,
   "metadata": {},
   "outputs": [
    {
     "data": {
      "text/plain": [
       "(0.6818940603958715, 0.031228117308203882)"
      ]
     },
     "execution_count": 6,
     "metadata": {},
     "output_type": "execute_result"
    }
   ],
   "source": [
    "functions.np.mean(all_aucs_test_proteinsol_10), functions.np.std(all_aucs_test_proteinsol_10)"
   ]
  },
  {
   "cell_type": "code",
   "execution_count": 3,
   "metadata": {},
   "outputs": [
    {
     "data": {
      "text/plain": [
       "[0.6526756106674139,\n",
       " 0.7006622911694511,\n",
       " 0.7135833513591463,\n",
       " 0.7099738892572943,\n",
       " 0.6530996849684968,\n",
       " 0.696177749557454,\n",
       " 0.6616303307197305,\n",
       " 0.6988604348976002,\n",
       " 0.6646463296468308,\n",
       " 0.6598950189859281]"
      ]
     },
     "execution_count": 3,
     "metadata": {},
     "output_type": "execute_result"
    }
   ],
   "source": [
    "all_aucs_test_proteinsol_40 = []\n",
    "for i, v in enumerate(cv_40):\n",
    "    v['Accession'] = v.Accession.apply(lambda x:x.split('_')[0])\n",
    "    v.merge(protein_sol_pET, on=\"Accession\")\n",
    "    temp = v.merge(protein_sol_pET, on=\"Accession\")[['Score']].copy()\n",
    "    labels = v.merge(protein_sol_pET, on=\"Accession\")['Solubility'].values\n",
    "    all_aucs_test_proteinsol_40.append(compute_auc(temp, labels))\n",
    "all_aucs_test_proteinsol_40"
   ]
  },
  {
   "cell_type": "code",
   "execution_count": 5,
   "metadata": {},
   "outputs": [
    {
     "data": {
      "text/plain": [
       "(0.6811204691229347, 0.023464284098085618)"
      ]
     },
     "execution_count": 5,
     "metadata": {},
     "output_type": "execute_result"
    }
   ],
   "source": [
    "functions.np.mean(all_aucs_test_proteinsol_40), functions.np.std(all_aucs_test_proteinsol_40)"
   ]
  },
  {
   "cell_type": "code",
   "execution_count": 6,
   "metadata": {},
   "outputs": [
    {
     "data": {
      "text/plain": [
       "[0.6915776986951365,\n",
       " 0.6657182188026203,\n",
       " 0.7105165117990209,\n",
       " 0.6556597403664931,\n",
       " 0.6871973803430352,\n",
       " 0.6733975563909773,\n",
       " 0.6546866779855565,\n",
       " 0.6931609041776894,\n",
       " 0.694582589445119,\n",
       " 0.6963072050673]"
      ]
     },
     "execution_count": 6,
     "metadata": {},
     "output_type": "execute_result"
    }
   ],
   "source": [
    "\n",
    "all_aucs_test_proteinsol_90 = []\n",
    "for i, v in enumerate(cv_90):\n",
    "    v['Accession'] = v.Accession.apply(lambda x:x.split('_')[0])\n",
    "    v.merge(protein_sol_pET, on=\"Accession\")\n",
    "    temp = v.merge(protein_sol_pET, on=\"Accession\")[['Score']].copy()\n",
    "    labels = v.merge(protein_sol_pET, on=\"Accession\")['Solubility'].values\n",
    "    all_aucs_test_proteinsol_90.append(compute_auc(temp, labels))\n",
    "all_aucs_test_proteinsol_90"
   ]
  },
  {
   "cell_type": "code",
   "execution_count": 7,
   "metadata": {},
   "outputs": [
    {
     "data": {
      "text/plain": [
       "(0.6822804483072948, 0.01788199858923717)"
      ]
     },
     "execution_count": 7,
     "metadata": {},
     "output_type": "execute_result"
    }
   ],
   "source": [
    "functions.np.mean(all_aucs_test_proteinsol_90), functions.np.std(all_aucs_test_proteinsol_90)"
   ]
  },
  {
   "cell_type": "code",
   "execution_count": null,
   "metadata": {},
   "outputs": [],
   "source": []
  }
 ],
 "metadata": {
  "kernelspec": {
   "display_name": "Python 3",
   "language": "python",
   "name": "python3"
  },
  "language_info": {
   "codemirror_mode": {
    "name": "ipython",
    "version": 3
   },
   "file_extension": ".py",
   "mimetype": "text/x-python",
   "name": "python",
   "nbconvert_exporter": "python",
   "pygments_lexer": "ipython3",
   "version": "3.7.5"
  }
 },
 "nbformat": 4,
 "nbformat_minor": 2
}
