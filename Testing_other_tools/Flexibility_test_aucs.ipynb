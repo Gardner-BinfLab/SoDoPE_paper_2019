{
 "cells": [
  {
   "cell_type": "code",
   "execution_count": 1,
   "metadata": {},
   "outputs": [],
   "source": [
    "import pandas as pd\n",
    "import sys\n",
    "import os\n",
    "root_dir = os.path.abspath(os.path.join(os.getcwd(), \"../\"))\n",
    "os.chdir(root_dir)\n",
    "\n",
    "import functions\n",
    "\n",
    "#Datasets\n",
    "pET = pd.read_pickle('results/pET_complete.pkl.gz', compression='infer')\n",
    "\n",
    "\n",
    "\n",
    "from Bio.SeqUtils.ProtParam import ProteinAnalysis\n",
    "import numpy as np"
   ]
  },
  {
   "cell_type": "code",
   "execution_count": null,
   "metadata": {},
   "outputs": [],
   "source": []
  },
  {
   "cell_type": "code",
   "execution_count": 2,
   "metadata": {},
   "outputs": [],
   "source": [
    "#cross validation sets\n",
    "def compute_auc(df, labels):\n",
    "    preds = df['Flexibility'].values\n",
    "    fpr, tpr, _ = functions.roc_curve(labels, preds)\n",
    "    return functions.auc(fpr, tpr)\n",
    "\n"
   ]
  },
  {
   "cell_type": "code",
   "execution_count": null,
   "metadata": {},
   "outputs": [],
   "source": []
  },
  {
   "cell_type": "code",
   "execution_count": null,
   "metadata": {},
   "outputs": [],
   "source": []
  },
  {
   "cell_type": "code",
   "execution_count": 3,
   "metadata": {},
   "outputs": [],
   "source": [
    "pET['Analysed_seq'] = pET['Protein'].apply(ProteinAnalysis)\n",
    "pET['Flexibility_scores'] = pET['Analysed_seq'].apply(lambda x:x.flexibility())\n",
    "\n",
    "#Averaged flexibility\n",
    "pET['Flexibility'] = pET['Flexibility_scores'].apply(np.mean)"
   ]
  },
  {
   "cell_type": "code",
   "execution_count": 4,
   "metadata": {
    "scrolled": true
   },
   "outputs": [
    {
     "data": {
      "text/html": [
       "<div>\n",
       "<style scoped>\n",
       "    .dataframe tbody tr th:only-of-type {\n",
       "        vertical-align: middle;\n",
       "    }\n",
       "\n",
       "    .dataframe tbody tr th {\n",
       "        vertical-align: top;\n",
       "    }\n",
       "\n",
       "    .dataframe thead th {\n",
       "        text-align: right;\n",
       "    }\n",
       "</style>\n",
       "<table border=\"1\" class=\"dataframe\">\n",
       "  <thead>\n",
       "    <tr style=\"text-align: right;\">\n",
       "      <th></th>\n",
       "      <th></th>\n",
       "      <th>Accession</th>\n",
       "      <th>Sequence</th>\n",
       "      <th>Class</th>\n",
       "      <th>Solubility</th>\n",
       "      <th>Protein</th>\n",
       "      <th>Analysed_seq</th>\n",
       "      <th>Flexibility_scores</th>\n",
       "      <th>Flexibility</th>\n",
       "    </tr>\n",
       "  </thead>\n",
       "  <tbody>\n",
       "    <tr>\n",
       "      <th rowspan=\"5\" valign=\"top\">pET15</th>\n",
       "      <th>2</th>\n",
       "      <td>BbCD00584211</td>\n",
       "      <td>ATGGGCCATCACCATCACCATCACAGCCATATGATTTTTGTAACTA...</td>\n",
       "      <td>2</td>\n",
       "      <td>1</td>\n",
       "      <td>MGHHHHHHSHMIFVTKLNGDGYYLNPYHIESIEANPDTTILLMNGK...</td>\n",
       "      <td>&lt;Bio.SeqUtils.ProtParam.ProteinAnalysis object...</td>\n",
       "      <td>[0.9614166666666667, 0.961857142857143, 0.9615...</td>\n",
       "      <td>1.001985</td>\n",
       "    </tr>\n",
       "    <tr>\n",
       "      <th>3</th>\n",
       "      <td>BcCD00331746</td>\n",
       "      <td>ATGGGCCATCACCATCACCATCACAGCCATATGGATAAAGAGAATC...</td>\n",
       "      <td>1</td>\n",
       "      <td>0</td>\n",
       "      <td>MGHHHHHHSHMDKENPRVGDKYITVQKVGKKIFEAEVEILEYDAPH...</td>\n",
       "      <td>&lt;Bio.SeqUtils.ProtParam.ProteinAnalysis object...</td>\n",
       "      <td>[0.9614166666666667, 0.961857142857143, 0.9615...</td>\n",
       "      <td>1.004373</td>\n",
       "    </tr>\n",
       "    <tr>\n",
       "      <th>4</th>\n",
       "      <td>BcCD00331747</td>\n",
       "      <td>ATGGGCCATCACCATCACCATCACAGCCATATGGCACATACTACTA...</td>\n",
       "      <td>2</td>\n",
       "      <td>1</td>\n",
       "      <td>MGHHHHHHSHMAHTTTSMEIFGSPEQVWQLIGGFNSLPDWLPYIPS...</td>\n",
       "      <td>&lt;Bio.SeqUtils.ProtParam.ProteinAnalysis object...</td>\n",
       "      <td>[0.9614166666666667, 0.961857142857143, 0.9615...</td>\n",
       "      <td>0.999729</td>\n",
       "    </tr>\n",
       "    <tr>\n",
       "      <th>5</th>\n",
       "      <td>BcCD00341383</td>\n",
       "      <td>ATGGGCCATCACCATCACCATCACAGCCATATGGATAAAGAGAATC...</td>\n",
       "      <td>1</td>\n",
       "      <td>0</td>\n",
       "      <td>MGHHHHHHSHMDKENPRVGDKYITVQKVGKKIFEAEVEILEYDAPH...</td>\n",
       "      <td>&lt;Bio.SeqUtils.ProtParam.ProteinAnalysis object...</td>\n",
       "      <td>[0.9614166666666667, 0.961857142857143, 0.9615...</td>\n",
       "      <td>1.003355</td>\n",
       "    </tr>\n",
       "    <tr>\n",
       "      <th>6</th>\n",
       "      <td>BcCD00591009</td>\n",
       "      <td>ATGGGCCATCACCATCACCATCACAGCCATATGAGTTTGAAGGGGA...</td>\n",
       "      <td>2</td>\n",
       "      <td>1</td>\n",
       "      <td>MGHHHHHHSHMSLKGKRIGFGFTGSHCTYEEVMPHLEKLIAEGAEV...</td>\n",
       "      <td>&lt;Bio.SeqUtils.ProtParam.ProteinAnalysis object...</td>\n",
       "      <td>[0.9614166666666667, 0.961857142857143, 0.9615...</td>\n",
       "      <td>1.000593</td>\n",
       "    </tr>\n",
       "    <tr>\n",
       "      <th>...</th>\n",
       "      <th>...</th>\n",
       "      <td>...</td>\n",
       "      <td>...</td>\n",
       "      <td>...</td>\n",
       "      <td>...</td>\n",
       "      <td>...</td>\n",
       "      <td>...</td>\n",
       "      <td>...</td>\n",
       "      <td>...</td>\n",
       "    </tr>\n",
       "    <tr>\n",
       "      <th rowspan=\"5\" valign=\"top\">pET21</th>\n",
       "      <th>11432</th>\n",
       "      <td>YsCD00591076</td>\n",
       "      <td>ATGGAGATCTACGTTTTCACCCCGGAAGGGCGCATTGTGGAATTAC...</td>\n",
       "      <td>2</td>\n",
       "      <td>1</td>\n",
       "      <td>MEIYVFTPEGRIVELPAGATPVDFAYVVHTDIGHACVGARVDRQPY...</td>\n",
       "      <td>&lt;Bio.SeqUtils.ProtParam.ProteinAnalysis object...</td>\n",
       "      <td>[0.9647261904761903, 0.9933690476190475, 1.000...</td>\n",
       "      <td>0.993638</td>\n",
       "    </tr>\n",
       "    <tr>\n",
       "      <th>11433</th>\n",
       "      <td>YsCD00591078</td>\n",
       "      <td>ATGGAGATCTACGTTTTCACCCCGGAAGGGCGCATTGTGGAATTAC...</td>\n",
       "      <td>2</td>\n",
       "      <td>1</td>\n",
       "      <td>MEIYVFTPEGRIVELPAGATPVDFAYVVHTDIGHACVGARVDRQPY...</td>\n",
       "      <td>&lt;Bio.SeqUtils.ProtParam.ProteinAnalysis object...</td>\n",
       "      <td>[0.9647261904761903, 0.9933690476190475, 1.000...</td>\n",
       "      <td>0.993719</td>\n",
       "    </tr>\n",
       "    <tr>\n",
       "      <th>11434</th>\n",
       "      <td>YsCD00591079</td>\n",
       "      <td>ATGGATTTATTCCCTGATGAGATCTACGTTTTCACCCCGGAAGGGC...</td>\n",
       "      <td>2</td>\n",
       "      <td>1</td>\n",
       "      <td>MDLFPDEIYVFTPEGRIVELPAGATPVDFAYVVHTDIGHACVGARV...</td>\n",
       "      <td>&lt;Bio.SeqUtils.ProtParam.ProteinAnalysis object...</td>\n",
       "      <td>[1.0076904761904761, 1.009845238095238, 0.9627...</td>\n",
       "      <td>0.993403</td>\n",
       "    </tr>\n",
       "    <tr>\n",
       "      <th>11435</th>\n",
       "      <td>YsCD00665646</td>\n",
       "      <td>ATGGTAGAGCAGGAGCAAGAAGCGATAACTTTTGAAGTGGTAGCCA...</td>\n",
       "      <td>2</td>\n",
       "      <td>1</td>\n",
       "      <td>MVEQEQEAITFEVVAREWHASNRQWSEAHSARVLKSLEDNLFQAIG...</td>\n",
       "      <td>&lt;Bio.SeqUtils.ProtParam.ProteinAnalysis object...</td>\n",
       "      <td>[1.0280357142857144, 1.0478214285714287, 1.005...</td>\n",
       "      <td>1.000704</td>\n",
       "    </tr>\n",
       "    <tr>\n",
       "      <th>11436</th>\n",
       "      <td>YsCD00665990</td>\n",
       "      <td>ATGGAGTTGGGGCTTCGCACTTACTCTGCACGCTTGTTAGGGTCGA...</td>\n",
       "      <td>1</td>\n",
       "      <td>0</td>\n",
       "      <td>MELGLRTYSARLLGSNPKLVLHGGGNTSVKLNMNDLFGNPVQVMCI...</td>\n",
       "      <td>&lt;Bio.SeqUtils.ProtParam.ProteinAnalysis object...</td>\n",
       "      <td>[1.0012857142857141, 0.9862738095238096, 0.973...</td>\n",
       "      <td>0.992594</td>\n",
       "    </tr>\n",
       "  </tbody>\n",
       "</table>\n",
       "<p>12216 rows × 8 columns</p>\n",
       "</div>"
      ],
      "text/plain": [
       "                Accession                                           Sequence  \\\n",
       "pET15 2      BbCD00584211  ATGGGCCATCACCATCACCATCACAGCCATATGATTTTTGTAACTA...   \n",
       "      3      BcCD00331746  ATGGGCCATCACCATCACCATCACAGCCATATGGATAAAGAGAATC...   \n",
       "      4      BcCD00331747  ATGGGCCATCACCATCACCATCACAGCCATATGGCACATACTACTA...   \n",
       "      5      BcCD00341383  ATGGGCCATCACCATCACCATCACAGCCATATGGATAAAGAGAATC...   \n",
       "      6      BcCD00591009  ATGGGCCATCACCATCACCATCACAGCCATATGAGTTTGAAGGGGA...   \n",
       "...                   ...                                                ...   \n",
       "pET21 11432  YsCD00591076  ATGGAGATCTACGTTTTCACCCCGGAAGGGCGCATTGTGGAATTAC...   \n",
       "      11433  YsCD00591078  ATGGAGATCTACGTTTTCACCCCGGAAGGGCGCATTGTGGAATTAC...   \n",
       "      11434  YsCD00591079  ATGGATTTATTCCCTGATGAGATCTACGTTTTCACCCCGGAAGGGC...   \n",
       "      11435  YsCD00665646  ATGGTAGAGCAGGAGCAAGAAGCGATAACTTTTGAAGTGGTAGCCA...   \n",
       "      11436  YsCD00665990  ATGGAGTTGGGGCTTCGCACTTACTCTGCACGCTTGTTAGGGTCGA...   \n",
       "\n",
       "             Class  Solubility  \\\n",
       "pET15 2          2           1   \n",
       "      3          1           0   \n",
       "      4          2           1   \n",
       "      5          1           0   \n",
       "      6          2           1   \n",
       "...            ...         ...   \n",
       "pET21 11432      2           1   \n",
       "      11433      2           1   \n",
       "      11434      2           1   \n",
       "      11435      2           1   \n",
       "      11436      1           0   \n",
       "\n",
       "                                                       Protein  \\\n",
       "pET15 2      MGHHHHHHSHMIFVTKLNGDGYYLNPYHIESIEANPDTTILLMNGK...   \n",
       "      3      MGHHHHHHSHMDKENPRVGDKYITVQKVGKKIFEAEVEILEYDAPH...   \n",
       "      4      MGHHHHHHSHMAHTTTSMEIFGSPEQVWQLIGGFNSLPDWLPYIPS...   \n",
       "      5      MGHHHHHHSHMDKENPRVGDKYITVQKVGKKIFEAEVEILEYDAPH...   \n",
       "      6      MGHHHHHHSHMSLKGKRIGFGFTGSHCTYEEVMPHLEKLIAEGAEV...   \n",
       "...                                                        ...   \n",
       "pET21 11432  MEIYVFTPEGRIVELPAGATPVDFAYVVHTDIGHACVGARVDRQPY...   \n",
       "      11433  MEIYVFTPEGRIVELPAGATPVDFAYVVHTDIGHACVGARVDRQPY...   \n",
       "      11434  MDLFPDEIYVFTPEGRIVELPAGATPVDFAYVVHTDIGHACVGARV...   \n",
       "      11435  MVEQEQEAITFEVVAREWHASNRQWSEAHSARVLKSLEDNLFQAIG...   \n",
       "      11436  MELGLRTYSARLLGSNPKLVLHGGGNTSVKLNMNDLFGNPVQVMCI...   \n",
       "\n",
       "                                                  Analysed_seq  \\\n",
       "pET15 2      <Bio.SeqUtils.ProtParam.ProteinAnalysis object...   \n",
       "      3      <Bio.SeqUtils.ProtParam.ProteinAnalysis object...   \n",
       "      4      <Bio.SeqUtils.ProtParam.ProteinAnalysis object...   \n",
       "      5      <Bio.SeqUtils.ProtParam.ProteinAnalysis object...   \n",
       "      6      <Bio.SeqUtils.ProtParam.ProteinAnalysis object...   \n",
       "...                                                        ...   \n",
       "pET21 11432  <Bio.SeqUtils.ProtParam.ProteinAnalysis object...   \n",
       "      11433  <Bio.SeqUtils.ProtParam.ProteinAnalysis object...   \n",
       "      11434  <Bio.SeqUtils.ProtParam.ProteinAnalysis object...   \n",
       "      11435  <Bio.SeqUtils.ProtParam.ProteinAnalysis object...   \n",
       "      11436  <Bio.SeqUtils.ProtParam.ProteinAnalysis object...   \n",
       "\n",
       "                                            Flexibility_scores  Flexibility  \n",
       "pET15 2      [0.9614166666666667, 0.961857142857143, 0.9615...     1.001985  \n",
       "      3      [0.9614166666666667, 0.961857142857143, 0.9615...     1.004373  \n",
       "      4      [0.9614166666666667, 0.961857142857143, 0.9615...     0.999729  \n",
       "      5      [0.9614166666666667, 0.961857142857143, 0.9615...     1.003355  \n",
       "      6      [0.9614166666666667, 0.961857142857143, 0.9615...     1.000593  \n",
       "...                                                        ...          ...  \n",
       "pET21 11432  [0.9647261904761903, 0.9933690476190475, 1.000...     0.993638  \n",
       "      11433  [0.9647261904761903, 0.9933690476190475, 1.000...     0.993719  \n",
       "      11434  [1.0076904761904761, 1.009845238095238, 0.9627...     0.993403  \n",
       "      11435  [1.0280357142857144, 1.0478214285714287, 1.005...     1.000704  \n",
       "      11436  [1.0012857142857141, 0.9862738095238096, 0.973...     0.992594  \n",
       "\n",
       "[12216 rows x 8 columns]"
      ]
     },
     "execution_count": 4,
     "metadata": {},
     "output_type": "execute_result"
    }
   ],
   "source": [
    "pET['Accession'] = pET.Accession.apply(lambda x:x.split('_')[0])\n",
    "pET"
   ]
  },
  {
   "cell_type": "code",
   "execution_count": 5,
   "metadata": {},
   "outputs": [],
   "source": [
    "cv_10 = pd.read_pickle('results/testing_10_with_tag.pkl')\n",
    "cv_40 = pd.read_pickle('results/testing_40_with_tag.pkl')\n",
    "cv_90 = pd.read_pickle('results/testing_90_with_tag.pkl')\n",
    "\n"
   ]
  },
  {
   "cell_type": "code",
   "execution_count": 6,
   "metadata": {},
   "outputs": [
    {
     "data": {
      "text/plain": [
       "[0.6643632758883635,\n",
       " 0.6687641696393183,\n",
       " 0.6969155426238243,\n",
       " 0.6513430557958907,\n",
       " 0.683880010595091,\n",
       " 0.6433989568573065,\n",
       " 0.7025386688407274,\n",
       " 0.6813160221508678,\n",
       " 0.6566436407964242,\n",
       " 0.6746017453306759]"
      ]
     },
     "execution_count": 6,
     "metadata": {},
     "output_type": "execute_result"
    }
   ],
   "source": [
    "\n",
    "all_aucs_test_flex_10 = []\n",
    "for i, v in enumerate(cv_10):\n",
    "    v['Accession'] = v.Accession.apply(lambda x:x.split('_')[0])\n",
    "    v.merge(pET, on=\"Accession\")\n",
    "    temp = v.merge(pET, on=\"Accession\")[['Flexibility']].copy()\n",
    "    labels = v.merge(pET, on=\"Accession\")['Solubility_x'].values\n",
    "    all_aucs_test_flex_10.append(compute_auc(temp, labels))\n",
    "all_aucs_test_flex_10"
   ]
  },
  {
   "cell_type": "code",
   "execution_count": 8,
   "metadata": {},
   "outputs": [
    {
     "data": {
      "text/plain": [
       "(0.6723765088518491, 0.018264736250053384)"
      ]
     },
     "execution_count": 8,
     "metadata": {},
     "output_type": "execute_result"
    }
   ],
   "source": [
    "functions.np.mean(all_aucs_test_flex_10), functions.np.std(all_aucs_test_flex_10)"
   ]
  },
  {
   "cell_type": "code",
   "execution_count": 7,
   "metadata": {},
   "outputs": [
    {
     "data": {
      "text/plain": [
       "[0.6560427467189762,\n",
       " 0.6887902744630072,\n",
       " 0.6886100896483764,\n",
       " 0.6529225085259568,\n",
       " 0.6525980723072307,\n",
       " 0.6895379563354627,\n",
       " 0.6771816716555377,\n",
       " 0.6992528431631844,\n",
       " 0.6565538440976979,\n",
       " 0.6690002871821054]"
      ]
     },
     "execution_count": 7,
     "metadata": {},
     "output_type": "execute_result"
    }
   ],
   "source": [
    "\n",
    "all_aucs_test_flex_40 = []\n",
    "for i, v in enumerate(cv_40):\n",
    "    v['Accession'] = v.Accession.apply(lambda x:x.split('_')[0])\n",
    "    v.merge(pET, on=\"Accession\")\n",
    "    temp = v.merge(pET, on=\"Accession\")[['Flexibility']].copy()\n",
    "    labels = v.merge(pET, on=\"Accession\")['Solubility_x'].values\n",
    "    all_aucs_test_flex_40.append(compute_auc(temp, labels))\n",
    "all_aucs_test_flex_40"
   ]
  },
  {
   "cell_type": "code",
   "execution_count": 7,
   "metadata": {},
   "outputs": [
    {
     "data": {
      "text/plain": [
       "(0.6730490294097535, 0.01693089567108872)"
      ]
     },
     "execution_count": 7,
     "metadata": {},
     "output_type": "execute_result"
    }
   ],
   "source": [
    "functions.np.mean(all_aucs_test_flex_40), functions.np.std(all_aucs_test_flex_40)"
   ]
  },
  {
   "cell_type": "code",
   "execution_count": 8,
   "metadata": {},
   "outputs": [
    {
     "data": {
      "text/plain": [
       "[0.7061846361731474,\n",
       " 0.6580118238468062,\n",
       " 0.7016063184757672,\n",
       " 0.6878643940416987,\n",
       " 0.6954966697928755,\n",
       " 0.6279010025062657,\n",
       " 0.6529156105026542,\n",
       " 0.6853843861282404,\n",
       " 0.6786002999357281,\n",
       " 0.6365827395091053]"
      ]
     },
     "execution_count": 8,
     "metadata": {},
     "output_type": "execute_result"
    }
   ],
   "source": [
    "\n",
    "all_aucs_test_flex_90 = []\n",
    "for i, v in enumerate(cv_90):\n",
    "    v['Accession'] = v.Accession.apply(lambda x:x.split('_')[0])\n",
    "    v.merge(pET, on=\"Accession\")\n",
    "    temp = v.merge(pET, on=\"Accession\")[['Flexibility']].copy()\n",
    "    labels = v.merge(pET, on=\"Accession\")['Solubility_x'].values\n",
    "    all_aucs_test_flex_90.append(compute_auc(temp, labels))\n",
    "all_aucs_test_flex_90"
   ]
  },
  {
   "cell_type": "code",
   "execution_count": 9,
   "metadata": {},
   "outputs": [
    {
     "data": {
      "text/plain": [
       "(0.673054788091229, 0.026114101211708606)"
      ]
     },
     "execution_count": 9,
     "metadata": {},
     "output_type": "execute_result"
    }
   ],
   "source": [
    "functions.np.mean(all_aucs_test_flex_90), functions.np.std(all_aucs_test_flex_90)"
   ]
  },
  {
   "cell_type": "code",
   "execution_count": null,
   "metadata": {},
   "outputs": [],
   "source": []
  }
 ],
 "metadata": {
  "kernelspec": {
   "display_name": "Python 3",
   "language": "python",
   "name": "python3"
  },
  "language_info": {
   "codemirror_mode": {
    "name": "ipython",
    "version": 3
   },
   "file_extension": ".py",
   "mimetype": "text/x-python",
   "name": "python",
   "nbconvert_exporter": "python",
   "pygments_lexer": "ipython3",
   "version": "3.7.5"
  }
 },
 "nbformat": 4,
 "nbformat_minor": 2
}
