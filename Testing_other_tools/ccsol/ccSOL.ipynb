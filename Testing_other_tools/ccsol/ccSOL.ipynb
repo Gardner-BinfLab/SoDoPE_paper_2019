{
 "cells": [
  {
   "cell_type": "code",
   "execution_count": 2,
   "metadata": {},
   "outputs": [
    {
     "data": {
      "image/png": "[encoded data removed]",
      "text/plain": [
       "<Figure size 288x288 with 1 Axes>"
      ]
     },
     "metadata": {
      "needs_background": "light"
     },
     "output_type": "display_data"
    },
    {
     "data": {
      "text/plain": [
       "SpearmanrResult(correlation=-0.023607926986625213, pvalue=0.18197039385012695)"
      ]
     },
     "execution_count": 2,
     "metadata": {},
     "output_type": "execute_result"
    }
   ],
   "source": [
    "import pandas as pd\n",
    "import sys\n",
    "import os\n",
    "root_dir = os.path.abspath(os.path.join(os.getcwd(), \"../..\"))\n",
    "os.chdir(root_dir)\n",
    "\n",
    "import functions\n",
    "\n",
    "#Datasets\n",
    "pET = pd.read_pickle('results/pET_complete.pkl.gz', compression='infer')\n",
    "ecoli_w3110 = pd.read_pickle('results/ecoli.pkl.gz', compression='infer')\n",
    "pET['Accession'] = pET['Accession'].apply(lambda x:x.split('_')[0])\n",
    "\n",
    "ccsol_pET21 = pd.read_csv('Testing_other_tools/ccsol/ccSOL_pET21_NESG.txt', sep='\\t', header=None)\n",
    "ccsol_pET15 = pd.read_csv('Testing_other_tools/ccsol/ccSOL_pET15_NESG.txt', sep='\\t', header=None)\n",
    "ccsol_ecoli = pd.read_csv('Testing_other_tools/ccsol/ccSOL_ecoli_W3110_tags.txt', sep='\\t', header=None)\n",
    "\n",
    "#merge pET\n",
    "ccsol_pET = pd.concat([ccsol_pET15, ccsol_pET21])\n",
    "\n",
    "\n",
    "#Rename cols\n",
    "ccsol_pET = ccsol_pET.rename(columns={0:'Accession', 1:'Score'})\n",
    "ccsol_ecoli = ccsol_ecoli.rename(columns={0:'JW', 1:'Score'})\n",
    "\n",
    "ccsol_pET.shape, pET.shape, ecoli_w3110.shape, ccsol_ecoli.shape\n",
    "\n",
    "#merge results with cleaned dataset\n",
    "df_pET = pET.merge(ccsol_pET, on=\"Accession\")\n",
    "df_ecoli = ecoli_w3110.merge(ccsol_ecoli, on=\"JW\")\n",
    "\n",
    "\n",
    "#ROC for pET\n",
    "\n",
    "df = df_pET[['Score']].copy()\n",
    "\n",
    "labels = df_pET['Solubility'].values\n",
    "functions.make_roc(df, labels)\n",
    "\n",
    "#Correlation for ecoli\n",
    "from scipy.stats import spearmanr\n",
    "\n",
    "spearmanr(df_ecoli['Score'], df_ecoli['Solubility(%)'])"
   ]
  },
  {
   "cell_type": "code",
   "execution_count": 3,
   "metadata": {},
   "outputs": [
    {
     "data": {
      "text/plain": [
       "((12216, 6), (3198, 6))"
      ]
     },
     "execution_count": 3,
     "metadata": {},
     "output_type": "execute_result"
    }
   ],
   "source": [
    "df_pET.shape, df_ecoli.shape"
   ]
  },
  {
   "cell_type": "code",
   "execution_count": 4,
   "metadata": {},
   "outputs": [],
   "source": [
    "#cross validation sets\n",
    "def compute_auc(df, labels):\n",
    "    preds = df['Score'].values\n",
    "    fpr, tpr, _ = functions.roc_curve(labels, preds)\n",
    "    a = functions.auc(fpr, tpr)\n",
    "    if a < 0.5:\n",
    "        a = 1 - a\n",
    "    return a\n",
    "\n",
    "\n",
    "cv_10 = pd.read_pickle('results/testing_10_with_tag.pkl')\n",
    "cv_40 = pd.read_pickle('results/testing_40_with_tag.pkl')\n",
    "cv_90 = pd.read_pickle('results/testing_90_with_tag.pkl')\n",
    "\n"
   ]
  },
  {
   "cell_type": "code",
   "execution_count": 5,
   "metadata": {},
   "outputs": [
    {
     "data": {
      "text/plain": [
       "[0.5463306390117431,\n",
       " 0.5116813317479192,\n",
       " 0.5028452802174447,\n",
       " 0.5072010711540152,\n",
       " 0.5068962690144043,\n",
       " 0.5466052639512798,\n",
       " 0.5146231466293971,\n",
       " 0.5119611584221384,\n",
       " 0.5244893873843727,\n",
       " 0.5181553460290522]"
      ]
     },
     "execution_count": 5,
     "metadata": {},
     "output_type": "execute_result"
    }
   ],
   "source": [
    "\n",
    "\n",
    "all_aucs_test_ccsol_10 = []\n",
    "for i, v in enumerate(cv_10):\n",
    "    v['Accession'] = v.Accession.apply(lambda x:x.split('_')[0])\n",
    "    v.merge(ccsol_pET, on=\"Accession\")\n",
    "    temp = v.merge(ccsol_pET, on=\"Accession\")[['Score']].copy()\n",
    "    labels = v.merge(ccsol_pET, on=\"Accession\")['Solubility'].values\n",
    "    all_aucs_test_ccsol_10.append(compute_auc(temp, labels))\n",
    "all_aucs_test_ccsol_10"
   ]
  },
  {
   "cell_type": "code",
   "execution_count": 6,
   "metadata": {},
   "outputs": [
    {
     "data": {
      "text/plain": [
       "(0.5190788893561766, 0.014861877551636538)"
      ]
     },
     "execution_count": 6,
     "metadata": {},
     "output_type": "execute_result"
    }
   ],
   "source": [
    "functions.np.mean(all_aucs_test_ccsol_10), functions.np.std(all_aucs_test_ccsol_10)"
   ]
  },
  {
   "cell_type": "code",
   "execution_count": null,
   "metadata": {},
   "outputs": [],
   "source": []
  },
  {
   "cell_type": "code",
   "execution_count": 4,
   "metadata": {},
   "outputs": [
    {
     "data": {
      "text/plain": [
       "[0.5078347578347578,\n",
       " 0.5148687350835323,\n",
       " 0.5040017304780446,\n",
       " 0.514553334596438,\n",
       " 0.5110307905790579,\n",
       " 0.5097728905307986,\n",
       " 0.5216182725983738,\n",
       " 0.5157796994123938,\n",
       " 0.5257592970029068,\n",
       " 0.5374980056798239]"
      ]
     },
     "execution_count": 4,
     "metadata": {},
     "output_type": "execute_result"
    }
   ],
   "source": [
    "\n",
    "\n",
    "all_aucs_test_ccsol_40 = []\n",
    "for i, v in enumerate(cv_40):\n",
    "    v['Accession'] = v.Accession.apply(lambda x:x.split('_')[0])\n",
    "    v.merge(ccsol_pET, on=\"Accession\")\n",
    "    temp = v.merge(ccsol_pET, on=\"Accession\")[['Score']].copy()\n",
    "    labels = v.merge(ccsol_pET, on=\"Accession\")['Solubility'].values\n",
    "    all_aucs_test_ccsol_40.append(compute_auc(temp, labels))\n",
    "all_aucs_test_ccsol_40"
   ]
  },
  {
   "cell_type": "code",
   "execution_count": 5,
   "metadata": {},
   "outputs": [
    {
     "data": {
      "text/plain": [
       "(0.5162717513796127, 0.009304597488694668)"
      ]
     },
     "execution_count": 5,
     "metadata": {},
     "output_type": "execute_result"
    }
   ],
   "source": [
    "functions.np.mean(all_aucs_test_ccsol_40), functions.np.std(all_aucs_test_ccsol_40)"
   ]
  },
  {
   "cell_type": "code",
   "execution_count": 6,
   "metadata": {},
   "outputs": [
    {
     "data": {
      "text/plain": [
       "[0.5001105288885153,\n",
       " 0.5238120844139084,\n",
       " 0.5108086543745323,\n",
       " 0.5177389808416072,\n",
       " 0.5070260217139042,\n",
       " 0.5454370300751881,\n",
       " 0.502968219427041,\n",
       " 0.5402252762952926,\n",
       " 0.520281368278226,\n",
       " 0.5260870942201109]"
      ]
     },
     "execution_count": 6,
     "metadata": {},
     "output_type": "execute_result"
    }
   ],
   "source": [
    "all_aucs_test_ccsol_90 = []\n",
    "for i, v in enumerate(cv_90):\n",
    "    v['Accession'] = v.Accession.apply(lambda x:x.split('_')[0])\n",
    "    v.merge(ccsol_pET, on=\"Accession\")\n",
    "    temp = v.merge(ccsol_pET, on=\"Accession\")[['Score']].copy()\n",
    "    labels = v.merge(ccsol_pET, on=\"Accession\")['Solubility'].values\n",
    "    all_aucs_test_ccsol_90.append(compute_auc(temp, labels))\n",
    "all_aucs_test_ccsol_90"
   ]
  },
  {
   "cell_type": "code",
   "execution_count": 7,
   "metadata": {},
   "outputs": [
    {
     "data": {
      "text/plain": [
       "(0.5194495258528325, 0.014311980014382122)"
      ]
     },
     "execution_count": 7,
     "metadata": {},
     "output_type": "execute_result"
    }
   ],
   "source": [
    "functions.np.mean(all_aucs_test_ccsol_90), functions.np.std(all_aucs_test_ccsol_90)"
   ]
  },
  {
   "cell_type": "code",
   "execution_count": null,
   "metadata": {},
   "outputs": [],
   "source": []
  }
 ],
 "metadata": {
  "kernelspec": {
   "display_name": "Python 3",
   "language": "python",
   "name": "python3"
  },
  "language_info": {
   "codemirror_mode": {
    "name": "ipython",
    "version": 3
   },
   "file_extension": ".py",
   "mimetype": "text/x-python",
   "name": "python",
   "nbconvert_exporter": "python",
   "pygments_lexer": "ipython3",
   "version": "3.7.5"
  }
 },
 "nbformat": 4,
 "nbformat_minor": 2
}
