{
 "cells": [
  {
   "cell_type": "code",
   "execution_count": 2,
   "metadata": {},
   "outputs": [
    {
     "data": {
      "image/png": "[encoded data removed]",
      "text/plain": [
       "<Figure size 288x288 with 1 Axes>"
      ]
     },
     "metadata": {
      "needs_background": "light"
     },
     "output_type": "display_data"
    },
    {
     "data": {
      "text/plain": [
       "SpearmanrResult(correlation=0.3885479809674715, pvalue=9.523368492390249e-116)"
      ]
     },
     "execution_count": 2,
     "metadata": {},
     "output_type": "execute_result"
    }
   ],
   "source": [
    "import pandas as pd\n",
    "import sys\n",
    "import os\n",
    "root_dir = os.path.abspath(os.path.join(os.getcwd(), \"../..\"))\n",
    "os.chdir(root_dir)\n",
    "\n",
    "import functions\n",
    "\n",
    "#Datasets\n",
    "pET = pd.read_pickle('results/pET_complete.pkl.gz', compression='infer')\n",
    "ecoli_w3110 = pd.read_pickle('results/ecoli.pkl.gz', compression='infer')\n",
    "pET['Accession'] = pET['Accession'].apply(lambda x:x.split('_')[0])\n",
    "\n",
    "\n",
    "#Deepsol1\n",
    "deepsol_pET21 = pd.read_csv('Testing_other_tools/deepsol/deepsol1_pET21_NESG.txt', sep='\\t', header=None)\n",
    "deepsol_pET15 = pd.read_csv('Testing_other_tools/deepsol/deepsol1_pET15_NESG.txt', sep='\\t', header=None)\n",
    "deepsol_ecoli = pd.read_csv('Testing_other_tools/deepsol/deepsol1_ecoli_W3110_tags.txt', sep='\\t', header=None)\n",
    "\n",
    "#merge pET\n",
    "deepsol_pET = pd.concat([deepsol_pET15, deepsol_pET21])\n",
    "\n",
    "\n",
    "#Rename cols\n",
    "deepsol_pET = deepsol_pET.rename(columns={0:'Accession', 3:'Score'})\n",
    "deepsol_ecoli = deepsol_ecoli.rename(columns={0:'JW', 3:'Score'})\n",
    "\n",
    "deepsol_pET.shape, pET.shape, ecoli_w3110.shape, deepsol_ecoli.shape\n",
    "\n",
    "#merge results with cleaned dataset\n",
    "df_pET = pET.merge(deepsol_pET, on=\"Accession\")\n",
    "df_ecoli = ecoli_w3110.merge(deepsol_ecoli, on=\"JW\")\n",
    "\n",
    "\n",
    "#ROC for pET\n",
    "\n",
    "df = df_pET[['Score']].copy()\n",
    "\n",
    "labels = df_pET['Solubility'].values\n",
    "functions.make_roc(df, labels)\n",
    "\n",
    "#Correlation for ecoli\n",
    "from scipy.stats import spearmanr\n",
    "\n",
    "spearmanr(df_ecoli['Score'], df_ecoli['Solubility(%)'])"
   ]
  },
  {
   "cell_type": "code",
   "execution_count": 3,
   "metadata": {},
   "outputs": [
    {
     "data": {
      "text/plain": [
       "((12216, 8), (3198, 8))"
      ]
     },
     "execution_count": 3,
     "metadata": {},
     "output_type": "execute_result"
    }
   ],
   "source": [
    "df_pET.shape, df_ecoli.shape"
   ]
  },
  {
   "cell_type": "code",
   "execution_count": 4,
   "metadata": {},
   "outputs": [],
   "source": [
    "#cross validation sets\n",
    "def compute_auc(df, labels):\n",
    "    preds = df['Score'].values\n",
    "    fpr, tpr, _ = functions.roc_curve(labels, preds)\n",
    "    a = functions.auc(fpr, tpr)\n",
    "    if a < 0.5:\n",
    "        a = 1 - a\n",
    "    return a\n",
    "\n",
    "\n",
    "cv_10 = pd.read_pickle('results/testing_10_with_tag.pkl')\n",
    "cv_40 = pd.read_pickle('results/testing_40_with_tag.pkl')\n",
    "cv_90 = pd.read_pickle('results/testing_90_with_tag.pkl')\n",
    "\n"
   ]
  },
  {
   "cell_type": "code",
   "execution_count": 6,
   "metadata": {},
   "outputs": [
    {
     "data": {
      "text/plain": [
       "[0.6490590208937014,\n",
       " 0.6547031311930243,\n",
       " 0.6907475259083643,\n",
       " 0.6081678330406761,\n",
       " 0.6440333240836508,\n",
       " 0.5868114805993547,\n",
       " 0.6369383272026115,\n",
       " 0.6571175950486297,\n",
       " 0.6195517723546143,\n",
       " 0.6920886278795055]"
      ]
     },
     "execution_count": 6,
     "metadata": {},
     "output_type": "execute_result"
    }
   ],
   "source": [
    "\n",
    "all_aucs_test_deepsol1_10 = []\n",
    "for i, v in enumerate(cv_10):\n",
    "    v['Accession'] = v.Accession.apply(lambda x:x.split('_')[0])\n",
    "    v.merge(deepsol_pET, on=\"Accession\")\n",
    "    temp = v.merge(deepsol_pET, on=\"Accession\")[['Score']].copy()\n",
    "    labels = v.merge(deepsol_pET, on=\"Accession\")['Solubility'].values\n",
    "    all_aucs_test_deepsol1_10.append(compute_auc(temp, labels))\n",
    "all_aucs_test_deepsol1_10"
   ]
  },
  {
   "cell_type": "code",
   "execution_count": 7,
   "metadata": {},
   "outputs": [
    {
     "data": {
      "text/plain": [
       "(0.6439218638204134, 0.031641844723862646)"
      ]
     },
     "execution_count": 7,
     "metadata": {},
     "output_type": "execute_result"
    }
   ],
   "source": [
    "functions.np.mean(all_aucs_test_deepsol1_10), functions.np.std(all_aucs_test_deepsol1_10)"
   ]
  },
  {
   "cell_type": "code",
   "execution_count": null,
   "metadata": {},
   "outputs": [],
   "source": []
  },
  {
   "cell_type": "code",
   "execution_count": 5,
   "metadata": {},
   "outputs": [
    {
     "data": {
      "text/plain": [
       "[0.6165697538648358,\n",
       " 0.6776103818615752,\n",
       " 0.6706428605763453,\n",
       " 0.635398410856385,\n",
       " 0.6265282778277828,\n",
       " 0.6853465968855025,\n",
       " 0.6040179599355284,\n",
       " 0.6727674413256213,\n",
       " 0.6168816198336062,\n",
       " 0.6251124796579343]"
      ]
     },
     "execution_count": 5,
     "metadata": {},
     "output_type": "execute_result"
    }
   ],
   "source": [
    "\n",
    "all_aucs_test_deepsol1_40 = []\n",
    "for i, v in enumerate(cv_40):\n",
    "    v['Accession'] = v.Accession.apply(lambda x:x.split('_')[0])\n",
    "    v.merge(deepsol_pET, on=\"Accession\")\n",
    "    temp = v.merge(deepsol_pET, on=\"Accession\")[['Score']].copy()\n",
    "    labels = v.merge(deepsol_pET, on=\"Accession\")['Solubility'].values\n",
    "    all_aucs_test_deepsol1_40.append(compute_auc(temp, labels))\n",
    "all_aucs_test_deepsol1_40"
   ]
  },
  {
   "cell_type": "code",
   "execution_count": 7,
   "metadata": {},
   "outputs": [
    {
     "data": {
      "text/plain": [
       "[0.6520005728821264,\n",
       " 0.6490041297427515,\n",
       " 0.670662800408565,\n",
       " 0.6251489868891538,\n",
       " 0.6523311449872038,\n",
       " 0.6291165413533835,\n",
       " 0.6237654837629728,\n",
       " 0.6516789720616838,\n",
       " 0.6544911804613297,\n",
       " 0.628652414885194]"
      ]
     },
     "execution_count": 7,
     "metadata": {},
     "output_type": "execute_result"
    }
   ],
   "source": [
    "all_aucs_test_deepsol1_90 = []\n",
    "for i, v in enumerate(cv_90):\n",
    "    v['Accession'] = v.Accession.apply(lambda x:x.split('_')[0])\n",
    "    v.merge(deepsol_pET, on=\"Accession\")\n",
    "    temp = v.merge(deepsol_pET, on=\"Accession\")[['Score']].copy()\n",
    "    labels = v.merge(deepsol_pET, on=\"Accession\")['Solubility'].values\n",
    "    all_aucs_test_deepsol1_90.append(compute_auc(temp, labels))\n",
    "all_aucs_test_deepsol1_90\n"
   ]
  },
  {
   "cell_type": "code",
   "execution_count": null,
   "metadata": {},
   "outputs": [],
   "source": []
  },
  {
   "cell_type": "code",
   "execution_count": 19,
   "metadata": {},
   "outputs": [
    {
     "data": {
      "text/plain": [
       "(0.6430875782625117, 0.028619323399529863)"
      ]
     },
     "execution_count": 19,
     "metadata": {},
     "output_type": "execute_result"
    }
   ],
   "source": [
    "functions.np.mean(all_aucs_test_deepsol1_40), functions.np.std(all_aucs_test_deepsol1_40)"
   ]
  },
  {
   "cell_type": "code",
   "execution_count": 21,
   "metadata": {},
   "outputs": [
    {
     "data": {
      "text/plain": [
       "(0.6436852227434363, 0.015030855159726185)"
      ]
     },
     "execution_count": 21,
     "metadata": {},
     "output_type": "execute_result"
    }
   ],
   "source": [
    "functions.np.mean(all_aucs_test_deepsol1_90), functions.np.std(all_aucs_test_deepsol1_90)"
   ]
  },
  {
   "cell_type": "code",
   "execution_count": 8,
   "metadata": {
    "scrolled": true
   },
   "outputs": [
    {
     "data": {
      "image/png": "[encoded data removed]",
      "text/plain": [
       "<Figure size 288x288 with 1 Axes>"
      ]
     },
     "metadata": {
      "needs_background": "light"
     },
     "output_type": "display_data"
    },
    {
     "data": {
      "text/plain": [
       "SpearmanrResult(correlation=0.23380470782222829, pvalue=5.817061203361031e-41)"
      ]
     },
     "execution_count": 8,
     "metadata": {},
     "output_type": "execute_result"
    }
   ],
   "source": [
    "#Deepsol 2\n",
    "\n",
    "deepsol_pET21 = pd.read_csv('Testing_other_tools/deepsol/deepsol2_pET21_NESG.txt', sep='\\t', header=None)\n",
    "deepsol_pET15 = pd.read_csv('Testing_other_tools/deepsol/deepsol2_pET15_NESG.txt', sep='\\t', header=None)\n",
    "deepsol_ecoli = pd.read_csv('Testing_other_tools/deepsol/deepsol2_ecoli_W3110_tags.txt', sep='\\t', header=None)\n",
    "\n",
    "#merge pET\n",
    "deepsol_pET = pd.concat([deepsol_pET15, deepsol_pET21])\n",
    "\n",
    "\n",
    "#Rename cols\n",
    "deepsol_pET = deepsol_pET.rename(columns={0:'Accession', 3:'Score'})\n",
    "deepsol_ecoli = deepsol_ecoli.rename(columns={0:'JW', 3:'Score'})\n",
    "\n",
    "deepsol_pET.shape, pET.shape, ecoli_w3110.shape, deepsol_ecoli.shape\n",
    "\n",
    "#merge results with cleaned dataset\n",
    "df_pET = pET.merge(deepsol_pET, on=\"Accession\")\n",
    "df_ecoli = ecoli_w3110.merge(deepsol_ecoli, on=\"JW\")\n",
    "\n",
    "\n",
    "#ROC for pET\n",
    "\n",
    "df = df_pET[['Score']].copy()\n",
    "\n",
    "labels = df_pET['Solubility'].values\n",
    "functions.make_roc(df, labels)\n",
    "\n",
    "#Correlation for ecoli\n",
    "from scipy.stats import spearmanr\n",
    "\n",
    "spearmanr(df_ecoli['Score'], df_ecoli['Solubility(%)'])"
   ]
  },
  {
   "cell_type": "code",
   "execution_count": 9,
   "metadata": {},
   "outputs": [
    {
     "data": {
      "text/plain": [
       "[0.6827802348635047,\n",
       " 0.6811969877130399,\n",
       " 0.692506181487269,\n",
       " 0.6385635302694621,\n",
       " 0.6615388738931913,\n",
       " 0.6357412041363923,\n",
       " 0.6606491771244811,\n",
       " 0.6651154854421641,\n",
       " 0.6939521237182398,\n",
       " 0.7162845639878272]"
      ]
     },
     "execution_count": 9,
     "metadata": {},
     "output_type": "execute_result"
    }
   ],
   "source": [
    "all_aucs_test_deepsol2_10 = []\n",
    "for i, v in enumerate(cv_10):\n",
    "    v['Accession'] = v.Accession.apply(lambda x:x.split('_')[0])\n",
    "    v.merge(deepsol_pET, on=\"Accession\")\n",
    "    temp = v.merge(deepsol_pET, on=\"Accession\")[['Score']].copy()\n",
    "    labels = v.merge(deepsol_pET, on=\"Accession\")['Solubility'].values\n",
    "    all_aucs_test_deepsol2_10.append(compute_auc(temp, labels))\n",
    "all_aucs_test_deepsol2_10"
   ]
  },
  {
   "cell_type": "code",
   "execution_count": 10,
   "metadata": {},
   "outputs": [
    {
     "data": {
      "text/plain": [
       "(0.6728328362635572, 0.02403279919693046)"
      ]
     },
     "execution_count": 10,
     "metadata": {},
     "output_type": "execute_result"
    }
   ],
   "source": [
    "functions.np.mean(all_aucs_test_deepsol2_10), functions.np.std(all_aucs_test_deepsol2_10)"
   ]
  },
  {
   "cell_type": "code",
   "execution_count": 10,
   "metadata": {},
   "outputs": [
    {
     "data": {
      "text/plain": [
       "[0.6580043552379617,\n",
       " 0.6903356205250597,\n",
       " 0.6861225274593218,\n",
       " 0.6803417487684729,\n",
       " 0.6467912416241625,\n",
       " 0.6980970522589086,\n",
       " 0.6491268465891877,\n",
       " 0.6981144279751159,\n",
       " 0.639075812756858,\n",
       " 0.6729506365870003]"
      ]
     },
     "execution_count": 10,
     "metadata": {},
     "output_type": "execute_result"
    }
   ],
   "source": [
    "all_aucs_test_deepsol2_40 = []\n",
    "for i, v in enumerate(cv_40):\n",
    "    v['Accession'] = v.Accession.apply(lambda x:x.split('_')[0])\n",
    "    v.merge(deepsol_pET, on=\"Accession\")\n",
    "    temp = v.merge(deepsol_pET, on=\"Accession\")[['Score']].copy()\n",
    "    labels = v.merge(deepsol_pET, on=\"Accession\")['Solubility'].values\n",
    "    all_aucs_test_deepsol2_40.append(compute_auc(temp, labels))\n",
    "all_aucs_test_deepsol2_40"
   ]
  },
  {
   "cell_type": "code",
   "execution_count": null,
   "metadata": {},
   "outputs": [],
   "source": []
  },
  {
   "cell_type": "code",
   "execution_count": 20,
   "metadata": {},
   "outputs": [
    {
     "data": {
      "text/plain": [
       "(0.6718960269782049, 0.020994245519253173)"
      ]
     },
     "execution_count": 20,
     "metadata": {},
     "output_type": "execute_result"
    }
   ],
   "source": [
    "functions.np.mean(all_aucs_test_deepsol2_40), functions.np.std(all_aucs_test_deepsol2_40)"
   ]
  },
  {
   "cell_type": "code",
   "execution_count": 12,
   "metadata": {},
   "outputs": [
    {
     "data": {
      "text/plain": [
       "[0.6975011130726096,\n",
       " 0.658217696439326,\n",
       " 0.7065488368627427,\n",
       " 0.6563144019680948,\n",
       " 0.694170945333736,\n",
       " 0.6524686716791981,\n",
       " 0.6540514850064566,\n",
       " 0.6536484497660284,\n",
       " 0.6982817967578376,\n",
       " 0.6643515439429929]"
      ]
     },
     "execution_count": 12,
     "metadata": {},
     "output_type": "execute_result"
    }
   ],
   "source": [
    "all_aucs_test_deepsol2_90 = []\n",
    "for i, v in enumerate(cv_90):\n",
    "    v['Accession'] = v.Accession.apply(lambda x:x.split('_')[0])\n",
    "    v.merge(deepsol_pET, on=\"Accession\")\n",
    "    temp = v.merge(deepsol_pET, on=\"Accession\")[['Score']].copy()\n",
    "    labels = v.merge(deepsol_pET, on=\"Accession\")['Solubility'].values\n",
    "    all_aucs_test_deepsol2_90.append(compute_auc(temp, labels))\n",
    "all_aucs_test_deepsol2_90"
   ]
  },
  {
   "cell_type": "code",
   "execution_count": 13,
   "metadata": {},
   "outputs": [
    {
     "data": {
      "text/plain": [
       "(0.6735554940829023, 0.021300016585566846)"
      ]
     },
     "execution_count": 13,
     "metadata": {},
     "output_type": "execute_result"
    }
   ],
   "source": [
    "functions.np.mean(all_aucs_test_deepsol2_90), functions.np.std(all_aucs_test_deepsol2_90)"
   ]
  },
  {
   "cell_type": "code",
   "execution_count": 11,
   "metadata": {
    "scrolled": true
   },
   "outputs": [
    {
     "data": {
      "image/png": "[encoded data removed]",
      "text/plain": [
       "<Figure size 288x288 with 1 Axes>"
      ]
     },
     "metadata": {
      "needs_background": "light"
     },
     "output_type": "display_data"
    },
    {
     "data": {
      "text/plain": [
       "SpearmanrResult(correlation=0.34644352215260077, pvalue=7.482753704456904e-91)"
      ]
     },
     "execution_count": 11,
     "metadata": {},
     "output_type": "execute_result"
    }
   ],
   "source": [
    "#Deepsol 3\n",
    "\n",
    "deepsol_pET21 = pd.read_csv('Testing_other_tools/deepsol/deepsol3_pET21_NESG.txt', sep='\\t', header=None)\n",
    "deepsol_pET15 = pd.read_csv('Testing_other_tools/deepsol/deepsol3_pET15_NESG.txt', sep='\\t', header=None)\n",
    "deepsol_ecoli = pd.read_csv('Testing_other_tools/deepsol/deepsol3_ecoli_W3110_tags.txt', sep='\\t', header=None)\n",
    "\n",
    "#merge pET\n",
    "deepsol_pET = pd.concat([deepsol_pET15, deepsol_pET21])\n",
    "\n",
    "\n",
    "#Rename cols\n",
    "deepsol_pET = deepsol_pET.rename(columns={0:'Accession', 3:'Score'})\n",
    "deepsol_ecoli = deepsol_ecoli.rename(columns={0:'JW', 3:'Score'})\n",
    "\n",
    "deepsol_pET.shape, pET.shape, ecoli_w3110.shape, deepsol_ecoli.shape\n",
    "\n",
    "#merge results with cleaned dataset\n",
    "df_pET = pET.merge(deepsol_pET, on=\"Accession\")\n",
    "df_ecoli = ecoli_w3110.merge(deepsol_ecoli, on=\"JW\")\n",
    "\n",
    "\n",
    "#ROC for pET\n",
    "\n",
    "df = df_pET[['Score']].copy()\n",
    "\n",
    "labels = df_pET['Solubility'].values\n",
    "functions.make_roc(df, labels)\n",
    "\n",
    "#Correlation for ecoli\n",
    "from scipy.stats import spearmanr\n",
    "\n",
    "spearmanr(df_ecoli['Score'], df_ecoli['Solubility(%)'])"
   ]
  },
  {
   "cell_type": "code",
   "execution_count": 12,
   "metadata": {},
   "outputs": [
    {
     "data": {
      "text/plain": [
       "[0.6555330181485435,\n",
       " 0.6816535869996037,\n",
       " 0.6931916829810035,\n",
       " 0.6303823645384478,\n",
       " 0.6711359451073384,\n",
       " 0.6229581838463626,\n",
       " 0.6562881148111123,\n",
       " 0.6432686490762716,\n",
       " 0.6664286397208212,\n",
       " 0.6902175406038149]"
      ]
     },
     "execution_count": 12,
     "metadata": {},
     "output_type": "execute_result"
    }
   ],
   "source": [
    "all_aucs_test_deepsol3_10 = []\n",
    "for i, v in enumerate(cv_10):\n",
    "    v['Accession'] = v.Accession.apply(lambda x:x.split('_')[0])\n",
    "    v.merge(deepsol_pET, on=\"Accession\")\n",
    "    temp = v.merge(deepsol_pET, on=\"Accession\")[['Score']].copy()\n",
    "    labels = v.merge(deepsol_pET, on=\"Accession\")['Solubility'].values\n",
    "    all_aucs_test_deepsol3_10.append(compute_auc(temp, labels))\n",
    "all_aucs_test_deepsol3_10"
   ]
  },
  {
   "cell_type": "code",
   "execution_count": 14,
   "metadata": {},
   "outputs": [
    {
     "data": {
      "text/plain": [
       "(0.6611057725833318, 0.022802950155145014)"
      ]
     },
     "execution_count": 14,
     "metadata": {},
     "output_type": "execute_result"
    }
   ],
   "source": [
    "functions.np.mean(all_aucs_test_deepsol3_10), functions.np.std(all_aucs_test_deepsol3_10)"
   ]
  },
  {
   "cell_type": "code",
   "execution_count": 13,
   "metadata": {},
   "outputs": [
    {
     "data": {
      "text/plain": [
       "[0.6339279459156508,\n",
       " 0.6786530429594273,\n",
       " 0.6837551373566948,\n",
       " 0.6577894088669951,\n",
       " 0.6299114286428643,\n",
       " 0.6972376151260936,\n",
       " 0.6588475708035919,\n",
       " 0.6734315168519944,\n",
       " 0.6411006047646095,\n",
       " 0.6539742812470085]"
      ]
     },
     "execution_count": 13,
     "metadata": {},
     "output_type": "execute_result"
    }
   ],
   "source": [
    "\n",
    "all_aucs_test_deepsol3_40 = []\n",
    "for i, v in enumerate(cv_40):\n",
    "    v['Accession'] = v.Accession.apply(lambda x:x.split('_')[0])\n",
    "    v.merge(deepsol_pET, on=\"Accession\")\n",
    "    temp = v.merge(deepsol_pET, on=\"Accession\")[['Score']].copy()\n",
    "    labels = v.merge(deepsol_pET, on=\"Accession\")['Solubility'].values\n",
    "    all_aucs_test_deepsol3_40.append(compute_auc(temp, labels))\n",
    "all_aucs_test_deepsol3_40"
   ]
  },
  {
   "cell_type": "code",
   "execution_count": 16,
   "metadata": {},
   "outputs": [
    {
     "data": {
      "text/plain": [
       "(0.660862855253493, 0.021110727981942592)"
      ]
     },
     "execution_count": 16,
     "metadata": {},
     "output_type": "execute_result"
    }
   ],
   "source": [
    "functions.np.mean(all_aucs_test_deepsol3_40), functions.np.std(all_aucs_test_deepsol3_40)"
   ]
  },
  {
   "cell_type": "code",
   "execution_count": 17,
   "metadata": {},
   "outputs": [
    {
     "data": {
      "text/plain": [
       "[0.6860154491364736,\n",
       " 0.6296505696832635,\n",
       " 0.7013269047478601,\n",
       " 0.6528884374431208,\n",
       " 0.686111685132493,\n",
       " 0.639984335839599,\n",
       " 0.6345831938399732,\n",
       " 0.6323836210737187,\n",
       " 0.7019438691708919,\n",
       " 0.6479746634996041]"
      ]
     },
     "execution_count": 17,
     "metadata": {},
     "output_type": "execute_result"
    }
   ],
   "source": [
    "\n",
    "all_aucs_test_deepsol3_90 = []\n",
    "for i, v in enumerate(cv_90):\n",
    "    v['Accession'] = v.Accession.apply(lambda x:x.split('_')[0])\n",
    "    v.merge(deepsol_pET, on=\"Accession\")\n",
    "    temp = v.merge(deepsol_pET, on=\"Accession\")[['Score']].copy()\n",
    "    labels = v.merge(deepsol_pET, on=\"Accession\")['Solubility'].values\n",
    "    all_aucs_test_deepsol3_90.append(compute_auc(temp, labels))\n",
    "all_aucs_test_deepsol3_90"
   ]
  },
  {
   "cell_type": "code",
   "execution_count": 18,
   "metadata": {},
   "outputs": [
    {
     "data": {
      "text/plain": [
       "(0.6612862729566997, 0.0278116093075536)"
      ]
     },
     "execution_count": 18,
     "metadata": {},
     "output_type": "execute_result"
    }
   ],
   "source": [
    "functions.np.mean(all_aucs_test_deepsol3_90), functions.np.std(all_aucs_test_deepsol3_90)"
   ]
  },
  {
   "cell_type": "code",
   "execution_count": null,
   "metadata": {},
   "outputs": [],
   "source": []
  },
  {
   "cell_type": "code",
   "execution_count": null,
   "metadata": {},
   "outputs": [],
   "source": []
  },
  {
   "cell_type": "code",
   "execution_count": null,
   "metadata": {},
   "outputs": [],
   "source": []
  }
 ],
 "metadata": {
  "kernelspec": {
   "display_name": "Python 3",
   "language": "python",
   "name": "python3"
  },
  "language_info": {
   "codemirror_mode": {
    "name": "ipython",
    "version": 3
   },
   "file_extension": ".py",
   "mimetype": "text/x-python",
   "name": "python",
   "nbconvert_exporter": "python",
   "pygments_lexer": "ipython3",
   "version": "3.7.5"
  }
 },
 "nbformat": 4,
 "nbformat_minor": 2
}
