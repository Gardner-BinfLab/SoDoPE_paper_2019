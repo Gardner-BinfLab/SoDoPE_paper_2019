{
 "cells": [
  {
   "cell_type": "code",
   "execution_count": 8,
   "metadata": {},
   "outputs": [],
   "source": [
    "import os\n",
    "root_dir = os.path.abspath(os.path.join(os.getcwd(), \"../\"))\n",
    "os.chdir(root_dir)\n",
    "\n",
    "import functions\n",
    "import pickle\n",
    "from functools import partial\n",
    "import pandas as pd\n",
    "import numpy as np\n",
    "from scipy import optimize\n",
    "from scipy.stats import spearmanr\n",
    "\n"
   ]
  },
  {
   "cell_type": "code",
   "execution_count": 10,
   "metadata": {},
   "outputs": [],
   "source": [
    "eSOL = pd.read_pickle('results/ecoli.pkl.gz')"
   ]
  },
  {
   "cell_type": "code",
   "execution_count": 13,
   "metadata": {},
   "outputs": [],
   "source": [
    "def cost_funct(f, df):\n",
    "    '''Spearman's correlation'''\n",
    "    weights = functions.make_dic(f)\n",
    "    df['f'] = df['Sequence'].apply(lambda x:functions.solubility_score(x, weights))\n",
    "    df['Average_Score'] = df['f'].apply(lambda x:np.mean(x))\n",
    "    return -spearmanr(df['Average_Score'], df['Solubility(%)'])[0]"
   ]
  },
  {
   "cell_type": "code",
   "execution_count": 17,
   "metadata": {},
   "outputs": [
    {
     "data": {
      "text/plain": [
       "0.39525618255208833"
      ]
     },
     "execution_count": 17,
     "metadata": {},
     "output_type": "execute_result"
    }
   ],
   "source": [
    "#Initial 'guess' values\n",
    "#Smith, David K., et al. 2003\n",
    "flexibilities_smith = {'A': 0.717, 'C': 0.668, 'E': 0.963, 'D': 0.921,\\\n",
    "                         'G': 0.843, 'F': 0.599, 'I': 0.632, 'H': 0.754, \\\n",
    "                         'K': 0.912, 'M': 0.685, 'L': 0.681, 'N': 0.851,\\\n",
    "                         'Q': 0.849, 'P': 0.85, 'S': 0.84, 'R': 0.814, 'T': 0.758, \\\n",
    "                         'W': 0.626, 'V': 0.619, 'Y': 0.615}\n",
    "\n",
    "#Initial correlation\n",
    "init_state = [v for k, v in flexibilities_smith.items()]\n",
    "-cost_funct(init_state, eSOL)"
   ]
  },
  {
   "cell_type": "code",
   "execution_count": 18,
   "metadata": {},
   "outputs": [],
   "source": [
    "\n",
    "\n",
    "cost_function = partial(cost_funct, df=eSOL)\n",
    "opti = optimize.minimize(cost_function, x0=init_state, method=\"Nelder-Mead\", \\\n",
    "                         options={ 'maxiter': 3000, 'maxfev': 3000,\\\n",
    "                       'disp': False, 'return_all': False,\\\n",
    "                       'xatol': 0.001, 'fatol': 0.0001, 'adaptive': True})"
   ]
  },
  {
   "cell_type": "code",
   "execution_count": 26,
   "metadata": {},
   "outputs": [
    {
     "data": {
      "text/plain": [
       "0.5840198354838161"
      ]
     },
     "execution_count": 26,
     "metadata": {},
     "output_type": "execute_result"
    }
   ],
   "source": [
    "#Final correlation after optimisation\n",
    "-opti['fun']"
   ]
  },
  {
   "cell_type": "code",
   "execution_count": 19,
   "metadata": {},
   "outputs": [],
   "source": [
    "weights_from_pET_optimisation = {'A': 0.8356471476582918,\n",
    " 'C': 0.5208088354857734,\n",
    " 'E': 0.9876987431418378,\n",
    " 'D': 0.9079044671339564,\n",
    " 'G': 0.7997168496420723,\n",
    " 'F': 0.5849790194237692,\n",
    " 'I': 0.6784124413866582,\n",
    " 'H': 0.8947913996466419,\n",
    " 'K': 0.9267104557513497,\n",
    " 'M': 0.6296623675420369,\n",
    " 'L': 0.6554221515081433,\n",
    " 'N': 0.8597433107431216,\n",
    " 'Q': 0.789434648348208,\n",
    " 'P': 0.8235328714705341,\n",
    " 'S': 0.7440908318492778,\n",
    " 'R': 0.7712466317693457,\n",
    " 'T': 0.8096922697856334,\n",
    " 'W': 0.6374678690957594,\n",
    " 'V': 0.7357837119163659,\n",
    " 'Y': 0.6112801822947587}"
   ]
  },
  {
   "cell_type": "code",
   "execution_count": 31,
   "metadata": {},
   "outputs": [],
   "source": [
    "weights_from_eSOL_optimisation = functions.make_dic(opti['x'])"
   ]
  },
  {
   "cell_type": "code",
   "execution_count": 37,
   "metadata": {},
   "outputs": [
    {
     "data": {
      "text/plain": [
       "SpearmanrResult(correlation=0.8781954887218045, pvalue=3.5733947904134215e-07)"
      ]
     },
     "execution_count": 37,
     "metadata": {},
     "output_type": "execute_result"
    }
   ],
   "source": [
    "#correlation between two weights\n",
    "spearmanr([v for k,v in weights_from_eSOL_optimisation.items()], \\\n",
    "           [v for k,v in weights_from_pET_optimisation.items()])\n"
   ]
  },
  {
   "cell_type": "code",
   "execution_count": 52,
   "metadata": {},
   "outputs": [],
   "source": [
    "weights_df = pd.DataFrame({'Amino acids': [k for k,v in weights_from_eSOL_optimisation.items()], \\\n",
    "                           'Optimisation on eSOL':[v for k,v in weights_from_eSOL_optimisation.items()], \\\n",
    "                          'Optimisation on pET':[v for k,v in weights_from_pET_optimisation.items()], })"
   ]
  },
  {
   "cell_type": "code",
   "execution_count": 72,
   "metadata": {},
   "outputs": [
    {
     "data": {
      "image/png": "[encoded data removed]",
      "text/plain": [
       "<Figure size 648x72 with 1 Axes>"
      ]
     },
     "metadata": {
      "needs_background": "light"
     },
     "output_type": "display_data"
    }
   ],
   "source": [
    "functions.sns.set_palette(\"Set1\")\n",
    "current_palette = functions.sns.color_palette()\n",
    "functions.sns.palplot(current_palette)"
   ]
  },
  {
   "cell_type": "code",
   "execution_count": 134,
   "metadata": {},
   "outputs": [
    {
     "data": {
      "image/png": "[encoded data removed]",
      "text/plain": [
       "<Figure size 288x288 with 1 Axes>"
      ]
     },
     "metadata": {
      "needs_background": "light"
     },
     "output_type": "display_data"
    }
   ],
   "source": [
    "\n",
    "\n",
    "functions.plt.figure(figsize=(4, 4))\n",
    "x = 'Optimisation on pET'\n",
    "y = 'Optimisation on eSOL'\n",
    "g = functions.sns.regplot('Optimisation on pET', 'Optimisation on eSOL', data=weights_df, \\\n",
    "                          label=\"Spearman's rho = 0.88\", \\\n",
    "                         scatter_kws={'s':4, \"color\": current_palette[4] }, \\\n",
    "                          line_kws={\"color\": current_palette[1], 'alpha':0.8})\n",
    "g.legend(loc=\"best\")\n",
    "for i, v in enumerate(weights_df['Amino acids']):\n",
    "    g.annotate(' ' +v, [weights_df[x][i], weights_df[y][i]])\n",
    "functions.plt.savefig('figs/weights_comparision_from_eSOL_and_pET.pdf', bbox_inches = 'tight', pad_inches = 0)"
   ]
  },
  {
   "cell_type": "code",
   "execution_count": 105,
   "metadata": {
    "scrolled": false
   },
   "outputs": [
    {
     "data": {
      "text/html": [
       "<div>\n",
       "<style scoped>\n",
       "    .dataframe tbody tr th:only-of-type {\n",
       "        vertical-align: middle;\n",
       "    }\n",
       "\n",
       "    .dataframe tbody tr th {\n",
       "        vertical-align: top;\n",
       "    }\n",
       "\n",
       "    .dataframe thead th {\n",
       "        text-align: right;\n",
       "    }\n",
       "</style>\n",
       "<table border=\"1\" class=\"dataframe\">\n",
       "  <thead>\n",
       "    <tr style=\"text-align: right;\">\n",
       "      <th></th>\n",
       "      <th>Amino acids</th>\n",
       "      <th>Optimisation on eSOL</th>\n",
       "      <th>Optimisation on pET</th>\n",
       "    </tr>\n",
       "  </thead>\n",
       "  <tbody>\n",
       "    <tr>\n",
       "      <th>0</th>\n",
       "      <td>A</td>\n",
       "      <td>0.775313</td>\n",
       "      <td>0.835647</td>\n",
       "    </tr>\n",
       "    <tr>\n",
       "      <th>1</th>\n",
       "      <td>C</td>\n",
       "      <td>0.752677</td>\n",
       "      <td>0.520809</td>\n",
       "    </tr>\n",
       "    <tr>\n",
       "      <th>2</th>\n",
       "      <td>E</td>\n",
       "      <td>0.968557</td>\n",
       "      <td>0.987699</td>\n",
       "    </tr>\n",
       "    <tr>\n",
       "      <th>3</th>\n",
       "      <td>D</td>\n",
       "      <td>0.991984</td>\n",
       "      <td>0.907904</td>\n",
       "    </tr>\n",
       "    <tr>\n",
       "      <th>4</th>\n",
       "      <td>G</td>\n",
       "      <td>0.798711</td>\n",
       "      <td>0.799717</td>\n",
       "    </tr>\n",
       "    <tr>\n",
       "      <th>5</th>\n",
       "      <td>F</td>\n",
       "      <td>0.586659</td>\n",
       "      <td>0.584979</td>\n",
       "    </tr>\n",
       "    <tr>\n",
       "      <th>6</th>\n",
       "      <td>I</td>\n",
       "      <td>0.652504</td>\n",
       "      <td>0.678412</td>\n",
       "    </tr>\n",
       "    <tr>\n",
       "      <th>7</th>\n",
       "      <td>H</td>\n",
       "      <td>0.959811</td>\n",
       "      <td>0.894791</td>\n",
       "    </tr>\n",
       "    <tr>\n",
       "      <th>8</th>\n",
       "      <td>K</td>\n",
       "      <td>0.886268</td>\n",
       "      <td>0.926710</td>\n",
       "    </tr>\n",
       "    <tr>\n",
       "      <th>9</th>\n",
       "      <td>M</td>\n",
       "      <td>0.699244</td>\n",
       "      <td>0.629662</td>\n",
       "    </tr>\n",
       "    <tr>\n",
       "      <th>10</th>\n",
       "      <td>L</td>\n",
       "      <td>0.688690</td>\n",
       "      <td>0.655422</td>\n",
       "    </tr>\n",
       "    <tr>\n",
       "      <th>11</th>\n",
       "      <td>N</td>\n",
       "      <td>0.797897</td>\n",
       "      <td>0.859743</td>\n",
       "    </tr>\n",
       "    <tr>\n",
       "      <th>12</th>\n",
       "      <td>Q</td>\n",
       "      <td>0.774311</td>\n",
       "      <td>0.789435</td>\n",
       "    </tr>\n",
       "    <tr>\n",
       "      <th>13</th>\n",
       "      <td>P</td>\n",
       "      <td>0.839046</td>\n",
       "      <td>0.823533</td>\n",
       "    </tr>\n",
       "    <tr>\n",
       "      <th>14</th>\n",
       "      <td>S</td>\n",
       "      <td>0.773666</td>\n",
       "      <td>0.744091</td>\n",
       "    </tr>\n",
       "    <tr>\n",
       "      <th>15</th>\n",
       "      <td>R</td>\n",
       "      <td>0.686454</td>\n",
       "      <td>0.771247</td>\n",
       "    </tr>\n",
       "    <tr>\n",
       "      <th>16</th>\n",
       "      <td>T</td>\n",
       "      <td>0.797599</td>\n",
       "      <td>0.809692</td>\n",
       "    </tr>\n",
       "    <tr>\n",
       "      <th>17</th>\n",
       "      <td>W</td>\n",
       "      <td>0.514608</td>\n",
       "      <td>0.637468</td>\n",
       "    </tr>\n",
       "    <tr>\n",
       "      <th>18</th>\n",
       "      <td>V</td>\n",
       "      <td>0.730071</td>\n",
       "      <td>0.735784</td>\n",
       "    </tr>\n",
       "    <tr>\n",
       "      <th>19</th>\n",
       "      <td>Y</td>\n",
       "      <td>0.539310</td>\n",
       "      <td>0.611280</td>\n",
       "    </tr>\n",
       "  </tbody>\n",
       "</table>\n",
       "</div>"
      ],
      "text/plain": [
       "   Amino acids  Optimisation on eSOL  Optimisation on pET\n",
       "0            A              0.775313             0.835647\n",
       "1            C              0.752677             0.520809\n",
       "2            E              0.968557             0.987699\n",
       "3            D              0.991984             0.907904\n",
       "4            G              0.798711             0.799717\n",
       "5            F              0.586659             0.584979\n",
       "6            I              0.652504             0.678412\n",
       "7            H              0.959811             0.894791\n",
       "8            K              0.886268             0.926710\n",
       "9            M              0.699244             0.629662\n",
       "10           L              0.688690             0.655422\n",
       "11           N              0.797897             0.859743\n",
       "12           Q              0.774311             0.789435\n",
       "13           P              0.839046             0.823533\n",
       "14           S              0.773666             0.744091\n",
       "15           R              0.686454             0.771247\n",
       "16           T              0.797599             0.809692\n",
       "17           W              0.514608             0.637468\n",
       "18           V              0.730071             0.735784\n",
       "19           Y              0.539310             0.611280"
      ]
     },
     "execution_count": 105,
     "metadata": {},
     "output_type": "execute_result"
    }
   ],
   "source": [
    "weights_df"
   ]
  },
  {
   "cell_type": "markdown",
   "metadata": {},
   "source": [
    "#### AUC on pET based on weights derived from eSOL"
   ]
  },
  {
   "cell_type": "code",
   "execution_count": 94,
   "metadata": {},
   "outputs": [
    {
     "data": {
      "image/png": "[encoded data removed]",
      "text/plain": [
       "<Figure size 288x288 with 1 Axes>"
      ]
     },
     "metadata": {
      "needs_background": "light"
     },
     "output_type": "display_data"
    }
   ],
   "source": [
    "\n",
    "pET = pd.read_pickle('results/pET_complete.pkl.gz')\n",
    "\n",
    "pET['f'] = pET['Protein'].apply(lambda x:functions.solubility_score(x, weights_from_eSOL_optimisation))\n",
    "pET['eSOL_weights'] = pET['f'].apply(lambda x:np.mean(x))\n",
    "\n",
    "\n",
    "roc_df = pET[['eSOL_weights']].copy()\n",
    "labels = pET.Solubility.values\n",
    "functions.make_roc(df=roc_df, labels=labels )\n"
   ]
  },
  {
   "cell_type": "markdown",
   "metadata": {},
   "source": [
    "### More comparision between weights from eSOL and pET"
   ]
  },
  {
   "cell_type": "code",
   "execution_count": 125,
   "metadata": {},
   "outputs": [],
   "source": [
    "weights_df['Delta'] = weights_df['Optimisation on eSOL'] - weights_df['Optimisation on pET']"
   ]
  },
  {
   "cell_type": "code",
   "execution_count": 137,
   "metadata": {},
   "outputs": [
    {
     "data": {
      "text/plain": [
       "Text(0, 0.5, 'weights[eSOL] - weights[pET]')"
      ]
     },
     "execution_count": 137,
     "metadata": {},
     "output_type": "execute_result"
    },
    {
     "data": {
      "image/png": "[encoded data removed]",
      "text/plain": [
       "<Figure size 432x288 with 1 Axes>"
      ]
     },
     "metadata": {
      "needs_background": "light"
     },
     "output_type": "display_data"
    }
   ],
   "source": [
    "\n",
    "ax = weights_df['Delta'].sort_values(ascending=False).plot(kind='bar')\n",
    "ax.set_xticklabels(weights_df.sort_values(by=\"Delta\", ascending=False)['Amino acids'].values)\n",
    "ax.set_xlabel(\"Residue\")\n",
    "ax.set_ylabel(\"weights[eSOL] - weights[pET]\")"
   ]
  },
  {
   "cell_type": "code",
   "execution_count": null,
   "metadata": {},
   "outputs": [],
   "source": []
  },
  {
   "cell_type": "code",
   "execution_count": null,
   "metadata": {},
   "outputs": [],
   "source": []
  },
  {
   "cell_type": "code",
   "execution_count": null,
   "metadata": {},
   "outputs": [],
   "source": []
  }
 ],
 "metadata": {
  "kernelspec": {
   "display_name": "Python 3",
   "language": "python",
   "name": "python3"
  },
  "language_info": {
   "codemirror_mode": {
    "name": "ipython",
    "version": 3
   },
   "file_extension": ".py",
   "mimetype": "text/x-python",
   "name": "python",
   "nbconvert_exporter": "python",
   "pygments_lexer": "ipython3",
   "version": "3.7.3"
  }
 },
 "nbformat": 4,
 "nbformat_minor": 2
}
