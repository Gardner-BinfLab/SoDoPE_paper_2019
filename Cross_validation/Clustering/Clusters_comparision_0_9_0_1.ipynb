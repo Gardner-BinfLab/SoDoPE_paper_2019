{
 "cells": [
  {
   "cell_type": "code",
   "execution_count": 1,
   "metadata": {},
   "outputs": [],
   "source": [
    "import os\n",
    "import pandas as pd\n",
    "import numpy as np\n",
    "np.random.seed(12345)\n",
    "import seaborn as sns\n",
    "import matplotlib.pyplot as plt\n",
    "\n",
    "def fasta_reader(file):\n",
    "    '''Converts .fasta to a pandas dataframe with accession as index\n",
    "    and sequence in a column 'sequence'\n",
    "    '''\n",
    "    fasta_df = pd.read_csv(file, sep='>', lineterminator='>', header=None)\n",
    "    fasta_df[['Accession', 'Sequence']] = fasta_df[0].str.split('\\n', 1, \\\n",
    "                                        expand=True)\n",
    "    fasta_df['Accession'] = fasta_df['Accession']\n",
    "    fasta_df['Sequence'] = fasta_df['Sequence'].replace('\\n', '', regex=True).\\\n",
    "                            astype(str).str.upper().replace('U', 'T')\n",
    "    total_seq = fasta_df.shape[0]\n",
    "    fasta_df.drop(0, axis=1, inplace=True)\n",
    "    fasta_df = fasta_df[fasta_df.Sequence != '']\n",
    "    fasta_df = fasta_df[fasta_df.Sequence != 'NONE']\n",
    "    final_df = fasta_df.dropna()\n",
    "    remained_seq = final_df.shape[0]\n",
    "    if total_seq != remained_seq:\n",
    "        print(\"{} sequences were removed due to inconsistencies in\"\n",
    "                      \"provided file.\".format(total_seq-remained_seq))\n",
    "    return final_df\n",
    "\n",
    "root_dir  = os.path.abspath(os.path.join(os.getcwd(), \"../..\"))\n"
   ]
  },
  {
   "cell_type": "code",
   "execution_count": null,
   "metadata": {},
   "outputs": [],
   "source": []
  },
  {
   "cell_type": "code",
   "execution_count": 2,
   "metadata": {},
   "outputs": [],
   "source": [
    "#This step takes some time!\n",
    "\n",
    "#path to the clusters folder. \n",
    "clusters_10 = []\n",
    "clusters_20 = []\n",
    "clusters_30 = []\n",
    "clusters_40 = []\n",
    "clusters_50 = []\n",
    "clusters_60 = []\n",
    "clusters_70 = []\n",
    "clusters_80 = []\n",
    "clusters_90 = []\n",
    "\n",
    "\n",
    "all_clusters = [clusters_10, clusters_20, clusters_30, clusters_40, clusters_50, clusters_60, clusters_70, clusters_80, clusters_90]\n",
    "\n",
    "for i, v in enumerate(list(range(10, 100, 10))):\n",
    "    path = os.getcwd() + '/' + str(v) + '/'\n",
    "\n",
    "\n",
    "    #remove usearch and pET fasta from cluster directory before running this\n",
    "\n",
    "    for file in os.listdir(path):\n",
    "        try:\n",
    "            all_clusters[i].append(fasta_reader(os.path.abspath(os.path.join(str(v) + '/', file))))\n",
    "        except Exception:\n",
    "            pass\n",
    "\n"
   ]
  },
  {
   "cell_type": "code",
   "execution_count": 3,
   "metadata": {},
   "outputs": [
    {
     "name": "stdout",
     "output_type": "stream",
     "text": [
      "ID = 10 has 4368 clusters.\n",
      "ID = 20 has 4781 clusters.\n",
      "ID = 30 has 4941 clusters.\n",
      "ID = 40 has 5050 clusters.\n",
      "ID = 50 has 5277 clusters.\n",
      "ID = 60 has 5758 clusters.\n",
      "ID = 70 has 6124 clusters.\n",
      "ID = 80 has 6411 clusters.\n",
      "ID = 90 has 6616 clusters.\n"
     ]
    }
   ],
   "source": [
    "for i, v in enumerate(all_clusters):\n",
    "    print('ID = %d has %d clusters.' %(list(range(10, 100, 10))[i], len(v)))"
   ]
  },
  {
   "cell_type": "code",
   "execution_count": null,
   "metadata": {},
   "outputs": [],
   "source": []
  },
  {
   "cell_type": "code",
   "execution_count": 4,
   "metadata": {},
   "outputs": [],
   "source": [
    "import copy \n",
    "all_clusters_copy = copy.deepcopy(all_clusters)"
   ]
  },
  {
   "cell_type": "code",
   "execution_count": null,
   "metadata": {},
   "outputs": [],
   "source": []
  },
  {
   "cell_type": "code",
   "execution_count": null,
   "metadata": {},
   "outputs": [],
   "source": []
  },
  {
   "cell_type": "code",
   "execution_count": 11,
   "metadata": {},
   "outputs": [],
   "source": [
    "for i, v in enumerate(all_clusters):\n",
    "    #remove character ----- from alignment\n",
    "\n",
    "    for index, c in enumerate(v):\n",
    "        c['Prot'] = c['Sequence'].str.replace('-','')\n",
    "        c['Cluster'] = index\n",
    "\n",
    "concat_dfs = [pd.concat(i) for i in all_clusters]\n",
    "pET = pd.read_pickle(root_dir+'/results/pET_complete.pkl.gz')\n",
    "merged_dfs = [i.merge(pET, on='Accession') for i in concat_dfs] #to get solubility\n",
    "\n"
   ]
  },
  {
   "cell_type": "code",
   "execution_count": 24,
   "metadata": {},
   "outputs": [],
   "source": [
    "count_df = []\n",
    "for i, v in enumerate(merged_dfs):\n",
    "    c = []\n",
    "    sol = []\n",
    "    clusters_unique = v.Cluster.unique()\n",
    "    for j, w in enumerate(clusters_unique):\n",
    "        if len(v.loc[v.Cluster == w].Solubility.values) > 1: #get rid of single ones\n",
    "            c.append(j)\n",
    "            sol.append(v.loc[v.Cluster == w].Solubility.values)\n",
    "    df = pd.DataFrame({'Cluster':c, 'Solubility':sol})\n",
    "    \n",
    "    #Concordance = max(number of soluble, number of insoluble) #can convert to percentage etc\n",
    "    #Discordance = 100 - concordance\n",
    "    \n",
    "    \n",
    "    df['Percentage_of_1'] = df['Solubility'].apply(lambda x:100 - max([100 * (x == 1).sum()/len(x),\\\n",
    "                                                                 100 *(1 - (x == 1).sum()/len(x))]))\n",
    "    count_df.append(df)\n",
    "\n",
    "new_df = pd.DataFrame({'10':count_df[0]['Percentage_of_1'], \\\n",
    "                       '20':count_df[1]['Percentage_of_1'],\\\n",
    "                        '30':count_df[2]['Percentage_of_1'], \\\n",
    "                      '40':count_df[3]['Percentage_of_1'], \\\n",
    "                     '50':count_df[4]['Percentage_of_1'], \\\n",
    "                     '60':count_df[5]['Percentage_of_1'], \\\n",
    "                     '70':count_df[6]['Percentage_of_1'], \\\n",
    "                     '80':count_df[7]['Percentage_of_1'], \\\n",
    "                     '90':count_df[8]['Percentage_of_1'], })"
   ]
  },
  {
   "cell_type": "code",
   "execution_count": 2,
   "metadata": {},
   "outputs": [],
   "source": []
  },
  {
   "cell_type": "code",
   "execution_count": 3,
   "metadata": {},
   "outputs": [
    {
     "name": "stderr",
     "output_type": "stream",
     "text": [
      "/Volumes/userdata/student_users/bikashkumarbhandari/anaconda3/lib/python3.7/site-packages/scipy/stats/stats.py:1713: FutureWarning: Using a non-tuple sequence for multidimensional indexing is deprecated; use `arr[tuple(seq)]` instead of `arr[seq]`. In the future this will be interpreted as an array index, `arr[np.array(seq)]`, which will result either in an error or a different result.\n",
      "  return np.add.reduce(sorted[indexer] * weights, axis=axis) / sumval\n"
     ]
    },
    {
     "data": {
      "image/png": "[encoded data removed]",
      "text/plain": [
       "<Figure size 288x288 with 1 Axes>"
      ]
     },
     "metadata": {
      "needs_background": "light"
     },
     "output_type": "display_data"
    }
   ],
   "source": [
    "plt.figure(figsize=(4, 4))\n",
    "nnn = new_df.melt()\n",
    "\n",
    "ax = sns.pointplot(y='value', x='variable', data=nnn)\n",
    "ax.set_xlabel('Protein sequence similarity (%)')\n",
    "ax.set_ylabel('Intra cluster discordance (%) [95% CI]')\n",
    "plt.savefig(root_dir + '/figs/disconcordance.pdf')"
   ]
  },
  {
   "cell_type": "code",
   "execution_count": 4,
   "metadata": {},
   "outputs": [],
   "source": [
    "ids_cluster = list(range(10, 100, 10))\n",
    "num_clusters = []\n",
    "for i, v in enumerate(all_clusters):\n",
    "    num_clusters.append(len(v))"
   ]
  },
  {
   "cell_type": "code",
   "execution_count": 5,
   "metadata": {},
   "outputs": [
    {
     "data": {
      "image/png": "[encoded data removed]",
      "text/plain": [
       "<Figure size 288x288 with 1 Axes>"
      ]
     },
     "metadata": {
      "needs_background": "light"
     },
     "output_type": "display_data"
    }
   ],
   "source": [
    "plt.figure(figsize=(4, 4))\n",
    "ax = sns.pointplot(ids_cluster, num_clusters)\n",
    "ax.set_xlabel('Protein sequence similarity (%)')\n",
    "ax.set_ylabel('Number of clusters')\n",
    "plt.savefig(root_dir + '/figs/number_of_clusters_with_similarity.pdf')"
   ]
  },
  {
   "cell_type": "markdown",
   "metadata": {},
   "source": [
    "### Number of sequences in each cluster "
   ]
  },
  {
   "cell_type": "code",
   "execution_count": 20,
   "metadata": {},
   "outputs": [],
   "source": [
    "for i, v in enumerate(count_df):\n",
    "    v['Number of Sequences'] = v['Solubility'].apply(len)"
   ]
  },
  {
   "cell_type": "code",
   "execution_count": 21,
   "metadata": {},
   "outputs": [],
   "source": [
    "number_df = pd.DataFrame({'10':count_df[0]['Number of Sequences'], \\\n",
    "                       '20':count_df[1]['Number of Sequences'],\\\n",
    "                        '30':count_df[2]['Number of Sequences'], \\\n",
    "                      '40':count_df[3]['Number of Sequences'], \\\n",
    "                     '50':count_df[4]['Number of Sequences'], \\\n",
    "                     '60':count_df[5]['Number of Sequences'], \\\n",
    "                     '70':count_df[6]['Number of Sequences'], \\\n",
    "                     '80':count_df[7]['Number of Sequences'], \\\n",
    "                     '90':count_df[8]['Number of Sequences'], })"
   ]
  },
  {
   "cell_type": "code",
   "execution_count": 6,
   "metadata": {},
   "outputs": [],
   "source": []
  },
  {
   "cell_type": "code",
   "execution_count": 8,
   "metadata": {},
   "outputs": [
    {
     "data": {
      "image/png": "[encoded data removed]",
      "text/plain": [
       "<Figure size 288x288 with 1 Axes>"
      ]
     },
     "metadata": {
      "needs_background": "light"
     },
     "output_type": "display_data"
    }
   ],
   "source": [
    "plt.figure(figsize=(4,4))\n",
    "aaa = number_df.melt()\n",
    "ax = sns.pointplot(y='value', x='variable', data=aaa)\n",
    "ax.set_xlabel('Protein sequence similarity (%)')\n",
    "ax.set_ylabel('Number of sequences per cluster')\n",
    "plt.savefig(root_dir + '/figs/number_of_sequences_per_cluster_with_similarity.pdf')"
   ]
  },
  {
   "cell_type": "code",
   "execution_count": null,
   "metadata": {},
   "outputs": [],
   "source": []
  },
  {
   "cell_type": "code",
   "execution_count": null,
   "metadata": {},
   "outputs": [],
   "source": []
  },
  {
   "cell_type": "code",
   "execution_count": null,
   "metadata": {},
   "outputs": [],
   "source": []
  },
  {
   "cell_type": "code",
   "execution_count": null,
   "metadata": {},
   "outputs": [],
   "source": []
  }
 ],
 "metadata": {
  "kernelspec": {
   "display_name": "Python 3",
   "language": "python",
   "name": "python3"
  },
  "language_info": {
   "codemirror_mode": {
    "name": "ipython",
    "version": 3
   },
   "file_extension": ".py",
   "mimetype": "text/x-python",
   "name": "python",
   "nbconvert_exporter": "python",
   "pygments_lexer": "ipython3",
   "version": "3.6.9"
  }
 },
 "nbformat": 4,
 "nbformat_minor": 2
}
