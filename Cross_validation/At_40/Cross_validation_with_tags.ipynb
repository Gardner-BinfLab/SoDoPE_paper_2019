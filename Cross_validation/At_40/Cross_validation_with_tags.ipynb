{
 "cells": [
  {
   "cell_type": "code",
   "execution_count": 1,
   "metadata": {},
   "outputs": [],
   "source": [
    "import os\n",
    "import pickle\n",
    "from functools import partial\n",
    "import pandas as pd\n",
    "import numpy as np\n",
    "from scipy import optimize\n",
    "from scipy.stats import spearmanr\n",
    "\n",
    "root_dir = os.path.abspath(os.path.join(os.getcwd(), \"../..\"))\n",
    "os.chdir(root_dir)\n",
    "\n",
    "import functions"
   ]
  },
  {
   "cell_type": "code",
   "execution_count": 4,
   "metadata": {},
   "outputs": [],
   "source": [
    "with open(root_dir + '/results/training_40_with_tag.pkl', 'rb') as handle:\n",
    "    training = pickle.load(handle)\n",
    "\n",
    "with open(root_dir + '/results/testing_40_with_tag.pkl', 'rb') as h:\n",
    "    testing = pickle.load(h)\n",
    "\n",
    "bs_samples = []\n",
    "for i, v in enumerate(training):\n",
    "    sample = []\n",
    "    for i in range(1000): #1000 resample for each training cross validation step\n",
    "        sol = v.loc[v['Solubility'] == 1].sample(1000, random_state=i)\n",
    "        insol = v.loc[v['Solubility'] == 0].sample(1000, random_state=i)\n",
    "        sample.append(sol.append(insol))\n",
    "    bs_samples.append(sample)\n"
   ]
  },
  {
   "cell_type": "code",
   "execution_count": 5,
   "metadata": {},
   "outputs": [],
   "source": [
    "def avr_arr(arr):\n",
    "    tt = pd.DataFrame({'weights':arr})\n",
    "    tt = pd.DataFrame(tt.weights.tolist(), columns=[k for k,v in flexibilities_smith.items()])\n",
    "    return tt.mean().values\n"
   ]
  },
  {
   "cell_type": "code",
   "execution_count": 8,
   "metadata": {},
   "outputs": [],
   "source": [
    "import multiprocessing\n",
    "from multiprocessing import Pool\n",
    "from sklearn.metrics import roc_curve, auc\n",
    "\n",
    "\n",
    "#Initial 'guess' values\n",
    "#Smith's flexibility used as initial weights had slightly greater\n",
    "# AUC than Vihinen. So we use it as starting point in optimisation.\n",
    "#Smith, David K., et al. 2003\n",
    "flexibilities_smith = {'A': 0.717, 'C': 0.668, 'E': 0.963, 'D': 0.921,\\\n",
    "                         'G': 0.843, 'F': 0.599, 'I': 0.632, 'H': 0.754, \\\n",
    "                         'K': 0.912, 'M': 0.685, 'L': 0.681, 'N': 0.851,\\\n",
    "                         'Q': 0.849, 'P': 0.85, 'S': 0.84, 'R': 0.814, 'T': 0.758, \\\n",
    "                         'W': 0.626, 'V': 0.619, 'Y': 0.615}\n",
    "init_state = [v for k, v in flexibilities_smith.items()]\n",
    "\n",
    "\n",
    "optis_full = [] #full results of optimisation\n",
    "weights_full_bs = []\n",
    "aucs_train_full_bs = []\n",
    "\n",
    "for i, v in enumerate(bs_samples):\n",
    "    pools = Pool(multiprocessing.cpu_count())\n",
    "    optis = [] #full results of optimisationp\n",
    "    weights = []\n",
    "    aucs_train = []\n",
    "    cost_funcs = [partial(functions.cost_func, df=t) for t in v]\n",
    "    optimiser = partial(optimize.minimize, x0=init_state, method=\"Nelder-Mead\", \\\n",
    "                             options={ 'maxiter': 3000, 'maxfev': 3000,\\\n",
    "                           'disp': False, 'return_all': False,\\\n",
    "                           'xatol': 0.001, 'fatol': 0.0001, 'adaptive': True})\n",
    "    \n",
    "    for result in pools.map(optimiser, cost_funcs): #map is used for correct orders\n",
    "        optis.append(result)\n",
    "        aucs_train.append(-result['fun'])\n",
    "        weights.append(result['x'])\n",
    "    pools.close()\n",
    "    pools.join()\n",
    "    optis_full.append(optis)\n",
    "    weights_full_bs.append(weights)\n",
    "    aucs_train_full_bs.append(aucs_train)\n",
    "    print(i)\n",
    "    \n",
    "    \n",
    "\n",
    "\n",
    "\n",
    "cross_val_df = pd.DataFrame({'opti': optis_full, 'weights':weights_full_bs, \\\n",
    "                             'aucs_train_bs':aucs_train_full_bs})\n",
    "cross_val_df['weight'] = cross_val_df['weights'].apply(avr_arr)\n",
    "aucs_train = [-functions.cost_func(cross_val_df.weight[i], t) for i, t in enumerate(training)]\n",
    "aucs_test = [-functions.cost_func(cross_val_df.weight[i], t) for i, t in enumerate(testing)]\n",
    "cross_val_df['aucs_train'] = aucs_train\n",
    "cross_val_df['aucs_test'] = aucs_test\n",
    "cross_val_df.to_pickle(root_dir + '/results/cross_validation_40_with_histag.pkl.gz', compression='infer')\n"
   ]
  },
  {
   "cell_type": "code",
   "execution_count": 2,
   "metadata": {},
   "outputs": [
    {
     "data": {
      "text/html": [
       "<div>\n",
       "<style scoped>\n",
       "    .dataframe tbody tr th:only-of-type {\n",
       "        vertical-align: middle;\n",
       "    }\n",
       "\n",
       "    .dataframe tbody tr th {\n",
       "        vertical-align: top;\n",
       "    }\n",
       "\n",
       "    .dataframe thead th {\n",
       "        text-align: right;\n",
       "    }\n",
       "</style>\n",
       "<table border=\"1\" class=\"dataframe\">\n",
       "  <thead>\n",
       "    <tr style=\"text-align: right;\">\n",
       "      <th></th>\n",
       "      <th>Mean</th>\n",
       "      <th>Std</th>\n",
       "    </tr>\n",
       "  </thead>\n",
       "  <tbody>\n",
       "    <tr>\n",
       "      <th>Training</th>\n",
       "      <td>0.718688</td>\n",
       "      <td>0.001553</td>\n",
       "    </tr>\n",
       "    <tr>\n",
       "      <th>Test</th>\n",
       "      <td>0.712902</td>\n",
       "      <td>0.013410</td>\n",
       "    </tr>\n",
       "  </tbody>\n",
       "</table>\n",
       "</div>"
      ],
      "text/plain": [
       "              Mean       Std\n",
       "Training  0.718688  0.001553\n",
       "Test      0.712902  0.013410"
      ]
     },
     "execution_count": 2,
     "metadata": {},
     "output_type": "execute_result"
    }
   ],
   "source": [
    "cross_val_df = pd.read_pickle(root_dir + '/results/cross_validation_40_with_histag.pkl.gz')\n",
    "\n",
    "\n",
    "mean_std = pd.DataFrame(index=['Training', 'Test'])\n",
    "mean_std.loc['Training', 'Mean'] = np.mean(cross_val_df['aucs_train'])\n",
    "mean_std.loc['Training', 'Std'] = np.std(cross_val_df['aucs_train'])\n",
    "mean_std.loc['Test', 'Mean'] = np.mean(cross_val_df['aucs_test'])\n",
    "mean_std.loc['Test', 'Std'] = np.std(cross_val_df['aucs_test'])\n",
    "mean_std"
   ]
  },
  {
   "cell_type": "code",
   "execution_count": 4,
   "metadata": {},
   "outputs": [
    {
     "data": {
      "text/html": [
       "<div>\n",
       "<style scoped>\n",
       "    .dataframe tbody tr th:only-of-type {\n",
       "        vertical-align: middle;\n",
       "    }\n",
       "\n",
       "    .dataframe tbody tr th {\n",
       "        vertical-align: top;\n",
       "    }\n",
       "\n",
       "    .dataframe thead th {\n",
       "        text-align: right;\n",
       "    }\n",
       "</style>\n",
       "<table border=\"1\" class=\"dataframe\">\n",
       "  <thead>\n",
       "    <tr style=\"text-align: right;\">\n",
       "      <th></th>\n",
       "      <th>aucs_train</th>\n",
       "      <th>aucs_test</th>\n",
       "    </tr>\n",
       "  </thead>\n",
       "  <tbody>\n",
       "    <tr>\n",
       "      <th>0</th>\n",
       "      <td>0.721529</td>\n",
       "      <td>0.689413</td>\n",
       "    </tr>\n",
       "    <tr>\n",
       "      <th>1</th>\n",
       "      <td>0.718002</td>\n",
       "      <td>0.719417</td>\n",
       "    </tr>\n",
       "    <tr>\n",
       "      <th>2</th>\n",
       "      <td>0.719580</td>\n",
       "      <td>0.707645</td>\n",
       "    </tr>\n",
       "    <tr>\n",
       "      <th>3</th>\n",
       "      <td>0.717626</td>\n",
       "      <td>0.720168</td>\n",
       "    </tr>\n",
       "    <tr>\n",
       "      <th>4</th>\n",
       "      <td>0.719628</td>\n",
       "      <td>0.705219</td>\n",
       "    </tr>\n",
       "    <tr>\n",
       "      <th>5</th>\n",
       "      <td>0.716786</td>\n",
       "      <td>0.728537</td>\n",
       "    </tr>\n",
       "    <tr>\n",
       "      <th>6</th>\n",
       "      <td>0.715986</td>\n",
       "      <td>0.737957</td>\n",
       "    </tr>\n",
       "    <tr>\n",
       "      <th>7</th>\n",
       "      <td>0.718487</td>\n",
       "      <td>0.714374</td>\n",
       "    </tr>\n",
       "    <tr>\n",
       "      <th>8</th>\n",
       "      <td>0.719457</td>\n",
       "      <td>0.703184</td>\n",
       "    </tr>\n",
       "    <tr>\n",
       "      <th>9</th>\n",
       "      <td>0.719797</td>\n",
       "      <td>0.703105</td>\n",
       "    </tr>\n",
       "  </tbody>\n",
       "</table>\n",
       "</div>"
      ],
      "text/plain": [
       "   aucs_train  aucs_test\n",
       "0    0.721529   0.689413\n",
       "1    0.718002   0.719417\n",
       "2    0.719580   0.707645\n",
       "3    0.717626   0.720168\n",
       "4    0.719628   0.705219\n",
       "5    0.716786   0.728537\n",
       "6    0.715986   0.737957\n",
       "7    0.718487   0.714374\n",
       "8    0.719457   0.703184\n",
       "9    0.719797   0.703105"
      ]
     },
     "execution_count": 4,
     "metadata": {},
     "output_type": "execute_result"
    }
   ],
   "source": [
    "cross_val_df[['aucs_train', 'aucs_test']]"
   ]
  },
  {
   "cell_type": "code",
   "execution_count": 15,
   "metadata": {},
   "outputs": [
    {
     "data": {
      "image/png": "[encoded data removed]",
      "text/plain": [
       "<Figure size 288x288 with 1 Axes>"
      ]
     },
     "metadata": {
      "needs_background": "light"
     },
     "output_type": "display_data"
    }
   ],
   "source": [
    "\n",
    "functions.plt.figure(figsize=(4, 4))\n",
    "functions.sns.pointplot(list(range(10)), cross_val_df['aucs_train'], label='Train (mean=0.72, std=0.00)',\\\n",
    "                       linestyles=[' '], markers=['o'], color='blue')\n",
    "functions.sns.lineplot(list(range(10)), cross_val_df['aucs_train'], label='Train (mean=0.72, std=0.00)',\\\n",
    "                       color='blue')\n",
    "functions.sns.pointplot(list(range(10)), cross_val_df['aucs_test'],  label='Test (mean=0.71, std=0.01)',\\\n",
    "                        linestyles=[''], markers=['o'], color='red')\n",
    "ax = functions.sns.lineplot(list(range(10)), cross_val_df['aucs_test'],  label='Test (mean=0.71, std=0.01)',\\\n",
    "                        color='red')\n",
    "functions.plt.ylabel('AUC')\n",
    "functions.plt.xlabel('Cross validation steps')\n",
    "\n",
    "ax.set_xticklabels(list(range(1,11)))\n",
    "functions.plt.savefig(root_dir + '/figs/cross_validation_40_with_histag.pdf')"
   ]
  },
  {
   "cell_type": "code",
   "execution_count": 16,
   "metadata": {
    "scrolled": false
   },
   "outputs": [
    {
     "data": {
      "text/plain": [
       "A    0.835647\n",
       "C    0.520809\n",
       "E    0.987699\n",
       "D    0.907904\n",
       "G    0.799717\n",
       "F    0.584979\n",
       "I    0.678412\n",
       "H    0.894791\n",
       "K    0.926710\n",
       "M    0.629662\n",
       "L    0.655422\n",
       "N    0.859743\n",
       "Q    0.789435\n",
       "P    0.823533\n",
       "S    0.744091\n",
       "R    0.771247\n",
       "T    0.809692\n",
       "W    0.637468\n",
       "V    0.735784\n",
       "Y    0.611280\n",
       "dtype: float64"
      ]
     },
     "execution_count": 16,
     "metadata": {},
     "output_type": "execute_result"
    }
   ],
   "source": [
    "SWI_cv = pd.DataFrame(cross_val_df['weight'].values.tolist(), columns=[k for k,v in flexibilities_smith.items()])\n",
    "SWI_cv.mean()#.sort_values()"
   ]
  },
  {
   "cell_type": "code",
   "execution_count": 4,
   "metadata": {},
   "outputs": [],
   "source": [
    "def get_rocs(lst):\n",
    "    ls = [lst[i]['fun'] for i in range(len(lst))]\n",
    "    return ls\n",
    "\n",
    "cross_val_df['aucs_bootstrap'] = cross_val_df['opti'].apply(get_rocs)"
   ]
  },
  {
   "cell_type": "code",
   "execution_count": 11,
   "metadata": {},
   "outputs": [
    {
     "data": {
      "image/png": "[encoded data removed]",
      "text/plain": [
       "<Figure size 288x288 with 1 Axes>"
      ]
     },
     "metadata": {
      "needs_background": "light"
     },
     "output_type": "display_data"
    }
   ],
   "source": [
    "#### Bootstrap AUC boxplot\n",
    "functions.plt.figure(figsize=(4, 4))#auc from bootstrap\n",
    "cols = list(range(1000))\n",
    "wdf = pd.DataFrame(columns=cols, index=list(range(10)))\n",
    "aucs = cross_val_df['aucs_bootstrap'].values #aucs_bootstrap from CV\n",
    "\n",
    "for idx, val in enumerate(aucs):\n",
    "    for i, v in enumerate(val):\n",
    "        wdf.loc[idx][cols[i]] = -v\n",
    "\n",
    "        \n",
    "dd = pd.melt(wdf.transpose())\n",
    "dd['value'] = dd['value'].astype(float)\n",
    "dd.sort_values(ascending=True, by='value', inplace=True)\n",
    "bs_auc = cross_val_df['aucs_bootstrap'].values #auc from bootstrapfor idx, val in enumerate(bs_auc):\n",
    "for idx, val in enumerate(bs_auc):\n",
    "    for i, v in enumerate(val):\n",
    "        wdf.loc[idx][cols[i]] = vdd = pd.melt(wdf.transpose())\n",
    "\n",
    "dd['value'] = dd['value'].astype(float)\n",
    "dd.sort_values(ascending=True, by='value', inplace=True)\n",
    "ax = functions.sns.boxplot(x=\"variable\", y=\"value\", data=dd)\n",
    "functions.plt.ylabel('AUC')\n",
    "functions.plt.xlabel('Cross validation steps')\n",
    "ax.set_xticklabels(list(range(1,11)))\n",
    "functions.plt.savefig('figs/bootstrap_auc_boxplot.pdf')"
   ]
  },
  {
   "cell_type": "code",
   "execution_count": 32,
   "metadata": {},
   "outputs": [
    {
     "data": {
      "image/png": "[encoded data removed]",
      "text/plain": [
       "<Figure size 288x288 with 1 Axes>"
      ]
     },
     "metadata": {
      "needs_background": "light"
     },
     "output_type": "display_data"
    }
   ],
   "source": [
    "## Bootstrap weights\n",
    "flexibilities_smith = {'A': 0.717, 'C': 0.668, 'E': 0.963, 'D': 0.921,\\\n",
    "                         'G': 0.843, 'F': 0.599, 'I': 0.632, 'H': 0.754, \\\n",
    "                         'K': 0.912, 'M': 0.685, 'L': 0.681, 'N': 0.851,\\\n",
    "                         'Q': 0.849, 'P': 0.85, 'S': 0.84, 'R': 0.814, 'T': 0.758, \\\n",
    "                         'W': 0.626, 'V': 0.619, 'Y': 0.615}\n",
    "\n",
    "cols = [k for k, v in flexibilities_smith.items()]\n",
    "new_df = pd.DataFrame()\n",
    "splitted_df = pd.DataFrame()\n",
    "new_df['weights'] = cross_val_df.explode('weights')['weights'].copy()\n",
    "splitted_df[cols] = pd.DataFrame(new_df.weights.values.tolist(), index=new_df.index)\n",
    "sorted_cols = splitted_df.median().sort_values().index\n",
    "splitted_df = splitted_df[sorted_cols]\n",
    "ss = pd.melt(splitted_df)\n",
    "# ss.sort_values(ascending=True, by='value', inplace=True)\n",
    "functions.plt.figure(figsize=(4, 4))\n",
    "functions.sns.boxplot(x=\"variable\", y=\"value\", data=ss)\n",
    "functions.plt.ylabel('Weights')\n",
    "functions.plt.xlabel('Amino acid residues')\n",
    "functions.plt.savefig('figs/bootstrap_weights_boxplot.pdf')"
   ]
  },
  {
   "cell_type": "code",
   "execution_count": null,
   "metadata": {},
   "outputs": [],
   "source": []
  },
  {
   "cell_type": "markdown",
   "metadata": {},
   "source": [
    "### Compare the final SWI with initial weights and also hydrophobicity"
   ]
  },
  {
   "cell_type": "code",
   "execution_count": 21,
   "metadata": {},
   "outputs": [
    {
     "data": {
      "image/png": "[encoded data removed]",
      "text/plain": [
       "<Figure size 288x288 with 2 Axes>"
      ]
     },
     "metadata": {},
     "output_type": "display_data"
    }
   ],
   "source": [
    "from mpl_toolkits.axes_grid1.inset_locator import inset_axes\n",
    "\n",
    "#using hydrophobicity as hue# Kyte & Doolittle index of hydrophobicity\n",
    "# J. Mol. Biol. 157:105-132(1982).\n",
    "kd = {\"A\": 1.8, \"R\": -4.5, \"N\": -3.5, \"D\": -3.5, \"C\": 2.5,\n",
    "      \"Q\": -3.5, \"E\": -3.5, \"G\": -0.4, \"H\": -3.2, \"I\": 4.5,\n",
    "      \"L\": 3.8, \"K\": -3.9, \"M\": 1.9, \"F\": 2.8, \"P\": -1.6,\n",
    "      \"S\": -0.8, \"T\": -0.7, \"W\": -0.9, \"Y\": -1.3, \"V\": 4.2}\n",
    "\n",
    "df1 = pd.DataFrame(columns=SWI_cv.mean().index, \\\n",
    "                   index=['Initial weights [Smith et al. (2003)]', 'Final weights [This study]'])\n",
    "df1.loc['Initial weights [Smith et al (2003)]'] = [v for k,v in flexibilities_smith.items()]\n",
    "df1.loc['Final weights [This study]'] = SWI_cv.mean().values\n",
    "df1 = df1.transpose()\n",
    "for k, v in kd.items():\n",
    "    df1.loc[k, 'Hydrophobicity'] = v\n",
    "df1.reset_index(inplace=True)\n",
    "\n",
    "functions.sns.set(style=\"whitegrid\")\n",
    "functions.sns.set_context(\"paper\", font_scale=1.4)\n",
    "functions.plt.figure(figsize=(4, 4))\n",
    "\n",
    "\n",
    "norm = functions.plt.Normalize(df1['Hydrophobicity'].min(), df1['Hydrophobicity'].max())\n",
    "sm = functions.plt.cm.ScalarMappable(cmap=\"coolwarm\", norm=norm)\n",
    "sm.set_array([])\n",
    "\n",
    "\n",
    "y = 'Initial weights [Smith et al (2003)]'\n",
    "x = 'Final weights [This study]'\n",
    "g = functions.sns.scatterplot(x, y, data=df1, markers=False, hue=df1['Hydrophobicity'], \\\n",
    "                              palette=\"coolwarm\", \\\n",
    "                             alpha=.8,  ) #relplot, height=6\n",
    "functions.plt.plot([SWI_cv.mean().min(), SWI_cv.mean().max()], \\\n",
    "                   [SWI_cv.mean().min(), SWI_cv.mean().max()], color='navy', lw=.75, linestyle=':')\n",
    "# functions.sns.despine()#color bar\n",
    "g.get_legend().remove()\n",
    "cbaxes = inset_axes(g, width=\"3%\", height=\"40%\", loc=4)\n",
    "cb = g.figure.colorbar(sm, cax=cbaxes, orientation=\"vertical\")\n",
    "\n",
    "for i, v in enumerate(df1['index']):\n",
    "    g.annotate(' ' +v, [df1[x][i], df1[y][i]])\n",
    "functions.plt.savefig(root_dir + '/figs/weight_scatterplot_40_with_histag.pdf')"
   ]
  },
  {
   "cell_type": "code",
   "execution_count": 22,
   "metadata": {},
   "outputs": [
    {
     "data": {
      "text/plain": [
       "{'A': 0.8356471476582918,\n",
       " 'C': 0.5208088354857734,\n",
       " 'E': 0.9876987431418378,\n",
       " 'D': 0.9079044671339564,\n",
       " 'G': 0.7997168496420723,\n",
       " 'F': 0.5849790194237692,\n",
       " 'I': 0.6784124413866582,\n",
       " 'H': 0.8947913996466419,\n",
       " 'K': 0.9267104557513497,\n",
       " 'M': 0.6296623675420369,\n",
       " 'L': 0.6554221515081433,\n",
       " 'N': 0.8597433107431216,\n",
       " 'Q': 0.789434648348208,\n",
       " 'P': 0.8235328714705341,\n",
       " 'S': 0.7440908318492778,\n",
       " 'R': 0.7712466317693457,\n",
       " 'T': 0.8096922697856334,\n",
       " 'W': 0.6374678690957594,\n",
       " 'V': 0.7357837119163659,\n",
       " 'Y': 0.6112801822947587}"
      ]
     },
     "execution_count": 22,
     "metadata": {},
     "output_type": "execute_result"
    }
   ],
   "source": [
    "#SWI\n",
    "cols = [k for k, v in flexibilities_smith.items()]\n",
    "wdf = pd.DataFrame(columns=cols, index=list(range(10)))\n",
    "weights = cross_val_df['weight'].values #weights from CV\n",
    "\n",
    "for idx, val in enumerate(weights):\n",
    "    for i, v in enumerate(val):\n",
    "        wdf.loc[idx][cols[i]] = v\n",
    "\n",
    "new_wts = {} #This is for SWI\n",
    "\n",
    "for i, c in enumerate(wdf.columns):\n",
    "    new_wts[c] = np.mean(wdf[c])\n",
    "new_wts\n"
   ]
  },
  {
   "cell_type": "code",
   "execution_count": null,
   "metadata": {},
   "outputs": [],
   "source": []
  },
  {
   "cell_type": "markdown",
   "metadata": {},
   "source": [
    "## eSOL data"
   ]
  },
  {
   "cell_type": "code",
   "execution_count": 23,
   "metadata": {},
   "outputs": [],
   "source": [
    "ecoli_w3110 = pd.read_pickle('results/ecoli.pkl.gz', compression='gzip')"
   ]
  },
  {
   "cell_type": "code",
   "execution_count": 24,
   "metadata": {},
   "outputs": [
    {
     "data": {
      "text/plain": [
       "SpearmanrResult(correlation=0.5036467251251758, pvalue=2.511491194821094e-205)"
      ]
     },
     "execution_count": 24,
     "metadata": {},
     "output_type": "execute_result"
    }
   ],
   "source": [
    "\n",
    "#using SWI\n",
    "\n",
    "ecoli_w3110['f'] = ecoli_w3110['Sequence'].apply(lambda x:functions.solubility_score(x, new_wts))\n",
    "ecoli_w3110['Average_Score'] = ecoli_w3110['f'].apply(lambda x:np.mean(x))\n",
    "\n",
    "\n",
    "\n",
    "from scipy.stats import spearmanr\n",
    "\n",
    "spearmanr(ecoli_w3110['Average_Score'], ecoli_w3110['Solubility(%)'])"
   ]
  },
  {
   "cell_type": "code",
   "execution_count": 25,
   "metadata": {},
   "outputs": [
    {
     "data": {
      "text/plain": [
       "SpearmanrResult(correlation=0.39525618255208833, pvalue=4.572683656231933e-120)"
      ]
     },
     "execution_count": 25,
     "metadata": {},
     "output_type": "execute_result"
    }
   ],
   "source": [
    "#using b-factors from Smith et al.\n",
    "\n",
    "ecoli_w3110['ff'] = ecoli_w3110['Sequence'].apply(lambda x:functions.solubility_score(x, flexibilities_smith))\n",
    "ecoli_w3110['Average_Scoref'] = ecoli_w3110['ff'].apply(lambda x:np.mean(x))\n",
    "\n",
    "\n",
    "\n",
    "from scipy.stats import spearmanr\n",
    "\n",
    "spearmanr(ecoli_w3110['Average_Scoref'], ecoli_w3110['Solubility(%)'])"
   ]
  },
  {
   "cell_type": "code",
   "execution_count": 26,
   "metadata": {},
   "outputs": [
    {
     "data": {
      "text/plain": [
       "SpearmanrResult(correlation=0.4708074452139396, pvalue=3.6746572497936216e-176)"
      ]
     },
     "execution_count": 26,
     "metadata": {},
     "output_type": "execute_result"
    }
   ],
   "source": [
    "#Remove extra tags from eSOL\n",
    "\n",
    "ecoli_w3110['New'] = ecoli_w3110['Sequence'].apply(lambda x:x[17:-5])\n",
    "ecoli_w3110['New']\n",
    "ecoli_w3110['fff'] = ecoli_w3110['New'].apply(lambda x:functions.solubility_score(x, new_wts))\n",
    "ecoli_w3110['Average_Score1'] = ecoli_w3110['fff'].apply(lambda x:np.mean(x))\n",
    "\n",
    "spearmanr(ecoli_w3110['Average_Score1'], ecoli_w3110['Solubility(%)'])"
   ]
  },
  {
   "cell_type": "code",
   "execution_count": null,
   "metadata": {},
   "outputs": [],
   "source": []
  }
 ],
 "metadata": {
  "kernelspec": {
   "display_name": "Python 3",
   "language": "python",
   "name": "python3"
  },
  "language_info": {
   "codemirror_mode": {
    "name": "ipython",
    "version": 3
   },
   "file_extension": ".py",
   "mimetype": "text/x-python",
   "name": "python",
   "nbconvert_exporter": "python",
   "pygments_lexer": "ipython3",
   "version": "3.6.9"
  }
 },
 "nbformat": 4,
 "nbformat_minor": 2
}
