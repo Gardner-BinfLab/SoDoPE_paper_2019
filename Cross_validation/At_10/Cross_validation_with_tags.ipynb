{
 "cells": [
  {
   "cell_type": "code",
   "execution_count": 1,
   "metadata": {},
   "outputs": [],
   "source": [
    "import os\n",
    "import pickle\n",
    "from functools import partial\n",
    "import pandas as pd\n",
    "import numpy as np\n",
    "from scipy import optimize\n",
    "from scipy.stats import spearmanr\n",
    "\n",
    "root_dir = os.path.abspath(os.path.join(os.getcwd(), \"../..\"))\n",
    "os.chdir(root_dir)\n",
    "\n",
    "import functions"
   ]
  },
  {
   "cell_type": "code",
   "execution_count": 3,
   "metadata": {},
   "outputs": [],
   "source": [
    "with open(root_dir + '/results/training_10_with_tag.pkl', 'rb') as handle:\n",
    "    training = pickle.load(handle)\n",
    "\n",
    "with open(root_dir + '/results/testing_10_with_tag.pkl', 'rb') as h:\n",
    "    testing = pickle.load(h)\n",
    "\n",
    "bs_samples = []\n",
    "for i, v in enumerate(training):\n",
    "    sample = []\n",
    "    for i in range(1000): #1000 resample for each training cross validation step\n",
    "        sol = v.loc[v['Solubility'] == 1].sample(1000, random_state=i)\n",
    "        insol = v.loc[v['Solubility'] == 0].sample(1000, random_state=i)\n",
    "        sample.append(sol.append(insol))\n",
    "    bs_samples.append(sample)\n"
   ]
  },
  {
   "cell_type": "code",
   "execution_count": 4,
   "metadata": {},
   "outputs": [],
   "source": [
    "def avr_arr(arr):\n",
    "    tt = pd.DataFrame({'weights':arr})\n",
    "    tt = pd.DataFrame(tt.weights.tolist(), columns=[k for k,v in flexibilities_smith.items()])\n",
    "    return tt.mean().values\n"
   ]
  },
  {
   "cell_type": "code",
   "execution_count": 5,
   "metadata": {},
   "outputs": [
    {
     "name": "stdout",
     "output_type": "stream",
     "text": [
      "0\n",
      "1\n",
      "2\n",
      "3\n",
      "4\n",
      "5\n",
      "6\n",
      "7\n",
      "8\n",
      "9\n"
     ]
    }
   ],
   "source": [
    "import multiprocessing\n",
    "from multiprocessing import Pool\n",
    "from sklearn.metrics import roc_curve, auc\n",
    "\n",
    "\n",
    "#Initial 'guess' values\n",
    "#Smith's flexibility used as initial weights had slightly greater\n",
    "# AUC than Vihinen. So we use it as starting point in optimisation.\n",
    "#Smith, David K., et al. 2003\n",
    "flexibilities_smith = {'A': 0.717, 'C': 0.668, 'E': 0.963, 'D': 0.921,\\\n",
    "                         'G': 0.843, 'F': 0.599, 'I': 0.632, 'H': 0.754, \\\n",
    "                         'K': 0.912, 'M': 0.685, 'L': 0.681, 'N': 0.851,\\\n",
    "                         'Q': 0.849, 'P': 0.85, 'S': 0.84, 'R': 0.814, 'T': 0.758, \\\n",
    "                         'W': 0.626, 'V': 0.619, 'Y': 0.615}\n",
    "init_state = [v for k, v in flexibilities_smith.items()]\n",
    "\n",
    "\n",
    "optis_full = [] #full results of optimisation\n",
    "weights_full_bs = []\n",
    "aucs_train_full_bs = []\n",
    "\n",
    "for i, v in enumerate(bs_samples):\n",
    "    pools = Pool(multiprocessing.cpu_count())\n",
    "    optis = [] #full results of optimisationp\n",
    "    weights = []\n",
    "    aucs_train = []\n",
    "    cost_funcs = [partial(functions.cost_func, df=t) for t in v]\n",
    "    optimiser = partial(optimize.minimize, x0=init_state, method=\"Nelder-Mead\", \\\n",
    "                             options={ 'maxiter': 3000, 'maxfev': 3000,\\\n",
    "                           'disp': False, 'return_all': False,\\\n",
    "                           'xatol': 0.001, 'fatol': 0.0001, 'adaptive': True})\n",
    "    \n",
    "    for result in pools.map(optimiser, cost_funcs): #map is used for correct orders\n",
    "        optis.append(result)\n",
    "        aucs_train.append(-result['fun'])\n",
    "        weights.append(result['x'])\n",
    "    pools.close()\n",
    "    pools.join()\n",
    "    optis_full.append(optis)\n",
    "    weights_full_bs.append(weights)\n",
    "    aucs_train_full_bs.append(aucs_train)\n",
    "    print(i)\n",
    "    \n",
    "    \n",
    "\n",
    "\n",
    "\n",
    "cross_val_df = pd.DataFrame({'opti': optis_full, 'weights':weights_full_bs, \\\n",
    "                             'aucs_train_bs':aucs_train_full_bs})\n",
    "cross_val_df['weight'] = cross_val_df['weights'].apply(avr_arr)\n",
    "aucs_train = [-functions.cost_func(cross_val_df.weight[i], t) for i, t in enumerate(training)]\n",
    "aucs_test = [-functions.cost_func(cross_val_df.weight[i], t) for i, t in enumerate(testing)]\n",
    "cross_val_df['aucs_train'] = aucs_train\n",
    "cross_val_df['aucs_test'] = aucs_test\n",
    "cross_val_df.to_pickle(root_dir + '/results/cross_validation_10_with_histag.pkl.gz', compression='infer')\n"
   ]
  },
  {
   "cell_type": "code",
   "execution_count": 6,
   "metadata": {},
   "outputs": [
    {
     "data": {
      "text/html": [
       "<div>\n",
       "<style scoped>\n",
       "    .dataframe tbody tr th:only-of-type {\n",
       "        vertical-align: middle;\n",
       "    }\n",
       "\n",
       "    .dataframe tbody tr th {\n",
       "        vertical-align: top;\n",
       "    }\n",
       "\n",
       "    .dataframe thead th {\n",
       "        text-align: right;\n",
       "    }\n",
       "</style>\n",
       "<table border=\"1\" class=\"dataframe\">\n",
       "  <thead>\n",
       "    <tr style=\"text-align: right;\">\n",
       "      <th></th>\n",
       "      <th>Mean</th>\n",
       "      <th>Std</th>\n",
       "    </tr>\n",
       "  </thead>\n",
       "  <tbody>\n",
       "    <tr>\n",
       "      <th>Training</th>\n",
       "      <td>0.718720</td>\n",
       "      <td>0.002330</td>\n",
       "    </tr>\n",
       "    <tr>\n",
       "      <th>Test</th>\n",
       "      <td>0.712597</td>\n",
       "      <td>0.019705</td>\n",
       "    </tr>\n",
       "  </tbody>\n",
       "</table>\n",
       "</div>"
      ],
      "text/plain": [
       "              Mean       Std\n",
       "Training  0.718720  0.002330\n",
       "Test      0.712597  0.019705"
      ]
     },
     "execution_count": 6,
     "metadata": {},
     "output_type": "execute_result"
    }
   ],
   "source": [
    "cross_val_df = pd.read_pickle(root_dir + '/results/cross_validation_10_with_histag.pkl.gz')\n",
    "\n",
    "\n",
    "mean_std = pd.DataFrame(index=['Training', 'Test'])\n",
    "mean_std.loc['Training', 'Mean'] = np.mean(cross_val_df['aucs_train'])\n",
    "mean_std.loc['Training', 'Std'] = np.std(cross_val_df['aucs_train'])\n",
    "mean_std.loc['Test', 'Mean'] = np.mean(cross_val_df['aucs_test'])\n",
    "mean_std.loc['Test', 'Std'] = np.std(cross_val_df['aucs_test'])\n",
    "mean_std"
   ]
  },
  {
   "cell_type": "code",
   "execution_count": 7,
   "metadata": {},
   "outputs": [
    {
     "data": {
      "image/png": "[encoded data removed]",
      "text/plain": [
       "<Figure size 288x288 with 1 Axes>"
      ]
     },
     "metadata": {
      "needs_background": "light"
     },
     "output_type": "display_data"
    }
   ],
   "source": [
    "\n",
    "functions.plt.figure(figsize=(4, 4))\n",
    "functions.sns.pointplot(list(range(10)), cross_val_df['aucs_train'], label='Train (mean=0.72, std=0.00)',\\\n",
    "                       linestyles=[' '], markers=['o'], color='blue')\n",
    "functions.sns.lineplot(list(range(10)), cross_val_df['aucs_train'], label='Train (mean=0.72, std=0.00)',\\\n",
    "                       color='blue')\n",
    "functions.sns.pointplot(list(range(10)), cross_val_df['aucs_test'],  label='Test (mean=0.71, std=0.01)',\\\n",
    "                        linestyles=[''], markers=['o'], color='red')\n",
    "ax = functions.sns.lineplot(list(range(10)), cross_val_df['aucs_test'],  label='Test (mean=0.71, std=0.01)',\\\n",
    "                        color='red')\n",
    "functions.plt.ylabel('AUC')\n",
    "functions.plt.xlabel('Cross validation steps')\n",
    "\n",
    "ax.set_xticklabels(list(range(1,11)))\n",
    "functions.plt.savefig(root_dir + '/figs/cross_validation_10_with_histag.pdf')"
   ]
  },
  {
   "cell_type": "code",
   "execution_count": 8,
   "metadata": {},
   "outputs": [
    {
     "data": {
      "text/plain": [
       "A    0.835939\n",
       "C    0.521015\n",
       "E    0.987422\n",
       "D    0.907110\n",
       "G    0.799606\n",
       "F    0.582837\n",
       "I    0.679085\n",
       "H    0.896079\n",
       "K    0.926924\n",
       "M    0.628715\n",
       "L    0.654158\n",
       "N    0.860614\n",
       "Q    0.789721\n",
       "P    0.822221\n",
       "S    0.744037\n",
       "R    0.772053\n",
       "T    0.808624\n",
       "W    0.640013\n",
       "V    0.735621\n",
       "Y    0.612009\n",
       "dtype: float64"
      ]
     },
     "execution_count": 8,
     "metadata": {},
     "output_type": "execute_result"
    }
   ],
   "source": [
    "SWI_cv = pd.DataFrame(cross_val_df['weight'].values.tolist(), columns=[k for k,v in flexibilities_smith.items()])\n",
    "SWI_cv.mean()#.sort_values()"
   ]
  },
  {
   "cell_type": "code",
   "execution_count": 9,
   "metadata": {},
   "outputs": [
    {
     "data": {
      "image/png": "[encoded data removed]",
      "text/plain": [
       "<Figure size 288x288 with 2 Axes>"
      ]
     },
     "metadata": {},
     "output_type": "display_data"
    }
   ],
   "source": [
    "from mpl_toolkits.axes_grid1.inset_locator import inset_axes\n",
    "\n",
    "#using hydrophobicity as hue# Kyte & Doolittle index of hydrophobicity\n",
    "# J. Mol. Biol. 157:105-132(1982).\n",
    "kd = {\"A\": 1.8, \"R\": -4.5, \"N\": -3.5, \"D\": -3.5, \"C\": 2.5,\n",
    "      \"Q\": -3.5, \"E\": -3.5, \"G\": -0.4, \"H\": -3.2, \"I\": 4.5,\n",
    "      \"L\": 3.8, \"K\": -3.9, \"M\": 1.9, \"F\": 2.8, \"P\": -1.6,\n",
    "      \"S\": -0.8, \"T\": -0.7, \"W\": -0.9, \"Y\": -1.3, \"V\": 4.2}\n",
    "\n",
    "df1 = pd.DataFrame(columns=SWI_cv.mean().index, \\\n",
    "                   index=['Initial weights [Smith et al. (2003)]', 'Final weights [This study]'])\n",
    "df1.loc['Initial weights [Smith et al (2003)]'] = [v for k,v in flexibilities_smith.items()]\n",
    "df1.loc['Final weights [This study]'] = SWI_cv.mean().values\n",
    "df1 = df1.transpose()\n",
    "for k, v in kd.items():\n",
    "    df1.loc[k, 'Hydrophobicity'] = v\n",
    "df1.reset_index(inplace=True)\n",
    "\n",
    "functions.sns.set(style=\"whitegrid\")\n",
    "functions.sns.set_context(\"paper\", font_scale=1.4)\n",
    "functions.plt.figure(figsize=(4, 4))\n",
    "\n",
    "\n",
    "norm = functions.plt.Normalize(df1['Hydrophobicity'].min(), df1['Hydrophobicity'].max())\n",
    "sm = functions.plt.cm.ScalarMappable(cmap=\"coolwarm\", norm=norm)\n",
    "sm.set_array([])\n",
    "\n",
    "\n",
    "y = 'Initial weights [Smith et al (2003)]'\n",
    "x = 'Final weights [This study]'\n",
    "g = functions.sns.scatterplot(x, y, data=df1, markers=False, hue=df1['Hydrophobicity'], \\\n",
    "                              palette=\"coolwarm\", \\\n",
    "                             alpha=.8,  ) #relplot, height=6\n",
    "functions.plt.plot([SWI_cv.mean().min(), SWI_cv.mean().max()], \\\n",
    "                   [SWI_cv.mean().min(), SWI_cv.mean().max()], color='navy', lw=.75, linestyle=':')\n",
    "# functions.sns.despine()#color bar\n",
    "g.get_legend().remove()\n",
    "cbaxes = inset_axes(g, width=\"3%\", height=\"40%\", loc=4)\n",
    "cb = g.figure.colorbar(sm, cax=cbaxes, orientation=\"vertical\")\n",
    "\n",
    "for i, v in enumerate(df1['index']):\n",
    "    g.annotate(' ' +v, [df1[x][i], df1[y][i]])\n",
    "functions.plt.savefig(root_dir + '/figs/weight_scatterplot_10_with_histag.pdf')"
   ]
  },
  {
   "cell_type": "code",
   "execution_count": 10,
   "metadata": {},
   "outputs": [
    {
     "data": {
      "text/plain": [
       "{'A': 0.8359394267406431,\n",
       " 'C': 0.5210154434587237,\n",
       " 'E': 0.987422438254088,\n",
       " 'D': 0.9071104143758213,\n",
       " 'G': 0.799605927378078,\n",
       " 'F': 0.5828367528574319,\n",
       " 'I': 0.679084811908844,\n",
       " 'H': 0.8960788291052113,\n",
       " 'K': 0.9269238203227388,\n",
       " 'M': 0.6287152177397327,\n",
       " 'L': 0.6541582391647525,\n",
       " 'N': 0.8606136167430039,\n",
       " 'Q': 0.7897213399707586,\n",
       " 'P': 0.8222211563882496,\n",
       " 'S': 0.7440373985020553,\n",
       " 'R': 0.772052505727266,\n",
       " 'T': 0.8086237528139396,\n",
       " 'W': 0.6400127465861264,\n",
       " 'V': 0.7356213791201801,\n",
       " 'Y': 0.6120093928742251}"
      ]
     },
     "execution_count": 10,
     "metadata": {},
     "output_type": "execute_result"
    }
   ],
   "source": [
    "#SWI\n",
    "cols = [k for k, v in flexibilities_smith.items()]\n",
    "wdf = pd.DataFrame(columns=cols, index=list(range(10)))\n",
    "weights = cross_val_df['weight'].values #weights from CV\n",
    "\n",
    "for idx, val in enumerate(weights):\n",
    "    for i, v in enumerate(val):\n",
    "        wdf.loc[idx][cols[i]] = v\n",
    "\n",
    "new_wts = {} #This is for SWI\n",
    "\n",
    "for i, c in enumerate(wdf.columns):\n",
    "    new_wts[c] = np.mean(wdf[c])\n",
    "new_wts\n"
   ]
  },
  {
   "cell_type": "code",
   "execution_count": 11,
   "metadata": {},
   "outputs": [
    {
     "data": {
      "text/plain": [
       "SpearmanrResult(correlation=0.5032895641398439, pvalue=5.4272148735347545e-205)"
      ]
     },
     "execution_count": 11,
     "metadata": {},
     "output_type": "execute_result"
    }
   ],
   "source": [
    "ecoli_w3110 = pd.read_pickle('results/ecoli.pkl.gz', compression='gzip')\n",
    "\n",
    "\n",
    "#using SWI\n",
    "\n",
    "ecoli_w3110['f'] = ecoli_w3110['Sequence'].apply(lambda x:functions.solubility_score(x, new_wts))\n",
    "ecoli_w3110['Average_Score'] = ecoli_w3110['f'].apply(lambda x:np.mean(x))\n",
    "\n",
    "\n",
    "\n",
    "from scipy.stats import spearmanr\n",
    "\n",
    "spearmanr(ecoli_w3110['Average_Score'], ecoli_w3110['Solubility(%)'])"
   ]
  },
  {
   "cell_type": "code",
   "execution_count": null,
   "metadata": {},
   "outputs": [],
   "source": []
  }
 ],
 "metadata": {
  "kernelspec": {
   "display_name": "Python 3",
   "language": "python",
   "name": "python3"
  },
  "language_info": {
   "codemirror_mode": {
    "name": "ipython",
    "version": 3
   },
   "file_extension": ".py",
   "mimetype": "text/x-python",
   "name": "python",
   "nbconvert_exporter": "python",
   "pygments_lexer": "ipython3",
   "version": "3.7.5"
  }
 },
 "nbformat": 4,
 "nbformat_minor": 2
}
