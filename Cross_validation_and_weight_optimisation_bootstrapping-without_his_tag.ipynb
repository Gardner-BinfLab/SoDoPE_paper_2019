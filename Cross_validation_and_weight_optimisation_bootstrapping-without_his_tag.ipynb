{
 "cells": [
  {
   "cell_type": "code",
   "execution_count": 1,
   "metadata": {},
   "outputs": [],
   "source": [
    "import pickle\n",
    "from functools import partial\n",
    "import pandas as pd\n",
    "import numpy as np\n",
    "from scipy import optimize\n",
    "from scipy.stats import spearmanr\n",
    "import functions\n"
   ]
  },
  {
   "cell_type": "code",
   "execution_count": 2,
   "metadata": {},
   "outputs": [],
   "source": [
    "#Initial 'guess' values\n",
    "#Smith's flexibility used as initial weights had slightly greater\n",
    "# AUC than Vihinen. So we use it as starting point in optimisation.\n",
    "#Smith, David K., et al. 2003\n",
    "flexibilities_smith = {'A': 0.717, 'C': 0.668, 'E': 0.963, 'D': 0.921,\\\n",
    "                         'G': 0.843, 'F': 0.599, 'I': 0.632, 'H': 0.754, \\\n",
    "                         'K': 0.912, 'M': 0.685, 'L': 0.681, 'N': 0.851,\\\n",
    "                         'Q': 0.849, 'P': 0.85, 'S': 0.84, 'R': 0.814, 'T': 0.758, \\\n",
    "                         'W': 0.626, 'V': 0.619, 'Y': 0.615}\n",
    "init_state = [v for k, v in flexibilities_smith.items()]\n"
   ]
  },
  {
   "cell_type": "code",
   "execution_count": 65,
   "metadata": {},
   "outputs": [],
   "source": [
    "with open('results/training.pkl', 'rb') as handle:\n",
    "    training_with_his = pickle.load(handle)\n"
   ]
  },
  {
   "cell_type": "code",
   "execution_count": 66,
   "metadata": {},
   "outputs": [],
   "source": [
    "with open('results/testing.pkl', 'rb') as h:\n",
    "    testing_with_his = pickle.load(h)"
   ]
  },
  {
   "cell_type": "markdown",
   "metadata": {},
   "source": [
    "# Remove his tag"
   ]
  },
  {
   "cell_type": "code",
   "execution_count": 68,
   "metadata": {
    "scrolled": true
   },
   "outputs": [],
   "source": [
    "def remove_his_tag(list_of_dfs):\n",
    "    cleaned = []\n",
    "    for i, v in enumerate(list_of_dfs):\n",
    "        v['pET21'] = v.Accession.apply(lambda x:x.split('_')[1] == 'pET21')\n",
    "        a = v.loc[v['pET21'] == True]\n",
    "        b = v.loc[v['pET21'] == False]\n",
    "        c = pd.concat([a, b]).reset_index(drop=True)\n",
    "        cleaned.append(c)\n",
    "    return cleaned\n",
    "        \n",
    "\n",
    "training = remove_his_tag(training_with_his)\n",
    "testing = remove_his_tag(testing_with_his)"
   ]
  },
  {
   "cell_type": "code",
   "execution_count": 78,
   "metadata": {
    "scrolled": true
   },
   "outputs": [],
   "source": [
    "def avr_arr(arr):\n",
    "    tt = pd.DataFrame({'weights':arr})\n",
    "    tt = pd.DataFrame(tt.weights.tolist(), columns=[k for k,v in flexibilities_smith.items()])\n",
    "    return tt.mean().values\n"
   ]
  },
  {
   "cell_type": "markdown",
   "metadata": {
    "scrolled": true
   },
   "source": [
    "# Bootstrap"
   ]
  },
  {
   "cell_type": "code",
   "execution_count": 71,
   "metadata": {
    "scrolled": true
   },
   "outputs": [],
   "source": [
    "bs_samples = []\n",
    "for i, v in enumerate(training):\n",
    "    sample = []\n",
    "    for i in range(1000): #1000 resample for each training cross validation step\n",
    "        sol = v.loc[v['Solubility'] == 1].sample(1000, random_state=i)\n",
    "        insol = v.loc[v['Solubility'] == 0].sample(1000, random_state=i)\n",
    "        sample.append(sol.append(insol))\n",
    "    bs_samples.append(sample)\n"
   ]
  },
  {
   "cell_type": "code",
   "execution_count": null,
   "metadata": {
    "scrolled": true
   },
   "outputs": [],
   "source": []
  },
  {
   "cell_type": "code",
   "execution_count": 76,
   "metadata": {
    "scrolled": true
   },
   "outputs": [],
   "source": [
    "import multiprocessing\n",
    "from multiprocessing import Pool\n",
    "\n",
    "\n",
    "\n",
    "\n",
    "\n",
    "optis_full = [] #full results of optimisation\n",
    "weights_full_bs = []\n",
    "aucs_train_full_bs = []\n",
    "\n",
    "for i, v in enumerate(bs_samples):\n",
    "    pools = Pool(multiprocessing.cpu_count())\n",
    "    optis = []\n",
    "    weights = []\n",
    "    aucs_train = []\n",
    "    cost_funcs = [partial(functions.cost_func, df=t) for t in v]\n",
    "    optimiser = partial(optimize.minimize, x0=init_state, method=\"Nelder-Mead\", \\\n",
    "                             options={ 'maxiter': 3000, 'maxfev': 3000,\\\n",
    "                           'disp': False, 'return_all': False,\\\n",
    "                           'xatol': 0.001, 'fatol': 0.0001, 'adaptive': True})\n",
    "    \n",
    "    for result in pools.map(optimiser, cost_funcs): #map is used for correct orders\n",
    "        optis.append(result)\n",
    "        aucs_train.append(-result['fun'])\n",
    "        weights.append(result['x'])\n",
    "    pools.close()\n",
    "    pools.join()\n",
    "    optis_full.append(optis)\n",
    "    weights_full_bs.append(weights)\n",
    "    aucs_train_full_bs.append(aucs_train)\n",
    "    print(i)\n",
    "\n",
    "    \n",
    "cross_val_df = pd.DataFrame({'opti': optis_full, 'weights_bs':weights_full_bs, \\\n",
    "                             'aucs_train_bs':aucs_train_full_bs})\n"
   ]
  },
  {
   "cell_type": "code",
   "execution_count": 79,
   "metadata": {
    "scrolled": true
   },
   "outputs": [],
   "source": [
    "cross_val_df['weight'] = cross_val_df['weights_bs'].apply(avr_arr)\n",
    "aucs_train = [-functions.cost_func(cross_val_df.weight[i], t) for i, t in enumerate(training)]\n",
    "aucs_test = [-functions.cost_func(cross_val_df.weight[i], t) for i, t in enumerate(testing)]\n",
    "cross_val_df['aucs_train'] = aucs_train\n",
    "cross_val_df['aucs_test'] = aucs_test\n",
    "cross_val_df.to_pickle('results/cross_validation_without_his_tag.pkl.gz', compression='infer')"
   ]
  },
  {
   "cell_type": "code",
   "execution_count": 80,
   "metadata": {
    "scrolled": true
   },
   "outputs": [
    {
     "data": {
      "text/html": [
       "<div>\n",
       "<style scoped>\n",
       "    .dataframe tbody tr th:only-of-type {\n",
       "        vertical-align: middle;\n",
       "    }\n",
       "\n",
       "    .dataframe tbody tr th {\n",
       "        vertical-align: top;\n",
       "    }\n",
       "\n",
       "    .dataframe thead th {\n",
       "        text-align: right;\n",
       "    }\n",
       "</style>\n",
       "<table border=\"1\" class=\"dataframe\">\n",
       "  <thead>\n",
       "    <tr style=\"text-align: right;\">\n",
       "      <th></th>\n",
       "      <th>opti</th>\n",
       "      <th>weights_bs</th>\n",
       "      <th>aucs_train_bs</th>\n",
       "      <th>weight</th>\n",
       "      <th>aucs_train</th>\n",
       "      <th>aucs_test</th>\n",
       "    </tr>\n",
       "  </thead>\n",
       "  <tbody>\n",
       "    <tr>\n",
       "      <th>0</th>\n",
       "      <td>[{'fun': -0.7430019999999999, 'nit': 614, 'nfe...</td>\n",
       "      <td>[[0.8243604864837748, 0.5576477489516017, 0.95...</td>\n",
       "      <td>[0.7430019999999999, 0.7261865, 0.727299500000...</td>\n",
       "      <td>[0.8394392218050214, 0.51231687904088, 0.98961...</td>\n",
       "      <td>0.722218</td>\n",
       "      <td>0.685323</td>\n",
       "    </tr>\n",
       "    <tr>\n",
       "      <th>1</th>\n",
       "      <td>[{'fun': -0.715525, 'nit': 600, 'nfev': 1383, ...</td>\n",
       "      <td>[[0.8473626092684315, 0.5818601504237649, 0.96...</td>\n",
       "      <td>[0.715525, 0.7063364999999999, 0.711913, 0.714...</td>\n",
       "      <td>[0.8309294368834936, 0.5140622580441093, 0.989...</td>\n",
       "      <td>0.717483</td>\n",
       "      <td>0.723102</td>\n",
       "    </tr>\n",
       "  </tbody>\n",
       "</table>\n",
       "</div>"
      ],
      "text/plain": [
       "                                                opti  \\\n",
       "0  [{'fun': -0.7430019999999999, 'nit': 614, 'nfe...   \n",
       "1  [{'fun': -0.715525, 'nit': 600, 'nfev': 1383, ...   \n",
       "\n",
       "                                          weights_bs  \\\n",
       "0  [[0.8243604864837748, 0.5576477489516017, 0.95...   \n",
       "1  [[0.8473626092684315, 0.5818601504237649, 0.96...   \n",
       "\n",
       "                                       aucs_train_bs  \\\n",
       "0  [0.7430019999999999, 0.7261865, 0.727299500000...   \n",
       "1  [0.715525, 0.7063364999999999, 0.711913, 0.714...   \n",
       "\n",
       "                                              weight  aucs_train  aucs_test  \n",
       "0  [0.8394392218050214, 0.51231687904088, 0.98961...    0.722218   0.685323  \n",
       "1  [0.8309294368834936, 0.5140622580441093, 0.989...    0.717483   0.723102  "
      ]
     },
     "execution_count": 80,
     "metadata": {},
     "output_type": "execute_result"
    }
   ],
   "source": [
    "cross_val_df.head(2)"
   ]
  },
  {
   "cell_type": "code",
   "execution_count": null,
   "metadata": {
    "scrolled": true
   },
   "outputs": [],
   "source": []
  },
  {
   "cell_type": "code",
   "execution_count": null,
   "metadata": {
    "scrolled": true
   },
   "outputs": [],
   "source": []
  },
  {
   "cell_type": "code",
   "execution_count": null,
   "metadata": {
    "scrolled": true
   },
   "outputs": [],
   "source": []
  },
  {
   "cell_type": "code",
   "execution_count": 6,
   "metadata": {
    "scrolled": true
   },
   "outputs": [
    {
     "data": {
      "text/html": [
       "<div>\n",
       "<style scoped>\n",
       "    .dataframe tbody tr th:only-of-type {\n",
       "        vertical-align: middle;\n",
       "    }\n",
       "\n",
       "    .dataframe tbody tr th {\n",
       "        vertical-align: top;\n",
       "    }\n",
       "\n",
       "    .dataframe thead th {\n",
       "        text-align: right;\n",
       "    }\n",
       "</style>\n",
       "<table border=\"1\" class=\"dataframe\">\n",
       "  <thead>\n",
       "    <tr style=\"text-align: right;\">\n",
       "      <th></th>\n",
       "      <th>Mean</th>\n",
       "      <th>Std</th>\n",
       "    </tr>\n",
       "  </thead>\n",
       "  <tbody>\n",
       "    <tr>\n",
       "      <th>Training</th>\n",
       "      <td>0.718747</td>\n",
       "      <td>0.003489</td>\n",
       "    </tr>\n",
       "    <tr>\n",
       "      <th>Test</th>\n",
       "      <td>0.710517</td>\n",
       "      <td>0.030902</td>\n",
       "    </tr>\n",
       "  </tbody>\n",
       "</table>\n",
       "</div>"
      ],
      "text/plain": [
       "              Mean       Std\n",
       "Training  0.718747  0.003489\n",
       "Test      0.710517  0.030902"
      ]
     },
     "execution_count": 6,
     "metadata": {},
     "output_type": "execute_result"
    }
   ],
   "source": [
    "mean_std = pd.DataFrame(index=['Training', 'Test'])\n",
    "mean_std.loc['Training', 'Mean'] = np.mean(cross_val_df['aucs_train'])\n",
    "mean_std.loc['Training', 'Std'] = np.std(cross_val_df['aucs_train'])\n",
    "mean_std.loc['Test', 'Mean'] = np.mean(cross_val_df['aucs_test'])\n",
    "mean_std.loc['Test', 'Std'] = np.std(cross_val_df['aucs_test'])\n",
    "mean_std"
   ]
  },
  {
   "cell_type": "code",
   "execution_count": 4,
   "metadata": {
    "scrolled": false
   },
   "outputs": [
    {
     "data": {
      "text/plain": [
       "[Text(0, 0, '1'),\n",
       " Text(0, 0, '2'),\n",
       " Text(0, 0, '3'),\n",
       " Text(0, 0, '4'),\n",
       " Text(0, 0, '5'),\n",
       " Text(0, 0, '6'),\n",
       " Text(0, 0, '7'),\n",
       " Text(0, 0, '8'),\n",
       " Text(0, 0, '9'),\n",
       " Text(0, 0, '10')]"
      ]
     },
     "execution_count": 4,
     "metadata": {},
     "output_type": "execute_result"
    },
    {
     "data": {
      "image/png": "[encoded data removed]",
      "text/plain": [
       "<Figure size 288x288 with 1 Axes>"
      ]
     },
     "metadata": {
      "needs_background": "light"
     },
     "output_type": "display_data"
    }
   ],
   "source": [
    "cross_val_df = pd.read_pickle('results/cross_validation_without_his_tag.pkl.gz')\n",
    "\n",
    "\n",
    "\n",
    "\n",
    "\n",
    "functions.plt.figure(figsize=(4, 4))\n",
    "functions.sns.pointplot(list(range(10)), cross_val_df['aucs_train'], label='Train (mean=0.72, std=0.00)',\\\n",
    "                       linestyles=[' '], markers=['o'], color='blue')\n",
    "functions.sns.lineplot(list(range(10)), cross_val_df['aucs_train'], label='Train (mean=0.72, std=0.00)',\\\n",
    "                       color='blue')\n",
    "functions.sns.pointplot(list(range(10)), cross_val_df['aucs_test'],  label='Test (mean=0.71, std=0.03)',\\\n",
    "                        linestyles=[''], markers=['o'], color='red')\n",
    "ax = functions.sns.lineplot(list(range(10)), cross_val_df['aucs_test'],  label='Test (mean=0.71, std=0.03)',\\\n",
    "                        color='red')\n",
    "functions.plt.ylabel('AUC')\n",
    "functions.plt.xlabel('Cross validation steps')\n",
    "\n",
    "ax.set_xticklabels(list(range(1,11)))\n",
    "# functions.plt.savefig('figs/cross_validation_test_train_without_his_tag.pdf')\n"
   ]
  },
  {
   "cell_type": "code",
   "execution_count": 83,
   "metadata": {
    "scrolled": false
   },
   "outputs": [
    {
     "data": {
      "text/plain": [
       "A    0.836137\n",
       "C    0.520509\n",
       "E    0.987956\n",
       "D    0.907767\n",
       "G    0.799600\n",
       "F    0.584314\n",
       "I    0.678437\n",
       "H    0.895804\n",
       "K    0.926868\n",
       "M    0.632351\n",
       "L    0.654342\n",
       "N    0.859312\n",
       "Q    0.789860\n",
       "P    0.821436\n",
       "S    0.743460\n",
       "R    0.770800\n",
       "T    0.809575\n",
       "W    0.638381\n",
       "V    0.735531\n",
       "Y    0.611136\n",
       "dtype: float64"
      ]
     },
     "execution_count": 83,
     "metadata": {},
     "output_type": "execute_result"
    }
   ],
   "source": [
    "AAS_cv = pd.DataFrame(cross_val_df['weight'].values.tolist(), columns=[k for k,v in flexibilities_smith.items()])\n",
    "AAS_cv.mean()#.sort_values()"
   ]
  },
  {
   "cell_type": "markdown",
   "metadata": {
    "scrolled": true
   },
   "source": [
    "### Plot weights (initial and final) with hydrophobicity"
   ]
  },
  {
   "cell_type": "code",
   "execution_count": null,
   "metadata": {},
   "outputs": [],
   "source": []
  },
  {
   "cell_type": "code",
   "execution_count": 8,
   "metadata": {},
   "outputs": [
    {
     "data": {
      "text/plain": [
       "Text(0.5, 0, 'Amino acids')"
      ]
     },
     "execution_count": 8,
     "metadata": {},
     "output_type": "execute_result"
    },
    {
     "data": {
      "image/png": "[encoded data removed]",
      "text/plain": [
       "<Figure size 288x288 with 1 Axes>"
      ]
     },
     "metadata": {
      "needs_background": "light"
     },
     "output_type": "display_data"
    }
   ],
   "source": [
    "#weight_df\n",
    "cols = [k for k, v in flexibilities_smith.items()]\n",
    "wdf = pd.DataFrame(columns=cols, index=list(range(10)))\n",
    "weights = cross_val_df['weight'].values #weights from CV\n",
    "\n",
    "for idx, val in enumerate(weights):\n",
    "    for i, v in enumerate(val):\n",
    "        wdf.loc[idx][cols[i]] = v\n",
    "\n",
    "        \n",
    "dd = pd.melt(wdf)\n",
    "dd['value'] = dd['value'].astype(float)\n",
    "dd.sort_values(ascending=True, by='value', inplace=True)\n",
    "\n",
    "\n",
    "# functions.sns.set(style=\"white\")\n",
    "functions.plt.figure(figsize=(4, 4))\n",
    "\n",
    "ax = functions.sns.stripplot(x=\"variable\", y=\"value\", data=dd, alpha=0.5, s=5)\n",
    "functions.plt.ylabel('weights')\n",
    "functions.plt.xlabel('Amino acids')\n",
    "# functions.sns.despine()\n",
    "# functions.plt.savefig('figs/cross_validation_weights_test.pdf')\n"
   ]
  },
  {
   "cell_type": "code",
   "execution_count": 69,
   "metadata": {
    "scrolled": false
   },
   "outputs": [],
   "source": []
  },
  {
   "cell_type": "markdown",
   "metadata": {
    "scrolled": false
   },
   "source": [
    "## Checking the correlation between these new weights which were derived removing His tags and weights derived with His tags"
   ]
  },
  {
   "cell_type": "code",
   "execution_count": 10,
   "metadata": {
    "scrolled": false
   },
   "outputs": [
    {
     "data": {
      "text/plain": [
       "{'A': 0.8361372386820893,\n",
       " 'C': 0.5205085702343379,\n",
       " 'E': 0.987956369046931,\n",
       " 'D': 0.9077674681401724,\n",
       " 'G': 0.7996003139559975,\n",
       " 'F': 0.5843138638581623,\n",
       " 'I': 0.678436934795912,\n",
       " 'H': 0.8958035929000399,\n",
       " 'K': 0.9268679697782604,\n",
       " 'M': 0.6323511959075137,\n",
       " 'L': 0.654341609974262,\n",
       " 'N': 0.8593118111626608,\n",
       " 'Q': 0.7898597284378663,\n",
       " 'P': 0.8214362665643107,\n",
       " 'S': 0.7434596054279766,\n",
       " 'R': 0.7708003137293177,\n",
       " 'T': 0.8095753587860024,\n",
       " 'W': 0.6383806989269312,\n",
       " 'V': 0.7355313672466454,\n",
       " 'Y': 0.6111359802776267}"
      ]
     },
     "execution_count": 10,
     "metadata": {},
     "output_type": "execute_result"
    }
   ],
   "source": [
    "new_wts = {} #This is AAS\n",
    "\n",
    "for i, c in enumerate(wdf.columns):\n",
    "    new_wts[c] = np.mean(wdf[c])\n",
    "new_wts"
   ]
  },
  {
   "cell_type": "code",
   "execution_count": null,
   "metadata": {
    "scrolled": false
   },
   "outputs": [],
   "source": []
  },
  {
   "cell_type": "code",
   "execution_count": 94,
   "metadata": {},
   "outputs": [
    {
     "data": {
      "text/plain": [
       "SpearmanrResult(correlation=1.0, pvalue=0.0)"
      ]
     },
     "execution_count": 94,
     "metadata": {},
     "output_type": "execute_result"
    }
   ],
   "source": [
    "\n",
    "##Correlation between with and without his tags\n",
    "\n",
    "from scipy.stats import spearmanr\n",
    "\n",
    "spearmanr([0.83613724, 0.52050857, 0.98795637, 0.90776747, 0.79960031,\n",
    "       0.58431386, 0.67843693, 0.89580359, 0.92686797, 0.6323512 ,\n",
    "       0.65434161, 0.85931181, 0.78985973, 0.82143627, 0.74345961,\n",
    "       0.77080031, 0.80957536, 0.6383807 , 0.73553137, 0.61113598], [0.83569566, 0.52192073, 0.98686604, 0.90759835, 0.80038279,\n",
    "       0.58219346, 0.67904493, 0.89639776, 0.92591651, 0.62999641,\n",
    "       0.65469222, 0.8604957 , 0.789565  , 0.82210442, 0.74424644,\n",
    "       0.77105515, 0.8098671 , 0.63869319, 0.73449529, 0.61255815])"
   ]
  },
  {
   "cell_type": "code",
   "execution_count": null,
   "metadata": {},
   "outputs": [],
   "source": []
  },
  {
   "cell_type": "code",
   "execution_count": 98,
   "metadata": {},
   "outputs": [
    {
     "data": {
      "text/plain": [
       "SpearmanrResult(correlation=0.5040456659351376, pvalue=1.060887637753602e-205)"
      ]
     },
     "execution_count": 98,
     "metadata": {},
     "output_type": "execute_result"
    }
   ],
   "source": [
    "\n",
    "#For ecoli data\n",
    "\n",
    "#using AAS\n",
    "ecoli_w3110 = pd.read_pickle('results/ecoli.pkl.gz', compression='infer')\n",
    "\n",
    "ecoli_w3110['f'] = ecoli_w3110['Sequence'].apply(lambda x:functions.solubility_score(x, new_wts))\n",
    "ecoli_w3110['Average_Score'] = ecoli_w3110['f'].apply(lambda x:np.mean(x))\n",
    "\n",
    "\n",
    "\n",
    "from scipy.stats import spearmanr\n",
    "\n",
    "spearmanr(ecoli_w3110['Average_Score'], ecoli_w3110['Solubility(%)'])"
   ]
  },
  {
   "cell_type": "code",
   "execution_count": null,
   "metadata": {},
   "outputs": [],
   "source": []
  },
  {
   "cell_type": "code",
   "execution_count": null,
   "metadata": {},
   "outputs": [],
   "source": []
  },
  {
   "cell_type": "code",
   "execution_count": null,
   "metadata": {},
   "outputs": [],
   "source": []
  },
  {
   "cell_type": "code",
   "execution_count": null,
   "metadata": {},
   "outputs": [],
   "source": []
  },
  {
   "cell_type": "code",
   "execution_count": null,
   "metadata": {},
   "outputs": [],
   "source": []
  },
  {
   "cell_type": "code",
   "execution_count": null,
   "metadata": {},
   "outputs": [],
   "source": []
  },
  {
   "cell_type": "code",
   "execution_count": null,
   "metadata": {},
   "outputs": [],
   "source": []
  }
 ],
 "metadata": {
  "kernelspec": {
   "display_name": "Python 3",
   "language": "python",
   "name": "python3"
  },
  "language_info": {
   "codemirror_mode": {
    "name": "ipython",
    "version": 3
   },
   "file_extension": ".py",
   "mimetype": "text/x-python",
   "name": "python",
   "nbconvert_exporter": "python",
   "pygments_lexer": "ipython3",
   "version": "3.6.9"
  }
 },
 "nbformat": 4,
 "nbformat_minor": 2
}
